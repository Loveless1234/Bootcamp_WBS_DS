{
 "cells": [
  {
   "cell_type": "code",
   "execution_count": 73,
   "id": "d9ee5c49-81f2-41bd-9135-4cf194876ed0",
   "metadata": {},
   "outputs": [],
   "source": [
    "import pandas as pd\n",
    "products = pd.read_csv('data/clean/products_cl.csv')"
   ]
  },
  {
   "cell_type": "code",
   "execution_count": 74,
   "id": "9f9c54f2-b4ae-451a-a3be-8ea93d010c42",
   "metadata": {},
   "outputs": [],
   "source": [
    "import re"
   ]
  },
  {
   "cell_type": "markdown",
   "id": "75f02635-f60b-44cd-b7a3-11fb7311e24d",
   "metadata": {},
   "source": [
    "# Introduction to Regex\n",
    "\n",
    "## GOAL\n",
    "\n",
    "Introduce to the library `re` (regexp) and show the main functions and how filter text based on regular expressions. \n",
    "\n",
    "## DESCRIPTION\n",
    "\n",
    "In this workshop, the following functions will be reviewed: \n",
    "\n",
    "* `findall()`\n",
    "* `search()`\n",
    "* `split()`\n",
    "* `sub()`\n",
    "* `span()`\n",
    "* `string()`\n",
    "* `group()`\n",
    "\n",
    "Metacharacters: ` . ^ $ * + ? { } [ ] \\ | ( )`\n",
    "\n",
    "Special Sequences: `\\A` `\\b` `\\d` `\\s`\n",
    "\n",
    "And how to compile the regex expressions to reuse it. \n",
    "\n",
    "More information on that [link](https://www.w3schools.com/python/python_regex.asp)."
   ]
  },
  {
   "cell_type": "code",
   "execution_count": 75,
   "id": "6dd11cf8-2211-42fe-b849-762296eaf087",
   "metadata": {},
   "outputs": [
    {
     "data": {
      "text/html": [
       "<div>\n",
       "<style scoped>\n",
       "    .dataframe tbody tr th:only-of-type {\n",
       "        vertical-align: middle;\n",
       "    }\n",
       "\n",
       "    .dataframe tbody tr th {\n",
       "        vertical-align: top;\n",
       "    }\n",
       "\n",
       "    .dataframe thead th {\n",
       "        text-align: right;\n",
       "    }\n",
       "</style>\n",
       "<table border=\"1\" class=\"dataframe\">\n",
       "  <thead>\n",
       "    <tr style=\"text-align: right;\">\n",
       "      <th></th>\n",
       "      <th>sku</th>\n",
       "      <th>name</th>\n",
       "      <th>desc</th>\n",
       "      <th>price</th>\n",
       "      <th>promo_price</th>\n",
       "      <th>in_stock</th>\n",
       "      <th>type</th>\n",
       "      <th>max_price_orderlines</th>\n",
       "    </tr>\n",
       "  </thead>\n",
       "  <tbody>\n",
       "    <tr>\n",
       "      <th>4425</th>\n",
       "      <td>APP1580</td>\n",
       "      <td>Apple MacBook Retina 12 \"Core m5 12GHz | 8GB R...</td>\n",
       "      <td>New MacBook Retina Display 12-inch Core 8GB RA...</td>\n",
       "      <td>1799.0</td>\n",
       "      <td>16.865.839</td>\n",
       "      <td>0</td>\n",
       "      <td>1282</td>\n",
       "      <td>NaN</td>\n",
       "    </tr>\n",
       "  </tbody>\n",
       "</table>\n",
       "</div>"
      ],
      "text/plain": [
       "          sku                                               name  \\\n",
       "4425  APP1580  Apple MacBook Retina 12 \"Core m5 12GHz | 8GB R...   \n",
       "\n",
       "                                                   desc   price promo_price  \\\n",
       "4425  New MacBook Retina Display 12-inch Core 8GB RA...  1799.0  16.865.839   \n",
       "\n",
       "      in_stock  type  max_price_orderlines  \n",
       "4425         0  1282                   NaN  "
      ]
     },
     "execution_count": 75,
     "metadata": {},
     "output_type": "execute_result"
    }
   ],
   "source": [
    "products.sample()"
   ]
  },
  {
   "cell_type": "code",
   "execution_count": 76,
   "id": "482b7fae-c3eb-490f-a083-e63dba245dbd",
   "metadata": {},
   "outputs": [
    {
     "data": {
      "text/plain": [
       "'Full HD video surveillance camera with 180 degrees and night vision compatible HomeKit'"
      ]
     },
     "execution_count": 76,
     "metadata": {},
     "output_type": "execute_result"
    }
   ],
   "source": [
    "# extract an specific description\n",
    "prod_descr = products.query('sku == \"DLK0139\"')['desc'].values[0]\n",
    "prod_descr"
   ]
  },
  {
   "cell_type": "markdown",
   "id": "4a456803-df6c-466b-a297-63740e9d7b9d",
   "metadata": {},
   "source": [
    "### `findall`\n",
    "\n",
    "Returns a list containing all matches"
   ]
  },
  {
   "cell_type": "code",
   "execution_count": 77,
   "id": "35581226-eab0-4cbf-8075-b4f8a4b7fdea",
   "metadata": {},
   "outputs": [
    {
     "data": {
      "text/plain": [
       "['a', 'a', 'a', 'a', 'a']"
      ]
     },
     "execution_count": 77,
     "metadata": {},
     "output_type": "execute_result"
    }
   ],
   "source": [
    "# return all ocurrencies appearing on a string\n",
    "re.findall('a', prod_descr)"
   ]
  },
  {
   "cell_type": "markdown",
   "id": "8f96a5e6-fdfc-45f4-9232-af41e85e2bf0",
   "metadata": {},
   "source": [
    "### `search`\n",
    "\n",
    "Returns a Match object if there is a match anywhere in the string. If there is more than one match, only the first occurrence of the match will be returned.\n",
    "\n",
    "The mathch objects have the following methods: \n",
    "- `.span()` returns a tuple containing the start-, and end positions of the match.\n",
    "- `.string` returns the string passed into the function\n",
    "- `.group()` returns the part of the string where there was a match"
   ]
  },
  {
   "cell_type": "code",
   "execution_count": 78,
   "id": "245e8302-7bab-45a8-a757-03904f6a291e",
   "metadata": {},
   "outputs": [
    {
     "data": {
      "text/plain": [
       "'Full HD video surveillance camera with 180 degrees and night vision compatible HomeKit'"
      ]
     },
     "execution_count": 78,
     "metadata": {},
     "output_type": "execute_result"
    }
   ],
   "source": [
    "prod_descr"
   ]
  },
  {
   "cell_type": "code",
   "execution_count": 79,
   "id": "2ff86b34-a016-4fdf-a238-7f0c937efa88",
   "metadata": {},
   "outputs": [],
   "source": [
    "match_obj = re.search('video', prod_descr)"
   ]
  },
  {
   "cell_type": "code",
   "execution_count": 80,
   "id": "ba793604-af05-4efe-a6ff-7cc3f7f8c12f",
   "metadata": {},
   "outputs": [
    {
     "data": {
      "text/plain": [
       "'Full HD video surveillance camera with 180 degrees and night vision compatible HomeKit'"
      ]
     },
     "execution_count": 80,
     "metadata": {},
     "output_type": "execute_result"
    }
   ],
   "source": [
    "match_obj.string"
   ]
  },
  {
   "cell_type": "code",
   "execution_count": 81,
   "id": "b31e9c6b-db63-4068-a4c8-ecaaae5ed6d9",
   "metadata": {},
   "outputs": [
    {
     "data": {
      "text/plain": [
       "'video'"
      ]
     },
     "execution_count": 81,
     "metadata": {},
     "output_type": "execute_result"
    }
   ],
   "source": [
    "match_obj.group()"
   ]
  },
  {
   "cell_type": "code",
   "execution_count": 82,
   "id": "a1e6d1ac-557b-4910-a7db-00af467a7ccc",
   "metadata": {},
   "outputs": [
    {
     "data": {
      "text/plain": [
       "(8, 13)"
      ]
     },
     "execution_count": 82,
     "metadata": {},
     "output_type": "execute_result"
    }
   ],
   "source": [
    "match_obj.span()"
   ]
  },
  {
   "cell_type": "markdown",
   "id": "430ed72d-e14e-4d8e-816a-08dac24f6f9a",
   "metadata": {},
   "source": [
    "### `split`\n",
    "\n",
    "Returns a list where the string has been split at each match"
   ]
  },
  {
   "cell_type": "code",
   "execution_count": 83,
   "id": "f5bba774-5a80-46aa-a160-20f1aac60dea",
   "metadata": {},
   "outputs": [
    {
     "data": {
      "text/plain": [
       "['Full HD video surveillance camera with 180 degrees',\n",
       " 'night vision compatible HomeKit']"
      ]
     },
     "execution_count": 83,
     "metadata": {},
     "output_type": "execute_result"
    }
   ],
   "source": [
    "prod_descr.split(' and ') # and is removed from the list"
   ]
  },
  {
   "cell_type": "markdown",
   "id": "bc56c2a7-a16c-4f4a-ba44-c49b3124183a",
   "metadata": {},
   "source": [
    "### `sub`\n",
    "\n",
    "Replaces one or many matches with a string"
   ]
  },
  {
   "cell_type": "code",
   "execution_count": 84,
   "id": "9e165a38-b28c-4553-bec3-54e602b6b8b9",
   "metadata": {},
   "outputs": [
    {
     "name": "stdout",
     "output_type": "stream",
     "text": [
      "Full HD video surveillance pool with 180 degrees and night vision compatible HomeKit\n"
     ]
    }
   ],
   "source": [
    "dark_descr = re.sub(\"camera\", \"pool\", prod_descr)\n",
    "print(dark_descr)"
   ]
  },
  {
   "cell_type": "markdown",
   "id": "1a56b9a8-a875-4797-b1f5-e58b53e4f085",
   "metadata": {},
   "source": [
    "### METACHARACTERS\n",
    "\n",
    "\n",
    "Some characters are special metacharacters, and don’t match themselves. Instead, they signal that some out-of-the-ordinary thing should be matched, or they affect other portions of the RE by repeating them or changing their meaning.\n",
    "\n",
    "` . ^ $ * + ? { } [ ] \\ | ( )`\n",
    "\n",
    " #### `[]` means set of characters:\n",
    " \n",
    " - `[abc]` will match any of the characters a, b, or c\n",
    " - `[a-c]` will do the same\n",
    " - `[a-z]` will match any lowercase letter"
   ]
  },
  {
   "cell_type": "code",
   "execution_count": 85,
   "id": "01404851-4c82-4632-a311-f0beceea0109",
   "metadata": {},
   "outputs": [],
   "source": [
    "alphanumeric = \"4298fsfsv012rvv21v9\""
   ]
  },
  {
   "cell_type": "code",
   "execution_count": 86,
   "id": "5f239469-b3d9-45aa-b21c-3b89d6d8443f",
   "metadata": {},
   "outputs": [
    {
     "data": {
      "text/plain": [
       "['f', 's', 'f', 's', 'v', 'r', 'v', 'v', 'v']"
      ]
     },
     "execution_count": 86,
     "metadata": {},
     "output_type": "execute_result"
    }
   ],
   "source": [
    "re.findall(r\"[a-z]\", alphanumeric)"
   ]
  },
  {
   "cell_type": "markdown",
   "id": "55e5d646-dbb9-49e8-ae66-9c753dc48e0b",
   "metadata": {},
   "source": [
    "`\\` Can help us to scape special characters "
   ]
  },
  {
   "cell_type": "code",
   "execution_count": 87,
   "id": "9084819b-a0b1-40d4-9906-365f67d05cbf",
   "metadata": {},
   "outputs": [
    {
     "name": "stdout",
     "output_type": "stream",
     "text": [
      "4298fsfsv012rvv21v9[a-z]\n"
     ]
    },
    {
     "data": {
      "text/plain": [
       "['[a-z]']"
      ]
     },
     "execution_count": 87,
     "metadata": {},
     "output_type": "execute_result"
    }
   ],
   "source": [
    "alphanumeric_with_special = alphanumeric + \"[a-z]\"\n",
    "print(alphanumeric_with_special)\n",
    "# CALLENGE: use \\ to escape the square brakets\n",
    "re.findall(r\"\\[a-z]\", alphanumeric_with_special)"
   ]
  },
  {
   "cell_type": "markdown",
   "id": "4fedc6ac-d29d-4c09-ba6e-d555b21eca01",
   "metadata": {},
   "source": [
    "#### Some special sequences:\n",
    "\n",
    "- `\\A`- Returns a match if the specified characters are at the beginning of the string\n",
    "- `\\b` - Returns a match where the specified characters are at the beginning or at the end of a word\n",
    "- `\\d` - \tReturns a match where the string contains digits (numbers from 0-9) (`\\D` for where the string DOES NOT contain digits)\n",
    "- `\\s`- Returns a match where the string contains a white space character (`\\S` for where the string DOES NOT contain a white space)"
   ]
  },
  {
   "cell_type": "code",
   "execution_count": 88,
   "id": "d706b06a-0a9e-442e-b197-10435744e551",
   "metadata": {},
   "outputs": [
    {
     "data": {
      "text/plain": [
       "'Full HD video surveillance camera with 180 degrees and night vision compatible HomeKit'"
      ]
     },
     "execution_count": 88,
     "metadata": {},
     "output_type": "execute_result"
    }
   ],
   "source": [
    "prod_descr"
   ]
  },
  {
   "cell_type": "code",
   "execution_count": 89,
   "id": "9881f2d0-bcb0-48a8-9c82-f8964227e0c8",
   "metadata": {},
   "outputs": [
    {
     "data": {
      "text/plain": [
       "['1', '8', '0']"
      ]
     },
     "execution_count": 89,
     "metadata": {},
     "output_type": "execute_result"
    }
   ],
   "source": [
    "# find all possible numbers\n",
    "re.findall(r\"\\d\", prod_descr)"
   ]
  },
  {
   "cell_type": "markdown",
   "id": "3de5a230-668f-44f6-95b0-f2798a2c2e1c",
   "metadata": {},
   "source": [
    "### `.`\tAny character (except newline character)"
   ]
  },
  {
   "cell_type": "code",
   "execution_count": 90,
   "id": "a666bb70-1a39-4654-96aa-91ee7fbca66b",
   "metadata": {},
   "outputs": [
    {
     "data": {
      "text/plain": [
       "['anc', 'e c', 'n c']"
      ]
     },
     "execution_count": 90,
     "metadata": {},
     "output_type": "execute_result"
    }
   ],
   "source": [
    "re.findall(r'..c', prod_descr)"
   ]
  },
  {
   "cell_type": "markdown",
   "id": "a5b653bb-4a2d-460e-aed4-8036781dc482",
   "metadata": {},
   "source": [
    "### `+` One or more occurrences"
   ]
  },
  {
   "cell_type": "code",
   "execution_count": 91,
   "id": "bfe72f03-83c7-45ff-a331-778792e2c655",
   "metadata": {},
   "outputs": [
    {
     "data": {
      "text/plain": [
       "['e', 'e', 'e', 'e', 'e', 'ee', 'e', 'e']"
      ]
     },
     "execution_count": 91,
     "metadata": {},
     "output_type": "execute_result"
    }
   ],
   "source": [
    "re.findall(r'e+', prod_descr)"
   ]
  },
  {
   "cell_type": "code",
   "execution_count": 92,
   "id": "d0c8db59-f5ae-4acd-8812-59d5763f0991",
   "metadata": {},
   "outputs": [
    {
     "data": {
      "text/plain": [
       "'Full HD vid__o surv__illanc__ cam__ra with 180 d__gr__s and night vision compatibl__ Hom__Kit'"
      ]
     },
     "execution_count": 92,
     "metadata": {},
     "output_type": "execute_result"
    }
   ],
   "source": [
    "re.sub(\"e+\", \"__\", prod_descr)"
   ]
  },
  {
   "cell_type": "markdown",
   "id": "6af7e67e-0840-4f7a-a57d-f88d13f089a3",
   "metadata": {},
   "source": [
    "### `{}`- Exactly the specified number of occurrences"
   ]
  },
  {
   "cell_type": "code",
   "execution_count": 93,
   "id": "69debc89-efee-425c-b3b2-9bf8ec6aa487",
   "metadata": {},
   "outputs": [
    {
     "data": {
      "text/plain": [
       "['ee']"
      ]
     },
     "execution_count": 93,
     "metadata": {},
     "output_type": "execute_result"
    }
   ],
   "source": [
    "re.findall(r\"e{2}\", prod_descr)"
   ]
  },
  {
   "cell_type": "code",
   "execution_count": 94,
   "id": "890b9f28-e833-4412-833c-5be1a4f9bcc9",
   "metadata": {},
   "outputs": [
    {
     "data": {
      "text/plain": [
       "'Full HD video surveillance camera with 180 degr__s and night vision compatible HomeKit'"
      ]
     },
     "execution_count": 94,
     "metadata": {},
     "output_type": "execute_result"
    }
   ],
   "source": [
    "re.sub(r\"e{2}\", \"__\", prod_descr)"
   ]
  },
  {
   "cell_type": "markdown",
   "id": "bf91a768-ad05-4f8e-b814-4dd6fbd8fa66",
   "metadata": {},
   "source": [
    "### `^` Starts with"
   ]
  },
  {
   "cell_type": "code",
   "execution_count": 95,
   "id": "16b3a243-c3a9-46ae-9b99-4b0d926ae18a",
   "metadata": {},
   "outputs": [
    {
     "data": {
      "text/plain": [
       "['F']"
      ]
     },
     "execution_count": 95,
     "metadata": {},
     "output_type": "execute_result"
    }
   ],
   "source": [
    "re.findall(r\"^F\", prod_descr)"
   ]
  },
  {
   "cell_type": "markdown",
   "id": "22012cda-4d4a-4ea3-93a6-3343a5ff368e",
   "metadata": {},
   "source": [
    "#### How to apply it on the whole dataframe?"
   ]
  },
  {
   "cell_type": "code",
   "execution_count": 96,
   "id": "17188a6d-cb74-41cb-82a3-ac93552718a5",
   "metadata": {},
   "outputs": [
    {
     "data": {
      "text/html": [
       "<div>\n",
       "<style scoped>\n",
       "    .dataframe tbody tr th:only-of-type {\n",
       "        vertical-align: middle;\n",
       "    }\n",
       "\n",
       "    .dataframe tbody tr th {\n",
       "        vertical-align: top;\n",
       "    }\n",
       "\n",
       "    .dataframe thead th {\n",
       "        text-align: right;\n",
       "    }\n",
       "</style>\n",
       "<table border=\"1\" class=\"dataframe\">\n",
       "  <thead>\n",
       "    <tr style=\"text-align: right;\">\n",
       "      <th></th>\n",
       "      <th>sku</th>\n",
       "      <th>name</th>\n",
       "      <th>desc</th>\n",
       "      <th>price</th>\n",
       "      <th>promo_price</th>\n",
       "      <th>in_stock</th>\n",
       "      <th>type</th>\n",
       "      <th>max_price_orderlines</th>\n",
       "    </tr>\n",
       "  </thead>\n",
       "  <tbody>\n",
       "    <tr>\n",
       "      <th>123</th>\n",
       "      <td>FIT0009</td>\n",
       "      <td>Fitbit Aria scale smart white</td>\n",
       "      <td>smart scale with WiFi connection.</td>\n",
       "      <td>119.99</td>\n",
       "      <td>1.159.906</td>\n",
       "      <td>0</td>\n",
       "      <td>11905404</td>\n",
       "      <td>NaN</td>\n",
       "    </tr>\n",
       "    <tr>\n",
       "      <th>124</th>\n",
       "      <td>FIT0010</td>\n",
       "      <td>Fitbit Aria scale smart black</td>\n",
       "      <td>smart scale with WiFi connection.</td>\n",
       "      <td>119.99</td>\n",
       "      <td>1.159.906</td>\n",
       "      <td>0</td>\n",
       "      <td>11905404</td>\n",
       "      <td>NaN</td>\n",
       "    </tr>\n",
       "    <tr>\n",
       "      <th>270</th>\n",
       "      <td>FIT0013</td>\n",
       "      <td>Fitbit ZIP monitor green activity</td>\n",
       "      <td>Activity Monitor compact and lightweight.</td>\n",
       "      <td>59.99</td>\n",
       "      <td>548.977</td>\n",
       "      <td>0</td>\n",
       "      <td>11905404</td>\n",
       "      <td>NaN</td>\n",
       "    </tr>\n",
       "    <tr>\n",
       "      <th>699</th>\n",
       "      <td>FIT0023</td>\n",
       "      <td>Fitbit Flex Bracelet navy activity monitor</td>\n",
       "      <td>Control activity bracelet with two interchange...</td>\n",
       "      <td>99.99</td>\n",
       "      <td>899.877</td>\n",
       "      <td>0</td>\n",
       "      <td>11905404</td>\n",
       "      <td>NaN</td>\n",
       "    </tr>\n",
       "    <tr>\n",
       "      <th>1454</th>\n",
       "      <td>FIT0024</td>\n",
       "      <td>Fitbit Charge Bracelet Black Size L</td>\n",
       "      <td>Bracelet size L activity and sleep monitor wor...</td>\n",
       "      <td>129.95</td>\n",
       "      <td>1.198.989</td>\n",
       "      <td>0</td>\n",
       "      <td>11905404</td>\n",
       "      <td>NaN</td>\n",
       "    </tr>\n",
       "    <tr>\n",
       "      <th>1510</th>\n",
       "      <td>FIT0026</td>\n",
       "      <td>Fitbit Charge HR Bracelet Black Size L</td>\n",
       "      <td>Bracelet sport and activity monitors sleep.</td>\n",
       "      <td>149.95</td>\n",
       "      <td>1.419.899</td>\n",
       "      <td>0</td>\n",
       "      <td>11905404</td>\n",
       "      <td>NaN</td>\n",
       "    </tr>\n",
       "    <tr>\n",
       "      <th>2178</th>\n",
       "      <td>FIT0028</td>\n",
       "      <td>Fitbit Surge Figured Black Clock</td>\n",
       "      <td>Smartwatch with monitoring activity and sleep ...</td>\n",
       "      <td>249.95</td>\n",
       "      <td>229.9</td>\n",
       "      <td>0</td>\n",
       "      <td>11905404</td>\n",
       "      <td>NaN</td>\n",
       "    </tr>\n",
       "    <tr>\n",
       "      <th>2181</th>\n",
       "      <td>FIT0029</td>\n",
       "      <td>Fitbit Surge Black Clock Small size</td>\n",
       "      <td>Smartwatch with monitoring activity and sleep ...</td>\n",
       "      <td>249.95</td>\n",
       "      <td>1.999.888</td>\n",
       "      <td>0</td>\n",
       "      <td>11905404</td>\n",
       "      <td>NaN</td>\n",
       "    </tr>\n",
       "    <tr>\n",
       "      <th>9533</th>\n",
       "      <td>FIT0062</td>\n",
       "      <td>Fitbit Smartwatch Ionic Gray</td>\n",
       "      <td>Fitbit is the sports Smartwatch Ionic waterpro...</td>\n",
       "      <td>349.95</td>\n",
       "      <td>3.399.894</td>\n",
       "      <td>1</td>\n",
       "      <td>11905404</td>\n",
       "      <td>NaN</td>\n",
       "    </tr>\n",
       "    <tr>\n",
       "      <th>9534</th>\n",
       "      <td>FIT0064</td>\n",
       "      <td>Fitbit Orange Blue Ionic Smartwatch</td>\n",
       "      <td>Fitbit is the sports Smartwatch Ionic waterpro...</td>\n",
       "      <td>349.95</td>\n",
       "      <td>3.399.894</td>\n",
       "      <td>1</td>\n",
       "      <td>11905404</td>\n",
       "      <td>NaN</td>\n",
       "    </tr>\n",
       "    <tr>\n",
       "      <th>9535</th>\n",
       "      <td>FIT0065</td>\n",
       "      <td>Fitbit Smartwatch Ionic Silver</td>\n",
       "      <td>Fitbit is the sports Smartwatch Ionic waterpro...</td>\n",
       "      <td>349.95</td>\n",
       "      <td>3.399.894</td>\n",
       "      <td>1</td>\n",
       "      <td>11905404</td>\n",
       "      <td>NaN</td>\n",
       "    </tr>\n",
       "  </tbody>\n",
       "</table>\n",
       "</div>"
      ],
      "text/plain": [
       "          sku                                        name  \\\n",
       "123   FIT0009               Fitbit Aria scale smart white   \n",
       "124   FIT0010               Fitbit Aria scale smart black   \n",
       "270   FIT0013           Fitbit ZIP monitor green activity   \n",
       "699   FIT0023  Fitbit Flex Bracelet navy activity monitor   \n",
       "1454  FIT0024         Fitbit Charge Bracelet Black Size L   \n",
       "1510  FIT0026      Fitbit Charge HR Bracelet Black Size L   \n",
       "2178  FIT0028            Fitbit Surge Figured Black Clock   \n",
       "2181  FIT0029         Fitbit Surge Black Clock Small size   \n",
       "9533  FIT0062                Fitbit Smartwatch Ionic Gray   \n",
       "9534  FIT0064         Fitbit Orange Blue Ionic Smartwatch   \n",
       "9535  FIT0065              Fitbit Smartwatch Ionic Silver   \n",
       "\n",
       "                                                   desc   price promo_price  \\\n",
       "123                   smart scale with WiFi connection.  119.99   1.159.906   \n",
       "124                   smart scale with WiFi connection.  119.99   1.159.906   \n",
       "270           Activity Monitor compact and lightweight.   59.99     548.977   \n",
       "699   Control activity bracelet with two interchange...   99.99     899.877   \n",
       "1454  Bracelet size L activity and sleep monitor wor...  129.95   1.198.989   \n",
       "1510        Bracelet sport and activity monitors sleep.  149.95   1.419.899   \n",
       "2178  Smartwatch with monitoring activity and sleep ...  249.95       229.9   \n",
       "2181  Smartwatch with monitoring activity and sleep ...  249.95   1.999.888   \n",
       "9533  Fitbit is the sports Smartwatch Ionic waterpro...  349.95   3.399.894   \n",
       "9534  Fitbit is the sports Smartwatch Ionic waterpro...  349.95   3.399.894   \n",
       "9535  Fitbit is the sports Smartwatch Ionic waterpro...  349.95   3.399.894   \n",
       "\n",
       "      in_stock      type  max_price_orderlines  \n",
       "123          0  11905404                   NaN  \n",
       "124          0  11905404                   NaN  \n",
       "270          0  11905404                   NaN  \n",
       "699          0  11905404                   NaN  \n",
       "1454         0  11905404                   NaN  \n",
       "1510         0  11905404                   NaN  \n",
       "2178         0  11905404                   NaN  \n",
       "2181         0  11905404                   NaN  \n",
       "9533         1  11905404                   NaN  \n",
       "9534         1  11905404                   NaN  \n",
       "9535         1  11905404                   NaN  "
      ]
     },
     "execution_count": 96,
     "metadata": {},
     "output_type": "execute_result"
    }
   ],
   "source": [
    "products.loc[products['name'].str.contains(r'^Fit')]"
   ]
  },
  {
   "cell_type": "markdown",
   "id": "cb03a989-1a94-464c-b98e-aa7c4ca0cb04",
   "metadata": {},
   "source": [
    "Learn more how to apply regexp and pandas: \n",
    "\n",
    "* https://kanoki.org/2019/11/12/how-to-use-regex-in-pandas/"
   ]
  },
  {
   "cell_type": "markdown",
   "id": "c615c355-f81a-4430-8adf-9078456cc445",
   "metadata": {},
   "source": [
    "### `*`\tZero or more occurences"
   ]
  },
  {
   "cell_type": "code",
   "execution_count": 97,
   "id": "006b446a-ba27-4367-93b5-ff39db6a4457",
   "metadata": {},
   "outputs": [],
   "source": [
    "similar_words = [\"hey\", \"hay\", \"how\", \"h i j k\", \"h\", \"ha\", \"oops\"]"
   ]
  },
  {
   "cell_type": "code",
   "execution_count": 98,
   "id": "a56a2752-930f-4729-9f8e-49ef36b21244",
   "metadata": {},
   "outputs": [
    {
     "name": "stdout",
     "output_type": "stream",
     "text": [
      "['hey']\n",
      "['hay']\n",
      "['how']\n",
      "['h i j k']\n",
      "['h']\n",
      "['ha']\n",
      "[]\n"
     ]
    }
   ],
   "source": [
    "# use \".\" to return all words starting with \"h\"\n",
    "for word in similar_words:\n",
    "    print(re.findall(\"h.*\", word))"
   ]
  },
  {
   "cell_type": "code",
   "execution_count": 99,
   "id": "22744473-02b5-4098-b31a-0b8cd209ef58",
   "metadata": {},
   "outputs": [
    {
     "name": "stdout",
     "output_type": "stream",
     "text": [
      "Full HD video surveillance camera with 180 degrees and night vision compatible HomeKit\n"
     ]
    },
    {
     "data": {
      "text/plain": [
       "['vid', 've', 'vis']"
      ]
     },
     "execution_count": 99,
     "metadata": {},
     "output_type": "execute_result"
    }
   ],
   "source": [
    "print(prod_descr)\n",
    "re.findall(\"vi*\\S\", prod_descr)"
   ]
  },
  {
   "cell_type": "code",
   "execution_count": 100,
   "id": "24bc3426-1f4f-4b3f-8966-f343628c9a88",
   "metadata": {},
   "outputs": [
    {
     "data": {
      "text/plain": [
       "['video', 'veillance', 'vision']"
      ]
     },
     "execution_count": 100,
     "metadata": {},
     "output_type": "execute_result"
    }
   ],
   "source": [
    "# Another way to show\n",
    "re.findall(\"vi*\\w+\", prod_descr)\n",
    "# \\w: Returns a match where the string contains any word characters \n",
    "#    (characters from a to Z, digits from 0-9, and the underscore _ character)\n",
    "# +: One or more occurrences"
   ]
  },
  {
   "cell_type": "markdown",
   "id": "f85e3643-bc19-4009-a986-cdc257fb546a",
   "metadata": {},
   "source": [
    "### Examples into dataframes"
   ]
  },
  {
   "cell_type": "code",
   "execution_count": 101,
   "id": "c832326e-f6cc-448d-a892-dc4fa981db0d",
   "metadata": {},
   "outputs": [
    {
     "name": "stderr",
     "output_type": "stream",
     "text": [
      "/var/folders/rp/xssfwpy15svdxmd2v7wkf9p80000gn/T/ipykernel_93507/93747580.py:4: UserWarning: This pattern has match groups. To actually get the groups, use str.extract.\n",
      "  .loc[products['name'].str.contains(r'(body|Body)')]\n"
     ]
    },
    {
     "data": {
      "text/html": [
       "<div>\n",
       "<style scoped>\n",
       "    .dataframe tbody tr th:only-of-type {\n",
       "        vertical-align: middle;\n",
       "    }\n",
       "\n",
       "    .dataframe tbody tr th {\n",
       "        vertical-align: top;\n",
       "    }\n",
       "\n",
       "    .dataframe thead th {\n",
       "        text-align: right;\n",
       "    }\n",
       "</style>\n",
       "<table border=\"1\" class=\"dataframe\">\n",
       "  <thead>\n",
       "    <tr style=\"text-align: right;\">\n",
       "      <th></th>\n",
       "      <th>sku</th>\n",
       "      <th>name</th>\n",
       "      <th>desc</th>\n",
       "      <th>price</th>\n",
       "      <th>promo_price</th>\n",
       "      <th>in_stock</th>\n",
       "      <th>type</th>\n",
       "      <th>max_price_orderlines</th>\n",
       "    </tr>\n",
       "  </thead>\n",
       "  <tbody>\n",
       "    <tr>\n",
       "      <th>9630</th>\n",
       "      <td>BOD0009</td>\n",
       "      <td>BodyGuardz TrainR Pro 8/7/6 iPhone Case with A...</td>\n",
       "      <td>Advanced holster included sports armband for i...</td>\n",
       "      <td>39.99</td>\n",
       "      <td>279.897</td>\n",
       "      <td>1</td>\n",
       "      <td>5405</td>\n",
       "      <td>NaN</td>\n",
       "    </tr>\n",
       "    <tr>\n",
       "      <th>10293</th>\n",
       "      <td>BOD0007</td>\n",
       "      <td>BodyGuardz TrainR Pro X iPhone Case with Armba...</td>\n",
       "      <td>Advanced holster included sports armband for i...</td>\n",
       "      <td>39.99</td>\n",
       "      <td>279.897</td>\n",
       "      <td>1</td>\n",
       "      <td>11865403</td>\n",
       "      <td>NaN</td>\n",
       "    </tr>\n",
       "    <tr>\n",
       "      <th>5225</th>\n",
       "      <td>GTE0075</td>\n",
       "      <td>G-Technology G-DOCK ev Body only USB3.0</td>\n",
       "      <td>Housing with connection USB3.0 compatible with...</td>\n",
       "      <td>107.99</td>\n",
       "      <td>851.901</td>\n",
       "      <td>0</td>\n",
       "      <td>11935397</td>\n",
       "      <td>NaN</td>\n",
       "    </tr>\n",
       "    <tr>\n",
       "      <th>6017</th>\n",
       "      <td>LMP0023</td>\n",
       "      <td>LMP battery MacBook Pro 17 \"Unibody Early / Mi...</td>\n",
       "      <td>replacement battery compatible with MacBook Pr...</td>\n",
       "      <td>129.99</td>\n",
       "      <td>1.299.903</td>\n",
       "      <td>1</td>\n",
       "      <td>13005399</td>\n",
       "      <td>NaN</td>\n",
       "    </tr>\n",
       "    <tr>\n",
       "      <th>4621</th>\n",
       "      <td>NTE0104</td>\n",
       "      <td>NewerTech NuPower 95 W Battery for MacBook Pro...</td>\n",
       "      <td>internal battery MacBook Pro 17-inch Unibody 2011</td>\n",
       "      <td>131.99</td>\n",
       "      <td>1.090.004</td>\n",
       "      <td>1</td>\n",
       "      <td>10142</td>\n",
       "      <td>NaN</td>\n",
       "    </tr>\n",
       "  </tbody>\n",
       "</table>\n",
       "</div>"
      ],
      "text/plain": [
       "           sku                                               name  \\\n",
       "9630   BOD0009  BodyGuardz TrainR Pro 8/7/6 iPhone Case with A...   \n",
       "10293  BOD0007  BodyGuardz TrainR Pro X iPhone Case with Armba...   \n",
       "5225   GTE0075            G-Technology G-DOCK ev Body only USB3.0   \n",
       "6017   LMP0023  LMP battery MacBook Pro 17 \"Unibody Early / Mi...   \n",
       "4621   NTE0104  NewerTech NuPower 95 W Battery for MacBook Pro...   \n",
       "\n",
       "                                                    desc   price promo_price  \\\n",
       "9630   Advanced holster included sports armband for i...   39.99     279.897   \n",
       "10293  Advanced holster included sports armband for i...   39.99     279.897   \n",
       "5225   Housing with connection USB3.0 compatible with...  107.99     851.901   \n",
       "6017   replacement battery compatible with MacBook Pr...  129.99   1.299.903   \n",
       "4621   internal battery MacBook Pro 17-inch Unibody 2011  131.99   1.090.004   \n",
       "\n",
       "       in_stock      type  max_price_orderlines  \n",
       "9630          1      5405                   NaN  \n",
       "10293         1  11865403                   NaN  \n",
       "5225          0  11935397                   NaN  \n",
       "6017          1  13005399                   NaN  \n",
       "4621          1     10142                   NaN  "
      ]
     },
     "execution_count": 101,
     "metadata": {},
     "output_type": "execute_result"
    }
   ],
   "source": [
    "# I would like to filter all the names that contain body\n",
    "(\n",
    "products\n",
    "    .loc[products['name'].str.contains(r'(body|Body)')]\n",
    "    .sort_values('name').head(5))"
   ]
  },
  {
   "cell_type": "code",
   "execution_count": 102,
   "id": "522e5412-3306-4ae2-b8f2-d38f1a6f3518",
   "metadata": {},
   "outputs": [
    {
     "name": "stderr",
     "output_type": "stream",
     "text": [
      "/var/folders/rp/xssfwpy15svdxmd2v7wkf9p80000gn/T/ipykernel_93507/3105679645.py:4: UserWarning: This pattern has match groups. To actually get the groups, use str.extract.\n",
      "  .loc[products['name'].str.contains(r'(b|B)ody')]\n"
     ]
    },
    {
     "data": {
      "text/html": [
       "<div>\n",
       "<style scoped>\n",
       "    .dataframe tbody tr th:only-of-type {\n",
       "        vertical-align: middle;\n",
       "    }\n",
       "\n",
       "    .dataframe tbody tr th {\n",
       "        vertical-align: top;\n",
       "    }\n",
       "\n",
       "    .dataframe thead th {\n",
       "        text-align: right;\n",
       "    }\n",
       "</style>\n",
       "<table border=\"1\" class=\"dataframe\">\n",
       "  <thead>\n",
       "    <tr style=\"text-align: right;\">\n",
       "      <th></th>\n",
       "      <th>sku</th>\n",
       "      <th>name</th>\n",
       "      <th>desc</th>\n",
       "      <th>price</th>\n",
       "      <th>promo_price</th>\n",
       "      <th>in_stock</th>\n",
       "      <th>type</th>\n",
       "      <th>max_price_orderlines</th>\n",
       "    </tr>\n",
       "  </thead>\n",
       "  <tbody>\n",
       "    <tr>\n",
       "      <th>9630</th>\n",
       "      <td>BOD0009</td>\n",
       "      <td>BodyGuardz TrainR Pro 8/7/6 iPhone Case with A...</td>\n",
       "      <td>Advanced holster included sports armband for i...</td>\n",
       "      <td>39.99</td>\n",
       "      <td>279.897</td>\n",
       "      <td>1</td>\n",
       "      <td>5405</td>\n",
       "      <td>NaN</td>\n",
       "    </tr>\n",
       "    <tr>\n",
       "      <th>10293</th>\n",
       "      <td>BOD0007</td>\n",
       "      <td>BodyGuardz TrainR Pro X iPhone Case with Armba...</td>\n",
       "      <td>Advanced holster included sports armband for i...</td>\n",
       "      <td>39.99</td>\n",
       "      <td>279.897</td>\n",
       "      <td>1</td>\n",
       "      <td>11865403</td>\n",
       "      <td>NaN</td>\n",
       "    </tr>\n",
       "    <tr>\n",
       "      <th>5225</th>\n",
       "      <td>GTE0075</td>\n",
       "      <td>G-Technology G-DOCK ev Body only USB3.0</td>\n",
       "      <td>Housing with connection USB3.0 compatible with...</td>\n",
       "      <td>107.99</td>\n",
       "      <td>851.901</td>\n",
       "      <td>0</td>\n",
       "      <td>11935397</td>\n",
       "      <td>NaN</td>\n",
       "    </tr>\n",
       "    <tr>\n",
       "      <th>6017</th>\n",
       "      <td>LMP0023</td>\n",
       "      <td>LMP battery MacBook Pro 17 \"Unibody Early / Mi...</td>\n",
       "      <td>replacement battery compatible with MacBook Pr...</td>\n",
       "      <td>129.99</td>\n",
       "      <td>1.299.903</td>\n",
       "      <td>1</td>\n",
       "      <td>13005399</td>\n",
       "      <td>NaN</td>\n",
       "    </tr>\n",
       "    <tr>\n",
       "      <th>4621</th>\n",
       "      <td>NTE0104</td>\n",
       "      <td>NewerTech NuPower 95 W Battery for MacBook Pro...</td>\n",
       "      <td>internal battery MacBook Pro 17-inch Unibody 2011</td>\n",
       "      <td>131.99</td>\n",
       "      <td>1.090.004</td>\n",
       "      <td>1</td>\n",
       "      <td>10142</td>\n",
       "      <td>NaN</td>\n",
       "    </tr>\n",
       "  </tbody>\n",
       "</table>\n",
       "</div>"
      ],
      "text/plain": [
       "           sku                                               name  \\\n",
       "9630   BOD0009  BodyGuardz TrainR Pro 8/7/6 iPhone Case with A...   \n",
       "10293  BOD0007  BodyGuardz TrainR Pro X iPhone Case with Armba...   \n",
       "5225   GTE0075            G-Technology G-DOCK ev Body only USB3.0   \n",
       "6017   LMP0023  LMP battery MacBook Pro 17 \"Unibody Early / Mi...   \n",
       "4621   NTE0104  NewerTech NuPower 95 W Battery for MacBook Pro...   \n",
       "\n",
       "                                                    desc   price promo_price  \\\n",
       "9630   Advanced holster included sports armband for i...   39.99     279.897   \n",
       "10293  Advanced holster included sports armband for i...   39.99     279.897   \n",
       "5225   Housing with connection USB3.0 compatible with...  107.99     851.901   \n",
       "6017   replacement battery compatible with MacBook Pr...  129.99   1.299.903   \n",
       "4621   internal battery MacBook Pro 17-inch Unibody 2011  131.99   1.090.004   \n",
       "\n",
       "       in_stock      type  max_price_orderlines  \n",
       "9630          1      5405                   NaN  \n",
       "10293         1  11865403                   NaN  \n",
       "5225          0  11935397                   NaN  \n",
       "6017          1  13005399                   NaN  \n",
       "4621          1     10142                   NaN  "
      ]
     },
     "execution_count": 102,
     "metadata": {},
     "output_type": "execute_result"
    }
   ],
   "source": [
    "# CHALLENGE: how can you reduce the previous regexp expression?\n",
    "(\n",
    "products\n",
    "    .loc[products['name'].str.contains(r'(b|B)ody')]\n",
    "    .sort_values('name').head(5))"
   ]
  },
  {
   "cell_type": "markdown",
   "id": "672399e9-289c-4009-8d18-9abaada6e1d3",
   "metadata": {},
   "source": [
    "### Compile regular expressions"
   ]
  },
  {
   "cell_type": "code",
   "execution_count": 103,
   "id": "7ba9bce0-5c70-4d4d-a635-a21dbf3cdbf0",
   "metadata": {},
   "outputs": [
    {
     "name": "stderr",
     "output_type": "stream",
     "text": [
      "/var/folders/rp/xssfwpy15svdxmd2v7wkf9p80000gn/T/ipykernel_93507/2209865973.py:28: UserWarning: This pattern has match groups. To actually get the groups, use str.extract.\n",
      "  (x['desc'].str.contains(regexp, regex=True)) &\n"
     ]
    },
    {
     "data": {
      "text/plain": [
       "unknown        6439\n",
       "case           1377\n",
       "protect         808\n",
       "cable           512\n",
       "refurbished     398\n",
       "battery         223\n",
       "stand           221\n",
       "strap           191\n",
       "headset         140\n",
       "watch           126\n",
       "camera          104\n",
       "mouse            40\n",
       "Name: category, dtype: int64"
      ]
     },
     "execution_count": 103,
     "metadata": {},
     "output_type": "execute_result"
    }
   ],
   "source": [
    "# the last will be the first ones\n",
    "regexp_dict = {\n",
    "    'ipod':'^.{0,7}apple ipod',\n",
    "    'case':'(case|funda|housing|casing|folder)',\n",
    "    'cable':'cable|connector|Lightning to USB|Wall socket|power strip',\n",
    "    'battery':'battery',\n",
    "    'headset':'(headset|headphones)',\n",
    "    'mouse':'(mouse|trackpad)',\n",
    "    'stand':'(stand|support)',\n",
    "    'protect':'(protect|cover|sleeve|Screensaver|shell)',\n",
    "    'watch':'(^.{0,6}apple watch|smartwatch|smart watch)',\n",
    "    'camera':'camera',\n",
    "    'refurbished':'(refurbished|reconditioned|like new)',\n",
    "    'strap':'strap|armband|belt|bracelet'\n",
    "}\n",
    "\n",
    "temp = products.copy().assign(category = 'unknown')\n",
    "\n",
    "import numpy as np\n",
    "\n",
    "for val in regexp_dict.items(): \n",
    "    label = val[0]\n",
    "    regexp = re.compile(val[1], flags=re.IGNORECASE)\n",
    "    temp = (\n",
    "    temp\n",
    "        .assign(\n",
    "            category = lambda x: np.where(\n",
    "                (x['desc'].str.contains(regexp, regex=True)) &\n",
    "                (x['category'] == 'unknown'), label, x['category'])))\n",
    "\n",
    "temp['category'].value_counts()"
   ]
  },
  {
   "cell_type": "code",
   "execution_count": 124,
   "id": "796a462f-ea43-4101-8f9c-b1ec8adc02db",
   "metadata": {},
   "outputs": [
    {
     "data": {
      "text/html": [
       "<div>\n",
       "<style scoped>\n",
       "    .dataframe tbody tr th:only-of-type {\n",
       "        vertical-align: middle;\n",
       "    }\n",
       "\n",
       "    .dataframe tbody tr th {\n",
       "        vertical-align: top;\n",
       "    }\n",
       "\n",
       "    .dataframe thead th {\n",
       "        text-align: right;\n",
       "    }\n",
       "</style>\n",
       "<table border=\"1\" class=\"dataframe\">\n",
       "  <thead>\n",
       "    <tr style=\"text-align: right;\">\n",
       "      <th></th>\n",
       "      <th>count</th>\n",
       "      <th>mean</th>\n",
       "      <th>std</th>\n",
       "      <th>min</th>\n",
       "      <th>25%</th>\n",
       "      <th>50%</th>\n",
       "      <th>75%</th>\n",
       "      <th>max</th>\n",
       "    </tr>\n",
       "    <tr>\n",
       "      <th>category</th>\n",
       "      <th></th>\n",
       "      <th></th>\n",
       "      <th></th>\n",
       "      <th></th>\n",
       "      <th></th>\n",
       "      <th></th>\n",
       "      <th></th>\n",
       "      <th></th>\n",
       "    </tr>\n",
       "  </thead>\n",
       "  <tbody>\n",
       "    <tr>\n",
       "      <th>battery</th>\n",
       "      <td>213.0</td>\n",
       "      <td>116.001268</td>\n",
       "      <td>140.356193</td>\n",
       "      <td>3.99</td>\n",
       "      <td>49.9500</td>\n",
       "      <td>84.95</td>\n",
       "      <td>119.9900</td>\n",
       "      <td>1499.00</td>\n",
       "    </tr>\n",
       "    <tr>\n",
       "      <th>cable</th>\n",
       "      <td>506.0</td>\n",
       "      <td>118.612233</td>\n",
       "      <td>315.341661</td>\n",
       "      <td>3.99</td>\n",
       "      <td>24.9500</td>\n",
       "      <td>34.99</td>\n",
       "      <td>59.9975</td>\n",
       "      <td>2725.95</td>\n",
       "    </tr>\n",
       "    <tr>\n",
       "      <th>camera</th>\n",
       "      <td>95.0</td>\n",
       "      <td>257.038000</td>\n",
       "      <td>193.622070</td>\n",
       "      <td>12.90</td>\n",
       "      <td>134.9900</td>\n",
       "      <td>229.00</td>\n",
       "      <td>299.0000</td>\n",
       "      <td>1049.99</td>\n",
       "    </tr>\n",
       "    <tr>\n",
       "      <th>case</th>\n",
       "      <td>1330.0</td>\n",
       "      <td>78.262429</td>\n",
       "      <td>152.838093</td>\n",
       "      <td>3.49</td>\n",
       "      <td>34.9500</td>\n",
       "      <td>49.90</td>\n",
       "      <td>74.4225</td>\n",
       "      <td>2660.99</td>\n",
       "    </tr>\n",
       "    <tr>\n",
       "      <th>headset</th>\n",
       "      <td>137.0</td>\n",
       "      <td>132.933796</td>\n",
       "      <td>85.531812</td>\n",
       "      <td>9.99</td>\n",
       "      <td>79.9900</td>\n",
       "      <td>119.95</td>\n",
       "      <td>180.0000</td>\n",
       "      <td>379.99</td>\n",
       "    </tr>\n",
       "    <tr>\n",
       "      <th>mouse</th>\n",
       "      <td>38.0</td>\n",
       "      <td>197.563947</td>\n",
       "      <td>480.055631</td>\n",
       "      <td>4.99</td>\n",
       "      <td>29.0000</td>\n",
       "      <td>48.00</td>\n",
       "      <td>101.0000</td>\n",
       "      <td>2189.00</td>\n",
       "    </tr>\n",
       "    <tr>\n",
       "      <th>protect</th>\n",
       "      <td>793.0</td>\n",
       "      <td>72.783871</td>\n",
       "      <td>167.574306</td>\n",
       "      <td>7.90</td>\n",
       "      <td>24.9900</td>\n",
       "      <td>34.95</td>\n",
       "      <td>49.9500</td>\n",
       "      <td>1453.95</td>\n",
       "    </tr>\n",
       "    <tr>\n",
       "      <th>refurbished</th>\n",
       "      <td>391.0</td>\n",
       "      <td>858.134834</td>\n",
       "      <td>765.773509</td>\n",
       "      <td>8.95</td>\n",
       "      <td>289.0000</td>\n",
       "      <td>694.00</td>\n",
       "      <td>1199.0000</td>\n",
       "      <td>3949.00</td>\n",
       "    </tr>\n",
       "    <tr>\n",
       "      <th>stand</th>\n",
       "      <td>219.0</td>\n",
       "      <td>98.702420</td>\n",
       "      <td>145.816559</td>\n",
       "      <td>9.95</td>\n",
       "      <td>35.9450</td>\n",
       "      <td>50.00</td>\n",
       "      <td>79.9950</td>\n",
       "      <td>1191.99</td>\n",
       "    </tr>\n",
       "    <tr>\n",
       "      <th>strap</th>\n",
       "      <td>189.0</td>\n",
       "      <td>64.482540</td>\n",
       "      <td>50.346490</td>\n",
       "      <td>14.99</td>\n",
       "      <td>39.9500</td>\n",
       "      <td>59.00</td>\n",
       "      <td>59.9500</td>\n",
       "      <td>369.00</td>\n",
       "    </tr>\n",
       "    <tr>\n",
       "      <th>unknown</th>\n",
       "      <td>5960.0</td>\n",
       "      <td>997.955280</td>\n",
       "      <td>1660.767651</td>\n",
       "      <td>2.99</td>\n",
       "      <td>77.9975</td>\n",
       "      <td>299.99</td>\n",
       "      <td>1197.5300</td>\n",
       "      <td>15339.00</td>\n",
       "    </tr>\n",
       "    <tr>\n",
       "      <th>watch</th>\n",
       "      <td>121.0</td>\n",
       "      <td>448.810083</td>\n",
       "      <td>231.669307</td>\n",
       "      <td>45.95</td>\n",
       "      <td>369.0000</td>\n",
       "      <td>419.00</td>\n",
       "      <td>469.0000</td>\n",
       "      <td>1269.00</td>\n",
       "    </tr>\n",
       "  </tbody>\n",
       "</table>\n",
       "</div>"
      ],
      "text/plain": [
       "              count        mean          std    min       25%     50%  \\\n",
       "category                                                                \n",
       "battery       213.0  116.001268   140.356193   3.99   49.9500   84.95   \n",
       "cable         506.0  118.612233   315.341661   3.99   24.9500   34.99   \n",
       "camera         95.0  257.038000   193.622070  12.90  134.9900  229.00   \n",
       "case         1330.0   78.262429   152.838093   3.49   34.9500   49.90   \n",
       "headset       137.0  132.933796    85.531812   9.99   79.9900  119.95   \n",
       "mouse          38.0  197.563947   480.055631   4.99   29.0000   48.00   \n",
       "protect       793.0   72.783871   167.574306   7.90   24.9900   34.95   \n",
       "refurbished   391.0  858.134834   765.773509   8.95  289.0000  694.00   \n",
       "stand         219.0   98.702420   145.816559   9.95   35.9450   50.00   \n",
       "strap         189.0   64.482540    50.346490  14.99   39.9500   59.00   \n",
       "unknown      5960.0  997.955280  1660.767651   2.99   77.9975  299.99   \n",
       "watch         121.0  448.810083   231.669307  45.95  369.0000  419.00   \n",
       "\n",
       "                   75%       max  \n",
       "category                          \n",
       "battery       119.9900   1499.00  \n",
       "cable          59.9975   2725.95  \n",
       "camera        299.0000   1049.99  \n",
       "case           74.4225   2660.99  \n",
       "headset       180.0000    379.99  \n",
       "mouse         101.0000   2189.00  \n",
       "protect        49.9500   1453.95  \n",
       "refurbished  1199.0000   3949.00  \n",
       "stand          79.9950   1191.99  \n",
       "strap          59.9500    369.00  \n",
       "unknown      1197.5300  15339.00  \n",
       "watch         469.0000   1269.00  "
      ]
     },
     "execution_count": 124,
     "metadata": {},
     "output_type": "execute_result"
    }
   ],
   "source": [
    "temp.groupby('category')['price'].describe()"
   ]
  },
  {
   "cell_type": "code",
   "execution_count": 105,
   "id": "c5a7d35c-8bfb-4dd1-9f00-fdf6f070266c",
   "metadata": {},
   "outputs": [
    {
     "data": {
      "text/plain": [
       "416392.9199999999"
      ]
     },
     "execution_count": 105,
     "metadata": {},
     "output_type": "execute_result"
    }
   ],
   "source": [
    "temp.query('in_stock == 1')['price'].sum()"
   ]
  },
  {
   "cell_type": "code",
   "execution_count": 106,
   "id": "f5c0f72a-3141-4ec9-bc29-44491996e125",
   "metadata": {},
   "outputs": [
    {
     "data": {
      "text/plain": [
       "6251730.99"
      ]
     },
     "execution_count": 106,
     "metadata": {},
     "output_type": "execute_result"
    }
   ],
   "source": [
    "temp.query('in_stock == 0')['price'].sum()"
   ]
  },
  {
   "cell_type": "code",
   "execution_count": 107,
   "id": "71cdfb51-826c-4fe3-a4b9-092d403fb882",
   "metadata": {},
   "outputs": [],
   "source": [
    "pd.set_option('display.max_rows', 1000)\n",
    "pd.set_option(\"display.max_colwidth\", 100)\n"
   ]
  },
  {
   "cell_type": "code",
   "execution_count": 145,
   "id": "fa47cd19-8f5e-4166-976b-2b9fc4453c8d",
   "metadata": {},
   "outputs": [
    {
     "data": {
      "text/html": [
       "<div>\n",
       "<style scoped>\n",
       "    .dataframe tbody tr th:only-of-type {\n",
       "        vertical-align: middle;\n",
       "    }\n",
       "\n",
       "    .dataframe tbody tr th {\n",
       "        vertical-align: top;\n",
       "    }\n",
       "\n",
       "    .dataframe thead th {\n",
       "        text-align: right;\n",
       "    }\n",
       "</style>\n",
       "<table border=\"1\" class=\"dataframe\">\n",
       "  <thead>\n",
       "    <tr style=\"text-align: right;\">\n",
       "      <th></th>\n",
       "      <th>sku</th>\n",
       "      <th>name</th>\n",
       "      <th>desc</th>\n",
       "      <th>price</th>\n",
       "      <th>promo_price</th>\n",
       "      <th>in_stock</th>\n",
       "      <th>type</th>\n",
       "      <th>max_price_orderlines</th>\n",
       "    </tr>\n",
       "  </thead>\n",
       "  <tbody>\n",
       "    <tr>\n",
       "      <th>51</th>\n",
       "      <td>APP0344</td>\n",
       "      <td>Apple Thunderbolt Display 27 \"Monitor Mac</td>\n",
       "      <td>Monitor Display 27-inch Apple Thunderbolt (MC914ZM / A).</td>\n",
       "      <td>1149.00</td>\n",
       "      <td>10.449.923</td>\n",
       "      <td>0</td>\n",
       "      <td>1296</td>\n",
       "      <td>NaN</td>\n",
       "    </tr>\n",
       "    <tr>\n",
       "      <th>100</th>\n",
       "      <td>APP0390</td>\n",
       "      <td>Apple MacBook Pro 133 \"Core i5 25GHz | 4GB RAM | 500GB HDD</td>\n",
       "      <td>MacBook Pro laptop 133 inches (MD101Y / A).</td>\n",
       "      <td>1199.00</td>\n",
       "      <td>11.455.917</td>\n",
       "      <td>0</td>\n",
       "      <td>1282</td>\n",
       "      <td>NaN</td>\n",
       "    </tr>\n",
       "    <tr>\n",
       "      <th>101</th>\n",
       "      <td>PAC0508</td>\n",
       "      <td>Apple MacBook Pro 133 '' 25GHz | 16GB RAM | 1TB Fusion</td>\n",
       "      <td>Apple MacBook Pro Fusion Drive 16GB 2 internal and external SuperDrive disks.</td>\n",
       "      <td>1919.00</td>\n",
       "      <td>16.999.895</td>\n",
       "      <td>0</td>\n",
       "      <td>1282</td>\n",
       "      <td>NaN</td>\n",
       "    </tr>\n",
       "    <tr>\n",
       "      <th>102</th>\n",
       "      <td>PAC0507</td>\n",
       "      <td>Apple MacBook Pro 133 '' 25Ghz | 16GB RAM | Fusion 740GB</td>\n",
       "      <td>Apple MacBook Pro Fusion Drive 16GB 2 internal and external SuperDrive disks.</td>\n",
       "      <td>1639.00</td>\n",
       "      <td>15.989.896</td>\n",
       "      <td>0</td>\n",
       "      <td>1282</td>\n",
       "      <td>NaN</td>\n",
       "    </tr>\n",
       "    <tr>\n",
       "      <th>103</th>\n",
       "      <td>PAC0515</td>\n",
       "      <td>Apple MacBook Pro 133 \"i7 29GHz | RAM 16GB | 500GB HDD | SSD 240GB</td>\n",
       "      <td>Apple MacBook Pro 133 inches (MD101Y / A) and SSD Processor RAM expansion.</td>\n",
       "      <td>2039.00</td>\n",
       "      <td>20.379.897</td>\n",
       "      <td>0</td>\n",
       "      <td>1282</td>\n",
       "      <td>NaN</td>\n",
       "    </tr>\n",
       "    <tr>\n",
       "      <th>...</th>\n",
       "      <td>...</td>\n",
       "      <td>...</td>\n",
       "      <td>...</td>\n",
       "      <td>...</td>\n",
       "      <td>...</td>\n",
       "      <td>...</td>\n",
       "      <td>...</td>\n",
       "      <td>...</td>\n",
       "    </tr>\n",
       "    <tr>\n",
       "      <th>10421</th>\n",
       "      <td>APP2067-A</td>\n",
       "      <td>Open - Apple MacBook Air 13 \"1.8GHz dual-core Intel Core i5 256GB</td>\n",
       "      <td>Reconditioned computer MacBook Air 13 inch i5 18GHz 8GB RAM and 256GB SSD</td>\n",
       "      <td>1355.59</td>\n",
       "      <td>11.342.684</td>\n",
       "      <td>0</td>\n",
       "      <td>2,17E+11</td>\n",
       "      <td>NaN</td>\n",
       "    </tr>\n",
       "    <tr>\n",
       "      <th>10447</th>\n",
       "      <td>DLL0053</td>\n",
       "      <td>Dell UltraSharp UP2718Q Monitor 27 \"4K HDR</td>\n",
       "      <td>Monitor 27 inch 4K 4K and 6ms response height adjustable and pivotable.</td>\n",
       "      <td>1869.99</td>\n",
       "      <td>15.699.895</td>\n",
       "      <td>0</td>\n",
       "      <td>1296</td>\n",
       "      <td>NaN</td>\n",
       "    </tr>\n",
       "    <tr>\n",
       "      <th>10450</th>\n",
       "      <td>PAC2510</td>\n",
       "      <td>Apple iMac 27 \"Core i5 3.3GHz Retina 5K | 16GB RAM | 2TB Fusion | Certified Apple (CPO)</td>\n",
       "      <td>27-inch iMac 5K Retina refitted with 16GB of RAM and 2TB capacity with Apple Certification and g...</td>\n",
       "      <td>2869.00</td>\n",
       "      <td>20.990.045</td>\n",
       "      <td>0</td>\n",
       "      <td>5,74E+15</td>\n",
       "      <td>NaN</td>\n",
       "    </tr>\n",
       "    <tr>\n",
       "      <th>10451</th>\n",
       "      <td>AP20461</td>\n",
       "      <td>Apple MacBook Pro 15 \"Core i7 Touch Bar 26GHz | RAM 16GB | 256GB PCIe SSD | Radeon Pro 450 2GB S...</td>\n",
       "      <td>Refurbished MacBook Pro and 15-inch Apple certified Touch Bar 26GHz Core i7 16GB RAM 256GB PCIe ...</td>\n",
       "      <td>2699.00</td>\n",
       "      <td>21.989.935</td>\n",
       "      <td>1</td>\n",
       "      <td>1,02E+12</td>\n",
       "      <td>NaN</td>\n",
       "    </tr>\n",
       "    <tr>\n",
       "      <th>10452</th>\n",
       "      <td>AP20462</td>\n",
       "      <td>Apple MacBook Pro 13 \"with Touch Bar GHz Core i5 29 | 8GB RAM | 256GB PCIe SSD Space Gray | Cert...</td>\n",
       "      <td>Apple MacBook Pro reconditioned by 13-inch Core i5 Touch Bar to 29GHz with 8GB of RAM and 256GB ...</td>\n",
       "      <td>1999.00</td>\n",
       "      <td>16.490.001</td>\n",
       "      <td>1</td>\n",
       "      <td>1,02E+12</td>\n",
       "      <td>NaN</td>\n",
       "    </tr>\n",
       "  </tbody>\n",
       "</table>\n",
       "<p>1868 rows × 8 columns</p>\n",
       "</div>"
      ],
      "text/plain": [
       "             sku  \\\n",
       "51       APP0344   \n",
       "100      APP0390   \n",
       "101      PAC0508   \n",
       "102      PAC0507   \n",
       "103      PAC0515   \n",
       "...          ...   \n",
       "10421  APP2067-A   \n",
       "10447    DLL0053   \n",
       "10450    PAC2510   \n",
       "10451    AP20461   \n",
       "10452    AP20462   \n",
       "\n",
       "                                                                                                      name  \\\n",
       "51                                                               Apple Thunderbolt Display 27 \"Monitor Mac   \n",
       "100                                             Apple MacBook Pro 133 \"Core i5 25GHz | 4GB RAM | 500GB HDD   \n",
       "101                                                 Apple MacBook Pro 133 '' 25GHz | 16GB RAM | 1TB Fusion   \n",
       "102                                               Apple MacBook Pro 133 '' 25Ghz | 16GB RAM | Fusion 740GB   \n",
       "103                                     Apple MacBook Pro 133 \"i7 29GHz | RAM 16GB | 500GB HDD | SSD 240GB   \n",
       "...                                                                                                    ...   \n",
       "10421                                    Open - Apple MacBook Air 13 \"1.8GHz dual-core Intel Core i5 256GB   \n",
       "10447                                                           Dell UltraSharp UP2718Q Monitor 27 \"4K HDR   \n",
       "10450              Apple iMac 27 \"Core i5 3.3GHz Retina 5K | 16GB RAM | 2TB Fusion | Certified Apple (CPO)   \n",
       "10451  Apple MacBook Pro 15 \"Core i7 Touch Bar 26GHz | RAM 16GB | 256GB PCIe SSD | Radeon Pro 450 2GB S...   \n",
       "10452  Apple MacBook Pro 13 \"with Touch Bar GHz Core i5 29 | 8GB RAM | 256GB PCIe SSD Space Gray | Cert...   \n",
       "\n",
       "                                                                                                      desc  \\\n",
       "51                                                Monitor Display 27-inch Apple Thunderbolt (MC914ZM / A).   \n",
       "100                                                            MacBook Pro laptop 133 inches (MD101Y / A).   \n",
       "101                          Apple MacBook Pro Fusion Drive 16GB 2 internal and external SuperDrive disks.   \n",
       "102                          Apple MacBook Pro Fusion Drive 16GB 2 internal and external SuperDrive disks.   \n",
       "103                             Apple MacBook Pro 133 inches (MD101Y / A) and SSD Processor RAM expansion.   \n",
       "...                                                                                                    ...   \n",
       "10421                            Reconditioned computer MacBook Air 13 inch i5 18GHz 8GB RAM and 256GB SSD   \n",
       "10447                              Monitor 27 inch 4K 4K and 6ms response height adjustable and pivotable.   \n",
       "10450  27-inch iMac 5K Retina refitted with 16GB of RAM and 2TB capacity with Apple Certification and g...   \n",
       "10451  Refurbished MacBook Pro and 15-inch Apple certified Touch Bar 26GHz Core i7 16GB RAM 256GB PCIe ...   \n",
       "10452  Apple MacBook Pro reconditioned by 13-inch Core i5 Touch Bar to 29GHz with 8GB of RAM and 256GB ...   \n",
       "\n",
       "         price promo_price  in_stock      type  max_price_orderlines  \n",
       "51     1149.00  10.449.923         0      1296                   NaN  \n",
       "100    1199.00  11.455.917         0      1282                   NaN  \n",
       "101    1919.00  16.999.895         0      1282                   NaN  \n",
       "102    1639.00  15.989.896         0      1282                   NaN  \n",
       "103    2039.00  20.379.897         0      1282                   NaN  \n",
       "...        ...         ...       ...       ...                   ...  \n",
       "10421  1355.59  11.342.684         0  2,17E+11                   NaN  \n",
       "10447  1869.99  15.699.895         0      1296                   NaN  \n",
       "10450  2869.00  20.990.045         0  5,74E+15                   NaN  \n",
       "10451  2699.00  21.989.935         1  1,02E+12                   NaN  \n",
       "10452  1999.00  16.490.001         1  1,02E+12                   NaN  \n",
       "\n",
       "[1868 rows x 8 columns]"
      ]
     },
     "execution_count": 145,
     "metadata": {},
     "output_type": "execute_result"
    }
   ],
   "source": [
    "products[products['price'] > 1000]"
   ]
  },
  {
   "cell_type": "code",
   "execution_count": 144,
   "id": "821fefa2-a97f-4411-a2ef-7065f58c248c",
   "metadata": {},
   "outputs": [
    {
     "data": {
      "text/html": [
       "<div>\n",
       "<style scoped>\n",
       "    .dataframe tbody tr th:only-of-type {\n",
       "        vertical-align: middle;\n",
       "    }\n",
       "\n",
       "    .dataframe tbody tr th {\n",
       "        vertical-align: top;\n",
       "    }\n",
       "\n",
       "    .dataframe thead th {\n",
       "        text-align: right;\n",
       "    }\n",
       "</style>\n",
       "<table border=\"1\" class=\"dataframe\">\n",
       "  <thead>\n",
       "    <tr style=\"text-align: right;\">\n",
       "      <th></th>\n",
       "      <th>sku</th>\n",
       "      <th>name</th>\n",
       "      <th>desc</th>\n",
       "      <th>price</th>\n",
       "      <th>promo_price</th>\n",
       "      <th>in_stock</th>\n",
       "      <th>type</th>\n",
       "      <th>max_price_orderlines</th>\n",
       "    </tr>\n",
       "  </thead>\n",
       "  <tbody>\n",
       "    <tr>\n",
       "      <th>101</th>\n",
       "      <td>PAC0508</td>\n",
       "      <td>Apple MacBook Pro 133 '' 25GHz | 16GB RAM | 1TB Fusion</td>\n",
       "      <td>Apple MacBook Pro Fusion Drive 16GB 2 internal and external SuperDrive disks.</td>\n",
       "      <td>1919.00</td>\n",
       "      <td>16.999.895</td>\n",
       "      <td>0</td>\n",
       "      <td>1282</td>\n",
       "      <td>NaN</td>\n",
       "    </tr>\n",
       "    <tr>\n",
       "      <th>102</th>\n",
       "      <td>PAC0507</td>\n",
       "      <td>Apple MacBook Pro 133 '' 25Ghz | 16GB RAM | Fusion 740GB</td>\n",
       "      <td>Apple MacBook Pro Fusion Drive 16GB 2 internal and external SuperDrive disks.</td>\n",
       "      <td>1639.00</td>\n",
       "      <td>15.989.896</td>\n",
       "      <td>0</td>\n",
       "      <td>1282</td>\n",
       "      <td>NaN</td>\n",
       "    </tr>\n",
       "    <tr>\n",
       "      <th>103</th>\n",
       "      <td>PAC0515</td>\n",
       "      <td>Apple MacBook Pro 133 \"i7 29GHz | RAM 16GB | 500GB HDD | SSD 240GB</td>\n",
       "      <td>Apple MacBook Pro 133 inches (MD101Y / A) and SSD Processor RAM expansion.</td>\n",
       "      <td>2039.00</td>\n",
       "      <td>20.379.897</td>\n",
       "      <td>0</td>\n",
       "      <td>1282</td>\n",
       "      <td>NaN</td>\n",
       "    </tr>\n",
       "    <tr>\n",
       "      <th>104</th>\n",
       "      <td>PAC0510</td>\n",
       "      <td>Apple MacBook Pro 133 \"i7 29GHz | RAM 16GB | 740GB Fusion</td>\n",
       "      <td>Apple MacBook Pro Fusion Drive 16GB 2 internal and external SuperDrive disks.</td>\n",
       "      <td>2039.00</td>\n",
       "      <td>20.379.897</td>\n",
       "      <td>0</td>\n",
       "      <td>1282</td>\n",
       "      <td>NaN</td>\n",
       "    </tr>\n",
       "    <tr>\n",
       "      <th>105</th>\n",
       "      <td>PAC0185</td>\n",
       "      <td>Apple MacBook Pro 133 \"i5 25GHz | RAM 16GB | 275GB SSD</td>\n",
       "      <td>Apple MacBook Pro 133 inches (MD101Y / A) with 275GB SSD.</td>\n",
       "      <td>1639.00</td>\n",
       "      <td>1469</td>\n",
       "      <td>0</td>\n",
       "      <td>1282</td>\n",
       "      <td>NaN</td>\n",
       "    </tr>\n",
       "    <tr>\n",
       "      <th>106</th>\n",
       "      <td>PAC0186</td>\n",
       "      <td>Apple MacBook Pro 133 \"25GHz | RAM 16GB | 500GB HDD | SSD 500GB</td>\n",
       "      <td>Apple MacBook Pro 133 inches (MD101Y / A) with two internal and external disks SuperDrive.</td>\n",
       "      <td>1919.00</td>\n",
       "      <td>16.999.895</td>\n",
       "      <td>0</td>\n",
       "      <td>1282</td>\n",
       "      <td>NaN</td>\n",
       "    </tr>\n",
       "    <tr>\n",
       "      <th>107</th>\n",
       "      <td>PAC0174</td>\n",
       "      <td>Apple MacBook Pro 133 '' 25GHz | 8GB RAM | Fusion 628GB</td>\n",
       "      <td>Apple MacBook Pro Fusion Drive 8GB internal and two external drives SuperDrive.</td>\n",
       "      <td>1613.99</td>\n",
       "      <td>15.389.905</td>\n",
       "      <td>0</td>\n",
       "      <td>1282</td>\n",
       "      <td>NaN</td>\n",
       "    </tr>\n",
       "    <tr>\n",
       "      <th>108</th>\n",
       "      <td>PAC0178</td>\n",
       "      <td>Apple MacBook Pro 133 '' 25GHz | 16GB RAM | Fusion 628GB</td>\n",
       "      <td>Apple MacBook Pro Fusion Drive 16GB 2 internal and external SuperDrive disks.</td>\n",
       "      <td>1733.99</td>\n",
       "      <td>15.699.895</td>\n",
       "      <td>0</td>\n",
       "      <td>1282</td>\n",
       "      <td>NaN</td>\n",
       "    </tr>\n",
       "    <tr>\n",
       "      <th>109</th>\n",
       "      <td>APP0574</td>\n",
       "      <td>Apple MacBook Pro 133 '' i7 29GHz | 4GB RAM | 500GB HDD</td>\n",
       "      <td>Apple MacBook Pro 133 inches (MD101Y / A) with extension Processor.</td>\n",
       "      <td>1379.00</td>\n",
       "      <td>13.855.843</td>\n",
       "      <td>0</td>\n",
       "      <td>1282</td>\n",
       "      <td>NaN</td>\n",
       "    </tr>\n",
       "    <tr>\n",
       "      <th>110</th>\n",
       "      <td>PAC0318</td>\n",
       "      <td>Apple MacBook Pro 133 \"i7 29GHz | RAM 16GB | 500GB HDD</td>\n",
       "      <td>Apple MacBook Pro 133 inches (MD101Y / A) with processor and RAM expansion.</td>\n",
       "      <td>1619.00</td>\n",
       "      <td>16.189.897</td>\n",
       "      <td>0</td>\n",
       "      <td>1282</td>\n",
       "      <td>NaN</td>\n",
       "    </tr>\n",
       "    <tr>\n",
       "      <th>111</th>\n",
       "      <td>PAC0390</td>\n",
       "      <td>Apple MacBook Pro 133 '' i7 29GHz | 8GB RAM | 500GB HDD</td>\n",
       "      <td>Apple MacBook Pro 133 inches (MD101Y / A) with processor and RAM expansion.</td>\n",
       "      <td>1499.00</td>\n",
       "      <td>14.979.897</td>\n",
       "      <td>0</td>\n",
       "      <td>1282</td>\n",
       "      <td>NaN</td>\n",
       "    </tr>\n",
       "    <tr>\n",
       "      <th>112</th>\n",
       "      <td>PAC0449</td>\n",
       "      <td>Apple MacBook Pro 133 \"i7 29GHz | RAM 16GB | 500GB HDD | SSD 500GB</td>\n",
       "      <td>Apple MacBook Pro 133 inches (MD101Y / A) and SSD Processor RAM expansion.</td>\n",
       "      <td>2399.00</td>\n",
       "      <td>23.989.896</td>\n",
       "      <td>0</td>\n",
       "      <td>1282</td>\n",
       "      <td>NaN</td>\n",
       "    </tr>\n",
       "    <tr>\n",
       "      <th>113</th>\n",
       "      <td>PAC0509</td>\n",
       "      <td>Apple MacBook Pro 133 '' i7 29GHz | 16GB RAM | 1TB Fusion</td>\n",
       "      <td>Apple MacBook Pro 133 inches (MD101Y / A) Drive Fusion 16GB two internal and external SuperDrive...</td>\n",
       "      <td>2399.00</td>\n",
       "      <td>23.989.896</td>\n",
       "      <td>0</td>\n",
       "      <td>1282</td>\n",
       "      <td>NaN</td>\n",
       "    </tr>\n",
       "    <tr>\n",
       "      <th>114</th>\n",
       "      <td>PAC1181</td>\n",
       "      <td>Apple MacBook Pro 133 \"i5 25GHz | 16GB RAM | 1TB SSD</td>\n",
       "      <td>Apple MacBook Pro 133 inches (MD101Y / A) with extended RAM and SSD.</td>\n",
       "      <td>2159.00</td>\n",
       "      <td>1769</td>\n",
       "      <td>0</td>\n",
       "      <td>1282</td>\n",
       "      <td>NaN</td>\n",
       "    </tr>\n",
       "    <tr>\n",
       "      <th>115</th>\n",
       "      <td>PAC1182</td>\n",
       "      <td>Apple MacBook Pro 133 \"i7 29GHz | 16GB RAM | 1TB SSD</td>\n",
       "      <td>Apple MacBook Pro 133 inches (MD101Y / A) with processor and RAM expansion SSD.</td>\n",
       "      <td>2579.00</td>\n",
       "      <td>25.790.001</td>\n",
       "      <td>0</td>\n",
       "      <td>1282</td>\n",
       "      <td>NaN</td>\n",
       "    </tr>\n",
       "    <tr>\n",
       "      <th>116</th>\n",
       "      <td>PAC1240</td>\n",
       "      <td>Apple MacBook Pro 133 \"i5 25GHz | RAM 16GB | 525GB SSD</td>\n",
       "      <td>Apple MacBook Pro 133 inches (MD101Y / A) with extended RAM and SSD.</td>\n",
       "      <td>1899.00</td>\n",
       "      <td>15.755.945</td>\n",
       "      <td>0</td>\n",
       "      <td>1282</td>\n",
       "      <td>NaN</td>\n",
       "    </tr>\n",
       "    <tr>\n",
       "      <th>117</th>\n",
       "      <td>PAC1241</td>\n",
       "      <td>Apple MacBook Pro 133 \"i7 29GHz | RAM 16GB | 500GB SSD</td>\n",
       "      <td>Apple MacBook Pro 133 inches (MD101Y / A) with extended RAM and SSD.</td>\n",
       "      <td>2399.00</td>\n",
       "      <td>23.989.896</td>\n",
       "      <td>0</td>\n",
       "      <td>1282</td>\n",
       "      <td>NaN</td>\n",
       "    </tr>\n",
       "    <tr>\n",
       "      <th>118</th>\n",
       "      <td>PAC0183</td>\n",
       "      <td>Apple MacBook Pro 133 \"25GHz | 8GB RAM | 500GB HDD</td>\n",
       "      <td>Apple MacBook Pro 133 inches (MD101Y / A) with extended memory.</td>\n",
       "      <td>1319.00</td>\n",
       "      <td>1279.99</td>\n",
       "      <td>0</td>\n",
       "      <td>1282</td>\n",
       "      <td>NaN</td>\n",
       "    </tr>\n",
       "    <tr>\n",
       "      <th>119</th>\n",
       "      <td>PAC0184</td>\n",
       "      <td>Apple MacBook Pro 133 \"25GHz | RAM 16GB | 500GB HDD</td>\n",
       "      <td>Apple MacBook Pro 133 inches (MD101Y / A) with extended memory.</td>\n",
       "      <td>1439.00</td>\n",
       "      <td>13.989.899</td>\n",
       "      <td>0</td>\n",
       "      <td>1282</td>\n",
       "      <td>NaN</td>\n",
       "    </tr>\n",
       "    <tr>\n",
       "      <th>3612</th>\n",
       "      <td>APP0568-A</td>\n",
       "      <td>(Open) Apple MacBook Pro 133 \"i7 29GHz | 4GB RAM | 500GB HDD</td>\n",
       "      <td>Apple MacBook Pro 133 inches (MD101Y / A) with extension Processor.</td>\n",
       "      <td>1379.00</td>\n",
       "      <td>12.496.311</td>\n",
       "      <td>0</td>\n",
       "      <td>1298</td>\n",
       "      <td>NaN</td>\n",
       "    </tr>\n",
       "    <tr>\n",
       "      <th>4419</th>\n",
       "      <td>APP1612</td>\n",
       "      <td>Apple MacBook Retina 12 \"Core M7 13GHz | 8GB RAM | 256GB Rose Gold Flash</td>\n",
       "      <td>Apple MacBook Retina 12-inch Core 8GB RAM 256GB M7 13GHz Rose Gold Flash</td>\n",
       "      <td>1749.00</td>\n",
       "      <td>16.675.845</td>\n",
       "      <td>0</td>\n",
       "      <td>1282</td>\n",
       "      <td>NaN</td>\n",
       "    </tr>\n",
       "    <tr>\n",
       "      <th>4429</th>\n",
       "      <td>APP1616</td>\n",
       "      <td>Apple MacBook Retina 12 \"Core M7 13GHz | 8GB RAM | 512GB Rose Gold Flash</td>\n",
       "      <td>Apple MacBook Retina 12-inch Core 8GB RAM 512GB M7 13GHz Rose Gold Flash</td>\n",
       "      <td>1979.00</td>\n",
       "      <td>18.865.848</td>\n",
       "      <td>0</td>\n",
       "      <td>1282</td>\n",
       "      <td>NaN</td>\n",
       "    </tr>\n",
       "    <tr>\n",
       "      <th>4468</th>\n",
       "      <td>APP1576</td>\n",
       "      <td>Apple MacBook Retina 12 \"Core m3 11GHz | 8GB RAM | 256GB Rose Gold Flash</td>\n",
       "      <td>Apple MacBook Retina 12-inch Core 8GB RAM 256GB m3 11GHz Rose Gold Flash</td>\n",
       "      <td>1449.00</td>\n",
       "      <td>13.555.848</td>\n",
       "      <td>0</td>\n",
       "      <td>1282</td>\n",
       "      <td>NaN</td>\n",
       "    </tr>\n",
       "    <tr>\n",
       "      <th>5945</th>\n",
       "      <td>APP1892</td>\n",
       "      <td>Apple MacBook Pro 15 \"Core i7 Touch Bar 26GHz | RAM 16GB | 512GB PCIe SSD | Radeon Pro 450 2GB S...</td>\n",
       "      <td>Apple MacBook Pro 15-inch Core i7 Touch Bar 26GHz | 16GB RAM | 512GB PCIe SSD | Radeon Pro 450 2...</td>\n",
       "      <td>2939.00</td>\n",
       "      <td>27.985.848</td>\n",
       "      <td>0</td>\n",
       "      <td>2158</td>\n",
       "      <td>NaN</td>\n",
       "    </tr>\n",
       "    <tr>\n",
       "      <th>5946</th>\n",
       "      <td>APP1893</td>\n",
       "      <td>Apple MacBook Pro 15 \"Core i7 Touch Bar 26GHz | RAM 16GB | 512GB PCIe SSD | Radeon Pro 460 4GB S...</td>\n",
       "      <td>Apple MacBook Pro 15-inch Core i7 Touch Bar 26GHz | 16GB RAM | 512GB PCIe SSD | Radeon Pro 450 2...</td>\n",
       "      <td>3179.00</td>\n",
       "      <td>30.265.851</td>\n",
       "      <td>0</td>\n",
       "      <td>2158</td>\n",
       "      <td>NaN</td>\n",
       "    </tr>\n",
       "    <tr>\n",
       "      <th>5947</th>\n",
       "      <td>APP1894</td>\n",
       "      <td>Apple MacBook Pro 15 \"Core i7 Touch Bar 26GHz | 16GB RAM | 1TB PCIe SSD | Radeon Pro 450 2GB Silver</td>\n",
       "      <td>Apple MacBook Pro 15-inch Core i7 Touch Bar 26GHz | 16GB RAM | 1TB PCIe SSD | Radeon Pro 450 2GB...</td>\n",
       "      <td>3419.00</td>\n",
       "      <td>32.545.842</td>\n",
       "      <td>0</td>\n",
       "      <td>2158</td>\n",
       "      <td>NaN</td>\n",
       "    </tr>\n",
       "    <tr>\n",
       "      <th>5948</th>\n",
       "      <td>APP1895</td>\n",
       "      <td>Apple MacBook Pro 15 \"Core i7 Touch Bar 26GHz | 16GB RAM | 1TB PCIe SSD | Radeon Pro 460 4GB Silver</td>\n",
       "      <td>Apple MacBook Pro 15-inch Core i7 Touch Bar 26GHz | 16GB RAM | 1TB PCIe SSD | Radeon Pro 460 4GB...</td>\n",
       "      <td>3659.00</td>\n",
       "      <td>34.825.845</td>\n",
       "      <td>0</td>\n",
       "      <td>2158</td>\n",
       "      <td>NaN</td>\n",
       "    </tr>\n",
       "    <tr>\n",
       "      <th>5949</th>\n",
       "      <td>APP1896</td>\n",
       "      <td>Apple MacBook Pro 15 \"Core i7 Touch Bar 26GHz | 16GB RAM | 2TB PCIe SSD | Radeon Pro 450 2GB Silver</td>\n",
       "      <td>Apple MacBook Pro 15-inch Core i7 Touch Bar 26GHz | 16GB RAM | 2TB PCIe SSD | Radeon Pro 450 2GB...</td>\n",
       "      <td>4379.00</td>\n",
       "      <td>41.665.842</td>\n",
       "      <td>0</td>\n",
       "      <td>2158</td>\n",
       "      <td>NaN</td>\n",
       "    </tr>\n",
       "    <tr>\n",
       "      <th>5950</th>\n",
       "      <td>APP1897</td>\n",
       "      <td>Apple MacBook Pro 15 \"Core i7 Touch Bar 26GHz | 16GB RAM | 2TB PCIe SSD | Radeon Pro 460 4GB Silver</td>\n",
       "      <td>Apple MacBook Pro 15-inch Core i7 Touch Bar 26GHz | 16GB RAM | 2TB PCIe SSD | Radeon Pro 450 2GB...</td>\n",
       "      <td>4619.00</td>\n",
       "      <td>43.945.845</td>\n",
       "      <td>0</td>\n",
       "      <td>2158</td>\n",
       "      <td>NaN</td>\n",
       "    </tr>\n",
       "    <tr>\n",
       "      <th>8357</th>\n",
       "      <td>PAC1234-A</td>\n",
       "      <td>Open - Apple MacBook Pro 133 \"i5 25GHz | RAM 16GB | 525GB SSD</td>\n",
       "      <td>Apple MacBook Pro 133 inches (MD101Y / A) with extended RAM and SSD</td>\n",
       "      <td>1899.00</td>\n",
       "      <td>15.755.945</td>\n",
       "      <td>0</td>\n",
       "      <td>1298</td>\n",
       "      <td>NaN</td>\n",
       "    </tr>\n",
       "    <tr>\n",
       "      <th>9509</th>\n",
       "      <td>AP20298</td>\n",
       "      <td>Like new - Apple MacBook Pro 15 \"Core i7 Touch Bar 26GHz | 16GB RAM | 2TB PCIe SSD | 450 2GB Rad...</td>\n",
       "      <td>Apple MacBook Pro 15 inch Touch Bar refitted with Core i7 26GHz | 16GB RAM | 256GB PCIe SSD and ...</td>\n",
       "      <td>2699.00</td>\n",
       "      <td>21.555.944</td>\n",
       "      <td>0</td>\n",
       "      <td>1282</td>\n",
       "      <td>NaN</td>\n",
       "    </tr>\n",
       "    <tr>\n",
       "      <th>10452</th>\n",
       "      <td>AP20462</td>\n",
       "      <td>Apple MacBook Pro 13 \"with Touch Bar GHz Core i5 29 | 8GB RAM | 256GB PCIe SSD Space Gray | Cert...</td>\n",
       "      <td>Apple MacBook Pro reconditioned by 13-inch Core i5 Touch Bar to 29GHz with 8GB of RAM and 256GB ...</td>\n",
       "      <td>1999.00</td>\n",
       "      <td>16.490.001</td>\n",
       "      <td>1</td>\n",
       "      <td>1,02E+12</td>\n",
       "      <td>NaN</td>\n",
       "    </tr>\n",
       "  </tbody>\n",
       "</table>\n",
       "</div>"
      ],
      "text/plain": [
       "             sku  \\\n",
       "101      PAC0508   \n",
       "102      PAC0507   \n",
       "103      PAC0515   \n",
       "104      PAC0510   \n",
       "105      PAC0185   \n",
       "106      PAC0186   \n",
       "107      PAC0174   \n",
       "108      PAC0178   \n",
       "109      APP0574   \n",
       "110      PAC0318   \n",
       "111      PAC0390   \n",
       "112      PAC0449   \n",
       "113      PAC0509   \n",
       "114      PAC1181   \n",
       "115      PAC1182   \n",
       "116      PAC1240   \n",
       "117      PAC1241   \n",
       "118      PAC0183   \n",
       "119      PAC0184   \n",
       "3612   APP0568-A   \n",
       "4419     APP1612   \n",
       "4429     APP1616   \n",
       "4468     APP1576   \n",
       "5945     APP1892   \n",
       "5946     APP1893   \n",
       "5947     APP1894   \n",
       "5948     APP1895   \n",
       "5949     APP1896   \n",
       "5950     APP1897   \n",
       "8357   PAC1234-A   \n",
       "9509     AP20298   \n",
       "10452    AP20462   \n",
       "\n",
       "                                                                                                      name  \\\n",
       "101                                                 Apple MacBook Pro 133 '' 25GHz | 16GB RAM | 1TB Fusion   \n",
       "102                                               Apple MacBook Pro 133 '' 25Ghz | 16GB RAM | Fusion 740GB   \n",
       "103                                     Apple MacBook Pro 133 \"i7 29GHz | RAM 16GB | 500GB HDD | SSD 240GB   \n",
       "104                                              Apple MacBook Pro 133 \"i7 29GHz | RAM 16GB | 740GB Fusion   \n",
       "105                                                 Apple MacBook Pro 133 \"i5 25GHz | RAM 16GB | 275GB SSD   \n",
       "106                                        Apple MacBook Pro 133 \"25GHz | RAM 16GB | 500GB HDD | SSD 500GB   \n",
       "107                                                Apple MacBook Pro 133 '' 25GHz | 8GB RAM | Fusion 628GB   \n",
       "108                                               Apple MacBook Pro 133 '' 25GHz | 16GB RAM | Fusion 628GB   \n",
       "109                                                Apple MacBook Pro 133 '' i7 29GHz | 4GB RAM | 500GB HDD   \n",
       "110                                                 Apple MacBook Pro 133 \"i7 29GHz | RAM 16GB | 500GB HDD   \n",
       "111                                                Apple MacBook Pro 133 '' i7 29GHz | 8GB RAM | 500GB HDD   \n",
       "112                                     Apple MacBook Pro 133 \"i7 29GHz | RAM 16GB | 500GB HDD | SSD 500GB   \n",
       "113                                              Apple MacBook Pro 133 '' i7 29GHz | 16GB RAM | 1TB Fusion   \n",
       "114                                                   Apple MacBook Pro 133 \"i5 25GHz | 16GB RAM | 1TB SSD   \n",
       "115                                                   Apple MacBook Pro 133 \"i7 29GHz | 16GB RAM | 1TB SSD   \n",
       "116                                                 Apple MacBook Pro 133 \"i5 25GHz | RAM 16GB | 525GB SSD   \n",
       "117                                                 Apple MacBook Pro 133 \"i7 29GHz | RAM 16GB | 500GB SSD   \n",
       "118                                                     Apple MacBook Pro 133 \"25GHz | 8GB RAM | 500GB HDD   \n",
       "119                                                    Apple MacBook Pro 133 \"25GHz | RAM 16GB | 500GB HDD   \n",
       "3612                                          (Open) Apple MacBook Pro 133 \"i7 29GHz | 4GB RAM | 500GB HDD   \n",
       "4419                              Apple MacBook Retina 12 \"Core M7 13GHz | 8GB RAM | 256GB Rose Gold Flash   \n",
       "4429                              Apple MacBook Retina 12 \"Core M7 13GHz | 8GB RAM | 512GB Rose Gold Flash   \n",
       "4468                              Apple MacBook Retina 12 \"Core m3 11GHz | 8GB RAM | 256GB Rose Gold Flash   \n",
       "5945   Apple MacBook Pro 15 \"Core i7 Touch Bar 26GHz | RAM 16GB | 512GB PCIe SSD | Radeon Pro 450 2GB S...   \n",
       "5946   Apple MacBook Pro 15 \"Core i7 Touch Bar 26GHz | RAM 16GB | 512GB PCIe SSD | Radeon Pro 460 4GB S...   \n",
       "5947   Apple MacBook Pro 15 \"Core i7 Touch Bar 26GHz | 16GB RAM | 1TB PCIe SSD | Radeon Pro 450 2GB Silver   \n",
       "5948   Apple MacBook Pro 15 \"Core i7 Touch Bar 26GHz | 16GB RAM | 1TB PCIe SSD | Radeon Pro 460 4GB Silver   \n",
       "5949   Apple MacBook Pro 15 \"Core i7 Touch Bar 26GHz | 16GB RAM | 2TB PCIe SSD | Radeon Pro 450 2GB Silver   \n",
       "5950   Apple MacBook Pro 15 \"Core i7 Touch Bar 26GHz | 16GB RAM | 2TB PCIe SSD | Radeon Pro 460 4GB Silver   \n",
       "8357                                         Open - Apple MacBook Pro 133 \"i5 25GHz | RAM 16GB | 525GB SSD   \n",
       "9509   Like new - Apple MacBook Pro 15 \"Core i7 Touch Bar 26GHz | 16GB RAM | 2TB PCIe SSD | 450 2GB Rad...   \n",
       "10452  Apple MacBook Pro 13 \"with Touch Bar GHz Core i5 29 | 8GB RAM | 256GB PCIe SSD Space Gray | Cert...   \n",
       "\n",
       "                                                                                                      desc  \\\n",
       "101                          Apple MacBook Pro Fusion Drive 16GB 2 internal and external SuperDrive disks.   \n",
       "102                          Apple MacBook Pro Fusion Drive 16GB 2 internal and external SuperDrive disks.   \n",
       "103                             Apple MacBook Pro 133 inches (MD101Y / A) and SSD Processor RAM expansion.   \n",
       "104                          Apple MacBook Pro Fusion Drive 16GB 2 internal and external SuperDrive disks.   \n",
       "105                                              Apple MacBook Pro 133 inches (MD101Y / A) with 275GB SSD.   \n",
       "106             Apple MacBook Pro 133 inches (MD101Y / A) with two internal and external disks SuperDrive.   \n",
       "107                        Apple MacBook Pro Fusion Drive 8GB internal and two external drives SuperDrive.   \n",
       "108                          Apple MacBook Pro Fusion Drive 16GB 2 internal and external SuperDrive disks.   \n",
       "109                                    Apple MacBook Pro 133 inches (MD101Y / A) with extension Processor.   \n",
       "110                            Apple MacBook Pro 133 inches (MD101Y / A) with processor and RAM expansion.   \n",
       "111                            Apple MacBook Pro 133 inches (MD101Y / A) with processor and RAM expansion.   \n",
       "112                             Apple MacBook Pro 133 inches (MD101Y / A) and SSD Processor RAM expansion.   \n",
       "113    Apple MacBook Pro 133 inches (MD101Y / A) Drive Fusion 16GB two internal and external SuperDrive...   \n",
       "114                                   Apple MacBook Pro 133 inches (MD101Y / A) with extended RAM and SSD.   \n",
       "115                        Apple MacBook Pro 133 inches (MD101Y / A) with processor and RAM expansion SSD.   \n",
       "116                                   Apple MacBook Pro 133 inches (MD101Y / A) with extended RAM and SSD.   \n",
       "117                                   Apple MacBook Pro 133 inches (MD101Y / A) with extended RAM and SSD.   \n",
       "118                                        Apple MacBook Pro 133 inches (MD101Y / A) with extended memory.   \n",
       "119                                        Apple MacBook Pro 133 inches (MD101Y / A) with extended memory.   \n",
       "3612                                   Apple MacBook Pro 133 inches (MD101Y / A) with extension Processor.   \n",
       "4419                              Apple MacBook Retina 12-inch Core 8GB RAM 256GB M7 13GHz Rose Gold Flash   \n",
       "4429                              Apple MacBook Retina 12-inch Core 8GB RAM 512GB M7 13GHz Rose Gold Flash   \n",
       "4468                              Apple MacBook Retina 12-inch Core 8GB RAM 256GB m3 11GHz Rose Gold Flash   \n",
       "5945   Apple MacBook Pro 15-inch Core i7 Touch Bar 26GHz | 16GB RAM | 512GB PCIe SSD | Radeon Pro 450 2...   \n",
       "5946   Apple MacBook Pro 15-inch Core i7 Touch Bar 26GHz | 16GB RAM | 512GB PCIe SSD | Radeon Pro 450 2...   \n",
       "5947   Apple MacBook Pro 15-inch Core i7 Touch Bar 26GHz | 16GB RAM | 1TB PCIe SSD | Radeon Pro 450 2GB...   \n",
       "5948   Apple MacBook Pro 15-inch Core i7 Touch Bar 26GHz | 16GB RAM | 1TB PCIe SSD | Radeon Pro 460 4GB...   \n",
       "5949   Apple MacBook Pro 15-inch Core i7 Touch Bar 26GHz | 16GB RAM | 2TB PCIe SSD | Radeon Pro 450 2GB...   \n",
       "5950   Apple MacBook Pro 15-inch Core i7 Touch Bar 26GHz | 16GB RAM | 2TB PCIe SSD | Radeon Pro 450 2GB...   \n",
       "8357                                   Apple MacBook Pro 133 inches (MD101Y / A) with extended RAM and SSD   \n",
       "9509   Apple MacBook Pro 15 inch Touch Bar refitted with Core i7 26GHz | 16GB RAM | 256GB PCIe SSD and ...   \n",
       "10452  Apple MacBook Pro reconditioned by 13-inch Core i5 Touch Bar to 29GHz with 8GB of RAM and 256GB ...   \n",
       "\n",
       "         price promo_price  in_stock      type  max_price_orderlines  \n",
       "101    1919.00  16.999.895         0      1282                   NaN  \n",
       "102    1639.00  15.989.896         0      1282                   NaN  \n",
       "103    2039.00  20.379.897         0      1282                   NaN  \n",
       "104    2039.00  20.379.897         0      1282                   NaN  \n",
       "105    1639.00        1469         0      1282                   NaN  \n",
       "106    1919.00  16.999.895         0      1282                   NaN  \n",
       "107    1613.99  15.389.905         0      1282                   NaN  \n",
       "108    1733.99  15.699.895         0      1282                   NaN  \n",
       "109    1379.00  13.855.843         0      1282                   NaN  \n",
       "110    1619.00  16.189.897         0      1282                   NaN  \n",
       "111    1499.00  14.979.897         0      1282                   NaN  \n",
       "112    2399.00  23.989.896         0      1282                   NaN  \n",
       "113    2399.00  23.989.896         0      1282                   NaN  \n",
       "114    2159.00        1769         0      1282                   NaN  \n",
       "115    2579.00  25.790.001         0      1282                   NaN  \n",
       "116    1899.00  15.755.945         0      1282                   NaN  \n",
       "117    2399.00  23.989.896         0      1282                   NaN  \n",
       "118    1319.00     1279.99         0      1282                   NaN  \n",
       "119    1439.00  13.989.899         0      1282                   NaN  \n",
       "3612   1379.00  12.496.311         0      1298                   NaN  \n",
       "4419   1749.00  16.675.845         0      1282                   NaN  \n",
       "4429   1979.00  18.865.848         0      1282                   NaN  \n",
       "4468   1449.00  13.555.848         0      1282                   NaN  \n",
       "5945   2939.00  27.985.848         0      2158                   NaN  \n",
       "5946   3179.00  30.265.851         0      2158                   NaN  \n",
       "5947   3419.00  32.545.842         0      2158                   NaN  \n",
       "5948   3659.00  34.825.845         0      2158                   NaN  \n",
       "5949   4379.00  41.665.842         0      2158                   NaN  \n",
       "5950   4619.00  43.945.845         0      2158                   NaN  \n",
       "8357   1899.00  15.755.945         0      1298                   NaN  \n",
       "9509   2699.00  21.555.944         0      1282                   NaN  \n",
       "10452  1999.00  16.490.001         1  1,02E+12                   NaN  "
      ]
     },
     "execution_count": 144,
     "metadata": {},
     "output_type": "execute_result"
    }
   ],
   "source": [
    "#products[products['desc'].str.contains('^Apple MacBook *') == True]\n",
    "\n",
    "products[products['desc'].str.contains('^Apple MacBook ') == True]"
   ]
  },
  {
   "cell_type": "code",
   "execution_count": null,
   "id": "4eda7fe4-3006-4dbb-9bcb-f47eb461f3e9",
   "metadata": {},
   "outputs": [],
   "source": []
  }
 ],
 "metadata": {
  "kernelspec": {
   "display_name": "Python 3 (ipykernel)",
   "language": "python",
   "name": "python3"
  },
  "language_info": {
   "codemirror_mode": {
    "name": "ipython",
    "version": 3
   },
   "file_extension": ".py",
   "mimetype": "text/x-python",
   "name": "python",
   "nbconvert_exporter": "python",
   "pygments_lexer": "ipython3",
   "version": "3.9.5"
  }
 },
 "nbformat": 4,
 "nbformat_minor": 5
}
