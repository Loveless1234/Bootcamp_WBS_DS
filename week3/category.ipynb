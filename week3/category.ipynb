{
 "cells": [
  {
   "cell_type": "code",
   "execution_count": 233,
   "id": "448dd4a7-de10-473b-ab85-a828f10a9590",
   "metadata": {},
   "outputs": [],
   "source": [
    "import pandas as pd\n",
    "import numpy as np\n",
    "\n",
    "import matplotlib.pyplot as plt\n",
    "import seaborn as sns\n",
    "\n",
    "# do not display the number with scientific notation\n",
    "pd.options.display.float_format = '{:.2f}'.format\n",
    "\n",
    "pd.set_option('display.max_rows', 1000)\n",
    "pd.set_option(\"display.max_colwidth\", 100)"
   ]
  },
  {
   "cell_type": "code",
   "execution_count": 234,
   "id": "dbefd7c6-5310-488b-9f2a-95e8fe868acf",
   "metadata": {},
   "outputs": [],
   "source": [
    "\n",
    "path = 'data/clean/'\n",
    "sales = pd.read_csv(path + 'sales_info_clean.csv',parse_dates= ['date'])"
   ]
  },
  {
   "cell_type": "code",
   "execution_count": 266,
   "id": "d2045f80-9d51-485a-9dfb-e2f1a2af591c",
   "metadata": {},
   "outputs": [
    {
     "data": {
      "text/html": [
       "<div>\n",
       "<style scoped>\n",
       "    .dataframe tbody tr th:only-of-type {\n",
       "        vertical-align: middle;\n",
       "    }\n",
       "\n",
       "    .dataframe tbody tr th {\n",
       "        vertical-align: top;\n",
       "    }\n",
       "\n",
       "    .dataframe thead th {\n",
       "        text-align: right;\n",
       "    }\n",
       "</style>\n",
       "<table border=\"1\" class=\"dataframe\">\n",
       "  <thead>\n",
       "    <tr style=\"text-align: right;\">\n",
       "      <th></th>\n",
       "      <th>id</th>\n",
       "      <th>order_id</th>\n",
       "      <th>product_quantity</th>\n",
       "      <th>sku</th>\n",
       "      <th>sale_price</th>\n",
       "      <th>date</th>\n",
       "      <th>name</th>\n",
       "      <th>desc</th>\n",
       "      <th>price</th>\n",
       "      <th>promo_price</th>\n",
       "      <th>discount</th>\n",
       "      <th>discount_pc</th>\n",
       "      <th>sales_discount</th>\n",
       "      <th>sales_discount_pc</th>\n",
       "      <th>brand</th>\n",
       "      <th>total_paid</th>\n",
       "      <th>state</th>\n",
       "      <th>category</th>\n",
       "    </tr>\n",
       "  </thead>\n",
       "  <tbody>\n",
       "    <tr>\n",
       "      <th>0</th>\n",
       "      <td>1119109</td>\n",
       "      <td>299539</td>\n",
       "      <td>1</td>\n",
       "      <td>OTT0133</td>\n",
       "      <td>18.99</td>\n",
       "      <td>2017-01-01 00:07:19</td>\n",
       "      <td>Otterbox iPhone Case Symmetry 2.0 SE / 5s / 5 Black</td>\n",
       "      <td>resistant cover and thin beveled edges for iPhone SE / 5s / 5</td>\n",
       "      <td>34.99</td>\n",
       "      <td>19.99</td>\n",
       "      <td>15.00</td>\n",
       "      <td>42.87</td>\n",
       "      <td>16.00</td>\n",
       "      <td>45.73</td>\n",
       "      <td>Otterbox</td>\n",
       "      <td>18.99</td>\n",
       "      <td>Shopping Basket</td>\n",
       "      <td>iphone</td>\n",
       "    </tr>\n",
       "  </tbody>\n",
       "</table>\n",
       "</div>"
      ],
      "text/plain": [
       "        id  order_id  product_quantity      sku  sale_price  \\\n",
       "0  1119109    299539                 1  OTT0133       18.99   \n",
       "\n",
       "                 date                                                 name  \\\n",
       "0 2017-01-01 00:07:19  Otterbox iPhone Case Symmetry 2.0 SE / 5s / 5 Black   \n",
       "\n",
       "                                                            desc  price  \\\n",
       "0  resistant cover and thin beveled edges for iPhone SE / 5s / 5  34.99   \n",
       "\n",
       "   promo_price  discount  discount_pc  sales_discount  sales_discount_pc  \\\n",
       "0        19.99     15.00        42.87           16.00              45.73   \n",
       "\n",
       "      brand  total_paid            state category  \n",
       "0  Otterbox       18.99  Shopping Basket   iphone  "
      ]
     },
     "execution_count": 266,
     "metadata": {},
     "output_type": "execute_result"
    }
   ],
   "source": [
    "sales.head(1)"
   ]
  },
  {
   "cell_type": "markdown",
   "id": "8411ded7-3804-41cd-835c-b653ca18e64e",
   "metadata": {},
   "source": [
    "## Top 10 category"
   ]
  },
  {
   "cell_type": "code",
   "execution_count": 275,
   "id": "70106aeb-0563-49c8-9cf3-835c1a578b2f",
   "metadata": {},
   "outputs": [
    {
     "data": {
      "text/html": [
       "<div>\n",
       "<style scoped>\n",
       "    .dataframe tbody tr th:only-of-type {\n",
       "        vertical-align: middle;\n",
       "    }\n",
       "\n",
       "    .dataframe tbody tr th {\n",
       "        vertical-align: top;\n",
       "    }\n",
       "\n",
       "    .dataframe thead th {\n",
       "        text-align: right;\n",
       "    }\n",
       "</style>\n",
       "<table border=\"1\" class=\"dataframe\">\n",
       "  <thead>\n",
       "    <tr style=\"text-align: right;\">\n",
       "      <th></th>\n",
       "      <th>category</th>\n",
       "      <th>total_sum</th>\n",
       "    </tr>\n",
       "  </thead>\n",
       "  <tbody>\n",
       "    <tr>\n",
       "      <th>0</th>\n",
       "      <td>macbook</td>\n",
       "      <td>5897004.23</td>\n",
       "    </tr>\n",
       "    <tr>\n",
       "      <th>1</th>\n",
       "      <td>iphone</td>\n",
       "      <td>4959628.42</td>\n",
       "    </tr>\n",
       "    <tr>\n",
       "      <th>2</th>\n",
       "      <td>RAM</td>\n",
       "      <td>3876158.34</td>\n",
       "    </tr>\n",
       "    <tr>\n",
       "      <th>3</th>\n",
       "      <td>memory</td>\n",
       "      <td>2375936.25</td>\n",
       "    </tr>\n",
       "    <tr>\n",
       "      <th>4</th>\n",
       "      <td>cable</td>\n",
       "      <td>1435161.56</td>\n",
       "    </tr>\n",
       "    <tr>\n",
       "      <th>5</th>\n",
       "      <td>display</td>\n",
       "      <td>770803.28</td>\n",
       "    </tr>\n",
       "    <tr>\n",
       "      <th>6</th>\n",
       "      <td>case</td>\n",
       "      <td>706817.65</td>\n",
       "    </tr>\n",
       "    <tr>\n",
       "      <th>7</th>\n",
       "      <td>NAS</td>\n",
       "      <td>660442.23</td>\n",
       "    </tr>\n",
       "    <tr>\n",
       "      <th>8</th>\n",
       "      <td>tablet</td>\n",
       "      <td>631502.71</td>\n",
       "    </tr>\n",
       "    <tr>\n",
       "      <th>9</th>\n",
       "      <td>stylus</td>\n",
       "      <td>533110.94</td>\n",
       "    </tr>\n",
       "  </tbody>\n",
       "</table>\n",
       "</div>"
      ],
      "text/plain": [
       "  category  total_sum\n",
       "0  macbook 5897004.23\n",
       "1   iphone 4959628.42\n",
       "2      RAM 3876158.34\n",
       "3   memory 2375936.25\n",
       "4    cable 1435161.56\n",
       "5  display  770803.28\n",
       "6     case  706817.65\n",
       "7      NAS  660442.23\n",
       "8   tablet  631502.71\n",
       "9   stylus  533110.94"
      ]
     },
     "execution_count": 275,
     "metadata": {},
     "output_type": "execute_result"
    }
   ],
   "source": [
    "(\n",
    "sales\n",
    "    .query('state == \"Completed\"')\n",
    "    .groupby('category')\n",
    "    .agg(total_sum = ('total_paid','sum'))\n",
    "    .sort_values(by='total_sum', ascending=False)\n",
    "    .head(10)\n",
    "    .reset_index()\n",
    ")"
   ]
  },
  {
   "cell_type": "markdown",
   "id": "b9822d19-d738-4d5c-b4d9-396d18fcdd49",
   "metadata": {},
   "source": [
    "## Company revenue by year and month"
   ]
  },
  {
   "cell_type": "code",
   "execution_count": 236,
   "id": "67013640-b7dc-46dd-a4ae-563202803d65",
   "metadata": {},
   "outputs": [
    {
     "data": {
      "text/html": [
       "<div>\n",
       "<style scoped>\n",
       "    .dataframe tbody tr th:only-of-type {\n",
       "        vertical-align: middle;\n",
       "    }\n",
       "\n",
       "    .dataframe tbody tr th {\n",
       "        vertical-align: top;\n",
       "    }\n",
       "\n",
       "    .dataframe thead th {\n",
       "        text-align: right;\n",
       "    }\n",
       "</style>\n",
       "<table border=\"1\" class=\"dataframe\">\n",
       "  <thead>\n",
       "    <tr style=\"text-align: right;\">\n",
       "      <th></th>\n",
       "      <th>year</th>\n",
       "      <th>month</th>\n",
       "      <th>total_paid</th>\n",
       "    </tr>\n",
       "  </thead>\n",
       "  <tbody>\n",
       "    <tr>\n",
       "      <th>9</th>\n",
       "      <td>2017</td>\n",
       "      <td>Nov</td>\n",
       "      <td>4815256.71</td>\n",
       "    </tr>\n",
       "    <tr>\n",
       "      <th>13</th>\n",
       "      <td>2018</td>\n",
       "      <td>Jan</td>\n",
       "      <td>3034628.42</td>\n",
       "    </tr>\n",
       "    <tr>\n",
       "      <th>2</th>\n",
       "      <td>2017</td>\n",
       "      <td>Dec</td>\n",
       "      <td>2815128.78</td>\n",
       "    </tr>\n",
       "    <tr>\n",
       "      <th>4</th>\n",
       "      <td>2017</td>\n",
       "      <td>Jan</td>\n",
       "      <td>1814077.39</td>\n",
       "    </tr>\n",
       "    <tr>\n",
       "      <th>5</th>\n",
       "      <td>2017</td>\n",
       "      <td>Jul</td>\n",
       "      <td>1742753.02</td>\n",
       "    </tr>\n",
       "    <tr>\n",
       "      <th>10</th>\n",
       "      <td>2017</td>\n",
       "      <td>Oct</td>\n",
       "      <td>1692699.54</td>\n",
       "    </tr>\n",
       "    <tr>\n",
       "      <th>12</th>\n",
       "      <td>2018</td>\n",
       "      <td>Feb</td>\n",
       "      <td>1661856.84</td>\n",
       "    </tr>\n",
       "    <tr>\n",
       "      <th>11</th>\n",
       "      <td>2017</td>\n",
       "      <td>Sep</td>\n",
       "      <td>1341251.40</td>\n",
       "    </tr>\n",
       "    <tr>\n",
       "      <th>1</th>\n",
       "      <td>2017</td>\n",
       "      <td>Aug</td>\n",
       "      <td>1123921.47</td>\n",
       "    </tr>\n",
       "    <tr>\n",
       "      <th>6</th>\n",
       "      <td>2017</td>\n",
       "      <td>Jun</td>\n",
       "      <td>1090259.27</td>\n",
       "    </tr>\n",
       "    <tr>\n",
       "      <th>8</th>\n",
       "      <td>2017</td>\n",
       "      <td>May</td>\n",
       "      <td>1019821.83</td>\n",
       "    </tr>\n",
       "    <tr>\n",
       "      <th>3</th>\n",
       "      <td>2017</td>\n",
       "      <td>Feb</td>\n",
       "      <td>911803.28</td>\n",
       "    </tr>\n",
       "    <tr>\n",
       "      <th>0</th>\n",
       "      <td>2017</td>\n",
       "      <td>Apr</td>\n",
       "      <td>835113.58</td>\n",
       "    </tr>\n",
       "    <tr>\n",
       "      <th>14</th>\n",
       "      <td>2018</td>\n",
       "      <td>Mar</td>\n",
       "      <td>775489.35</td>\n",
       "    </tr>\n",
       "    <tr>\n",
       "      <th>7</th>\n",
       "      <td>2017</td>\n",
       "      <td>Mar</td>\n",
       "      <td>228642.82</td>\n",
       "    </tr>\n",
       "  </tbody>\n",
       "</table>\n",
       "</div>"
      ],
      "text/plain": [
       "    year month  total_paid\n",
       "9   2017   Nov  4815256.71\n",
       "13  2018   Jan  3034628.42\n",
       "2   2017   Dec  2815128.78\n",
       "4   2017   Jan  1814077.39\n",
       "5   2017   Jul  1742753.02\n",
       "10  2017   Oct  1692699.54\n",
       "12  2018   Feb  1661856.84\n",
       "11  2017   Sep  1341251.40\n",
       "1   2017   Aug  1123921.47\n",
       "6   2017   Jun  1090259.27\n",
       "8   2017   May  1019821.83\n",
       "3   2017   Feb   911803.28\n",
       "0   2017   Apr   835113.58\n",
       "14  2018   Mar   775489.35\n",
       "7   2017   Mar   228642.82"
      ]
     },
     "execution_count": 236,
     "metadata": {},
     "output_type": "execute_result"
    }
   ],
   "source": [
    "p_df = (\n",
    "sales\n",
    "    .query('state == \"Completed\"')\n",
    "    # create two new columns in our dataframe; year and month\n",
    "    .assign(year = sales['date'].dt.strftime('%Y'), \n",
    "           month = sales['date'].dt.strftime('%b'))\n",
    "    # get the total paid by each year and month\n",
    "    .groupby(['year','month'])\n",
    "    .agg({'total_paid':'sum'})\n",
    "    .reset_index()\n",
    "    .sort_values(by=['total_paid'], ascending=False)\n",
    "     #reset the index to user the column vector in our plot\n",
    "  \n",
    "    \n",
    ")\n",
    "\n",
    "p_df"
   ]
  },
  {
   "cell_type": "code",
   "execution_count": 237,
   "id": "55d63063-a355-490c-9f37-2c21caa42ac5",
   "metadata": {},
   "outputs": [
    {
     "data": {
      "image/png": "[encoded data removed]",
      "text/plain": [
       "<Figure size 864x576 with 1 Axes>"
      ]
     },
     "metadata": {
      "needs_background": "light"
     },
     "output_type": "display_data"
    }
   ],
   "source": [
    "# Create a list with the months sorted from January to December\n",
    "# It is going to help us sort our columns appropriately\n",
    "months = ['Jan', 'Feb', 'Mar', 'Apr', 'May', 'Jun', \n",
    "          'Jul', 'Aug', 'Sep', 'Oct', 'Nov', 'Dec']\n",
    "\n",
    "# define de size of the plot: 12 with be the width, and 8 the height\n",
    "plt.subplots(figsize=(12, 8))\n",
    "\n",
    "\n",
    "p = sns.barplot(\n",
    "    data=p_df, # dataframe we will use to look for the columns information\n",
    "    x='month', # x values on our chart\n",
    "    y='total_paid', # y values on our chart\n",
    "    hue='year', # group color in our chart\n",
    "    order=months # order x columns\n",
    ")\n",
    "# add a horizontal reference line into the chart to know where the mean value will be\n",
    "p.axhline(\n",
    "    p_df['total_paid'].mean(), # value where you want to add your reference line\n",
    "    linestyle='--', # type of line you would like to see on the plot. You can find more informaiton on its documentation\n",
    "    color='gray'\n",
    ")\n",
    "\n",
    "plt.xlabel('Month') # x label name\n",
    "plt.ylabel('Total paid') # y label name\n",
    "plt.title('Total paid evolution through 2017 and 2018') # title\n",
    "plt.ticklabel_format(style='plain', axis='y') # remove scientific notation for the y axis\n",
    "plt.show() # show the plot"
   ]
  },
  {
   "cell_type": "markdown",
   "id": "4d3ffd5c-5516-427e-8433-fde70736534b",
   "metadata": {},
   "source": [
    "## Average sales Discount per year-month"
   ]
  },
  {
   "cell_type": "code",
   "execution_count": 238,
   "id": "2e6d6a8d-8ad1-4386-beaf-068512ad805e",
   "metadata": {},
   "outputs": [
    {
     "data": {
      "text/html": [
       "<div>\n",
       "<style scoped>\n",
       "    .dataframe tbody tr th:only-of-type {\n",
       "        vertical-align: middle;\n",
       "    }\n",
       "\n",
       "    .dataframe tbody tr th {\n",
       "        vertical-align: top;\n",
       "    }\n",
       "\n",
       "    .dataframe thead th {\n",
       "        text-align: right;\n",
       "    }\n",
       "</style>\n",
       "<table border=\"1\" class=\"dataframe\">\n",
       "  <thead>\n",
       "    <tr style=\"text-align: right;\">\n",
       "      <th></th>\n",
       "      <th>year_month</th>\n",
       "      <th>discount_pc</th>\n",
       "      <th>discount</th>\n",
       "      <th>sales_discount_pc</th>\n",
       "    </tr>\n",
       "  </thead>\n",
       "  <tbody>\n",
       "    <tr>\n",
       "      <th>0</th>\n",
       "      <td>2017-01</td>\n",
       "      <td>22.20</td>\n",
       "      <td>43.28</td>\n",
       "      <td>16.80</td>\n",
       "    </tr>\n",
       "    <tr>\n",
       "      <th>1</th>\n",
       "      <td>2017-02</td>\n",
       "      <td>19.10</td>\n",
       "      <td>43.59</td>\n",
       "      <td>10.93</td>\n",
       "    </tr>\n",
       "    <tr>\n",
       "      <th>2</th>\n",
       "      <td>2017-03</td>\n",
       "      <td>17.86</td>\n",
       "      <td>50.44</td>\n",
       "      <td>4.65</td>\n",
       "    </tr>\n",
       "    <tr>\n",
       "      <th>3</th>\n",
       "      <td>2017-04</td>\n",
       "      <td>18.87</td>\n",
       "      <td>50.41</td>\n",
       "      <td>12.88</td>\n",
       "    </tr>\n",
       "    <tr>\n",
       "      <th>4</th>\n",
       "      <td>2017-05</td>\n",
       "      <td>19.09</td>\n",
       "      <td>56.65</td>\n",
       "      <td>11.90</td>\n",
       "    </tr>\n",
       "    <tr>\n",
       "      <th>5</th>\n",
       "      <td>2017-06</td>\n",
       "      <td>18.22</td>\n",
       "      <td>61.49</td>\n",
       "      <td>10.17</td>\n",
       "    </tr>\n",
       "    <tr>\n",
       "      <th>6</th>\n",
       "      <td>2017-07</td>\n",
       "      <td>19.39</td>\n",
       "      <td>50.42</td>\n",
       "      <td>17.38</td>\n",
       "    </tr>\n",
       "    <tr>\n",
       "      <th>7</th>\n",
       "      <td>2017-08</td>\n",
       "      <td>18.89</td>\n",
       "      <td>45.77</td>\n",
       "      <td>14.53</td>\n",
       "    </tr>\n",
       "    <tr>\n",
       "      <th>8</th>\n",
       "      <td>2017-09</td>\n",
       "      <td>18.34</td>\n",
       "      <td>57.07</td>\n",
       "      <td>15.21</td>\n",
       "    </tr>\n",
       "    <tr>\n",
       "      <th>9</th>\n",
       "      <td>2017-10</td>\n",
       "      <td>18.37</td>\n",
       "      <td>56.96</td>\n",
       "      <td>15.99</td>\n",
       "    </tr>\n",
       "    <tr>\n",
       "      <th>10</th>\n",
       "      <td>2017-11</td>\n",
       "      <td>14.53</td>\n",
       "      <td>49.95</td>\n",
       "      <td>16.13</td>\n",
       "    </tr>\n",
       "    <tr>\n",
       "      <th>11</th>\n",
       "      <td>2017-12</td>\n",
       "      <td>13.68</td>\n",
       "      <td>49.59</td>\n",
       "      <td>15.00</td>\n",
       "    </tr>\n",
       "    <tr>\n",
       "      <th>12</th>\n",
       "      <td>2018-01</td>\n",
       "      <td>13.97</td>\n",
       "      <td>58.81</td>\n",
       "      <td>17.32</td>\n",
       "    </tr>\n",
       "    <tr>\n",
       "      <th>13</th>\n",
       "      <td>2018-02</td>\n",
       "      <td>15.26</td>\n",
       "      <td>49.47</td>\n",
       "      <td>16.46</td>\n",
       "    </tr>\n",
       "    <tr>\n",
       "      <th>14</th>\n",
       "      <td>2018-03</td>\n",
       "      <td>16.90</td>\n",
       "      <td>45.29</td>\n",
       "      <td>16.86</td>\n",
       "    </tr>\n",
       "  </tbody>\n",
       "</table>\n",
       "</div>"
      ],
      "text/plain": [
       "   year_month  discount_pc  discount  sales_discount_pc\n",
       "0     2017-01        22.20     43.28              16.80\n",
       "1     2017-02        19.10     43.59              10.93\n",
       "2     2017-03        17.86     50.44               4.65\n",
       "3     2017-04        18.87     50.41              12.88\n",
       "4     2017-05        19.09     56.65              11.90\n",
       "5     2017-06        18.22     61.49              10.17\n",
       "6     2017-07        19.39     50.42              17.38\n",
       "7     2017-08        18.89     45.77              14.53\n",
       "8     2017-09        18.34     57.07              15.21\n",
       "9     2017-10        18.37     56.96              15.99\n",
       "10    2017-11        14.53     49.95              16.13\n",
       "11    2017-12        13.68     49.59              15.00\n",
       "12    2018-01        13.97     58.81              17.32\n",
       "13    2018-02        15.26     49.47              16.46\n",
       "14    2018-03        16.90     45.29              16.86"
      ]
     },
     "execution_count": 238,
     "metadata": {},
     "output_type": "execute_result"
    }
   ],
   "source": [
    "\n",
    "p_df = (\n",
    "sales\n",
    "    .assign(\n",
    "        # we can create periods of time, in that case year and mont periods. \n",
    "        # I recommend you look more in deep and the documentaion of `to_period`\n",
    "        year_month = sales['date'].dt.to_period(freq='M')\n",
    "    )\n",
    "    # group by year and month period to find the mean and median value\n",
    "    .groupby('year_month')\n",
    "    .agg({'discount_pc':'mean','discount':'mean','sales_discount_pc':'mean'})\n",
    "    .reset_index()\n",
    "    \n",
    ")\n",
    "p_df"
   ]
  },
  {
   "cell_type": "code",
   "execution_count": 239,
   "id": "aceed646-fb69-40ae-9c2d-c1ebceaddf5b",
   "metadata": {},
   "outputs": [
    {
     "data": {
      "image/png": "[encoded data removed]",
      "text/plain": [
       "<Figure size 720x432 with 1 Axes>"
      ]
     },
     "metadata": {
      "needs_background": "light"
     },
     "output_type": "display_data"
    }
   ],
   "source": [
    "plt.subplots(figsize=(10, 6))\n",
    "\n",
    "plt.plot_date(data=p_df, x='year_month', y='discount_pc', linestyle='--')\n",
    "plt.title('Evolution of discounts (%) overtime')\n",
    "plt.ylabel('Average discount (%)')\n",
    "plt.ylim(0, p_df['discount_pc'].max()*1.2)\n",
    "sns.despine()\n",
    "plt.show()"
   ]
  },
  {
   "cell_type": "code",
   "execution_count": 264,
   "id": "d33c5a8a-755b-41f8-81b7-a5ab752283c2",
   "metadata": {},
   "outputs": [
    {
     "data": {
      "image/png": "[encoded data removed]",
      "text/plain": [
       "<Figure size 720x432 with 1 Axes>"
      ]
     },
     "metadata": {
      "needs_background": "light"
     },
     "output_type": "display_data"
    }
   ],
   "source": [
    "plt.subplots(figsize=(10, 6))\n",
    "\n",
    "plt.plot_date(data=p_df, x='year_month', y='sales_discount_pc', linestyle='--')\n",
    "plt.title('Evolution of discounts (%) overtime')\n",
    "plt.ylabel('Average discount (%)')\n",
    "plt.ylim(0, p_df['discount_pc'].max()*1.2)\n",
    "sns.despine()\n",
    "plt.show()"
   ]
  },
  {
   "cell_type": "code",
   "execution_count": 265,
   "id": "1cf8ca2c-8e5d-44d9-8865-d4954aeb68bd",
   "metadata": {},
   "outputs": [
    {
     "data": {
      "image/png": "[encoded data removed]",
      "text/plain": [
       "<Figure size 720x432 with 1 Axes>"
      ]
     },
     "metadata": {
      "needs_background": "light"
     },
     "output_type": "display_data"
    }
   ],
   "source": [
    "plt.subplots(figsize=(10, 6))\n",
    "\n",
    "plt.plot_date(data=p_df, x='year_month', y='discount', linestyle='--')\n",
    "plt.title('Evolution of discounts amount overtime')\n",
    "plt.ylabel('Average discount amount in Euro')\n",
    "#plt.ylim(0, p_df['discount_pc'].max()*1.2)\n",
    "sns.despine()\n",
    "plt.show()"
   ]
  },
  {
   "cell_type": "code",
   "execution_count": 249,
   "id": "f767882f-dc61-44fc-9ef5-d4ba7d24adf0",
   "metadata": {},
   "outputs": [
    {
     "data": {
      "text/plain": [
       "144256947.38000003"
      ]
     },
     "execution_count": 260,
     "metadata": {},
     "output_type": "execute_result"
    }
   ],
   "source": [
    "sales['price']"
   ]
  },
  {
   "cell_type": "code",
   "execution_count": 251,
   "id": "b90ee7e6-c14b-418f-b028-ba6c51955ad4",
   "metadata": {},
   "outputs": [
    {
     "data": {
      "text/plain": [
       "0.895951753777901"
      ]
     },
     "execution_count": 251,
     "metadata": {},
     "output_type": "execute_result"
    }
   ],
   "source": [
    "129.25 / 144.26"
   ]
  },
  {
   "cell_type": "code",
   "execution_count": 253,
   "id": "aed228a3-66fc-41b7-ae68-852f3ff2575e",
   "metadata": {},
   "outputs": [
    {
     "data": {
      "text/plain": [
       "433046024.37"
      ]
     },
     "execution_count": 253,
     "metadata": {},
     "output_type": "execute_result"
    }
   ],
   "source": [
    "sales['total_paid'].sum()"
   ]
  },
  {
   "cell_type": "code",
   "execution_count": null,
   "id": "d6f848d9-bcff-4635-ae02-abce0e9f0e1c",
   "metadata": {},
   "outputs": [],
   "source": [
    "433 mill"
   ]
  },
  {
   "cell_type": "code",
   "execution_count": 257,
   "id": "9fa50e52-28b7-4ec3-b162-26084d819b08",
   "metadata": {},
   "outputs": [
    {
     "data": {
      "text/plain": [
       "14993481.55"
      ]
     },
     "execution_count": 257,
     "metadata": {},
     "output_type": "execute_result"
    }
   ],
   "source": [
    "sales['discount'].sum()"
   ]
  },
  {
   "cell_type": "code",
   "execution_count": 259,
   "id": "a36b3177-44ac-44f3-b8c5-33a377354f5d",
   "metadata": {},
   "outputs": [
    {
     "data": {
      "text/plain": [
       "3.462329800120594"
      ]
     },
     "execution_count": 259,
     "metadata": {},
     "output_type": "execute_result"
    }
   ],
   "source": [
    "14993481.55 / 433046024.37 *100\n"
   ]
  },
  {
   "cell_type": "code",
   "execution_count": 254,
   "id": "23b8006d-34c8-4b31-8bfb-bd2056969f7c",
   "metadata": {},
   "outputs": [
    {
     "data": {
      "text/html": [
       "<div>\n",
       "<style scoped>\n",
       "    .dataframe tbody tr th:only-of-type {\n",
       "        vertical-align: middle;\n",
       "    }\n",
       "\n",
       "    .dataframe tbody tr th {\n",
       "        vertical-align: top;\n",
       "    }\n",
       "\n",
       "    .dataframe thead th {\n",
       "        text-align: right;\n",
       "    }\n",
       "</style>\n",
       "<table border=\"1\" class=\"dataframe\">\n",
       "  <thead>\n",
       "    <tr style=\"text-align: right;\">\n",
       "      <th></th>\n",
       "      <th>id</th>\n",
       "      <th>order_id</th>\n",
       "      <th>product_quantity</th>\n",
       "      <th>sale_price</th>\n",
       "      <th>price</th>\n",
       "      <th>promo_price</th>\n",
       "      <th>discount</th>\n",
       "      <th>discount_pc</th>\n",
       "      <th>sales_discount</th>\n",
       "      <th>sales_discount_pc</th>\n",
       "      <th>total_paid</th>\n",
       "    </tr>\n",
       "  </thead>\n",
       "  <tbody>\n",
       "    <tr>\n",
       "      <th>count</th>\n",
       "      <td>291914.00</td>\n",
       "      <td>291914.00</td>\n",
       "      <td>291914.00</td>\n",
       "      <td>291914.00</td>\n",
       "      <td>291914.00</td>\n",
       "      <td>291914.00</td>\n",
       "      <td>291914.00</td>\n",
       "      <td>291914.00</td>\n",
       "      <td>291914.00</td>\n",
       "      <td>291914.00</td>\n",
       "      <td>291914.00</td>\n",
       "    </tr>\n",
       "    <tr>\n",
       "      <th>mean</th>\n",
       "      <td>1398786.63</td>\n",
       "      <td>420428.46</td>\n",
       "      <td>1.12</td>\n",
       "      <td>411.33</td>\n",
       "      <td>494.18</td>\n",
       "      <td>442.81</td>\n",
       "      <td>51.36</td>\n",
       "      <td>16.74</td>\n",
       "      <td>82.85</td>\n",
       "      <td>14.95</td>\n",
       "      <td>1483.47</td>\n",
       "    </tr>\n",
       "    <tr>\n",
       "      <th>std</th>\n",
       "      <td>152852.54</td>\n",
       "      <td>66207.97</td>\n",
       "      <td>3.41</td>\n",
       "      <td>838.96</td>\n",
       "      <td>1066.09</td>\n",
       "      <td>997.00</td>\n",
       "      <td>125.13</td>\n",
       "      <td>16.72</td>\n",
       "      <td>660.52</td>\n",
       "      <td>176.11</td>\n",
       "      <td>9734.74</td>\n",
       "    </tr>\n",
       "    <tr>\n",
       "      <th>min</th>\n",
       "      <td>1119109.00</td>\n",
       "      <td>241319.00</td>\n",
       "      <td>1.00</td>\n",
       "      <td>-119.00</td>\n",
       "      <td>0.83</td>\n",
       "      <td>0.16</td>\n",
       "      <td>0.00</td>\n",
       "      <td>0.00</td>\n",
       "      <td>-159810.83</td>\n",
       "      <td>-89279.79</td>\n",
       "      <td>0.00</td>\n",
       "    </tr>\n",
       "    <tr>\n",
       "      <th>25%</th>\n",
       "      <td>1263679.25</td>\n",
       "      <td>362918.25</td>\n",
       "      <td>1.00</td>\n",
       "      <td>35.99</td>\n",
       "      <td>49.90</td>\n",
       "      <td>36.99</td>\n",
       "      <td>5.00</td>\n",
       "      <td>5.08</td>\n",
       "      <td>5.00</td>\n",
       "      <td>5.74</td>\n",
       "      <td>66.49</td>\n",
       "    </tr>\n",
       "    <tr>\n",
       "      <th>50%</th>\n",
       "      <td>1408202.00</td>\n",
       "      <td>426625.00</td>\n",
       "      <td>1.00</td>\n",
       "      <td>92.99</td>\n",
       "      <td>109.00</td>\n",
       "      <td>94.99</td>\n",
       "      <td>15.00</td>\n",
       "      <td>12.05</td>\n",
       "      <td>16.00</td>\n",
       "      <td>13.22</td>\n",
       "      <td>274.39</td>\n",
       "    </tr>\n",
       "    <tr>\n",
       "      <th>75%</th>\n",
       "      <td>1532158.75</td>\n",
       "      <td>479027.50</td>\n",
       "      <td>1.00</td>\n",
       "      <td>341.95</td>\n",
       "      <td>399.00</td>\n",
       "      <td>339.95</td>\n",
       "      <td>39.96</td>\n",
       "      <td>22.80</td>\n",
       "      <td>41.52</td>\n",
       "      <td>23.34</td>\n",
       "      <td>1279.00</td>\n",
       "    </tr>\n",
       "    <tr>\n",
       "      <th>max</th>\n",
       "      <td>1650203.00</td>\n",
       "      <td>527401.00</td>\n",
       "      <td>999.00</td>\n",
       "      <td>159989.83</td>\n",
       "      <td>15339.00</td>\n",
       "      <td>14419.00</td>\n",
       "      <td>2485.49</td>\n",
       "      <td>89.98</td>\n",
       "      <td>11588.68</td>\n",
       "      <td>200.00</td>\n",
       "      <td>214747.53</td>\n",
       "    </tr>\n",
       "  </tbody>\n",
       "</table>\n",
       "</div>"
      ],
      "text/plain": [
       "              id  order_id  product_quantity  sale_price     price  \\\n",
       "count  291914.00 291914.00         291914.00   291914.00 291914.00   \n",
       "mean  1398786.63 420428.46              1.12      411.33    494.18   \n",
       "std    152852.54  66207.97              3.41      838.96   1066.09   \n",
       "min   1119109.00 241319.00              1.00     -119.00      0.83   \n",
       "25%   1263679.25 362918.25              1.00       35.99     49.90   \n",
       "50%   1408202.00 426625.00              1.00       92.99    109.00   \n",
       "75%   1532158.75 479027.50              1.00      341.95    399.00   \n",
       "max   1650203.00 527401.00            999.00   159989.83  15339.00   \n",
       "\n",
       "       promo_price  discount  discount_pc  sales_discount  sales_discount_pc  \\\n",
       "count    291914.00 291914.00    291914.00       291914.00          291914.00   \n",
       "mean        442.81     51.36        16.74           82.85              14.95   \n",
       "std         997.00    125.13        16.72          660.52             176.11   \n",
       "min           0.16      0.00         0.00      -159810.83          -89279.79   \n",
       "25%          36.99      5.00         5.08            5.00               5.74   \n",
       "50%          94.99     15.00        12.05           16.00              13.22   \n",
       "75%         339.95     39.96        22.80           41.52              23.34   \n",
       "max       14419.00   2485.49        89.98        11588.68             200.00   \n",
       "\n",
       "       total_paid  \n",
       "count   291914.00  \n",
       "mean      1483.47  \n",
       "std       9734.74  \n",
       "min          0.00  \n",
       "25%         66.49  \n",
       "50%        274.39  \n",
       "75%       1279.00  \n",
       "max     214747.53  "
      ]
     },
     "execution_count": 254,
     "metadata": {},
     "output_type": "execute_result"
    }
   ],
   "source": [
    "sales.describe() #discount "
   ]
  },
  {
   "cell_type": "code",
   "execution_count": 256,
   "id": "53858361-229a-4ac7-9889-a4906c630a75",
   "metadata": {},
   "outputs": [
    {
     "data": {
      "text/plain": [
       "144256947.38000003"
      ]
     },
     "execution_count": 256,
     "metadata": {},
     "output_type": "execute_result"
    }
   ],
   "source": [
    "sales['price'].sum()"
   ]
  },
  {
   "cell_type": "code",
   "execution_count": null,
   "id": "24de0ef0-9d38-4d7f-b59f-6c404641b35c",
   "metadata": {},
   "outputs": [],
   "source": []
  }
 ],
 "metadata": {
  "kernelspec": {
   "display_name": "Python 3 (ipykernel)",
   "language": "python",
   "name": "python3"
  },
  "language_info": {
   "codemirror_mode": {
    "name": "ipython",
    "version": 3
   },
   "file_extension": ".py",
   "mimetype": "text/x-python",
   "name": "python",
   "nbconvert_exporter": "python",
   "pygments_lexer": "ipython3",
   "version": "3.9.5"
  }
 },
 "nbformat": 4,
 "nbformat_minor": 5
}
