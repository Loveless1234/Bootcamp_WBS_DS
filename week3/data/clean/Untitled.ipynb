{
 "cells": [
  {
   "cell_type": "code",
   "execution_count": 1,
   "id": "f4ba46d2-b50c-4084-b7e6-ae05987c521d",
   "metadata": {},
   "outputs": [],
   "source": [
    "import pandas as pd\n",
    "import numpy as np"
   ]
  },
  {
   "cell_type": "code",
   "execution_count": 2,
   "id": "56ae39b7-4da9-4f67-ba54-07dd201917bd",
   "metadata": {},
   "outputs": [],
   "source": [
    "df = pd.read_csv('/Users/ranjitsah/Downloads/world-happiness-report-2019.csv',sep=',')"
   ]
  },
  {
   "cell_type": "markdown",
   "id": "392b5986-6e40-4110-bd21-db1300ddf249",
   "metadata": {},
   "source": [
    "## extract()"
   ]
  },
  {
   "cell_type": "code",
   "execution_count": 24,
   "id": "8316e19f-f45e-467d-974f-4d0220eb0632",
   "metadata": {},
   "outputs": [
    {
     "data": {
      "text/html": [
       "<div>\n",
       "<style scoped>\n",
       "    .dataframe tbody tr th:only-of-type {\n",
       "        vertical-align: middle;\n",
       "    }\n",
       "\n",
       "    .dataframe tbody tr th {\n",
       "        vertical-align: top;\n",
       "    }\n",
       "\n",
       "    .dataframe thead th {\n",
       "        text-align: right;\n",
       "    }\n",
       "</style>\n",
       "<table border=\"1\" class=\"dataframe\">\n",
       "  <thead>\n",
       "    <tr style=\"text-align: right;\">\n",
       "      <th></th>\n",
       "      <th>Country (region)</th>\n",
       "      <th>Ladder</th>\n",
       "      <th>SD of Ladder</th>\n",
       "      <th>Positive affect</th>\n",
       "      <th>Negative affect</th>\n",
       "      <th>Social support</th>\n",
       "      <th>Freedom</th>\n",
       "      <th>Corruption</th>\n",
       "      <th>Generosity</th>\n",
       "      <th>Log of GDP\\nper capita</th>\n",
       "      <th>Healthy life\\nexpectancy</th>\n",
       "      <th>first_five_Letter</th>\n",
       "    </tr>\n",
       "  </thead>\n",
       "  <tbody>\n",
       "    <tr>\n",
       "      <th>0</th>\n",
       "      <td>Finland</td>\n",
       "      <td>1</td>\n",
       "      <td>4</td>\n",
       "      <td>41.0</td>\n",
       "      <td>10.0</td>\n",
       "      <td>2.0</td>\n",
       "      <td>5.0</td>\n",
       "      <td>4.0</td>\n",
       "      <td>47.0</td>\n",
       "      <td>22.0</td>\n",
       "      <td>27.0</td>\n",
       "      <td>Finla</td>\n",
       "    </tr>\n",
       "    <tr>\n",
       "      <th>1</th>\n",
       "      <td>Denmark</td>\n",
       "      <td>2</td>\n",
       "      <td>13</td>\n",
       "      <td>24.0</td>\n",
       "      <td>26.0</td>\n",
       "      <td>4.0</td>\n",
       "      <td>6.0</td>\n",
       "      <td>3.0</td>\n",
       "      <td>22.0</td>\n",
       "      <td>14.0</td>\n",
       "      <td>23.0</td>\n",
       "      <td>Denma</td>\n",
       "    </tr>\n",
       "    <tr>\n",
       "      <th>2</th>\n",
       "      <td>Norway</td>\n",
       "      <td>3</td>\n",
       "      <td>8</td>\n",
       "      <td>16.0</td>\n",
       "      <td>29.0</td>\n",
       "      <td>3.0</td>\n",
       "      <td>3.0</td>\n",
       "      <td>8.0</td>\n",
       "      <td>11.0</td>\n",
       "      <td>7.0</td>\n",
       "      <td>12.0</td>\n",
       "      <td>Norwa</td>\n",
       "    </tr>\n",
       "    <tr>\n",
       "      <th>3</th>\n",
       "      <td>Iceland</td>\n",
       "      <td>4</td>\n",
       "      <td>9</td>\n",
       "      <td>3.0</td>\n",
       "      <td>3.0</td>\n",
       "      <td>1.0</td>\n",
       "      <td>7.0</td>\n",
       "      <td>45.0</td>\n",
       "      <td>3.0</td>\n",
       "      <td>15.0</td>\n",
       "      <td>13.0</td>\n",
       "      <td>Icela</td>\n",
       "    </tr>\n",
       "    <tr>\n",
       "      <th>4</th>\n",
       "      <td>Netherlands</td>\n",
       "      <td>5</td>\n",
       "      <td>1</td>\n",
       "      <td>12.0</td>\n",
       "      <td>25.0</td>\n",
       "      <td>15.0</td>\n",
       "      <td>19.0</td>\n",
       "      <td>12.0</td>\n",
       "      <td>7.0</td>\n",
       "      <td>12.0</td>\n",
       "      <td>18.0</td>\n",
       "      <td>Nethe</td>\n",
       "    </tr>\n",
       "  </tbody>\n",
       "</table>\n",
       "</div>"
      ],
      "text/plain": [
       "  Country (region)  Ladder  SD of Ladder  Positive affect  Negative affect  \\\n",
       "0          Finland       1             4             41.0             10.0   \n",
       "1          Denmark       2            13             24.0             26.0   \n",
       "2           Norway       3             8             16.0             29.0   \n",
       "3          Iceland       4             9              3.0              3.0   \n",
       "4      Netherlands       5             1             12.0             25.0   \n",
       "\n",
       "   Social support  Freedom  Corruption  Generosity  Log of GDP\\nper capita  \\\n",
       "0             2.0      5.0         4.0        47.0                    22.0   \n",
       "1             4.0      6.0         3.0        22.0                    14.0   \n",
       "2             3.0      3.0         8.0        11.0                     7.0   \n",
       "3             1.0      7.0        45.0         3.0                    15.0   \n",
       "4            15.0     19.0        12.0         7.0                    12.0   \n",
       "\n",
       "   Healthy life\\nexpectancy first_five_Letter  \n",
       "0                      27.0             Finla  \n",
       "1                      23.0             Denma  \n",
       "2                      12.0             Norwa  \n",
       "3                      13.0             Icela  \n",
       "4                      18.0             Nethe  "
      ]
     },
     "execution_count": 24,
     "metadata": {},
     "output_type": "execute_result"
    }
   ],
   "source": [
    "df['first_five_Letter']=df['Country (region)'].str.extract(r'(^\\w{5})')\n",
    "df.head()\n",
    "\n"
   ]
  },
  {
   "cell_type": "markdown",
   "id": "08c4b9ec-3dfb-48b9-b504-1f23c776f787",
   "metadata": {},
   "source": [
    "## count()"
   ]
  },
  {
   "cell_type": "code",
   "execution_count": 4,
   "id": "e294b8e9-a2be-497f-8f07-29d73429e836",
   "metadata": {},
   "outputs": [
    {
     "data": {
      "text/plain": [
       "0        Finland\n",
       "1       Colombia\n",
       "2        Florida\n",
       "3          Japan\n",
       "4    Puerto Rico\n",
       "5         Russia\n",
       "6         france\n",
       "dtype: object"
      ]
     },
     "execution_count": 4,
     "metadata": {},
     "output_type": "execute_result"
    }
   ],
   "source": [
    "S=pd.Series(['Finland','Colombia','Florida','Japan','Puerto Rico','Russia','france'])\n",
    "\n",
    "S"
   ]
  },
  {
   "cell_type": "code",
   "execution_count": 5,
   "id": "6f363634-5485-487d-824d-0f85d1cbcdde",
   "metadata": {},
   "outputs": [
    {
     "data": {
      "text/plain": [
       "0    Finland\n",
       "0    Finland\n",
       "0    Finland\n",
       "0    Finland\n",
       "0    Finland\n",
       "0    Finland\n",
       "0    Finland\n",
       "dtype: object"
      ]
     },
     "execution_count": 5,
     "metadata": {},
     "output_type": "execute_result"
    }
   ],
   "source": [
    "S[S.str.count(r\"(^F.*)==1\")]"
   ]
  },
  {
   "cell_type": "code",
   "execution_count": 6,
   "id": "f676015e-a4ff-4539-83c2-7227f1a34c19",
   "metadata": {},
   "outputs": [
    {
     "data": {
      "text/plain": [
       "2"
      ]
     },
     "execution_count": 6,
     "metadata": {},
     "output_type": "execute_result"
    }
   ],
   "source": [
    "S.str.count(r'(^F.*)').sum()"
   ]
  },
  {
   "cell_type": "code",
   "execution_count": 7,
   "id": "394955d5-6c19-4e75-8e5f-09670cade3cf",
   "metadata": {},
   "outputs": [
    {
     "data": {
      "text/html": [
       "<div>\n",
       "<style scoped>\n",
       "    .dataframe tbody tr th:only-of-type {\n",
       "        vertical-align: middle;\n",
       "    }\n",
       "\n",
       "    .dataframe tbody tr th {\n",
       "        vertical-align: top;\n",
       "    }\n",
       "\n",
       "    .dataframe thead th {\n",
       "        text-align: right;\n",
       "    }\n",
       "</style>\n",
       "<table border=\"1\" class=\"dataframe\">\n",
       "  <thead>\n",
       "    <tr style=\"text-align: right;\">\n",
       "      <th></th>\n",
       "      <th>Country (region)</th>\n",
       "      <th>Ladder</th>\n",
       "      <th>SD of Ladder</th>\n",
       "      <th>Positive affect</th>\n",
       "      <th>Negative affect</th>\n",
       "      <th>Social support</th>\n",
       "      <th>Freedom</th>\n",
       "      <th>Corruption</th>\n",
       "      <th>Generosity</th>\n",
       "      <th>Log of GDP\\nper capita</th>\n",
       "      <th>Healthy life\\nexpectancy</th>\n",
       "      <th>first_five_Letter</th>\n",
       "    </tr>\n",
       "  </thead>\n",
       "  <tbody>\n",
       "    <tr>\n",
       "      <th>30</th>\n",
       "      <td>Panama</td>\n",
       "      <td>31</td>\n",
       "      <td>121</td>\n",
       "      <td>7.0</td>\n",
       "      <td>48.0</td>\n",
       "      <td>41.0</td>\n",
       "      <td>32.0</td>\n",
       "      <td>104.0</td>\n",
       "      <td>88.0</td>\n",
       "      <td>51.0</td>\n",
       "      <td>33.0</td>\n",
       "      <td>NaN</td>\n",
       "    </tr>\n",
       "    <tr>\n",
       "      <th>39</th>\n",
       "      <td>Poland</td>\n",
       "      <td>40</td>\n",
       "      <td>28</td>\n",
       "      <td>76.0</td>\n",
       "      <td>33.0</td>\n",
       "      <td>44.0</td>\n",
       "      <td>52.0</td>\n",
       "      <td>108.0</td>\n",
       "      <td>77.0</td>\n",
       "      <td>41.0</td>\n",
       "      <td>36.0</td>\n",
       "      <td>NaN</td>\n",
       "    </tr>\n",
       "    <tr>\n",
       "      <th>62</th>\n",
       "      <td>Paraguay</td>\n",
       "      <td>63</td>\n",
       "      <td>90</td>\n",
       "      <td>1.0</td>\n",
       "      <td>39.0</td>\n",
       "      <td>30.0</td>\n",
       "      <td>34.0</td>\n",
       "      <td>76.0</td>\n",
       "      <td>67.0</td>\n",
       "      <td>90.0</td>\n",
       "      <td>81.0</td>\n",
       "      <td>NaN</td>\n",
       "    </tr>\n",
       "    <tr>\n",
       "      <th>64</th>\n",
       "      <td>Peru</td>\n",
       "      <td>65</td>\n",
       "      <td>114</td>\n",
       "      <td>36.0</td>\n",
       "      <td>127.0</td>\n",
       "      <td>77.0</td>\n",
       "      <td>61.0</td>\n",
       "      <td>132.0</td>\n",
       "      <td>126.0</td>\n",
       "      <td>76.0</td>\n",
       "      <td>47.0</td>\n",
       "      <td>NaN</td>\n",
       "    </tr>\n",
       "    <tr>\n",
       "      <th>65</th>\n",
       "      <td>Portugal</td>\n",
       "      <td>66</td>\n",
       "      <td>73</td>\n",
       "      <td>97.0</td>\n",
       "      <td>100.0</td>\n",
       "      <td>47.0</td>\n",
       "      <td>37.0</td>\n",
       "      <td>135.0</td>\n",
       "      <td>122.0</td>\n",
       "      <td>39.0</td>\n",
       "      <td>22.0</td>\n",
       "      <td>NaN</td>\n",
       "    </tr>\n",
       "    <tr>\n",
       "      <th>66</th>\n",
       "      <td>Pakistan</td>\n",
       "      <td>67</td>\n",
       "      <td>53</td>\n",
       "      <td>130.0</td>\n",
       "      <td>111.0</td>\n",
       "      <td>130.0</td>\n",
       "      <td>114.0</td>\n",
       "      <td>55.0</td>\n",
       "      <td>58.0</td>\n",
       "      <td>110.0</td>\n",
       "      <td>114.0</td>\n",
       "      <td>NaN</td>\n",
       "    </tr>\n",
       "    <tr>\n",
       "      <th>68</th>\n",
       "      <td>Philippines</td>\n",
       "      <td>69</td>\n",
       "      <td>119</td>\n",
       "      <td>42.0</td>\n",
       "      <td>116.0</td>\n",
       "      <td>75.0</td>\n",
       "      <td>15.0</td>\n",
       "      <td>49.0</td>\n",
       "      <td>115.0</td>\n",
       "      <td>97.0</td>\n",
       "      <td>99.0</td>\n",
       "      <td>NaN</td>\n",
       "    </tr>\n",
       "    <tr>\n",
       "      <th>109</th>\n",
       "      <td>Palestinian Territories</td>\n",
       "      <td>110</td>\n",
       "      <td>110</td>\n",
       "      <td>128.0</td>\n",
       "      <td>140.0</td>\n",
       "      <td>82.0</td>\n",
       "      <td>134.0</td>\n",
       "      <td>90.0</td>\n",
       "      <td>147.0</td>\n",
       "      <td>112.0</td>\n",
       "      <td>NaN</td>\n",
       "      <td>NaN</td>\n",
       "    </tr>\n",
       "  </tbody>\n",
       "</table>\n",
       "</div>"
      ],
      "text/plain": [
       "            Country (region)  Ladder  SD of Ladder  Positive affect  \\\n",
       "30                    Panama      31           121              7.0   \n",
       "39                    Poland      40            28             76.0   \n",
       "62                  Paraguay      63            90              1.0   \n",
       "64                      Peru      65           114             36.0   \n",
       "65                  Portugal      66            73             97.0   \n",
       "66                  Pakistan      67            53            130.0   \n",
       "68               Philippines      69           119             42.0   \n",
       "109  Palestinian Territories     110           110            128.0   \n",
       "\n",
       "     Negative affect  Social support  Freedom  Corruption  Generosity  \\\n",
       "30              48.0            41.0     32.0       104.0        88.0   \n",
       "39              33.0            44.0     52.0       108.0        77.0   \n",
       "62              39.0            30.0     34.0        76.0        67.0   \n",
       "64             127.0            77.0     61.0       132.0       126.0   \n",
       "65             100.0            47.0     37.0       135.0       122.0   \n",
       "66             111.0           130.0    114.0        55.0        58.0   \n",
       "68             116.0            75.0     15.0        49.0       115.0   \n",
       "109            140.0            82.0    134.0        90.0       147.0   \n",
       "\n",
       "     Log of GDP\\nper capita  Healthy life\\nexpectancy first_five_Letter  \n",
       "30                     51.0                      33.0               NaN  \n",
       "39                     41.0                      36.0               NaN  \n",
       "62                     90.0                      81.0               NaN  \n",
       "64                     76.0                      47.0               NaN  \n",
       "65                     39.0                      22.0               NaN  \n",
       "66                    110.0                     114.0               NaN  \n",
       "68                     97.0                      99.0               NaN  \n",
       "109                   112.0                       NaN               NaN  "
      ]
     },
     "execution_count": 7,
     "metadata": {},
     "output_type": "execute_result"
    }
   ],
   "source": [
    "df[df['Country (region)'].str.count(r'(^[pP.*])')>0]"
   ]
  },
  {
   "cell_type": "markdown",
   "id": "fd38dd85-7733-417a-9b2e-881fb2779537",
   "metadata": {},
   "source": [
    "## match()"
   ]
  },
  {
   "cell_type": "code",
   "execution_count": 8,
   "id": "c18e0414-8467-41fc-9f23-43027bbe1f56",
   "metadata": {},
   "outputs": [
    {
     "data": {
      "text/plain": [
       "4    Puerto Rico\n",
       "dtype: object"
      ]
     },
     "execution_count": 8,
     "metadata": {},
     "output_type": "execute_result"
    }
   ],
   "source": [
    "S[S.str.match(r'(^P.*)') == True]"
   ]
  },
  {
   "cell_type": "markdown",
   "id": "1550d7f8-11b4-4d26-bce9-156b31b6ee6c",
   "metadata": {},
   "source": [
    "## replace()"
   ]
  },
  {
   "cell_type": "code",
   "execution_count": 10,
   "id": "f152526c-a99c-4459-a3a6-b876e5d60939",
   "metadata": {},
   "outputs": [],
   "source": [
    "S_c=pd.Series(['Finland-1','Colombia-2','Florida-3','Japan-4','Puerto Rico-5','Russia-6','france-7'])"
   ]
  },
  {
   "cell_type": "code",
   "execution_count": 39,
   "id": "8503e631-61f8-4503-9c79-87b1539e4475",
   "metadata": {},
   "outputs": [
    {
     "data": {
      "text/plain": [
       "0        Finland\n",
       "1       Colombia\n",
       "2        Florida\n",
       "3          Japan\n",
       "4    Puerto Rico\n",
       "5         Russia\n",
       "6         france\n",
       "dtype: object"
      ]
     },
     "execution_count": 39,
     "metadata": {},
     "output_type": "execute_result"
    }
   ],
   "source": [
    "S_c.str.replace('([-\\d])','',regex=True)"
   ]
  },
  {
   "cell_type": "code",
   "execution_count": 21,
   "id": "4950b53e-d9c5-4ffb-a1e7-2ce9c6095aa7",
   "metadata": {},
   "outputs": [
    {
     "data": {
      "text/plain": [
       "0        Finland-1\n",
       "1       Colombia-2\n",
       "2        Florida-3\n",
       "3          Japan-4\n",
       "4    Puerto Rico-5\n",
       "5         Russia-6\n",
       "6         france-7\n",
       "dtype: object"
      ]
     },
     "execution_count": 21,
     "metadata": {},
     "output_type": "execute_result"
    }
   ],
   "source": [
    "S_c"
   ]
  },
  {
   "cell_type": "markdown",
   "id": "b6fc7385-b77d-4401-9e94-655ac7bcea51",
   "metadata": {},
   "source": [
    "## findall()"
   ]
  },
  {
   "cell_type": "code",
   "execution_count": 33,
   "id": "2395ea1a-e2f2-49df-b97b-a3dedb147526",
   "metadata": {},
   "outputs": [
    {
     "data": {
      "text/plain": [
       "['Finland', 'Florida', 'france']"
      ]
     },
     "execution_count": 33,
     "metadata": {},
     "output_type": "execute_result"
    }
   ],
   "source": [
    " [item[0] for item in S.str.findall('^[fF].*') if len(item) > 0]"
   ]
  },
  {
   "cell_type": "markdown",
   "id": "dccbdf41-7947-48da-b4cb-26eade8fbef8",
   "metadata": {},
   "source": [
    "## contains()"
   ]
  },
  {
   "cell_type": "code",
   "execution_count": 38,
   "id": "6372b78d-a256-4697-81ff-9f84be1d9cf9",
   "metadata": {},
   "outputs": [
    {
     "data": {
      "text/plain": [
       "0     True\n",
       "1    False\n",
       "2     True\n",
       "3    False\n",
       "4    False\n",
       "5    False\n",
       "6    False\n",
       "dtype: bool"
      ]
     },
     "execution_count": 38,
     "metadata": {},
     "output_type": "execute_result"
    }
   ],
   "source": [
    "S.str.contains('^F.*')"
   ]
  },
  {
   "cell_type": "code",
   "execution_count": 41,
   "id": "66817cd8-73c5-4084-b538-4d658a324227",
   "metadata": {},
   "outputs": [
    {
     "data": {
      "text/html": [
       "<div>\n",
       "<style scoped>\n",
       "    .dataframe tbody tr th:only-of-type {\n",
       "        vertical-align: middle;\n",
       "    }\n",
       "\n",
       "    .dataframe tbody tr th {\n",
       "        vertical-align: top;\n",
       "    }\n",
       "\n",
       "    .dataframe thead th {\n",
       "        text-align: right;\n",
       "    }\n",
       "</style>\n",
       "<table border=\"1\" class=\"dataframe\">\n",
       "  <thead>\n",
       "    <tr style=\"text-align: right;\">\n",
       "      <th></th>\n",
       "      <th>Country (region)</th>\n",
       "      <th>Ladder</th>\n",
       "      <th>SD of Ladder</th>\n",
       "      <th>Positive affect</th>\n",
       "      <th>Negative affect</th>\n",
       "      <th>Social support</th>\n",
       "      <th>Freedom</th>\n",
       "      <th>Corruption</th>\n",
       "      <th>Generosity</th>\n",
       "      <th>Log of GDP\\nper capita</th>\n",
       "      <th>Healthy life\\nexpectancy</th>\n",
       "      <th>first_five_Letter</th>\n",
       "    </tr>\n",
       "  </thead>\n",
       "  <tbody>\n",
       "    <tr>\n",
       "      <th>3</th>\n",
       "      <td>Iceland</td>\n",
       "      <td>4</td>\n",
       "      <td>9</td>\n",
       "      <td>3.0</td>\n",
       "      <td>3.0</td>\n",
       "      <td>1.0</td>\n",
       "      <td>7.0</td>\n",
       "      <td>45.0</td>\n",
       "      <td>3.0</td>\n",
       "      <td>15.0</td>\n",
       "      <td>13.0</td>\n",
       "      <td>Icela</td>\n",
       "    </tr>\n",
       "    <tr>\n",
       "      <th>12</th>\n",
       "      <td>Israel</td>\n",
       "      <td>13</td>\n",
       "      <td>14</td>\n",
       "      <td>104.0</td>\n",
       "      <td>69.0</td>\n",
       "      <td>38.0</td>\n",
       "      <td>93.0</td>\n",
       "      <td>74.0</td>\n",
       "      <td>24.0</td>\n",
       "      <td>31.0</td>\n",
       "      <td>11.0</td>\n",
       "      <td>Israe</td>\n",
       "    </tr>\n",
       "    <tr>\n",
       "      <th>15</th>\n",
       "      <td>Ireland</td>\n",
       "      <td>16</td>\n",
       "      <td>34</td>\n",
       "      <td>33.0</td>\n",
       "      <td>32.0</td>\n",
       "      <td>6.0</td>\n",
       "      <td>33.0</td>\n",
       "      <td>10.0</td>\n",
       "      <td>9.0</td>\n",
       "      <td>6.0</td>\n",
       "      <td>20.0</td>\n",
       "      <td>Irela</td>\n",
       "    </tr>\n",
       "    <tr>\n",
       "      <th>35</th>\n",
       "      <td>Italy</td>\n",
       "      <td>36</td>\n",
       "      <td>31</td>\n",
       "      <td>99.0</td>\n",
       "      <td>123.0</td>\n",
       "      <td>23.0</td>\n",
       "      <td>132.0</td>\n",
       "      <td>128.0</td>\n",
       "      <td>48.0</td>\n",
       "      <td>29.0</td>\n",
       "      <td>7.0</td>\n",
       "      <td>Italy</td>\n",
       "    </tr>\n",
       "    <tr>\n",
       "      <th>91</th>\n",
       "      <td>Indonesia</td>\n",
       "      <td>92</td>\n",
       "      <td>108</td>\n",
       "      <td>9.0</td>\n",
       "      <td>104.0</td>\n",
       "      <td>94.0</td>\n",
       "      <td>48.0</td>\n",
       "      <td>129.0</td>\n",
       "      <td>2.0</td>\n",
       "      <td>83.0</td>\n",
       "      <td>98.0</td>\n",
       "      <td>Indon</td>\n",
       "    </tr>\n",
       "    <tr>\n",
       "      <th>98</th>\n",
       "      <td>Ivory Coast</td>\n",
       "      <td>99</td>\n",
       "      <td>134</td>\n",
       "      <td>88.0</td>\n",
       "      <td>130.0</td>\n",
       "      <td>137.0</td>\n",
       "      <td>100.0</td>\n",
       "      <td>62.0</td>\n",
       "      <td>114.0</td>\n",
       "      <td>118.0</td>\n",
       "      <td>147.0</td>\n",
       "      <td>Ivory</td>\n",
       "    </tr>\n",
       "    <tr>\n",
       "      <th>116</th>\n",
       "      <td>Iran</td>\n",
       "      <td>117</td>\n",
       "      <td>109</td>\n",
       "      <td>109.0</td>\n",
       "      <td>150.0</td>\n",
       "      <td>134.0</td>\n",
       "      <td>117.0</td>\n",
       "      <td>44.0</td>\n",
       "      <td>28.0</td>\n",
       "      <td>54.0</td>\n",
       "      <td>77.0</td>\n",
       "      <td>NaN</td>\n",
       "    </tr>\n",
       "    <tr>\n",
       "      <th>125</th>\n",
       "      <td>Iraq</td>\n",
       "      <td>126</td>\n",
       "      <td>147</td>\n",
       "      <td>151.0</td>\n",
       "      <td>154.0</td>\n",
       "      <td>124.0</td>\n",
       "      <td>130.0</td>\n",
       "      <td>66.0</td>\n",
       "      <td>73.0</td>\n",
       "      <td>64.0</td>\n",
       "      <td>107.0</td>\n",
       "      <td>NaN</td>\n",
       "    </tr>\n",
       "    <tr>\n",
       "      <th>139</th>\n",
       "      <td>India</td>\n",
       "      <td>140</td>\n",
       "      <td>41</td>\n",
       "      <td>93.0</td>\n",
       "      <td>115.0</td>\n",
       "      <td>142.0</td>\n",
       "      <td>41.0</td>\n",
       "      <td>73.0</td>\n",
       "      <td>65.0</td>\n",
       "      <td>103.0</td>\n",
       "      <td>105.0</td>\n",
       "      <td>India</td>\n",
       "    </tr>\n",
       "  </tbody>\n",
       "</table>\n",
       "</div>"
      ],
      "text/plain": [
       "    Country (region)  Ladder  SD of Ladder  Positive affect  Negative affect  \\\n",
       "3            Iceland       4             9              3.0              3.0   \n",
       "12            Israel      13            14            104.0             69.0   \n",
       "15           Ireland      16            34             33.0             32.0   \n",
       "35             Italy      36            31             99.0            123.0   \n",
       "91         Indonesia      92           108              9.0            104.0   \n",
       "98       Ivory Coast      99           134             88.0            130.0   \n",
       "116             Iran     117           109            109.0            150.0   \n",
       "125             Iraq     126           147            151.0            154.0   \n",
       "139            India     140            41             93.0            115.0   \n",
       "\n",
       "     Social support  Freedom  Corruption  Generosity  Log of GDP\\nper capita  \\\n",
       "3               1.0      7.0        45.0         3.0                    15.0   \n",
       "12             38.0     93.0        74.0        24.0                    31.0   \n",
       "15              6.0     33.0        10.0         9.0                     6.0   \n",
       "35             23.0    132.0       128.0        48.0                    29.0   \n",
       "91             94.0     48.0       129.0         2.0                    83.0   \n",
       "98            137.0    100.0        62.0       114.0                   118.0   \n",
       "116           134.0    117.0        44.0        28.0                    54.0   \n",
       "125           124.0    130.0        66.0        73.0                    64.0   \n",
       "139           142.0     41.0        73.0        65.0                   103.0   \n",
       "\n",
       "     Healthy life\\nexpectancy first_five_Letter  \n",
       "3                        13.0             Icela  \n",
       "12                       11.0             Israe  \n",
       "15                       20.0             Irela  \n",
       "35                        7.0             Italy  \n",
       "91                       98.0             Indon  \n",
       "98                      147.0             Ivory  \n",
       "116                      77.0               NaN  \n",
       "125                     107.0               NaN  \n",
       "139                     105.0             India  "
      ]
     },
     "execution_count": 41,
     "metadata": {},
     "output_type": "execute_result"
    }
   ],
   "source": [
    "df[df['Country (region)'].str.contains('^I.*') == True]"
   ]
  },
  {
   "cell_type": "markdown",
   "id": "3ef67173-8952-4b33-b53a-9bbe8b1956ab",
   "metadata": {},
   "source": [
    "## split()"
   ]
  },
  {
   "cell_type": "code",
   "execution_count": 42,
   "id": "d8cc4be3-e2a2-4d14-8f9e-24ed675f8e46",
   "metadata": {},
   "outputs": [],
   "source": [
    "s = pd.Series([\"StatueofLiberty built-on 28-Oct-1886\"])"
   ]
  },
  {
   "cell_type": "code",
   "execution_count": 43,
   "id": "f7e1cf9a-f2fd-4986-b87a-732861166cbb",
   "metadata": {},
   "outputs": [
    {
     "data": {
      "text/plain": [
       "0    StatueofLiberty built-on 28-Oct-1886\n",
       "dtype: object"
      ]
     },
     "execution_count": 43,
     "metadata": {},
     "output_type": "execute_result"
    }
   ],
   "source": [
    "s"
   ]
  },
  {
   "cell_type": "code",
   "execution_count": 46,
   "id": "94774314-a7e9-4fdf-bfb5-70078e7bb5f6",
   "metadata": {},
   "outputs": [
    {
     "data": {
      "text/html": [
       "<div>\n",
       "<style scoped>\n",
       "    .dataframe tbody tr th:only-of-type {\n",
       "        vertical-align: middle;\n",
       "    }\n",
       "\n",
       "    .dataframe tbody tr th {\n",
       "        vertical-align: top;\n",
       "    }\n",
       "\n",
       "    .dataframe thead th {\n",
       "        text-align: right;\n",
       "    }\n",
       "</style>\n",
       "<table border=\"1\" class=\"dataframe\">\n",
       "  <thead>\n",
       "    <tr style=\"text-align: right;\">\n",
       "      <th></th>\n",
       "      <th>0</th>\n",
       "    </tr>\n",
       "  </thead>\n",
       "  <tbody>\n",
       "    <tr>\n",
       "      <th>0</th>\n",
       "      <td>StatueofLiberty built-on 28-Oct-1886</td>\n",
       "    </tr>\n",
       "  </tbody>\n",
       "</table>\n",
       "</div>"
      ],
      "text/plain": [
       "                                      0\n",
       "0  StatueofLiberty built-on 28-Oct-1886"
      ]
     },
     "execution_count": 46,
     "metadata": {},
     "output_type": "execute_result"
    }
   ],
   "source": [
    "s.str.split('s', n=-1, expand=True)"
   ]
  },
  {
   "cell_type": "code",
   "execution_count": null,
   "id": "8907485f-5bb3-40bd-93d9-f3a704f207dd",
   "metadata": {},
   "outputs": [],
   "source": []
  }
 ],
 "metadata": {
  "kernelspec": {
   "display_name": "Python 3 (ipykernel)",
   "language": "python",
   "name": "python3"
  },
  "language_info": {
   "codemirror_mode": {
    "name": "ipython",
    "version": 3
   },
   "file_extension": ".py",
   "mimetype": "text/x-python",
   "name": "python",
   "nbconvert_exporter": "python",
   "pygments_lexer": "ipython3",
   "version": "3.9.5"
  }
 },
 "nbformat": 4,
 "nbformat_minor": 5
}
