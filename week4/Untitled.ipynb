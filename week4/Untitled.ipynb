{
 "cells": [
  {
   "cell_type": "code",
   "execution_count": 2,
   "id": "77cd4dd4-3e81-4cb7-bbd6-492754d5ee92",
   "metadata": {},
   "outputs": [
    {
     "data": {
      "text/html": [
       "<div>\n",
       "<style scoped>\n",
       "    .dataframe tbody tr th:only-of-type {\n",
       "        vertical-align: middle;\n",
       "    }\n",
       "\n",
       "    .dataframe tbody tr th {\n",
       "        vertical-align: top;\n",
       "    }\n",
       "\n",
       "    .dataframe thead th {\n",
       "        text-align: right;\n",
       "    }\n",
       "</style>\n",
       "<table border=\"1\" class=\"dataframe\">\n",
       "  <thead>\n",
       "    <tr style=\"text-align: right;\">\n",
       "      <th></th>\n",
       "      <th>interact</th>\n",
       "      <th>connect</th>\n",
       "      <th>Learn</th>\n",
       "      <th>Help</th>\n",
       "      <th>services</th>\n",
       "    </tr>\n",
       "  </thead>\n",
       "  <tbody>\n",
       "    <tr>\n",
       "      <th>Click</th>\n",
       "      <td>42</td>\n",
       "      <td>53</td>\n",
       "      <td>21</td>\n",
       "      <td>38</td>\n",
       "      <td>45</td>\n",
       "    </tr>\n",
       "    <tr>\n",
       "      <th>No-click</th>\n",
       "      <td>10241</td>\n",
       "      <td>2689</td>\n",
       "      <td>2726</td>\n",
       "      <td>3142</td>\n",
       "      <td>2019</td>\n",
       "    </tr>\n",
       "  </tbody>\n",
       "</table>\n",
       "</div>"
      ],
      "text/plain": [
       "          interact  connect  Learn  Help  services\n",
       "Click           42       53     21    38        45\n",
       "No-click     10241     2689   2726  3142      2019"
      ]
     },
     "execution_count": 2,
     "metadata": {},
     "output_type": "execute_result"
    }
   ],
   "source": [
    "import pandas as pd\n",
    "\n",
    "# observed results\n",
    "Click = [42, 53, 21, 38, 45]\n",
    "\n",
    "#Click = [14, 14, 14]\n",
    "#Click = [0, 100, 980]\n",
    "\n",
    "No_click = [10241, 2689, 2726, 3142, 2019]\n",
    "observed = pd.DataFrame([Click, No_click],\n",
    "                           columns = [\"interact\", \"connect\", \"Learn\", \"Help\", \"services\"],\n",
    "                           index = [\"Click\", \"No-click\"])\n",
    "observed"
   ]
  },
  {
   "cell_type": "code",
   "execution_count": 3,
   "id": "fb7b500d-a7b0-4183-870e-0f53fcf63524",
   "metadata": {},
   "outputs": [
    {
     "data": {
      "text/html": [
       "<div>\n",
       "<style scoped>\n",
       "    .dataframe tbody tr th:only-of-type {\n",
       "        vertical-align: middle;\n",
       "    }\n",
       "\n",
       "    .dataframe tbody tr th {\n",
       "        vertical-align: top;\n",
       "    }\n",
       "\n",
       "    .dataframe thead th {\n",
       "        text-align: right;\n",
       "    }\n",
       "</style>\n",
       "<table border=\"1\" class=\"dataframe\">\n",
       "  <thead>\n",
       "    <tr style=\"text-align: right;\">\n",
       "      <th></th>\n",
       "      <th>interact</th>\n",
       "      <th>connect</th>\n",
       "      <th>Learn</th>\n",
       "      <th>Help</th>\n",
       "      <th>services</th>\n",
       "    </tr>\n",
       "  </thead>\n",
       "  <tbody>\n",
       "    <tr>\n",
       "      <th>Click</th>\n",
       "      <td>66.333333</td>\n",
       "      <td>66.333333</td>\n",
       "      <td>66.333333</td>\n",
       "      <td>66.333333</td>\n",
       "      <td>66.333333</td>\n",
       "    </tr>\n",
       "    <tr>\n",
       "      <th>No-click</th>\n",
       "      <td>6939.000000</td>\n",
       "      <td>6939.000000</td>\n",
       "      <td>6939.000000</td>\n",
       "      <td>66.333333</td>\n",
       "      <td>66.333333</td>\n",
       "    </tr>\n",
       "  </tbody>\n",
       "</table>\n",
       "</div>"
      ],
      "text/plain": [
       "             interact      connect        Learn       Help   services\n",
       "Click       66.333333    66.333333    66.333333  66.333333  66.333333\n",
       "No-click  6939.000000  6939.000000  6939.000000  66.333333  66.333333"
      ]
     },
     "execution_count": 3,
     "metadata": {},
     "output_type": "execute_result"
    }
   ],
   "source": [
    "# expected results\n",
    "exp_clicks = sum(Click)/3\n",
    "exp_no_click = sum(No_click)/3\n",
    "\n",
    "Click = [42, 53, 21, 38, 45]\n",
    "No_click = [10241, 2689, 2726, 3142, 2019]\n",
    "expected = pd.DataFrame([[exp_clicks, exp_clicks, exp_clicks, exp_clicks, exp_clicks], [exp_no_click, exp_no_click, exp_no_click, exp_clicks, exp_clicks]],\n",
    "                           columns = [\"interact\", \"connect\", \"Learn\", \"Help\", \"services\"],\n",
    "                           index = [\"Click\", \"No-click\"])\n",
    "expected"
   ]
  },
  {
   "cell_type": "code",
   "execution_count": 4,
   "id": "4b9755ec-2e8d-451a-abba-cebb53c8df31",
   "metadata": {},
   "outputs": [
    {
     "data": {
      "text/html": [
       "<div>\n",
       "<style scoped>\n",
       "    .dataframe tbody tr th:only-of-type {\n",
       "        vertical-align: middle;\n",
       "    }\n",
       "\n",
       "    .dataframe tbody tr th {\n",
       "        vertical-align: top;\n",
       "    }\n",
       "\n",
       "    .dataframe thead th {\n",
       "        text-align: right;\n",
       "    }\n",
       "</style>\n",
       "<table border=\"1\" class=\"dataframe\">\n",
       "  <thead>\n",
       "    <tr style=\"text-align: right;\">\n",
       "      <th></th>\n",
       "      <th>interact</th>\n",
       "      <th>connect</th>\n",
       "      <th>Learn</th>\n",
       "      <th>Help</th>\n",
       "      <th>services</th>\n",
       "    </tr>\n",
       "  </thead>\n",
       "  <tbody>\n",
       "    <tr>\n",
       "      <th>Click</th>\n",
       "      <td>-24.333333</td>\n",
       "      <td>-13.333333</td>\n",
       "      <td>-45.333333</td>\n",
       "      <td>-28.333333</td>\n",
       "      <td>-21.333333</td>\n",
       "    </tr>\n",
       "    <tr>\n",
       "      <th>No-click</th>\n",
       "      <td>3302.000000</td>\n",
       "      <td>-4250.000000</td>\n",
       "      <td>-4213.000000</td>\n",
       "      <td>3075.666667</td>\n",
       "      <td>1952.666667</td>\n",
       "    </tr>\n",
       "  </tbody>\n",
       "</table>\n",
       "</div>"
      ],
      "text/plain": [
       "             interact      connect        Learn         Help     services\n",
       "Click      -24.333333   -13.333333   -45.333333   -28.333333   -21.333333\n",
       "No-click  3302.000000 -4250.000000 -4213.000000  3075.666667  1952.666667"
      ]
     },
     "execution_count": 4,
     "metadata": {},
     "output_type": "execute_result"
    }
   ],
   "source": [
    "observed - expected"
   ]
  },
  {
   "cell_type": "code",
   "execution_count": 5,
   "id": "01893216-c140-461f-92df-cafacd5cb701",
   "metadata": {},
   "outputs": [
    {
     "data": {
      "text/html": [
       "<div>\n",
       "<style scoped>\n",
       "    .dataframe tbody tr th:only-of-type {\n",
       "        vertical-align: middle;\n",
       "    }\n",
       "\n",
       "    .dataframe tbody tr th {\n",
       "        vertical-align: top;\n",
       "    }\n",
       "\n",
       "    .dataframe thead th {\n",
       "        text-align: right;\n",
       "    }\n",
       "</style>\n",
       "<table border=\"1\" class=\"dataframe\">\n",
       "  <thead>\n",
       "    <tr style=\"text-align: right;\">\n",
       "      <th></th>\n",
       "      <th>interact</th>\n",
       "      <th>connect</th>\n",
       "      <th>Learn</th>\n",
       "      <th>Help</th>\n",
       "      <th>services</th>\n",
       "    </tr>\n",
       "  </thead>\n",
       "  <tbody>\n",
       "    <tr>\n",
       "      <th>Click</th>\n",
       "      <td>-2.987691</td>\n",
       "      <td>-1.637091</td>\n",
       "      <td>-5.566109</td>\n",
       "      <td>-3.478818</td>\n",
       "      <td>-2.619346</td>\n",
       "    </tr>\n",
       "    <tr>\n",
       "      <th>No-click</th>\n",
       "      <td>39.639542</td>\n",
       "      <td>-51.020004</td>\n",
       "      <td>-50.575830</td>\n",
       "      <td>377.635971</td>\n",
       "      <td>239.751980</td>\n",
       "    </tr>\n",
       "  </tbody>\n",
       "</table>\n",
       "</div>"
      ],
      "text/plain": [
       "           interact    connect      Learn        Help    services\n",
       "Click     -2.987691  -1.637091  -5.566109   -3.478818   -2.619346\n",
       "No-click  39.639542 -51.020004 -50.575830  377.635971  239.751980"
      ]
     },
     "execution_count": 5,
     "metadata": {},
     "output_type": "execute_result"
    }
   ],
   "source": [
    "# Pearson Residual\n",
    "import numpy as np\n",
    "def pearson_residuals(obs, exp):\n",
    "    return (obs - exp) / (np.sqrt(exp))\n",
    "\n",
    "R = pearson_residuals(observed, expected)\n",
    "R"
   ]
  },
  {
   "cell_type": "code",
   "execution_count": 7,
   "id": "b228fb95-252d-4465-b2d2-436a1de52ec5",
   "metadata": {},
   "outputs": [
    {
     "data": {
      "text/plain": [
       "23657161519.793934"
      ]
     },
     "execution_count": 7,
     "metadata": {},
     "output_type": "execute_result"
    }
   ],
   "source": [
    "R = R**2\n",
    "chi2observed = R.interact.sum() + R.connect.sum() + R.Learn.sum() + R.Help.sum() + R.services.sum()\n",
    "chi2observed"
   ]
  },
  {
   "cell_type": "code",
   "execution_count": 9,
   "id": "f5ae2438-d119-4719-ab70-adc6eb1eaaa5",
   "metadata": {},
   "outputs": [
    {
     "data": {
      "text/plain": [
       "[42, 53, 21, 38, 45]"
      ]
     },
     "execution_count": 9,
     "metadata": {},
     "output_type": "execute_result"
    }
   ],
   "source": [
    "Click"
   ]
  },
  {
   "cell_type": "code",
   "execution_count": 10,
   "id": "0d28aab7-21b7-4087-a5ab-c39568dded8b",
   "metadata": {},
   "outputs": [
    {
     "data": {
      "text/plain": [
       "[10241, 2689, 2726, 3142, 2019]"
      ]
     },
     "execution_count": 10,
     "metadata": {},
     "output_type": "execute_result"
    }
   ],
   "source": [
    "No_click"
   ]
  },
  {
   "cell_type": "code",
   "execution_count": 11,
   "id": "ade5f0a9-0d5c-4b33-aaca-85973d7f1ca3",
   "metadata": {},
   "outputs": [],
   "source": [
    "from scipy import stats\n",
    "chisq, pvalue, df, expected = stats.chi2_contingency(observed)\n"
   ]
  },
  {
   "cell_type": "code",
   "execution_count": 16,
   "id": "3dcea8d8-ca97-4b88-b7f8-4815389b9fba",
   "metadata": {},
   "outputs": [
    {
     "data": {
      "text/plain": [
       "96.7432353798328"
      ]
     },
     "execution_count": 16,
     "metadata": {},
     "output_type": "execute_result"
    }
   ],
   "source": [
    "chisq"
   ]
  },
  {
   "cell_type": "code",
   "execution_count": 17,
   "id": "a47a07c0-a22b-47da-9aaa-953fc3e87eec",
   "metadata": {},
   "outputs": [
    {
     "data": {
      "text/plain": [
       "4.852334301093838e-20"
      ]
     },
     "execution_count": 17,
     "metadata": {},
     "output_type": "execute_result"
    }
   ],
   "source": [
    " pvalue"
   ]
  },
  {
   "cell_type": "code",
   "execution_count": null,
   "id": "07fe9163-3c77-47a3-8a96-bda28c3e35ff",
   "metadata": {},
   "outputs": [],
   "source": []
  }
 ],
 "metadata": {
  "kernelspec": {
   "display_name": "Python 3 (ipykernel)",
   "language": "python",
   "name": "python3"
  },
  "language_info": {
   "codemirror_mode": {
    "name": "ipython",
    "version": 3
   },
   "file_extension": ".py",
   "mimetype": "text/x-python",
   "name": "python",
   "nbconvert_exporter": "python",
   "pygments_lexer": "ipython3",
   "version": "3.9.5"
  }
 },
 "nbformat": 4,
 "nbformat_minor": 5
}
