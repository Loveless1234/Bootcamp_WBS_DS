{
 "cells": [
  {
   "cell_type": "markdown",
   "id": "6868eecc-6fa6-469c-b2cc-4e99c9715e6e",
   "metadata": {},
   "source": [
    "# Connecting to APIs\n",
    "\n",
    "## Open Weather Map API"
   ]
  },
  {
   "cell_type": "code",
   "execution_count": 15,
   "id": "eaa7474f-b277-4741-9c3d-cbdc3960c870",
   "metadata": {},
   "outputs": [
    {
     "data": {
      "text/plain": [
       "'http://api.openweathermap.org/data/2.5/forecast/?q=Berlin,DE&appid=0b72d424f8aa757bc21cb2a396aba540&units=metric&lang=en'"
      ]
     },
     "execution_count": 15,
     "metadata": {},
     "output_type": "execute_result"
    }
   ],
   "source": [
    "OWM_key = \"0b72d424f8aa757bc21cb2a396aba540\"\n",
    "city = \"Berlin\"\n",
    "country = \"DE\"\n",
    "f'http://api.openweathermap.org/data/2.5/forecast/?q={city},{country}&appid={OWM_key}&units=metric&lang=en'"
   ]
  },
  {
   "cell_type": "code",
   "execution_count": 16,
   "id": "37e12ef2-24ed-4124-a26d-9100feaff744",
   "metadata": {},
   "outputs": [
    {
     "data": {
      "text/plain": [
       "'http://api.openweathermap.org/data/2.5/weather?q=Berlin,DE&appid=0b72d424f8aa757bc21cb2a396aba540'"
      ]
     },
     "execution_count": 16,
     "metadata": {},
     "output_type": "execute_result"
    }
   ],
   "source": [
    "f'http://api.openweathermap.org/data/2.5/weather?q={city},{country}&appid={OWM_key}'"
   ]
  },
  {
   "cell_type": "code",
   "execution_count": 17,
   "id": "f7e107f9-b606-4f62-a2b2-ae7e81ff99d7",
   "metadata": {},
   "outputs": [
    {
     "data": {
      "text/plain": [
       "'Name:Joan, age: 58'"
      ]
     },
     "execution_count": 17,
     "metadata": {},
     "output_type": "execute_result"
    }
   ],
   "source": [
    "age = 58\n",
    "name = \"Joan\"\n",
    "f\"Name:{name}, age: {age}\""
   ]
  },
  {
   "cell_type": "code",
   "execution_count": 18,
   "id": "bcc69b5d-1950-463b-9c48-d3fb2eff55c3",
   "metadata": {},
   "outputs": [
    {
     "data": {
      "text/plain": [
       "'http://api.openweathermap.org/data/2.5/weather?q=Berlin,DE&appid=0b72d424f8aa757bc21cb2a396aba540'"
      ]
     },
     "execution_count": 18,
     "metadata": {},
     "output_type": "execute_result"
    }
   ],
   "source": [
    "f\"http://api.openweathermap.org/data/2.5/weather?q={city},{country}&appid={OWM_key}\""
   ]
  },
  {
   "cell_type": "code",
   "execution_count": 19,
   "id": "89edc17d-58c8-4ef9-83f8-ea5f0dea6907",
   "metadata": {},
   "outputs": [
    {
     "data": {
      "application/json": {
       "city": {
        "coord": {
         "lat": 52.5244,
         "lon": 13.4105
        },
        "country": "DE",
        "id": 2950159,
        "name": "Berlin",
        "population": 1000000,
        "sunrise": 1638255197,
        "sunset": 1638284232,
        "timezone": 3600
       },
       "cnt": 40,
       "cod": "200",
       "list": [
        {
         "clouds": {
          "all": 47
         },
         "dt": 1638295200,
         "dt_txt": "2021-11-30 18:00:00",
         "main": {
          "feels_like": 0.21,
          "grnd_level": 993,
          "humidity": 77,
          "pressure": 989,
          "sea_level": 989,
          "temp": 5.2,
          "temp_kf": 0.88,
          "temp_max": 5.2,
          "temp_min": 4.32
         },
         "pop": 0.39,
         "sys": {
          "pod": "n"
         },
         "visibility": 10000,
         "weather": [
          {
           "description": "scattered clouds",
           "icon": "03n",
           "id": 802,
           "main": "Clouds"
          }
         ],
         "wind": {
          "deg": 303,
          "gust": 18.03,
          "speed": 8.71
         }
        },
        {
         "clouds": {
          "all": 62
         },
         "dt": 1638306000,
         "dt_txt": "2021-11-30 21:00:00",
         "main": {
          "feels_like": -0.67,
          "grnd_level": 997,
          "humidity": 77,
          "pressure": 996,
          "sea_level": 996,
          "temp": 3.71,
          "temp_kf": 0.96,
          "temp_max": 3.71,
          "temp_min": 2.75
         },
         "pop": 0,
         "sys": {
          "pod": "n"
         },
         "visibility": 10000,
         "weather": [
          {
           "description": "broken clouds",
           "icon": "04n",
           "id": 803,
           "main": "Clouds"
          }
         ],
         "wind": {
          "deg": 293,
          "gust": 12.54,
          "speed": 5.83
         }
        },
        {
         "clouds": {
          "all": 83
         },
         "dt": 1638316800,
         "dt_txt": "2021-12-01 00:00:00",
         "main": {
          "feels_like": -0.69,
          "grnd_level": 998,
          "humidity": 88,
          "pressure": 1003,
          "sea_level": 1003,
          "temp": 2.15,
          "temp_kf": 0,
          "temp_max": 2.15,
          "temp_min": 2.15
         },
         "pop": 0,
         "sys": {
          "pod": "n"
         },
         "visibility": 10000,
         "weather": [
          {
           "description": "broken clouds",
           "icon": "04n",
           "id": 803,
           "main": "Clouds"
          }
         ],
         "wind": {
          "deg": 267,
          "gust": 7.28,
          "speed": 2.73
         }
        },
        {
         "clouds": {
          "all": 100
         },
         "dt": 1638327600,
         "dt_txt": "2021-12-01 03:00:00",
         "main": {
          "feels_like": -0.37,
          "grnd_level": 995,
          "humidity": 95,
          "pressure": 1001,
          "sea_level": 1001,
          "temp": 2.39,
          "temp_kf": 0,
          "temp_max": 2.39,
          "temp_min": 2.39
         },
         "pop": 0.01,
         "sys": {
          "pod": "n"
         },
         "visibility": 10000,
         "weather": [
          {
           "description": "overcast clouds",
           "icon": "04n",
           "id": 804,
           "main": "Clouds"
          }
         ],
         "wind": {
          "deg": 180,
          "gust": 6.28,
          "speed": 2.7
         }
        },
        {
         "clouds": {
          "all": 100
         },
         "dt": 1638338400,
         "dt_txt": "2021-12-01 06:00:00",
         "main": {
          "feels_like": 0.09,
          "grnd_level": 990,
          "humidity": 96,
          "pressure": 996,
          "sea_level": 996,
          "temp": 4.15,
          "temp_kf": 0,
          "temp_max": 4.15,
          "temp_min": 4.15
         },
         "pop": 1,
         "rain": {
          "3h": 2.78
         },
         "sys": {
          "pod": "n"
         },
         "visibility": 8715,
         "weather": [
          {
           "description": "light rain",
           "icon": "10n",
           "id": 500,
           "main": "Rain"
          }
         ],
         "wind": {
          "deg": 169,
          "gust": 13.7,
          "speed": 5.38
         }
        },
        {
         "clouds": {
          "all": 100
         },
         "dt": 1638349200,
         "dt_txt": "2021-12-01 09:00:00",
         "main": {
          "feels_like": 2.21,
          "grnd_level": 987,
          "humidity": 86,
          "pressure": 992,
          "sea_level": 992,
          "temp": 6.61,
          "temp_kf": 0,
          "temp_max": 6.61,
          "temp_min": 6.61
         },
         "pop": 0.99,
         "rain": {
          "3h": 2.55
         },
         "sys": {
          "pod": "d"
         },
         "visibility": 10000,
         "weather": [
          {
           "description": "light rain",
           "icon": "10d",
           "id": 500,
           "main": "Rain"
          }
         ],
         "wind": {
          "deg": 221,
          "gust": 16.35,
          "speed": 8.2
         }
        },
        {
         "clouds": {
          "all": 100
         },
         "dt": 1638360000,
         "dt_txt": "2021-12-01 12:00:00",
         "main": {
          "feels_like": 2.62,
          "grnd_level": 984,
          "humidity": 82,
          "pressure": 989,
          "sea_level": 989,
          "temp": 7.07,
          "temp_kf": 0,
          "temp_max": 7.07,
          "temp_min": 7.07
         },
         "pop": 0.97,
         "rain": {
          "3h": 0.19
         },
         "sys": {
          "pod": "d"
         },
         "visibility": 10000,
         "weather": [
          {
           "description": "light rain",
           "icon": "10d",
           "id": 500,
           "main": "Rain"
          }
         ],
         "wind": {
          "deg": 226,
          "gust": 17,
          "speed": 8.85
         }
        },
        {
         "clouds": {
          "all": 100
         },
         "dt": 1638370800,
         "dt_txt": "2021-12-01 15:00:00",
         "main": {
          "feels_like": 2.97,
          "grnd_level": 982,
          "humidity": 78,
          "pressure": 987,
          "sea_level": 987,
          "temp": 7.29,
          "temp_kf": 0,
          "temp_max": 7.29,
          "temp_min": 7.29
         },
         "pop": 0,
         "sys": {
          "pod": "n"
         },
         "visibility": 10000,
         "weather": [
          {
           "description": "overcast clouds",
           "icon": "04n",
           "id": 804,
           "main": "Clouds"
          }
         ],
         "wind": {
          "deg": 225,
          "gust": 17.69,
          "speed": 8.65
         }
        },
        {
         "clouds": {
          "all": 100
         },
         "dt": 1638381600,
         "dt_txt": "2021-12-01 18:00:00",
         "main": {
          "feels_like": 3.79,
          "grnd_level": 981,
          "humidity": 68,
          "pressure": 986,
          "sea_level": 986,
          "temp": 8.06,
          "temp_kf": 0,
          "temp_max": 8.06,
          "temp_min": 8.06
         },
         "pop": 0,
         "sys": {
          "pod": "n"
         },
         "visibility": 10000,
         "weather": [
          {
           "description": "overcast clouds",
           "icon": "04n",
           "id": 804,
           "main": "Clouds"
          }
         ],
         "wind": {
          "deg": 237,
          "gust": 20.04,
          "speed": 9.36
         }
        },
        {
         "clouds": {
          "all": 100
         },
         "dt": 1638392400,
         "dt_txt": "2021-12-01 21:00:00",
         "main": {
          "feels_like": 1.51,
          "grnd_level": 982,
          "humidity": 67,
          "pressure": 987,
          "sea_level": 987,
          "temp": 6.66,
          "temp_kf": 0,
          "temp_max": 6.66,
          "temp_min": 6.66
         },
         "pop": 0,
         "sys": {
          "pod": "n"
         },
         "visibility": 10000,
         "weather": [
          {
           "description": "overcast clouds",
           "icon": "04n",
           "id": 804,
           "main": "Clouds"
          }
         ],
         "wind": {
          "deg": 250,
          "gust": 21.97,
          "speed": 11.16
         }
        },
        {
         "clouds": {
          "all": 99
         },
         "dt": 1638403200,
         "dt_txt": "2021-12-02 00:00:00",
         "main": {
          "feels_like": -0.26,
          "grnd_level": 985,
          "humidity": 70,
          "pressure": 990,
          "sea_level": 990,
          "temp": 4.89,
          "temp_kf": 0,
          "temp_max": 4.89,
          "temp_min": 4.89
         },
         "pop": 0.02,
         "sys": {
          "pod": "n"
         },
         "visibility": 10000,
         "weather": [
          {
           "description": "overcast clouds",
           "icon": "04n",
           "id": 804,
           "main": "Clouds"
          }
         ],
         "wind": {
          "deg": 268,
          "gust": 16.38,
          "speed": 8.95
         }
        },
        {
         "clouds": {
          "all": 84
         },
         "dt": 1638414000,
         "dt_txt": "2021-12-02 03:00:00",
         "main": {
          "feels_like": -2.16,
          "grnd_level": 987,
          "humidity": 71,
          "pressure": 992,
          "sea_level": 992,
          "temp": 3.02,
          "temp_kf": 0,
          "temp_max": 3.02,
          "temp_min": 3.02
         },
         "pop": 0,
         "sys": {
          "pod": "n"
         },
         "visibility": 10000,
         "weather": [
          {
           "description": "broken clouds",
           "icon": "04n",
           "id": 803,
           "main": "Clouds"
          }
         ],
         "wind": {
          "deg": 280,
          "gust": 14.71,
          "speed": 7.34
         }
        },
        {
         "clouds": {
          "all": 65
         },
         "dt": 1638424800,
         "dt_txt": "2021-12-02 06:00:00",
         "main": {
          "feels_like": -2.64,
          "grnd_level": 989,
          "humidity": 73,
          "pressure": 994,
          "sea_level": 994,
          "temp": 1.65,
          "temp_kf": 0,
          "temp_max": 1.65,
          "temp_min": 1.65
         },
         "pop": 0,
         "sys": {
          "pod": "n"
         },
         "visibility": 10000,
         "weather": [
          {
           "description": "broken clouds",
           "icon": "04n",
           "id": 803,
           "main": "Clouds"
          }
         ],
         "wind": {
          "deg": 285,
          "gust": 10.61,
          "speed": 4.63
         }
        },
        {
         "clouds": {
          "all": 26
         },
         "dt": 1638435600,
         "dt_txt": "2021-12-02 09:00:00",
         "main": {
          "feels_like": -1.55,
          "grnd_level": 991,
          "humidity": 77,
          "pressure": 997,
          "sea_level": 997,
          "temp": 2.21,
          "temp_kf": 0,
          "temp_max": 2.21,
          "temp_min": 2.21
         },
         "pop": 0,
         "sys": {
          "pod": "d"
         },
         "visibility": 10000,
         "weather": [
          {
           "description": "scattered clouds",
           "icon": "03d",
           "id": 802,
           "main": "Clouds"
          }
         ],
         "wind": {
          "deg": 271,
          "gust": 8.87,
          "speed": 3.97
         }
        },
        {
         "clouds": {
          "all": 55
         },
         "dt": 1638446400,
         "dt_txt": "2021-12-02 12:00:00",
         "main": {
          "feels_like": 0.42,
          "grnd_level": 992,
          "humidity": 66,
          "pressure": 997,
          "sea_level": 997,
          "temp": 3.65,
          "temp_kf": 0,
          "temp_max": 3.65,
          "temp_min": 3.65
         },
         "pop": 0,
         "sys": {
          "pod": "d"
         },
         "visibility": 10000,
         "weather": [
          {
           "description": "broken clouds",
           "icon": "04d",
           "id": 803,
           "main": "Clouds"
          }
         ],
         "wind": {
          "deg": 274,
          "gust": 6.01,
          "speed": 3.65
         }
        },
        {
         "clouds": {
          "all": 100
         },
         "dt": 1638457200,
         "dt_txt": "2021-12-02 15:00:00",
         "main": {
          "feels_like": 0.11,
          "grnd_level": 993,
          "humidity": 96,
          "pressure": 998,
          "sea_level": 998,
          "temp": 1.82,
          "temp_kf": 0,
          "temp_max": 1.82,
          "temp_min": 1.82
         },
         "pop": 0.52,
         "snow": {
          "3h": 0.83
         },
         "sys": {
          "pod": "n"
         },
         "visibility": 1393,
         "weather": [
          {
           "description": "light snow",
           "icon": "13n",
           "id": 600,
           "main": "Snow"
          }
         ],
         "wind": {
          "deg": 306,
          "gust": 2.66,
          "speed": 1.65
         }
        },
        {
         "clouds": {
          "all": 100
         },
         "dt": 1638468000,
         "dt_txt": "2021-12-02 18:00:00",
         "main": {
          "feels_like": 0.7,
          "grnd_level": 995,
          "humidity": 80,
          "pressure": 1000,
          "sea_level": 1000,
          "temp": 0.7,
          "temp_kf": 0,
          "temp_max": 0.7,
          "temp_min": 0.7
         },
         "pop": 0.62,
         "snow": {
          "3h": 1.66
         },
         "sys": {
          "pod": "n"
         },
         "visibility": 10000,
         "weather": [
          {
           "description": "snow",
           "icon": "13n",
           "id": 601,
           "main": "Snow"
          }
         ],
         "wind": {
          "deg": 37,
          "gust": 3.53,
          "speed": 1.33
         }
        },
        {
         "clouds": {
          "all": 99
         },
         "dt": 1638478800,
         "dt_txt": "2021-12-02 21:00:00",
         "main": {
          "feels_like": -2.65,
          "grnd_level": 997,
          "humidity": 83,
          "pressure": 1003,
          "sea_level": 1003,
          "temp": 0.33,
          "temp_kf": 0,
          "temp_max": 0.33,
          "temp_min": 0.33
         },
         "pop": 0.35,
         "sys": {
          "pod": "n"
         },
         "visibility": 10000,
         "weather": [
          {
           "description": "overcast clouds",
           "icon": "04n",
           "id": 804,
           "main": "Clouds"
          }
         ],
         "wind": {
          "deg": 296,
          "gust": 4.86,
          "speed": 2.52
         }
        },
        {
         "clouds": {
          "all": 77
         },
         "dt": 1638489600,
         "dt_txt": "2021-12-03 00:00:00",
         "main": {
          "feels_like": -5.15,
          "grnd_level": 999,
          "humidity": 85,
          "pressure": 1004,
          "sea_level": 1004,
          "temp": -1.37,
          "temp_kf": 0,
          "temp_max": -1.37,
          "temp_min": -1.37
         },
         "pop": 0.31,
         "sys": {
          "pod": "n"
         },
         "visibility": 10000,
         "weather": [
          {
           "description": "broken clouds",
           "icon": "04n",
           "id": 803,
           "main": "Clouds"
          }
         ],
         "wind": {
          "deg": 270,
          "gust": 6.94,
          "speed": 3
         }
        },
        {
         "clouds": {
          "all": 13
         },
         "dt": 1638500400,
         "dt_txt": "2021-12-03 03:00:00",
         "main": {
          "feels_like": -5.49,
          "grnd_level": 1000,
          "humidity": 83,
          "pressure": 1005,
          "sea_level": 1005,
          "temp": -1.41,
          "temp_kf": 0,
          "temp_max": -1.41,
          "temp_min": -1.41
         },
         "pop": 0,
         "sys": {
          "pod": "n"
         },
         "visibility": 10000,
         "weather": [
          {
           "description": "few clouds",
           "icon": "02n",
           "id": 801,
           "main": "Clouds"
          }
         ],
         "wind": {
          "deg": 247,
          "gust": 9.14,
          "speed": 3.33
         }
        },
        {
         "clouds": {
          "all": 35
         },
         "dt": 1638511200,
         "dt_txt": "2021-12-03 06:00:00",
         "main": {
          "feels_like": -6.15,
          "grnd_level": 1000,
          "humidity": 81,
          "pressure": 1005,
          "sea_level": 1005,
          "temp": -1,
          "temp_kf": 0,
          "temp_max": -1,
          "temp_min": -1
         },
         "pop": 0,
         "sys": {
          "pod": "n"
         },
         "visibility": 10000,
         "weather": [
          {
           "description": "scattered clouds",
           "icon": "03n",
           "id": 802,
           "main": "Clouds"
          }
         ],
         "wind": {
          "deg": 225,
          "gust": 11.78,
          "speed": 4.98
         }
        },
        {
         "clouds": {
          "all": 99
         },
         "dt": 1638522000,
         "dt_txt": "2021-12-03 09:00:00",
         "main": {
          "feels_like": -2.88,
          "grnd_level": 1000,
          "humidity": 89,
          "pressure": 1005,
          "sea_level": 1005,
          "temp": 1.81,
          "temp_kf": 0,
          "temp_max": 1.81,
          "temp_min": 1.81
         },
         "pop": 0.29,
         "snow": {
          "3h": 0.22
         },
         "sys": {
          "pod": "d"
         },
         "visibility": 10000,
         "weather": [
          {
           "description": "light snow",
           "icon": "13d",
           "id": 600,
           "main": "Snow"
          }
         ],
         "wind": {
          "deg": 252,
          "gust": 13.45,
          "speed": 5.44
         }
        },
        {
         "clouds": {
          "all": 99
         },
         "dt": 1638532800,
         "dt_txt": "2021-12-03 12:00:00",
         "main": {
          "feels_like": -1.45,
          "grnd_level": 1001,
          "humidity": 76,
          "pressure": 1006,
          "sea_level": 1006,
          "temp": 3.34,
          "temp_kf": 0,
          "temp_max": 3.34,
          "temp_min": 3.34
         },
         "pop": 0.05,
         "sys": {
          "pod": "d"
         },
         "visibility": 10000,
         "weather": [
          {
           "description": "overcast clouds",
           "icon": "04d",
           "id": 804,
           "main": "Clouds"
          }
         ],
         "wind": {
          "deg": 262,
          "gust": 12.91,
          "speed": 6.57
         }
        },
        {
         "clouds": {
          "all": 100
         },
         "dt": 1638543600,
         "dt_txt": "2021-12-03 15:00:00",
         "main": {
          "feels_like": -1.61,
          "grnd_level": 1001,
          "humidity": 81,
          "pressure": 1007,
          "sea_level": 1007,
          "temp": 3.2,
          "temp_kf": 0,
          "temp_max": 3.2,
          "temp_min": 3.2
         },
         "pop": 0.22,
         "sys": {
          "pod": "n"
         },
         "visibility": 10000,
         "weather": [
          {
           "description": "overcast clouds",
           "icon": "04n",
           "id": 804,
           "main": "Clouds"
          }
         ],
         "wind": {
          "deg": 262,
          "gust": 13.73,
          "speed": 6.53
         }
        },
        {
         "clouds": {
          "all": 99
         },
         "dt": 1638554400,
         "dt_txt": "2021-12-03 18:00:00",
         "main": {
          "feels_like": -2.11,
          "grnd_level": 1001,
          "humidity": 80,
          "pressure": 1007,
          "sea_level": 1007,
          "temp": 2.34,
          "temp_kf": 0,
          "temp_max": 2.34,
          "temp_min": 2.34
         },
         "pop": 0.17,
         "sys": {
          "pod": "n"
         },
         "visibility": 10000,
         "weather": [
          {
           "description": "overcast clouds",
           "icon": "04n",
           "id": 804,
           "main": "Clouds"
          }
         ],
         "wind": {
          "deg": 232,
          "gust": 12.66,
          "speed": 5.24
         }
        },
        {
         "clouds": {
          "all": 98
         },
         "dt": 1638565200,
         "dt_txt": "2021-12-03 21:00:00",
         "main": {
          "feels_like": -3.31,
          "grnd_level": 1001,
          "humidity": 81,
          "pressure": 1006,
          "sea_level": 1006,
          "temp": 1.51,
          "temp_kf": 0,
          "temp_max": 1.51,
          "temp_min": 1.51
         },
         "pop": 0,
         "sys": {
          "pod": "n"
         },
         "visibility": 10000,
         "weather": [
          {
           "description": "overcast clouds",
           "icon": "04n",
           "id": 804,
           "main": "Clouds"
          }
         ],
         "wind": {
          "deg": 216,
          "gust": 12.12,
          "speed": 5.53
         }
        },
        {
         "clouds": {
          "all": 91
         },
         "dt": 1638576000,
         "dt_txt": "2021-12-04 00:00:00",
         "main": {
          "feels_like": -3.86,
          "grnd_level": 999,
          "humidity": 82,
          "pressure": 1004,
          "sea_level": 1004,
          "temp": 0.91,
          "temp_kf": 0,
          "temp_max": 0.91,
          "temp_min": 0.91
         },
         "pop": 0,
         "sys": {
          "pod": "n"
         },
         "visibility": 10000,
         "weather": [
          {
           "description": "overcast clouds",
           "icon": "04n",
           "id": 804,
           "main": "Clouds"
          }
         ],
         "wind": {
          "deg": 213,
          "gust": 11.8,
          "speed": 5.14
         }
        },
        {
         "clouds": {
          "all": 100
         },
         "dt": 1638586800,
         "dt_txt": "2021-12-04 03:00:00",
         "main": {
          "feels_like": -4.09,
          "grnd_level": 996,
          "humidity": 80,
          "pressure": 1002,
          "sea_level": 1002,
          "temp": 0.5,
          "temp_kf": 0,
          "temp_max": 0.5,
          "temp_min": 0.5
         },
         "pop": 0,
         "sys": {
          "pod": "n"
         },
         "visibility": 10000,
         "weather": [
          {
           "description": "overcast clouds",
           "icon": "04n",
           "id": 804,
           "main": "Clouds"
          }
         ],
         "wind": {
          "deg": 175,
          "gust": 11.13,
          "speed": 4.66
         }
        },
        {
         "clouds": {
          "all": 100
         },
         "dt": 1638597600,
         "dt_txt": "2021-12-04 06:00:00",
         "main": {
          "feels_like": -3.78,
          "grnd_level": 993,
          "humidity": 74,
          "pressure": 998,
          "sea_level": 998,
          "temp": 0.91,
          "temp_kf": 0,
          "temp_max": 0.91,
          "temp_min": 0.91
         },
         "pop": 0,
         "sys": {
          "pod": "n"
         },
         "visibility": 10000,
         "weather": [
          {
           "description": "overcast clouds",
           "icon": "04n",
           "id": 804,
           "main": "Clouds"
          }
         ],
         "wind": {
          "deg": 168,
          "gust": 11.97,
          "speed": 5.01
         }
        },
        {
         "clouds": {
          "all": 100
         },
         "dt": 1638608400,
         "dt_txt": "2021-12-04 09:00:00",
         "main": {
          "feels_like": -4.23,
          "grnd_level": 991,
          "humidity": 79,
          "pressure": 996,
          "sea_level": 996,
          "temp": 1.04,
          "temp_kf": 0,
          "temp_max": 1.04,
          "temp_min": 1.04
         },
         "pop": 0.19,
         "sys": {
          "pod": "d"
         },
         "visibility": 10000,
         "weather": [
          {
           "description": "overcast clouds",
           "icon": "04d",
           "id": 804,
           "main": "Clouds"
          }
         ],
         "wind": {
          "deg": 159,
          "gust": 12.32,
          "speed": 6.21
         }
        },
        {
         "clouds": {
          "all": 100
         },
         "dt": 1638619200,
         "dt_txt": "2021-12-04 12:00:00",
         "main": {
          "feels_like": -4.32,
          "grnd_level": 987,
          "humidity": 96,
          "pressure": 993,
          "sea_level": 993,
          "temp": 0.6,
          "temp_kf": 0,
          "temp_max": 0.6,
          "temp_min": 0.6
         },
         "pop": 0.86,
         "snow": {
          "3h": 1.36
         },
         "sys": {
          "pod": "d"
         },
         "visibility": 58,
         "weather": [
          {
           "description": "light snow",
           "icon": "13d",
           "id": 600,
           "main": "Snow"
          }
         ],
         "wind": {
          "deg": 155,
          "gust": 11.96,
          "speed": 5.28
         }
        },
        {
         "clouds": {
          "all": 100
         },
         "dt": 1638630000,
         "dt_txt": "2021-12-04 15:00:00",
         "main": {
          "feels_like": -0.71,
          "grnd_level": 986,
          "humidity": 97,
          "pressure": 991,
          "sea_level": 991,
          "temp": 2.98,
          "temp_kf": 0,
          "temp_max": 2.98,
          "temp_min": 2.98
         },
         "pop": 0.95,
         "rain": {
          "3h": 2.87
         },
         "sys": {
          "pod": "n"
         },
         "visibility": 7952,
         "weather": [
          {
           "description": "light rain",
           "icon": "10n",
           "id": 500,
           "main": "Rain"
          }
         ],
         "wind": {
          "deg": 194,
          "gust": 11.97,
          "speed": 4.15
         }
        },
        {
         "clouds": {
          "all": 100
         },
         "dt": 1638640800,
         "dt_txt": "2021-12-04 18:00:00",
         "main": {
          "feels_like": 0.22,
          "grnd_level": 987,
          "humidity": 87,
          "pressure": 992,
          "sea_level": 992,
          "temp": 4.37,
          "temp_kf": 0,
          "temp_max": 4.37,
          "temp_min": 4.37
         },
         "pop": 0.95,
         "rain": {
          "3h": 0.19
         },
         "sys": {
          "pod": "n"
         },
         "visibility": 10000,
         "weather": [
          {
           "description": "light rain",
           "icon": "10n",
           "id": 500,
           "main": "Rain"
          }
         ],
         "wind": {
          "deg": 213,
          "gust": 12.57,
          "speed": 5.71
         }
        },
        {
         "clouds": {
          "all": 100
         },
         "dt": 1638651600,
         "dt_txt": "2021-12-04 21:00:00",
         "main": {
          "feels_like": -0.5,
          "grnd_level": 987,
          "humidity": 96,
          "pressure": 993,
          "sea_level": 993,
          "temp": 3.58,
          "temp_kf": 0,
          "temp_max": 3.58,
          "temp_min": 3.58
         },
         "pop": 0.38,
         "rain": {
          "3h": 0.75
         },
         "sys": {
          "pod": "n"
         },
         "visibility": 3769,
         "weather": [
          {
           "description": "light rain",
           "icon": "10n",
           "id": 500,
           "main": "Rain"
          }
         ],
         "wind": {
          "deg": 201,
          "gust": 11.99,
          "speed": 5.12
         }
        },
        {
         "clouds": {
          "all": 100
         },
         "dt": 1638662400,
         "dt_txt": "2021-12-05 00:00:00",
         "main": {
          "feels_like": -1.06,
          "grnd_level": 987,
          "humidity": 97,
          "pressure": 993,
          "sea_level": 993,
          "temp": 2.69,
          "temp_kf": 0,
          "temp_max": 2.69,
          "temp_min": 2.69
         },
         "pop": 0.67,
         "rain": {
          "3h": 0.99
         },
         "sys": {
          "pod": "n"
         },
         "visibility": 503,
         "weather": [
          {
           "description": "light rain",
           "icon": "10n",
           "id": 500,
           "main": "Rain"
          }
         ],
         "wind": {
          "deg": 200,
          "gust": 8.2,
          "speed": 4.13
         }
        },
        {
         "clouds": {
          "all": 100
         },
         "dt": 1638673200,
         "dt_txt": "2021-12-05 03:00:00",
         "main": {
          "feels_like": -1.35,
          "grnd_level": 989,
          "humidity": 98,
          "pressure": 994,
          "sea_level": 994,
          "temp": 1.87,
          "temp_kf": 0,
          "temp_max": 1.87,
          "temp_min": 1.87
         },
         "pop": 0.95,
         "snow": {
          "3h": 2.27
         },
         "sys": {
          "pod": "n"
         },
         "visibility": 39,
         "weather": [
          {
           "description": "snow",
           "icon": "13n",
           "id": 601,
           "main": "Snow"
          }
         ],
         "wind": {
          "deg": 239,
          "gust": 7.59,
          "speed": 3.12
         }
        },
        {
         "clouds": {
          "all": 100
         },
         "dt": 1638684000,
         "dt_txt": "2021-12-05 06:00:00",
         "main": {
          "feels_like": 1.51,
          "grnd_level": 991,
          "humidity": 99,
          "pressure": 996,
          "sea_level": 996,
          "temp": 1.51,
          "temp_kf": 0,
          "temp_max": 1.51,
          "temp_min": 1.51
         },
         "pop": 1,
         "snow": {
          "3h": 3.5
         },
         "sys": {
          "pod": "n"
         },
         "visibility": 25,
         "weather": [
          {
           "description": "snow",
           "icon": "13n",
           "id": 601,
           "main": "Snow"
          }
         ],
         "wind": {
          "deg": 272,
          "gust": 3.59,
          "speed": 1.3
         }
        },
        {
         "clouds": {
          "all": 100
         },
         "dt": 1638694800,
         "dt_txt": "2021-12-05 09:00:00",
         "main": {
          "feels_like": -0.5,
          "grnd_level": 993,
          "humidity": 99,
          "pressure": 998,
          "sea_level": 998,
          "temp": 1.27,
          "temp_kf": 0,
          "temp_max": 1.27,
          "temp_min": 1.27
         },
         "pop": 0.98,
         "snow": {
          "3h": 2.24
         },
         "sys": {
          "pod": "d"
         },
         "visibility": 21,
         "weather": [
          {
           "description": "snow",
           "icon": "13d",
           "id": 601,
           "main": "Snow"
          }
         ],
         "wind": {
          "deg": 282,
          "gust": 2.79,
          "speed": 1.63
         }
        },
        {
         "clouds": {
          "all": 100
         },
         "dt": 1638705600,
         "dt_txt": "2021-12-05 12:00:00",
         "main": {
          "feels_like": 1.38,
          "grnd_level": 995,
          "humidity": 99,
          "pressure": 1000,
          "sea_level": 1000,
          "temp": 1.38,
          "temp_kf": 0,
          "temp_max": 1.38,
          "temp_min": 1.38
         },
         "pop": 1,
         "snow": {
          "3h": 0.66
         },
         "sys": {
          "pod": "d"
         },
         "visibility": 26,
         "weather": [
          {
           "description": "light snow",
           "icon": "13d",
           "id": 600,
           "main": "Snow"
          }
         ],
         "wind": {
          "deg": 280,
          "gust": 1.55,
          "speed": 0.92
         }
        },
        {
         "clouds": {
          "all": 100
         },
         "dt": 1638716400,
         "dt_txt": "2021-12-05 15:00:00",
         "main": {
          "feels_like": -0.08,
          "grnd_level": 997,
          "humidity": 99,
          "pressure": 1002,
          "sea_level": 1002,
          "temp": 1.35,
          "temp_kf": 0,
          "temp_max": 1.35,
          "temp_min": 1.35
         },
         "pop": 0.98,
         "snow": {
          "3h": 0.73
         },
         "sys": {
          "pod": "n"
         },
         "visibility": 22,
         "weather": [
          {
           "description": "light snow",
           "icon": "13n",
           "id": 600,
           "main": "Snow"
          }
         ],
         "wind": {
          "deg": 13,
          "gust": 2.25,
          "speed": 1.41
         }
        }
       ],
       "message": 0
      },
      "text/plain": [
       "<IPython.core.display.JSON object>"
      ]
     },
     "execution_count": 19,
     "metadata": {
      "application/json": {
       "expanded": false,
       "root": "root"
      }
     },
     "output_type": "execute_result"
    }
   ],
   "source": [
    "import requests\n",
    "\n",
    "response = requests.get(f'http://api.openweathermap.org/data/2.5/forecast/?q={city},{country}&appid={OWM_key}&units=metric&lang=en')\n",
    "\n",
    "from IPython.display import JSON\n",
    "JSON(response.json())"
   ]
  },
  {
   "cell_type": "code",
   "execution_count": 20,
   "id": "a3aa8844-3d2d-46a9-ac29-5ee727daa6c4",
   "metadata": {},
   "outputs": [],
   "source": [
    "forecast_api = response.json()['list']\n",
    "#forecast_api"
   ]
  },
  {
   "cell_type": "code",
   "execution_count": 21,
   "id": "44c827a2-762e-4a50-89c7-a00a74af7eaa",
   "metadata": {},
   "outputs": [
    {
     "data": {
      "text/plain": [
       "list"
      ]
     },
     "execution_count": 21,
     "metadata": {},
     "output_type": "execute_result"
    }
   ],
   "source": [
    "type(forecast_api)"
   ]
  },
  {
   "cell_type": "code",
   "execution_count": 22,
   "id": "82c813aa-37d3-43ad-9b21-a4c1e07f5111",
   "metadata": {},
   "outputs": [
    {
     "name": "stdout",
     "output_type": "stream",
     "text": [
      "2021-11-30 18:00:00\t|\t5.2\t|\t8.71\t|\t0.39\t|\t0\t|\t0\n"
     ]
    }
   ],
   "source": [
    "forecast_api = response.json()['list']\n",
    "# look for the fields that could ve relevant: \n",
    "# better field descriptions https://www.weatherbit.io/api/weather-forecast-5-day\n",
    "datetime, temperature, wind, prob_perc, rain_qty, snow = [], [], [], [], [], []\n",
    "\n",
    "for forecast_3h in forecast_api: \n",
    "    # datetime utc\n",
    "    datetime.append(forecast_3h['dt_txt'])\n",
    "    # temperature \n",
    "    temperature.append(forecast_3h['main']['temp'])\n",
    "    # wind\n",
    "    wind.append(forecast_3h['wind']['speed'])\n",
    "    # probability precipitation \n",
    "    try: prob_perc.append(float(forecast_3h['pop']))\n",
    "    except: prob_perc.append(0)\n",
    "    # rain\n",
    "    try: rain_qty.append(float(forecast_3h['rain']['3h']))\n",
    "    except: rain_qty.append(0)\n",
    "    # snow \n",
    "    try: snow.append(float(forecast_3h['snow']['3h']))\n",
    "    except: snow.append(0) \n",
    "        \n",
    "print(datetime[0], temperature[0], wind[0], prob_perc[0], rain_qty[0], snow[0], sep='\\t|\\t')\n",
    "# next steps: insert values into the weather table\n",
    "# need to create an id for berlin city"
   ]
  },
  {
   "cell_type": "code",
   "execution_count": 23,
   "id": "3b4cf33c-f31d-46a3-86f1-2f21a87053f9",
   "metadata": {},
   "outputs": [
    {
     "name": "stdout",
     "output_type": "stream",
     "text": [
      "0.0\n",
      "0.0\n",
      "0.0\n",
      "0.0\n",
      "num is 0\n",
      "0.0\n",
      "0.0\n"
     ]
    }
   ],
   "source": [
    "list_num = [1, 2, 34, 5, 0, 34 , 5]\n",
    "for num in list_num: \n",
    "    try: \n",
    "        print(0/num)\n",
    "    except: \n",
    "        print('num is 0')"
   ]
  },
  {
   "cell_type": "code",
   "execution_count": null,
   "id": "f5c2be58-456f-4c9c-91dd-1243f85132ae",
   "metadata": {},
   "outputs": [],
   "source": []
  },
  {
   "cell_type": "markdown",
   "id": "fb346746-0a3a-4ceb-a8f8-aabf80129453",
   "metadata": {},
   "source": [
    "## Trying Rapid API\n",
    "\n",
    "### Number Translator API Documentation\n",
    "\n",
    "https://rapidapi.com/orthosie/api/numbers-translator/"
   ]
  },
  {
   "cell_type": "code",
   "execution_count": 24,
   "id": "e8c2de37-5182-44c2-91a4-4aa0abc128d3",
   "metadata": {},
   "outputs": [],
   "source": [
    "def text_number(number): \n",
    "\n",
    "    import requests\n",
    "\n",
    "    url = \"https://numbers-spell.p.rapidapi.com/numbers\"\n",
    "\n",
    "    querystring = {\"text\":number}\n",
    "\n",
    "    headers = {\n",
    "        'x-funtranslations-api-secret': \"<REQUIRED>\",\n",
    "        'x-rapidapi-host': \"numbers-spell.p.rapidapi.com\",\n",
    "        'x-rapidapi-key': \"\"\n",
    "        }\n",
    "\n",
    "    response = requests.request(\"GET\", url, headers=headers, params=querystring)\n",
    "\n",
    "    return(response.json())"
   ]
  },
  {
   "cell_type": "code",
   "execution_count": 25,
   "id": "92f6ab6b-a825-418a-b7a2-7f0a7d0c77bf",
   "metadata": {},
   "outputs": [],
   "source": [
    "temp = text_number(34)#['contents']['translation']"
   ]
  },
  {
   "cell_type": "code",
   "execution_count": 26,
   "id": "b54db841-6654-4fb4-8221-8b9a2aa230a3",
   "metadata": {},
   "outputs": [
    {
     "data": {
      "text/plain": [
       "{'message': 'Invalid API key. Go to https://docs.rapidapi.com/docs/keys for more info.'}"
      ]
     },
     "execution_count": 26,
     "metadata": {},
     "output_type": "execute_result"
    }
   ],
   "source": [
    "temp"
   ]
  },
  {
   "cell_type": "markdown",
   "id": "ad5e1a57-4ef0-4c9f-8c44-8445f10d0b07",
   "metadata": {},
   "source": [
    "### IMDb Documentation\n",
    "\n",
    "https://rapidapi.com/apidojo/api/imdb8/"
   ]
  },
  {
   "cell_type": "code",
   "execution_count": 27,
   "id": "c7f910cc-815b-48ca-bdd7-0e106b663cff",
   "metadata": {
    "tags": []
   },
   "outputs": [
    {
     "name": "stdout",
     "output_type": "stream",
     "text": [
      "{\"message\":\"Invalid API key. Go to https:\\/\\/docs.rapidapi.com\\/docs\\/keys for more info.\"}\n"
     ]
    }
   ],
   "source": [
    "import requests\n",
    "\n",
    "url = \"https://imdb8.p.rapidapi.com/title/find\"\n",
    "\n",
    "querystring = {\"q\":\"pulp fiction\"}\n",
    "\n",
    "headers = {\n",
    "    'x-rapidapi-host': \"imdb8.p.rapidapi.com\",\n",
    "    'x-rapidapi-key': \"\"\n",
    "    }\n",
    "\n",
    "response = requests.request(\"GET\", url, headers=headers, params=querystring)\n",
    "\n",
    "print(response.text)"
   ]
  },
  {
   "cell_type": "code",
   "execution_count": 28,
   "id": "12647ec9-ef9a-4866-aca9-471286e8403d",
   "metadata": {},
   "outputs": [
    {
     "data": {
      "application/json": {
       "message": "Invalid API key. Go to https://docs.rapidapi.com/docs/keys for more info."
      },
      "text/plain": [
       "<IPython.core.display.JSON object>"
      ]
     },
     "execution_count": 28,
     "metadata": {
      "application/json": {
       "expanded": false,
       "root": "root"
      }
     },
     "output_type": "execute_result"
    }
   ],
   "source": [
    "JSON(response.json())"
   ]
  },
  {
   "cell_type": "code",
   "execution_count": null,
   "id": "59c4777d-6116-4af2-a180-1a001bf92959",
   "metadata": {},
   "outputs": [],
   "source": []
  },
  {
   "cell_type": "code",
   "execution_count": null,
   "id": "8020aa8b-5cdf-4224-940b-71d0cbdc1b95",
   "metadata": {},
   "outputs": [],
   "source": []
  }
 ],
 "metadata": {
  "kernelspec": {
   "display_name": "Python 3 (ipykernel)",
   "language": "python",
   "name": "python3"
  },
  "language_info": {
   "codemirror_mode": {
    "name": "ipython",
    "version": 3
   },
   "file_extension": ".py",
   "mimetype": "text/x-python",
   "name": "python",
   "nbconvert_exporter": "python",
   "pygments_lexer": "ipython3",
   "version": "3.9.5"
  }
 },
 "nbformat": 4,
 "nbformat_minor": 5
}
