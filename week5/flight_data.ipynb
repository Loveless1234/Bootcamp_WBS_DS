{
 "cells": [
  {
   "cell_type": "code",
   "execution_count": 96,
   "id": "3570ac8c-213e-4299-adda-d0bc99c1945d",
   "metadata": {},
   "outputs": [],
   "source": [
    "import pandas as pd\n",
    "import requests\n",
    "\n",
    "\n",
    "url = \"https://aerodatabox.p.rapidapi.com/flights/airports/icao/EDDB/2021-11-25T00:00/2021-11-25T11:00\"\n",
    "\n",
    "querystring = {\"withLeg\":\"true\",\"withCancelled\":\"true\",\"withCodeshared\":\"true\",\"withCargo\":\"true\",\"withPrivate\":\"true\",\"withLocation\":\"false\"}\n",
    "\n",
    "headers = {\n",
    "    'x-rapidapi-host': \"aerodatabox.p.rapidapi.com\",\n",
    "    'x-rapidapi-key': \"8f9f83bab9msh9cbc143b90ebf53p169e3ejsn9597fff30d82\"\n",
    "    }\n",
    "\n",
    "response = requests.request(\"GET\", url, headers=headers, params=querystring)\n",
    "\n",
    "#print(response.text)"
   ]
  },
  {
   "cell_type": "code",
   "execution_count": 97,
   "id": "57008a9a-8279-42e9-8592-22d76c930556",
   "metadata": {},
   "outputs": [
    {
     "data": {
      "application/json": {
       "arrivals": [
        {
         "aircraft": {
          "model": "Boeing 737-800"
         },
         "airline": {
          "name": "Eurowings"
         },
         "arrival": {
          "quality": [
           "Basic"
          ],
          "scheduledTimeLocal": "2021-11-25 07:20+01:00",
          "scheduledTimeUtc": "2021-11-25 06:20Z",
          "terminal": "1"
         },
         "codeshareStatus": "Unknown",
         "departure": {
          "airport": {
           "iata": "CGN",
           "icao": "EDDK",
           "name": "Cologne"
          },
          "quality": [
           "Basic"
          ],
          "scheduledTimeLocal": "2021-11-25 06:10+01:00",
          "scheduledTimeUtc": "2021-11-25 05:10Z",
          "terminal": "1"
         },
         "isCargo": false,
         "number": "EW 12",
         "status": "Unknown"
        },
        {
         "aircraft": {
          "model": "Airbus A319"
         },
         "airline": {
          "name": "Eurowings"
         },
         "arrival": {
          "quality": [
           "Basic"
          ],
          "scheduledTimeLocal": "2021-11-25 07:30+01:00",
          "scheduledTimeUtc": "2021-11-25 06:30Z",
          "terminal": "1"
         },
         "codeshareStatus": "Unknown",
         "departure": {
          "actualTimeLocal": "2021-11-25 06:10+01:00",
          "actualTimeUtc": "2021-11-25 05:10Z",
          "airport": {
           "iata": "STR",
           "icao": "EDDS",
           "name": "Stuttgart"
          },
          "gate": "322",
          "quality": [
           "Basic",
           "Live"
          ],
          "scheduledTimeLocal": "2021-11-25 06:10+01:00",
          "scheduledTimeUtc": "2021-11-25 05:10Z",
          "terminal": "1"
         },
         "isCargo": false,
         "number": "EW 2002",
         "status": "Unknown"
        },
        {
         "aircraft": {
          "model": "Airbus A320",
          "reg": "D-AEWT"
         },
         "airline": {
          "name": "Eurowings"
         },
         "arrival": {
          "quality": [
           "Basic"
          ],
          "scheduledTimeLocal": "2021-11-25 07:35+01:00",
          "scheduledTimeUtc": "2021-11-25 06:35Z",
          "terminal": "1"
         },
         "codeshareStatus": "Unknown",
         "departure": {
          "airport": {
           "iata": "DUS",
           "icao": "EDDL",
           "name": "Duesseldorf"
          },
          "checkInDesk": "153,170",
          "gate": "A65",
          "quality": [
           "Basic"
          ],
          "scheduledTimeLocal": "2021-11-25 06:20+01:00",
          "scheduledTimeUtc": "2021-11-25 05:20Z",
          "terminal": "B"
         },
         "isCargo": false,
         "number": "EW 9048",
         "status": "Unknown"
        },
        {
         "aircraft": {
          "model": "Airbus A220-300"
         },
         "airline": {
          "name": "Air Baltic"
         },
         "arrival": {
          "quality": [
           "Basic"
          ],
          "scheduledTimeLocal": "2021-11-25 07:55+01:00",
          "scheduledTimeUtc": "2021-11-25 06:55Z",
          "terminal": "1"
         },
         "codeshareStatus": "Unknown",
         "departure": {
          "actualTimeLocal": "2021-11-25 07:15+02:00",
          "actualTimeUtc": "2021-11-25 05:15Z",
          "airport": {
           "iata": "RIX",
           "icao": "EVRA",
           "name": "Riga"
          },
          "quality": [
           "Basic",
           "Live"
          ],
          "scheduledTimeLocal": "2021-11-25 07:15+02:00",
          "scheduledTimeUtc": "2021-11-25 05:15Z",
          "terminal": "B1"
         },
         "isCargo": false,
         "number": "BT 211",
         "status": "Unknown"
        },
        {
         "aircraft": {
          "model": "Airbus A319"
         },
         "airline": {
          "name": "easyJet"
         },
         "arrival": {
          "quality": [
           "Basic"
          ],
          "scheduledTimeLocal": "2021-11-25 07:55+01:00",
          "scheduledTimeUtc": "2021-11-25 06:55Z",
          "terminal": "1"
         },
         "codeshareStatus": "Unknown",
         "departure": {
          "airport": {
           "iata": "BSL",
           "icao": "LFSB",
           "name": "Bâle/Mulhouse"
          },
          "quality": [
           "Basic"
          ],
          "scheduledTimeLocal": "2021-11-25 06:20+01:00",
          "scheduledTimeUtc": "2021-11-25 05:20Z"
         },
         "isCargo": false,
         "number": "U2 5632",
         "status": "Unknown"
        },
        {
         "aircraft": {
          "model": "Airbus A321",
          "reg": "D-AIDK"
         },
         "airline": {
          "name": "Lufthansa"
         },
         "arrival": {
          "quality": [
           "Basic"
          ],
          "scheduledTimeLocal": "2021-11-25 07:55+01:00",
          "scheduledTimeUtc": "2021-11-25 06:55Z",
          "terminal": "1"
         },
         "codeshareStatus": "IsCodeshared",
         "departure": {
          "actualTimeLocal": "2021-11-25 06:45+01:00",
          "actualTimeUtc": "2021-11-25 05:45Z",
          "airport": {
           "iata": "FRA",
           "icao": "EDDF",
           "name": "Frankfurt-am-Main"
          },
          "checkInDesk": "263-453",
          "gate": "A21",
          "quality": [
           "Basic",
           "Live"
          ],
          "scheduledTimeLocal": "2021-11-25 06:45+01:00",
          "scheduledTimeUtc": "2021-11-25 05:45Z",
          "terminal": "1"
         },
         "isCargo": false,
         "number": "LH 170",
         "status": "Unknown"
        },
        {
         "aircraft": {
          "model": "ATR 72"
         },
         "airline": {
          "name": "Danish Air"
         },
         "arrival": {
          "quality": [
           "Basic"
          ],
          "scheduledTimeLocal": "2021-11-25 08:10+01:00",
          "scheduledTimeUtc": "2021-11-25 07:10Z",
          "terminal": "0"
         },
         "codeshareStatus": "Unknown",
         "departure": {
          "airport": {
           "iata": "SCN",
           "icao": "EDDR",
           "name": "Saarbrücken"
          },
          "quality": [
           "Basic"
          ],
          "scheduledTimeLocal": "2021-11-25 06:40+01:00",
          "scheduledTimeUtc": "2021-11-25 05:40Z"
         },
         "isCargo": false,
         "number": "DX 121",
         "status": "Unknown"
        },
        {
         "aircraft": {
          "model": "Airbus A320 NEO"
         },
         "airline": {
          "name": "Lufthansa"
         },
         "arrival": {
          "quality": [
           "Basic"
          ],
          "scheduledTimeLocal": "2021-11-25 08:10+01:00",
          "scheduledTimeUtc": "2021-11-25 07:10Z",
          "terminal": "1"
         },
         "codeshareStatus": "IsCodeshared",
         "departure": {
          "airport": {
           "iata": "MUC",
           "icao": "EDDM",
           "name": "Munich"
          },
          "quality": [
           "Basic"
          ],
          "scheduledTimeLocal": "2021-11-25 07:00+01:00",
          "scheduledTimeUtc": "2021-11-25 06:00Z",
          "terminal": "2"
         },
         "isCargo": false,
         "number": "LH 1928",
         "status": "Unknown"
        },
        {
         "aircraft": {
          "model": "Bombardier Dash 8 Q400 / DHC-8-400"
         },
         "airline": {
          "name": "Luxair"
         },
         "arrival": {
          "quality": [
           "Basic"
          ],
          "scheduledTimeLocal": "2021-11-25 08:15+01:00",
          "scheduledTimeUtc": "2021-11-25 07:15Z",
          "terminal": "1"
         },
         "codeshareStatus": "Unknown",
         "departure": {
          "actualTimeLocal": "2021-11-25 06:45+01:00",
          "actualTimeUtc": "2021-11-25 05:45Z",
          "airport": {
           "iata": "LUX",
           "icao": "ELLX",
           "name": "Luxembourg"
          },
          "quality": [
           "Basic",
           "Live"
          ],
          "scheduledTimeLocal": "2021-11-25 06:45+01:00",
          "scheduledTimeUtc": "2021-11-25 05:45Z"
         },
         "isCargo": false,
         "number": "LG 9471",
         "status": "Unknown"
        },
        {
         "aircraft": {
          "model": "Boeing 737-800"
         },
         "airline": {
          "name": "Ryanair"
         },
         "arrival": {
          "quality": [
           "Basic"
          ],
          "scheduledTimeLocal": "2021-11-25 08:45+01:00",
          "scheduledTimeUtc": "2021-11-25 07:45Z"
         },
         "codeshareStatus": "Unknown",
         "departure": {
          "airport": {
           "iata": "PSA",
           "icao": "LIRP",
           "name": "Pisa"
          },
          "quality": [
           "Basic"
          ],
          "scheduledTimeLocal": "2021-11-25 06:50+01:00",
          "scheduledTimeUtc": "2021-11-25 05:50Z"
         },
         "isCargo": false,
         "number": "FR 9955",
         "status": "Unknown"
        },
        {
         "aircraft": {
          "model": "Airbus A320",
          "reg": "HB-JLT"
         },
         "airline": {
          "name": "SWISS"
         },
         "arrival": {
          "quality": [
           "Basic"
          ],
          "scheduledTimeLocal": "2021-11-25 08:45+01:00",
          "scheduledTimeUtc": "2021-11-25 07:45Z",
          "terminal": "1"
         },
         "codeshareStatus": "Unknown",
         "departure": {
          "actualTimeLocal": "2021-11-25 07:15+01:00",
          "actualTimeUtc": "2021-11-25 06:15Z",
          "airport": {
           "iata": "ZRH",
           "icao": "LSZH",
           "name": "Zurich"
          },
          "checkInDesk": "1",
          "quality": [
           "Basic",
           "Live"
          ],
          "scheduledTimeLocal": "2021-11-25 07:15+01:00",
          "scheduledTimeUtc": "2021-11-25 06:15Z"
         },
         "isCargo": false,
         "number": "LX 974",
         "status": "Unknown"
        },
        {
         "aircraft": {
          "model": "Airbus A320"
         },
         "airline": {
          "name": "Air France"
         },
         "arrival": {
          "quality": [
           "Basic"
          ],
          "scheduledTimeLocal": "2021-11-25 08:55+01:00",
          "scheduledTimeUtc": "2021-11-25 07:55Z",
          "terminal": "1"
         },
         "codeshareStatus": "Unknown",
         "departure": {
          "airport": {
           "iata": "ORY",
           "icao": "LFPO",
           "name": "Paris"
          },
          "quality": [
           "Basic"
          ],
          "scheduledTimeLocal": "2021-11-25 07:00+01:00",
          "scheduledTimeUtc": "2021-11-25 06:00Z",
          "terminal": "3"
         },
         "isCargo": false,
         "number": "AF 7354",
         "status": "Unknown"
        },
        {
         "aircraft": {
          "model": "Embraer 195"
         },
         "airline": {
          "name": "Austrian"
         },
         "arrival": {
          "quality": [
           "Basic"
          ],
          "scheduledTimeLocal": "2021-11-25 08:55+01:00",
          "scheduledTimeUtc": "2021-11-25 07:55Z",
          "terminal": "1"
         },
         "codeshareStatus": "Unknown",
         "departure": {
          "actualTimeLocal": "2021-11-25 07:40+01:00",
          "actualTimeUtc": "2021-11-25 06:40Z",
          "airport": {
           "iata": "VIE",
           "icao": "LOWW",
           "name": "Vienna"
          },
          "checkInDesk": "351-378",
          "quality": [
           "Basic",
           "Live"
          ],
          "scheduledTimeLocal": "2021-11-25 07:40+01:00",
          "scheduledTimeUtc": "2021-11-25 06:40Z",
          "terminal": "T3"
         },
         "isCargo": false,
         "number": "OS 223",
         "status": "Unknown"
        },
        {
         "aircraft": {
          "model": "Airbus A320",
          "reg": "D-AIZZ"
         },
         "airline": {
          "name": "Lufthansa"
         },
         "arrival": {
          "quality": [
           "Basic"
          ],
          "scheduledTimeLocal": "2021-11-25 08:55+01:00",
          "scheduledTimeUtc": "2021-11-25 07:55Z",
          "terminal": "1"
         },
         "codeshareStatus": "IsCodeshared",
         "departure": {
          "actualTimeLocal": "2021-11-25 07:45+01:00",
          "actualTimeUtc": "2021-11-25 06:45Z",
          "airport": {
           "iata": "FRA",
           "icao": "EDDF",
           "name": "Frankfurt-am-Main"
          },
          "checkInDesk": "263-453",
          "gate": "A18",
          "quality": [
           "Basic",
           "Live"
          ],
          "scheduledTimeLocal": "2021-11-25 07:45+01:00",
          "scheduledTimeUtc": "2021-11-25 06:45Z",
          "terminal": "1"
         },
         "isCargo": false,
         "number": "LH 174",
         "status": "Unknown"
        },
        {
         "aircraft": {
          "model": "Airbus A320"
         },
         "airline": {
          "name": "Air Serbia"
         },
         "arrival": {
          "quality": [
           "Basic"
          ],
          "scheduledTimeLocal": "2021-11-25 09:00+01:00",
          "scheduledTimeUtc": "2021-11-25 08:00Z",
          "terminal": "1"
         },
         "codeshareStatus": "Unknown",
         "departure": {
          "airport": {
           "iata": "BEG",
           "icao": "LYBE",
           "name": "Belgrade"
          },
          "quality": [
           "Basic"
          ],
          "scheduledTimeLocal": "2021-11-25 07:10+01:00",
          "scheduledTimeUtc": "2021-11-25 06:10Z",
          "terminal": "2"
         },
         "isCargo": false,
         "number": "JU 350",
         "status": "Unknown"
        },
        {
         "aircraft": {
          "model": "Boeing 737-800"
         },
         "airline": {
          "name": "Norwegian Air Shuttle"
         },
         "arrival": {
          "quality": [
           "Basic"
          ],
          "scheduledTimeLocal": "2021-11-25 09:10+01:00",
          "scheduledTimeUtc": "2021-11-25 08:10Z",
          "terminal": "1"
         },
         "codeshareStatus": "Unknown",
         "departure": {
          "airport": {
           "iata": "OSL",
           "icao": "ENGM",
           "name": "Oslo"
          },
          "checkInDesk": "23",
          "quality": [
           "Basic"
          ],
          "scheduledTimeLocal": "2021-11-25 07:35+01:00",
          "scheduledTimeUtc": "2021-11-25 06:35Z"
         },
         "isCargo": false,
         "number": "DY 1102",
         "status": "Unknown"
        },
        {
         "aircraft": {
          "model": "Boeing 737-800"
         },
         "airline": {
          "name": "Ryanair"
         },
         "arrival": {
          "quality": [
           "Basic"
          ],
          "scheduledTimeLocal": "2021-11-25 09:25+01:00",
          "scheduledTimeUtc": "2021-11-25 08:25Z"
         },
         "codeshareStatus": "Unknown",
         "departure": {
          "actualTimeLocal": "2021-11-25 06:20+01:00",
          "actualTimeUtc": "2021-11-25 05:20Z",
          "airport": {
           "iata": "MAD",
           "icao": "LEMD",
           "name": "Madrid"
          },
          "checkInDesk": "355-359",
          "gate": "C",
          "quality": [
           "Basic",
           "Live"
          ],
          "scheduledTimeLocal": "2021-11-25 06:20+01:00",
          "scheduledTimeUtc": "2021-11-25 05:20Z",
          "terminal": "1"
         },
         "isCargo": false,
         "number": "FR 2526",
         "status": "Unknown"
        },
        {
         "aircraft": {
          "model": "Boeing 737-700",
          "reg": "PH-BCL"
         },
         "airline": {
          "name": "KLM"
         },
         "arrival": {
          "quality": [
           "Basic"
          ],
          "scheduledTimeLocal": "2021-11-25 09:25+01:00",
          "scheduledTimeUtc": "2021-11-25 08:25Z",
          "terminal": "1"
         },
         "codeshareStatus": "IsOperator",
         "departure": {
          "airport": {
           "iata": "AMS",
           "icao": "EHAM",
           "name": "Amsterdam"
          },
          "checkInDesk": "5-8",
          "quality": [
           "Basic"
          ],
          "scheduledTimeLocal": "2021-11-25 08:05+01:00",
          "scheduledTimeUtc": "2021-11-25 07:05Z",
          "terminal": "1"
         },
         "isCargo": false,
         "number": "KL 1821",
         "status": "Unknown"
        },
        {
         "aircraft": {
          "model": "Boeing 737-800"
         },
         "airline": {
          "name": "Ryanair"
         },
         "arrival": {
          "quality": [
           "Basic"
          ],
          "scheduledTimeLocal": "2021-11-25 09:30+01:00",
          "scheduledTimeUtc": "2021-11-25 08:30Z"
         },
         "codeshareStatus": "Unknown",
         "departure": {
          "actualTimeLocal": "2021-11-25 08:00+01:00",
          "actualTimeUtc": "2021-11-25 07:00Z",
          "airport": {
           "iata": "BUD",
           "icao": "LHBP",
           "name": "Budapest"
          },
          "quality": [
           "Basic",
           "Live"
          ],
          "scheduledTimeLocal": "2021-11-25 08:00+01:00",
          "scheduledTimeUtc": "2021-11-25 07:00Z",
          "terminal": "2B"
         },
         "isCargo": false,
         "number": "FR 197",
         "status": "Unknown"
        },
        {
         "aircraft": {
          "model": "Airbus A330-300"
         },
         "airline": {
          "name": "Turkish"
         },
         "arrival": {
          "quality": [
           "Basic"
          ],
          "scheduledTimeLocal": "2021-11-25 09:35+01:00",
          "scheduledTimeUtc": "2021-11-25 08:35Z",
          "terminal": "1"
         },
         "codeshareStatus": "Unknown",
         "departure": {
          "airport": {
           "iata": "IST",
           "icao": "LTFM",
           "name": "Istanbul"
          },
          "quality": [
           "Basic"
          ],
          "scheduledTimeLocal": "2021-11-25 08:55+03:00",
          "scheduledTimeUtc": "2021-11-25 05:55Z"
         },
         "isCargo": false,
         "number": "TK 1721",
         "status": "Unknown"
        },
        {
         "aircraft": {
          "model": "Airbus A320"
         },
         "airline": {
          "name": "Eurowings"
         },
         "arrival": {
          "quality": [
           "Basic"
          ],
          "scheduledTimeLocal": "2021-11-25 09:40+01:00",
          "scheduledTimeUtc": "2021-11-25 08:40Z",
          "terminal": "1"
         },
         "codeshareStatus": "Unknown",
         "departure": {
          "airport": {
           "iata": "CGN",
           "icao": "EDDK",
           "name": "Cologne"
          },
          "quality": [
           "Basic"
          ],
          "scheduledTimeLocal": "2021-11-25 08:30+01:00",
          "scheduledTimeUtc": "2021-11-25 07:30Z",
          "terminal": "1"
         },
         "isCargo": false,
         "number": "EW 8059",
         "status": "Unknown"
        },
        {
         "aircraft": {
          "model": "Airbus A320"
         },
         "airline": {
          "name": "Lufthansa"
         },
         "arrival": {
          "quality": [
           "Basic"
          ],
          "scheduledTimeLocal": "2021-11-25 09:40+01:00",
          "scheduledTimeUtc": "2021-11-25 08:40Z",
          "terminal": "1"
         },
         "codeshareStatus": "IsCodeshared",
         "departure": {
          "airport": {
           "iata": "MUC",
           "icao": "EDDM",
           "name": "Munich"
          },
          "quality": [
           "Basic"
          ],
          "scheduledTimeLocal": "2021-11-25 08:30+01:00",
          "scheduledTimeUtc": "2021-11-25 07:30Z",
          "terminal": "2"
         },
         "isCargo": false,
         "number": "LH 1930",
         "status": "Unknown"
        },
        {
         "aircraft": {
          "model": "Boeing 737-800"
         },
         "airline": {
          "name": "Ryanair"
         },
         "arrival": {
          "quality": [
           "Basic"
          ],
          "scheduledTimeLocal": "2021-11-25 09:45+01:00",
          "scheduledTimeUtc": "2021-11-25 08:45Z"
         },
         "codeshareStatus": "Unknown",
         "departure": {
          "actualTimeLocal": "2021-11-25 09:05+02:00",
          "actualTimeUtc": "2021-11-25 07:05Z",
          "airport": {
           "iata": "RIX",
           "icao": "EVRA",
           "name": "Riga"
          },
          "quality": [
           "Basic",
           "Live"
          ],
          "scheduledTimeLocal": "2021-11-25 09:05+02:00",
          "scheduledTimeUtc": "2021-11-25 07:05Z",
          "terminal": "B1"
         },
         "isCargo": false,
         "number": "FR 2600",
         "status": "Unknown"
        },
        {
         "aircraft": {
          "model": "Airbus A319"
         },
         "airline": {
          "name": "easyJet"
         },
         "arrival": {
          "quality": [
           "Basic"
          ],
          "scheduledTimeLocal": "2021-11-25 09:45+01:00",
          "scheduledTimeUtc": "2021-11-25 08:45Z",
          "terminal": "1"
         },
         "codeshareStatus": "Unknown",
         "departure": {
          "airport": {
           "iata": "AAR",
           "icao": "EKAH",
           "name": "Aarhus"
          },
          "quality": [
           "Basic"
          ],
          "scheduledTimeLocal": "2021-11-25 08:40+01:00",
          "scheduledTimeUtc": "2021-11-25 07:40Z"
         },
         "isCargo": false,
         "number": "U2 5698",
         "status": "Unknown"
        },
        {
         "aircraft": {
          "model": "Airbus A320"
         },
         "airline": {
          "name": "easyJet"
         },
         "arrival": {
          "quality": [
           "Basic"
          ],
          "scheduledTimeLocal": "2021-11-25 09:55+01:00",
          "scheduledTimeUtc": "2021-11-25 08:55Z",
          "terminal": "1"
         },
         "codeshareStatus": "Unknown",
         "departure": {
          "airport": {
           "iata": "CPH",
           "icao": "EKCH",
           "name": "Copenhagen"
          },
          "quality": [
           "Basic"
          ],
          "scheduledTimeLocal": "2021-11-25 08:50+01:00",
          "scheduledTimeUtc": "2021-11-25 07:50Z",
          "terminal": "2"
         },
         "isCargo": false,
         "number": "U2 5684",
         "status": "Unknown"
        },
        {
         "aircraft": {
          "model": "Airbus A320",
          "reg": "D-AIUD"
         },
         "airline": {
          "name": "Lufthansa"
         },
         "arrival": {
          "quality": [
           "Basic"
          ],
          "scheduledTimeLocal": "2021-11-25 09:55+01:00",
          "scheduledTimeUtc": "2021-11-25 08:55Z",
          "terminal": "1"
         },
         "codeshareStatus": "IsCodeshared",
         "departure": {
          "actualTimeLocal": "2021-11-25 08:45+01:00",
          "actualTimeUtc": "2021-11-25 07:45Z",
          "airport": {
           "iata": "FRA",
           "icao": "EDDF",
           "name": "Frankfurt-am-Main"
          },
          "checkInDesk": "263-453",
          "gate": "A21",
          "quality": [
           "Basic",
           "Live"
          ],
          "scheduledTimeLocal": "2021-11-25 08:45+01:00",
          "scheduledTimeUtc": "2021-11-25 07:45Z",
          "terminal": "1"
         },
         "isCargo": false,
         "number": "LH 176",
         "status": "Unknown"
        },
        {
         "aircraft": {
          "model": "Boeing 787-8"
         },
         "airline": {
          "name": "Scoot"
         },
         "arrival": {
          "quality": [
           "Basic"
          ],
          "scheduledTimeLocal": "2021-11-25 10:20+01:00",
          "scheduledTimeUtc": "2021-11-25 09:20Z",
          "terminal": "1"
         },
         "codeshareStatus": "Unknown",
         "departure": {
          "actualTimeLocal": "2021-11-25 08:20+02:00",
          "actualTimeUtc": "2021-11-25 06:20Z",
          "airport": {
           "iata": "ATH",
           "icao": "LGAV",
           "name": "Athens"
          },
          "checkInDesk": "7----9",
          "gate": "A1-A23",
          "quality": [
           "Basic",
           "Live"
          ],
          "scheduledTimeLocal": "2021-11-25 08:20+02:00",
          "scheduledTimeUtc": "2021-11-25 06:20Z",
          "terminal": "I"
         },
         "isCargo": false,
         "number": "TR 722",
         "status": "Unknown"
        },
        {
         "aircraft": {
          "model": "Airbus A320"
         },
         "airline": {
          "name": "Austrian"
         },
         "arrival": {
          "quality": [
           "Basic"
          ],
          "scheduledTimeLocal": "2021-11-25 10:25+01:00",
          "scheduledTimeUtc": "2021-11-25 09:25Z",
          "terminal": "1"
         },
         "codeshareStatus": "Unknown",
         "departure": {
          "airport": {
           "iata": "VIE",
           "icao": "LOWW",
           "name": "Vienna"
          },
          "quality": [
           "Basic"
          ],
          "scheduledTimeLocal": "2021-11-25 09:10+01:00",
          "scheduledTimeUtc": "2021-11-25 08:10Z",
          "terminal": "3"
         },
         "isCargo": false,
         "number": "OS 225",
         "status": "Unknown"
        },
        {
         "aircraft": {
          "model": "Embraer 190"
         },
         "airline": {
          "name": "British Airways"
         },
         "arrival": {
          "quality": [
           "Basic"
          ],
          "scheduledTimeLocal": "2021-11-25 10:25+01:00",
          "scheduledTimeUtc": "2021-11-25 09:25Z",
          "terminal": "1"
         },
         "codeshareStatus": "IsCodeshared",
         "departure": {
          "airport": {
           "iata": "LCY",
           "icao": "EGLC",
           "name": "London"
          },
          "quality": [
           "Basic"
          ],
          "scheduledTimeLocal": "2021-11-25 07:45+00:00",
          "scheduledTimeUtc": "2021-11-25 07:45Z"
         },
         "isCargo": false,
         "number": "BA 8491",
         "status": "Unknown"
        },
        {
         "aircraft": {
          "model": "Airbus A320",
          "reg": "OY-KAS"
         },
         "airline": {
          "name": "SAS"
         },
         "arrival": {
          "quality": [
           "Basic"
          ],
          "scheduledTimeLocal": "2021-11-25 10:30+01:00",
          "scheduledTimeUtc": "2021-11-25 09:30Z",
          "terminal": "1"
         },
         "codeshareStatus": "Unknown",
         "departure": {
          "airport": {
           "iata": "ARN",
           "icao": "ESSA",
           "name": "Stockholm"
          },
          "checkInDesk": "75-90",
          "quality": [
           "Basic"
          ],
          "scheduledTimeLocal": "2021-11-25 08:55+01:00",
          "scheduledTimeUtc": "2021-11-25 07:55Z",
          "terminal": "5"
         },
         "isCargo": false,
         "number": "SK 2677",
         "status": "Unknown"
        },
        {
         "aircraft": {
          "model": "Boeing 737-800"
         },
         "airline": {
          "name": "Ryanair"
         },
         "arrival": {
          "quality": [
           "Basic"
          ],
          "scheduledTimeLocal": "2021-11-25 10:40+01:00",
          "scheduledTimeUtc": "2021-11-25 09:40Z"
         },
         "codeshareStatus": "Unknown",
         "departure": {
          "actualTimeLocal": "2021-11-25 07:50+00:00",
          "actualTimeUtc": "2021-11-25 07:50Z",
          "airport": {
           "iata": "STN",
           "icao": "EGSS",
           "name": "London"
          },
          "quality": [
           "Basic",
           "Live"
          ],
          "scheduledTimeLocal": "2021-11-25 07:50+00:00",
          "scheduledTimeUtc": "2021-11-25 07:50Z",
          "terminal": "T1"
         },
         "isCargo": false,
         "number": "FR 145",
         "status": "Unknown"
        },
        {
         "aircraft": {
          "model": "Boeing 737-800"
         },
         "airline": {
          "name": "Ryanair"
         },
         "arrival": {
          "quality": [
           "Basic"
          ],
          "scheduledTimeLocal": "2021-11-25 10:40+01:00",
          "scheduledTimeUtc": "2021-11-25 09:40Z"
         },
         "codeshareStatus": "Unknown",
         "departure": {
          "airport": {
           "iata": "BGY",
           "icao": "LIME",
           "name": "Bergamo"
          },
          "quality": [
           "Basic"
          ],
          "scheduledTimeLocal": "2021-11-25 08:55+01:00",
          "scheduledTimeUtc": "2021-11-25 07:55Z"
         },
         "isCargo": false,
         "number": "FR 4731",
         "status": "Unknown"
        },
        {
         "aircraft": {
          "model": "Airbus A320"
         },
         "airline": {
          "name": "Aegean"
         },
         "arrival": {
          "quality": [
           "Basic"
          ],
          "scheduledTimeLocal": "2021-11-25 10:50+01:00",
          "scheduledTimeUtc": "2021-11-25 09:50Z",
          "terminal": "1"
         },
         "codeshareStatus": "Unknown",
         "departure": {
          "actualTimeLocal": "2021-11-25 08:55+02:00",
          "actualTimeUtc": "2021-11-25 06:55Z",
          "airport": {
           "iata": "ATH",
           "icao": "LGAV",
           "name": "Athens"
          },
          "checkInDesk": "70---91",
          "quality": [
           "Basic",
           "Live"
          ],
          "scheduledTimeLocal": "2021-11-25 08:55+02:00",
          "scheduledTimeUtc": "2021-11-25 06:55Z",
          "terminal": "D"
         },
         "isCargo": false,
         "number": "A3 820",
         "status": "Unknown"
        },
        {
         "aircraft": {
          "model": "Airbus A320"
         },
         "airline": {
          "name": "Pegasus"
         },
         "arrival": {
          "quality": [
           "Basic"
          ],
          "scheduledTimeLocal": "2021-11-25 11:00+01:00",
          "scheduledTimeUtc": "2021-11-25 10:00Z",
          "terminal": "0"
         },
         "codeshareStatus": "Unknown",
         "departure": {
          "airport": {
           "iata": "SAW",
           "icao": "LTFJ",
           "name": "Istanbul"
          },
          "quality": [
           "Basic"
          ],
          "scheduledTimeLocal": "2021-11-25 09:55+03:00",
          "scheduledTimeUtc": "2021-11-25 06:55Z"
         },
         "isCargo": false,
         "number": "PC 977",
         "status": "Unknown"
        }
       ],
       "departures": [
        {
         "aircraft": {
          "model": "Boeing 737-800",
          "reg": "SP-RSC"
         },
         "airline": {
          "name": "Ryanair"
         },
         "arrival": {
          "actualTimeLocal": "2021-11-25 08:40+02:00",
          "actualTimeUtc": "2021-11-25 06:40Z",
          "airport": {
           "iata": "RIX",
           "icao": "EVRA",
           "name": "Riga"
          },
          "quality": [
           "Basic",
           "Live"
          ],
          "scheduledTimeLocal": "2021-11-25 08:40+02:00",
          "scheduledTimeUtc": "2021-11-25 06:40Z",
          "terminal": "E"
         },
         "codeshareStatus": "Unknown",
         "departure": {
          "quality": [
           "Basic"
          ],
          "scheduledTimeLocal": "2021-11-25 06:00+01:00",
          "scheduledTimeUtc": "2021-11-25 05:00Z"
         },
         "isCargo": false,
         "number": "FR 2599",
         "status": "Unknown"
        },
        {
         "aircraft": {
          "model": "Boeing 737-800"
         },
         "airline": {
          "name": "Ryanair"
         },
         "arrival": {
          "airport": {
           "iata": "TLV",
           "icao": "LLBG",
           "name": "Tel Aviv Yafo"
          },
          "quality": [
           "Basic"
          ],
          "scheduledTimeLocal": "2021-11-25 11:20+02:00",
          "scheduledTimeUtc": "2021-11-25 09:20Z"
         },
         "codeshareStatus": "Unknown",
         "departure": {
          "quality": [
           "Basic"
          ],
          "scheduledTimeLocal": "2021-11-25 06:15+01:00",
          "scheduledTimeUtc": "2021-11-25 05:15Z"
         },
         "isCargo": false,
         "number": "FR 6472",
         "status": "Unknown"
        },
        {
         "aircraft": {
          "model": "Airbus A321"
         },
         "airline": {
          "name": "Lufthansa"
         },
         "arrival": {
          "airport": {
           "iata": "MUC",
           "icao": "EDDM",
           "name": "Munich"
          },
          "quality": [
           "Basic"
          ],
          "scheduledTimeLocal": "2021-11-25 07:25+01:00",
          "scheduledTimeUtc": "2021-11-25 06:25Z",
          "terminal": "2"
         },
         "codeshareStatus": "IsCodeshared",
         "departure": {
          "quality": [
           "Basic"
          ],
          "scheduledTimeLocal": "2021-11-25 06:15+01:00",
          "scheduledTimeUtc": "2021-11-25 05:15Z",
          "terminal": "1"
         },
         "isCargo": false,
         "number": "LH 1959",
         "status": "Unknown"
        },
        {
         "aircraft": {
          "model": "Boeing 737-800"
         },
         "airline": {
          "name": "Ryanair"
         },
         "arrival": {
          "actualTimeLocal": "2021-11-25 10:20+00:00",
          "actualTimeUtc": "2021-11-25 10:20Z",
          "airport": {
           "iata": "FUE",
           "icao": "GCFV",
           "name": "Fuerteventura Island"
          },
          "quality": [
           "Basic",
           "Live"
          ],
          "scheduledTimeLocal": "2021-11-25 10:20+00:00",
          "scheduledTimeUtc": "2021-11-25 10:20Z"
         },
         "codeshareStatus": "Unknown",
         "departure": {
          "quality": [
           "Basic"
          ],
          "scheduledTimeLocal": "2021-11-25 06:20+01:00",
          "scheduledTimeUtc": "2021-11-25 05:20Z"
         },
         "isCargo": false,
         "number": "FR 1101",
         "status": "Unknown"
        },
        {
         "aircraft": {
          "model": "Boeing 737-800"
         },
         "airline": {
          "name": "Ryanair"
         },
         "arrival": {
          "airport": {
           "iata": "ATH",
           "icao": "LGAV",
           "name": "Athens"
          },
          "quality": [
           "Basic"
          ],
          "scheduledTimeLocal": "2021-11-25 10:20+02:00",
          "scheduledTimeUtc": "2021-11-25 08:20Z"
         },
         "codeshareStatus": "Unknown",
         "departure": {
          "quality": [
           "Basic"
          ],
          "scheduledTimeLocal": "2021-11-25 06:20+01:00",
          "scheduledTimeUtc": "2021-11-25 05:20Z"
         },
         "isCargo": false,
         "number": "FR 170",
         "status": "Unknown"
        },
        {
         "aircraft": {
          "model": "Airbus A320"
         },
         "airline": {
          "name": "Air France"
         },
         "arrival": {
          "airport": {
           "iata": "CDG",
           "icao": "LFPG",
           "name": "Paris"
          },
          "quality": [
           "Basic"
          ],
          "scheduledTimeLocal": "2021-11-25 08:15+01:00",
          "scheduledTimeUtc": "2021-11-25 07:15Z",
          "terminal": "2F"
         },
         "codeshareStatus": "Unknown",
         "departure": {
          "quality": [
           "Basic"
          ],
          "scheduledTimeLocal": "2021-11-25 06:25+01:00",
          "scheduledTimeUtc": "2021-11-25 05:25Z",
          "terminal": "1"
         },
         "isCargo": false,
         "number": "AF 1135",
         "status": "Unknown"
        },
        {
         "aircraft": {
          "model": "Boeing 737-800"
         },
         "airline": {
          "name": "Ryanair"
         },
         "arrival": {
          "airport": {
           "iata": "CIA",
           "icao": "LIRA",
           "name": "Roma"
          },
          "quality": [
           "Basic"
          ],
          "scheduledTimeLocal": "2021-11-25 08:30+01:00",
          "scheduledTimeUtc": "2021-11-25 07:30Z"
         },
         "codeshareStatus": "Unknown",
         "departure": {
          "quality": [
           "Basic"
          ],
          "scheduledTimeLocal": "2021-11-25 06:25+01:00",
          "scheduledTimeUtc": "2021-11-25 05:25Z"
         },
         "isCargo": false,
         "number": "FR 134",
         "status": "Unknown"
        },
        {
         "aircraft": {
          "model": "Airbus A319"
         },
         "airline": {
          "name": "British Airways"
         },
         "arrival": {
          "actualTimeLocal": "2021-11-25 07:30+00:00",
          "actualTimeUtc": "2021-11-25 07:30Z",
          "airport": {
           "iata": "LHR",
           "icao": "EGLL",
           "name": "London"
          },
          "quality": [
           "Basic",
           "Live"
          ],
          "scheduledTimeLocal": "2021-11-25 07:30+00:00",
          "scheduledTimeUtc": "2021-11-25 07:30Z",
          "terminal": "5"
         },
         "codeshareStatus": "IsCodeshared",
         "departure": {
          "quality": [
           "Basic"
          ],
          "scheduledTimeLocal": "2021-11-25 06:25+01:00",
          "scheduledTimeUtc": "2021-11-25 05:25Z",
          "terminal": "1"
         },
         "isCargo": false,
         "number": "BA 981",
         "status": "Unknown"
        },
        {
         "aircraft": {
          "model": "Boeing 737-800"
         },
         "airline": {
          "name": "Ryanair"
         },
         "arrival": {
          "actualTimeLocal": "2021-11-25 07:25+00:00",
          "actualTimeUtc": "2021-11-25 07:25Z",
          "airport": {
           "iata": "STN",
           "icao": "EGSS",
           "name": "London"
          },
          "quality": [
           "Basic",
           "Live"
          ],
          "scheduledTimeLocal": "2021-11-25 07:25+00:00",
          "scheduledTimeUtc": "2021-11-25 07:25Z",
          "terminal": "T1"
         },
         "codeshareStatus": "Unknown",
         "departure": {
          "quality": [
           "Basic"
          ],
          "scheduledTimeLocal": "2021-11-25 06:30+01:00",
          "scheduledTimeUtc": "2021-11-25 05:30Z"
         },
         "isCargo": false,
         "number": "FR 144",
         "status": "Unknown"
        },
        {
         "aircraft": {
          "model": "Airbus A321",
          "reg": "D-AIDI"
         },
         "airline": {
          "name": "Lufthansa"
         },
         "arrival": {
          "actualTimeLocal": "2021-11-25 07:40+01:00",
          "actualTimeUtc": "2021-11-25 06:40Z",
          "airport": {
           "iata": "FRA",
           "icao": "EDDF",
           "name": "Frankfurt-am-Main"
          },
          "quality": [
           "Basic",
           "Live"
          ],
          "scheduledTimeLocal": "2021-11-25 07:40+01:00",
          "scheduledTimeUtc": "2021-11-25 06:40Z",
          "terminal": "1"
         },
         "codeshareStatus": "IsCodeshared",
         "departure": {
          "quality": [
           "Basic"
          ],
          "scheduledTimeLocal": "2021-11-25 06:30+01:00",
          "scheduledTimeUtc": "2021-11-25 05:30Z",
          "terminal": "1"
         },
         "isCargo": false,
         "number": "LH 173",
         "status": "Unknown"
        },
        {
         "aircraft": {
          "model": "Airbus A320"
         },
         "airline": {
          "name": "Eurowings"
         },
         "arrival": {
          "airport": {
           "iata": "CGN",
           "icao": "EDDK",
           "name": "Cologne"
          },
          "quality": [
           "Basic"
          ],
          "scheduledTimeLocal": "2021-11-25 07:50+01:00",
          "scheduledTimeUtc": "2021-11-25 06:50Z",
          "terminal": "1"
         },
         "codeshareStatus": "Unknown",
         "departure": {
          "quality": [
           "Basic"
          ],
          "scheduledTimeLocal": "2021-11-25 06:40+01:00",
          "scheduledTimeUtc": "2021-11-25 05:40Z",
          "terminal": "1"
         },
         "isCargo": false,
         "number": "EW 8058",
         "status": "Unknown"
        },
        {
         "aircraft": {
          "model": "Boeing 737-800"
         },
         "airline": {
          "name": "Ryanair"
         },
         "arrival": {
          "airport": {
           "iata": "SOF",
           "icao": "LBSF",
           "name": "Sofia"
          },
          "quality": [
           "Basic"
          ],
          "scheduledTimeLocal": "2021-11-25 10:00+02:00",
          "scheduledTimeUtc": "2021-11-25 08:00Z"
         },
         "codeshareStatus": "Unknown",
         "departure": {
          "quality": [
           "Basic"
          ],
          "scheduledTimeLocal": "2021-11-25 06:45+01:00",
          "scheduledTimeUtc": "2021-11-25 05:45Z"
         },
         "isCargo": false,
         "number": "FR 1594",
         "status": "Unknown"
        },
        {
         "aircraft": {
          "model": "Boeing 737-800"
         },
         "airline": {
          "name": "Ryanair"
         },
         "arrival": {
          "airport": {
           "iata": "BGY",
           "icao": "LIME",
           "name": "Bergamo"
          },
          "quality": [
           "Basic"
          ],
          "scheduledTimeLocal": "2021-11-25 08:30+01:00",
          "scheduledTimeUtc": "2021-11-25 07:30Z"
         },
         "codeshareStatus": "Unknown",
         "departure": {
          "quality": [
           "Basic"
          ],
          "scheduledTimeLocal": "2021-11-25 06:45+01:00",
          "scheduledTimeUtc": "2021-11-25 05:45Z"
         },
         "isCargo": false,
         "number": "FR 4732",
         "status": "Unknown"
        },
        {
         "aircraft": {
          "model": "Airbus A320"
         },
         "airline": {
          "name": "easyJet"
         },
         "arrival": {
          "airport": {
           "iata": "CTA",
           "icao": "LICC",
           "name": "Catania"
          },
          "quality": [
           "Basic"
          ],
          "scheduledTimeLocal": "2021-11-25 09:35+01:00",
          "scheduledTimeUtc": "2021-11-25 08:35Z"
         },
         "codeshareStatus": "Unknown",
         "departure": {
          "quality": [
           "Basic"
          ],
          "scheduledTimeLocal": "2021-11-25 06:45+01:00",
          "scheduledTimeUtc": "2021-11-25 05:45Z",
          "terminal": "1"
         },
         "isCargo": false,
         "number": "U2 5693",
         "status": "Unknown"
        },
        {
         "aircraft": {
          "model": "Airbus A319"
         },
         "airline": {
          "name": "easyJet"
         },
         "arrival": {
          "airport": {
           "iata": "AAR",
           "icao": "EKAH",
           "name": "Aarhus"
          },
          "quality": [
           "Basic"
          ],
          "scheduledTimeLocal": "2021-11-25 08:10+01:00",
          "scheduledTimeUtc": "2021-11-25 07:10Z"
         },
         "codeshareStatus": "Unknown",
         "departure": {
          "quality": [
           "Basic"
          ],
          "scheduledTimeLocal": "2021-11-25 06:55+01:00",
          "scheduledTimeUtc": "2021-11-25 05:55Z",
          "terminal": "1"
         },
         "isCargo": false,
         "number": "U2 5697",
         "status": "Unknown"
        },
        {
         "aircraft": {
          "model": "Airbus A320"
         },
         "airline": {
          "name": "Austrian"
         },
         "arrival": {
          "actualTimeLocal": "2021-11-25 08:15+01:00",
          "actualTimeUtc": "2021-11-25 07:15Z",
          "airport": {
           "iata": "VIE",
           "icao": "LOWW",
           "name": "Vienna"
          },
          "quality": [
           "Basic",
           "Live"
          ],
          "scheduledTimeLocal": "2021-11-25 08:15+01:00",
          "scheduledTimeUtc": "2021-11-25 07:15Z",
          "terminal": "3"
         },
         "codeshareStatus": "Unknown",
         "departure": {
          "quality": [
           "Basic"
          ],
          "scheduledTimeLocal": "2021-11-25 07:00+01:00",
          "scheduledTimeUtc": "2021-11-25 06:00Z",
          "terminal": "1"
         },
         "isCargo": false,
         "number": "OS 240",
         "status": "Unknown"
        },
        {
         "aircraft": {
          "model": "Airbus A320"
         },
         "airline": {
          "name": "easyJet"
         },
         "arrival": {
          "airport": {
           "iata": "TLV",
           "icao": "LLBG",
           "name": "Tel Aviv Yafo"
          },
          "quality": [
           "Basic"
          ],
          "scheduledTimeLocal": "2021-11-25 12:15+02:00",
          "scheduledTimeUtc": "2021-11-25 10:15Z",
          "terminal": "3"
         },
         "codeshareStatus": "Unknown",
         "departure": {
          "quality": [
           "Basic"
          ],
          "scheduledTimeLocal": "2021-11-25 07:00+01:00",
          "scheduledTimeUtc": "2021-11-25 06:00Z",
          "terminal": "1"
         },
         "isCargo": false,
         "number": "U2 5201",
         "status": "Unknown"
        },
        {
         "aircraft": {
          "model": "Airbus A320"
         },
         "airline": {
          "name": "easyJet"
         },
         "arrival": {
          "airport": {
           "iata": "LGW",
           "icao": "EGKK",
           "name": "London"
          },
          "quality": [
           "Basic"
          ],
          "scheduledTimeLocal": "2021-11-25 08:10+00:00",
          "scheduledTimeUtc": "2021-11-25 08:10Z",
          "terminal": "N"
         },
         "codeshareStatus": "Unknown",
         "departure": {
          "quality": [
           "Basic"
          ],
          "scheduledTimeLocal": "2021-11-25 07:05+01:00",
          "scheduledTimeUtc": "2021-11-25 06:05Z",
          "terminal": "1"
         },
         "isCargo": false,
         "number": "U2 8210",
         "status": "Unknown"
        },
        {
         "aircraft": {
          "model": "Airbus A320"
         },
         "airline": {
          "name": "easyJet"
         },
         "arrival": {
          "airport": {
           "iata": "CPH",
           "icao": "EKCH",
           "name": "Copenhagen"
          },
          "quality": [
           "Basic"
          ],
          "scheduledTimeLocal": "2021-11-25 08:20+01:00",
          "scheduledTimeUtc": "2021-11-25 07:20Z",
          "terminal": "2"
         },
         "codeshareStatus": "Unknown",
         "departure": {
          "quality": [
           "Basic"
          ],
          "scheduledTimeLocal": "2021-11-25 07:10+01:00",
          "scheduledTimeUtc": "2021-11-25 06:10Z",
          "terminal": "1"
         },
         "isCargo": false,
         "number": "U2 5683",
         "status": "Unknown"
        },
        {
         "aircraft": {
          "model": "Airbus A320"
         },
         "airline": {
          "name": "easyJet"
         },
         "arrival": {
          "airport": {
           "iata": "MXP",
           "icao": "LIMC",
           "name": "Milan"
          },
          "quality": [
           "Basic"
          ],
          "scheduledTimeLocal": "2021-11-25 09:05+01:00",
          "scheduledTimeUtc": "2021-11-25 08:05Z",
          "terminal": "1"
         },
         "codeshareStatus": "Unknown",
         "departure": {
          "quality": [
           "Basic"
          ],
          "scheduledTimeLocal": "2021-11-25 07:15+01:00",
          "scheduledTimeUtc": "2021-11-25 06:15Z",
          "terminal": "1"
         },
         "isCargo": false,
         "number": "U2 4673",
         "status": "Unknown"
        },
        {
         "aircraft": {
          "model": "Airbus A321"
         },
         "airline": {
          "name": "Condor"
         },
         "arrival": {
          "airport": {
           "iata": "HRG",
           "icao": "HEGN",
           "name": "Hurghada"
          },
          "quality": [
           "Basic"
          ],
          "scheduledTimeLocal": "2021-11-25 13:00+02:00",
          "scheduledTimeUtc": "2021-11-25 11:00Z",
          "terminal": "1"
         },
         "codeshareStatus": "Unknown",
         "departure": {
          "quality": [
           "Basic"
          ],
          "scheduledTimeLocal": "2021-11-25 07:20+01:00",
          "scheduledTimeUtc": "2021-11-25 06:20Z",
          "terminal": "1"
         },
         "isCargo": false,
         "number": "DE 432",
         "status": "Unknown"
        },
        {
         "aircraft": {
          "model": "Airbus A320"
         },
         "airline": {
          "name": "Eurowings"
         },
         "arrival": {
          "actualTimeLocal": "2021-11-25 11:10+00:00",
          "actualTimeUtc": "2021-11-25 11:10Z",
          "airport": {
           "iata": "FUE",
           "icao": "GCFV",
           "name": "Fuerteventura Island"
          },
          "quality": [
           "Basic",
           "Live"
          ],
          "scheduledTimeLocal": "2021-11-25 11:30+00:00",
          "scheduledTimeUtc": "2021-11-25 11:30Z"
         },
         "codeshareStatus": "Unknown",
         "departure": {
          "quality": [
           "Basic"
          ],
          "scheduledTimeLocal": "2021-11-25 07:20+01:00",
          "scheduledTimeUtc": "2021-11-25 06:20Z",
          "terminal": "1"
         },
         "isCargo": false,
         "number": "EW 8180",
         "status": "Unknown"
        },
        {
         "aircraft": {
          "model": "Airbus A320"
         },
         "airline": {
          "name": "Iberia"
         },
         "arrival": {
          "actualTimeLocal": "2021-11-25 10:30+01:00",
          "actualTimeUtc": "2021-11-25 09:30Z",
          "airport": {
           "iata": "MAD",
           "icao": "LEMD",
           "name": "Madrid"
          },
          "quality": [
           "Basic",
           "Live"
          ],
          "scheduledTimeLocal": "2021-11-25 10:30+01:00",
          "scheduledTimeUtc": "2021-11-25 09:30Z",
          "terminal": "4"
         },
         "codeshareStatus": "Unknown",
         "departure": {
          "quality": [
           "Basic"
          ],
          "scheduledTimeLocal": "2021-11-25 07:20+01:00",
          "scheduledTimeUtc": "2021-11-25 06:20Z",
          "terminal": "1"
         },
         "isCargo": false,
         "number": "IB 3673",
         "status": "Unknown"
        },
        {
         "aircraft": {
          "model": "Airbus A320"
         },
         "airline": {
          "name": "easyJet"
         },
         "arrival": {
          "airport": {
           "iata": "CDG",
           "icao": "LFPG",
           "name": "Paris"
          },
          "quality": [
           "Basic"
          ],
          "scheduledTimeLocal": "2021-11-25 09:15+01:00",
          "scheduledTimeUtc": "2021-11-25 08:15Z",
          "terminal": "2D"
         },
         "codeshareStatus": "Unknown",
         "departure": {
          "quality": [
           "Basic"
          ],
          "scheduledTimeLocal": "2021-11-25 07:20+01:00",
          "scheduledTimeUtc": "2021-11-25 06:20Z",
          "terminal": "1"
         },
         "isCargo": false,
         "number": "U2 5651",
         "status": "Unknown"
        },
        {
         "aircraft": {
          "model": "Boeing 737-800"
         },
         "airline": {
          "name": "Ryanair"
         },
         "arrival": {
          "airport": {
           "iata": "TGD",
           "icao": "LYPG",
           "name": "Podgorica"
          },
          "quality": [
           "Basic"
          ],
          "scheduledTimeLocal": "2021-11-25 09:50+01:00",
          "scheduledTimeUtc": "2021-11-25 08:50Z"
         },
         "codeshareStatus": "Unknown",
         "departure": {
          "quality": [
           "Basic"
          ],
          "scheduledTimeLocal": "2021-11-25 07:40+01:00",
          "scheduledTimeUtc": "2021-11-25 06:40Z"
         },
         "isCargo": false,
         "number": "FR 1578",
         "status": "Unknown"
        },
        {
         "aircraft": {
          "model": "Bombardier Dash 8 Q400 / DHC-8-400"
         },
         "airline": {
          "name": "LOT - Polish"
         },
         "arrival": {
          "actualTimeLocal": "2021-11-25 09:05+01:00",
          "actualTimeUtc": "2021-11-25 08:05Z",
          "airport": {
           "iata": "WAW",
           "icao": "EPWA",
           "name": "Warsaw"
          },
          "baggageBelt": "4",
          "quality": [
           "Basic",
           "Live"
          ],
          "scheduledTimeLocal": "2021-11-25 09:05+01:00",
          "scheduledTimeUtc": "2021-11-25 08:05Z"
         },
         "codeshareStatus": "Unknown",
         "departure": {
          "quality": [
           "Basic"
          ],
          "scheduledTimeLocal": "2021-11-25 07:40+01:00",
          "scheduledTimeUtc": "2021-11-25 06:40Z",
          "terminal": "1"
         },
         "isCargo": false,
         "number": "LO 392",
         "status": "Unknown"
        },
        {
         "aircraft": {
          "model": "Airbus A320"
         },
         "airline": {
          "name": "easyJet"
         },
         "arrival": {
          "airport": {
           "iata": "AGP",
           "icao": "LEMG",
           "name": "Málaga"
          },
          "quality": [
           "Basic"
          ],
          "scheduledTimeLocal": "2021-11-25 11:15+01:00",
          "scheduledTimeUtc": "2021-11-25 10:15Z"
         },
         "codeshareStatus": "Unknown",
         "departure": {
          "quality": [
           "Basic"
          ],
          "scheduledTimeLocal": "2021-11-25 07:40+01:00",
          "scheduledTimeUtc": "2021-11-25 06:40Z",
          "terminal": "1"
         },
         "isCargo": false,
         "number": "U2 5913",
         "status": "Unknown"
        },
        {
         "aircraft": {
          "model": "Airbus A320",
          "reg": "D-AIWA"
         },
         "airline": {
          "name": "Lufthansa"
         },
         "arrival": {
          "actualTimeLocal": "2021-11-25 08:55+01:00",
          "actualTimeUtc": "2021-11-25 07:55Z",
          "airport": {
           "iata": "FRA",
           "icao": "EDDF",
           "name": "Frankfurt-am-Main"
          },
          "quality": [
           "Basic",
           "Live"
          ],
          "scheduledTimeLocal": "2021-11-25 08:55+01:00",
          "scheduledTimeUtc": "2021-11-25 07:55Z",
          "terminal": "1"
         },
         "codeshareStatus": "IsCodeshared",
         "departure": {
          "quality": [
           "Basic"
          ],
          "scheduledTimeLocal": "2021-11-25 07:45+01:00",
          "scheduledTimeUtc": "2021-11-25 06:45Z",
          "terminal": "1"
         },
         "isCargo": false,
         "number": "LH 175",
         "status": "Unknown"
        },
        {
         "aircraft": {
          "model": "Boeing 737-800"
         },
         "airline": {
          "name": "Eurowings"
         },
         "arrival": {
          "airport": {
           "iata": "CGN",
           "icao": "EDDK",
           "name": "Cologne"
          },
          "quality": [
           "Basic"
          ],
          "scheduledTimeLocal": "2021-11-25 09:05+01:00",
          "scheduledTimeUtc": "2021-11-25 08:05Z",
          "terminal": "1"
         },
         "codeshareStatus": "Unknown",
         "departure": {
          "quality": [
           "Basic"
          ],
          "scheduledTimeLocal": "2021-11-25 07:55+01:00",
          "scheduledTimeUtc": "2021-11-25 06:55Z",
          "terminal": "1"
         },
         "isCargo": false,
         "number": "EW 13",
         "status": "Unknown"
        },
        {
         "aircraft": {
          "model": "Boeing 737-800"
         },
         "airline": {
          "name": "Ryanair"
         },
         "arrival": {
          "airport": {
           "iata": "DUB",
           "icao": "EIDW",
           "name": "Dublin"
          },
          "quality": [
           "Basic"
          ],
          "scheduledTimeLocal": "2021-11-25 09:25+00:00",
          "scheduledTimeUtc": "2021-11-25 09:25Z"
         },
         "codeshareStatus": "Unknown",
         "departure": {
          "quality": [
           "Basic"
          ],
          "scheduledTimeLocal": "2021-11-25 07:55+01:00",
          "scheduledTimeUtc": "2021-11-25 06:55Z"
         },
         "isCargo": false,
         "number": "FR 8557",
         "status": "Unknown"
        },
        {
         "aircraft": {
          "model": "Airbus A320"
         },
         "airline": {
          "name": "easyJet"
         },
         "arrival": {
          "airport": {
           "name": "Barcelona"
          },
          "quality": []
         },
         "codeshareStatus": "Unknown",
         "departure": {
          "quality": [
           "Basic"
          ],
          "scheduledTimeLocal": "2021-11-25 07:55+01:00",
          "scheduledTimeUtc": "2021-11-25 06:55Z",
          "terminal": "1"
         },
         "isCargo": false,
         "number": "U2 5121",
         "status": "Unknown"
        },
        {
         "aircraft": {
          "model": "Airbus A320"
         },
         "airline": {
          "name": "easyJet"
         },
         "arrival": {
          "airport": {
           "iata": "NAP",
           "icao": "LIRN",
           "name": "Nápoli"
          },
          "quality": [
           "Basic"
          ],
          "scheduledTimeLocal": "2021-11-25 10:15+01:00",
          "scheduledTimeUtc": "2021-11-25 09:15Z"
         },
         "codeshareStatus": "Unknown",
         "departure": {
          "quality": [
           "Basic"
          ],
          "scheduledTimeLocal": "2021-11-25 07:55+01:00",
          "scheduledTimeUtc": "2021-11-25 06:55Z",
          "terminal": "1"
         },
         "isCargo": false,
         "number": "U2 5141",
         "status": "Unknown"
        },
        {
         "aircraft": {
          "model": "Boeing 737-800"
         },
         "airline": {
          "name": "Ryanair"
         },
         "arrival": {
          "airport": {
           "iata": "KIR",
           "icao": "EIKY",
           "name": "Killarney"
          },
          "quality": [
           "Basic"
          ],
          "scheduledTimeLocal": "2021-11-25 09:45+00:00",
          "scheduledTimeUtc": "2021-11-25 09:45Z"
         },
         "codeshareStatus": "Unknown",
         "departure": {
          "quality": [
           "Basic"
          ],
          "scheduledTimeLocal": "2021-11-25 08:00+01:00",
          "scheduledTimeUtc": "2021-11-25 07:00Z"
         },
         "isCargo": false,
         "number": "FR 1709",
         "status": "Unknown"
        },
        {
         "aircraft": {
          "model": "Airbus A320"
         },
         "airline": {
          "name": "easyJet"
         },
         "arrival": {
          "airport": {
           "iata": "FUE",
           "icao": "GCFV",
           "name": "Fuerteventura Island"
          },
          "quality": [
           "Basic"
          ],
          "scheduledTimeLocal": "2021-11-25 12:10+00:00",
          "scheduledTimeUtc": "2021-11-25 12:10Z"
         },
         "codeshareStatus": "Unknown",
         "departure": {
          "quality": [
           "Basic"
          ],
          "scheduledTimeLocal": "2021-11-25 08:00+01:00",
          "scheduledTimeUtc": "2021-11-25 07:00Z",
          "terminal": "1"
         },
         "isCargo": false,
         "number": "U2 5923",
         "status": "Unknown"
        },
        {
         "aircraft": {
          "model": "Airbus A319"
         },
         "airline": {
          "name": "Eurowings"
         },
         "arrival": {
          "actualTimeLocal": "2021-11-25 09:30+01:00",
          "actualTimeUtc": "2021-11-25 08:30Z",
          "airport": {
           "iata": "STR",
           "icao": "EDDS",
           "name": "Stuttgart"
          },
          "quality": [
           "Basic",
           "Live"
          ],
          "scheduledTimeLocal": "2021-11-25 09:30+01:00",
          "scheduledTimeUtc": "2021-11-25 08:30Z",
          "terminal": "T1"
         },
         "codeshareStatus": "Unknown",
         "departure": {
          "quality": [
           "Basic"
          ],
          "scheduledTimeLocal": "2021-11-25 08:10+01:00",
          "scheduledTimeUtc": "2021-11-25 07:10Z",
          "terminal": "1"
         },
         "isCargo": false,
         "number": "EW 2003",
         "status": "Unknown"
        },
        {
         "aircraft": {
          "model": "Airbus A320",
          "reg": "D-AEWT"
         },
         "airline": {
          "name": "Eurowings"
         },
         "arrival": {
          "airport": {
           "iata": "DUS",
           "icao": "EDDL",
           "name": "Duesseldorf"
          },
          "gate": "B27",
          "quality": [
           "Basic"
          ],
          "scheduledTimeLocal": "2021-11-25 09:25+01:00",
          "scheduledTimeUtc": "2021-11-25 08:25Z",
          "terminal": "A"
         },
         "codeshareStatus": "Unknown",
         "departure": {
          "quality": [
           "Basic"
          ],
          "scheduledTimeLocal": "2021-11-25 08:10+01:00",
          "scheduledTimeUtc": "2021-11-25 07:10Z",
          "terminal": "1"
         },
         "isCargo": false,
         "number": "EW 9049",
         "status": "Unknown"
        },
        {
         "aircraft": {
          "model": "Airbus A319"
         },
         "airline": {
          "name": "easyJet"
         },
         "arrival": {
          "airport": {
           "iata": "BSL",
           "icao": "LFSB",
           "name": "Bâle/Mulhouse"
          },
          "quality": [
           "Basic"
          ],
          "scheduledTimeLocal": "2021-11-25 10:00+01:00",
          "scheduledTimeUtc": "2021-11-25 09:00Z"
         },
         "codeshareStatus": "Unknown",
         "departure": {
          "quality": [
           "Basic"
          ],
          "scheduledTimeLocal": "2021-11-25 08:30+01:00",
          "scheduledTimeUtc": "2021-11-25 07:30Z",
          "terminal": "1"
         },
         "isCargo": false,
         "number": "U2 5631",
         "status": "Unknown"
        },
        {
         "aircraft": {
          "model": "Airbus A220-300"
         },
         "airline": {
          "name": "Air Baltic"
         },
         "arrival": {
          "actualTimeLocal": "2021-11-25 11:10+02:00",
          "actualTimeUtc": "2021-11-25 09:10Z",
          "airport": {
           "iata": "RIX",
           "icao": "EVRA",
           "name": "Riga"
          },
          "quality": [
           "Basic",
           "Live"
          ],
          "scheduledTimeLocal": "2021-11-25 11:10+02:00",
          "scheduledTimeUtc": "2021-11-25 09:10Z",
          "terminal": "E"
         },
         "codeshareStatus": "Unknown",
         "departure": {
          "quality": [
           "Basic"
          ],
          "scheduledTimeLocal": "2021-11-25 08:35+01:00",
          "scheduledTimeUtc": "2021-11-25 07:35Z",
          "terminal": "1"
         },
         "isCargo": false,
         "number": "BT 212",
         "status": "Unknown"
        },
        {
         "aircraft": {
          "model": "ATR 72"
         },
         "airline": {
          "name": "Danish Air"
         },
         "arrival": {
          "airport": {
           "iata": "SCN",
           "icao": "EDDR",
           "name": "Saarbrücken"
          },
          "quality": [
           "Basic"
          ],
          "scheduledTimeLocal": "2021-11-25 10:10+01:00",
          "scheduledTimeUtc": "2021-11-25 09:10Z"
         },
         "codeshareStatus": "Unknown",
         "departure": {
          "quality": [
           "Basic"
          ],
          "scheduledTimeLocal": "2021-11-25 08:40+01:00",
          "scheduledTimeUtc": "2021-11-25 07:40Z",
          "terminal": "0"
         },
         "isCargo": false,
         "number": "DX 122",
         "status": "Unknown"
        },
        {
         "aircraft": {
          "model": "Airbus A321",
          "reg": "D-AIDK"
         },
         "airline": {
          "name": "Lufthansa"
         },
         "arrival": {
          "actualTimeLocal": "2021-11-25 09:55+01:00",
          "actualTimeUtc": "2021-11-25 08:55Z",
          "airport": {
           "iata": "FRA",
           "icao": "EDDF",
           "name": "Frankfurt-am-Main"
          },
          "quality": [
           "Basic",
           "Live"
          ],
          "scheduledTimeLocal": "2021-11-25 09:55+01:00",
          "scheduledTimeUtc": "2021-11-25 08:55Z",
          "terminal": "1"
         },
         "codeshareStatus": "IsCodeshared",
         "departure": {
          "quality": [
           "Basic"
          ],
          "scheduledTimeLocal": "2021-11-25 08:45+01:00",
          "scheduledTimeUtc": "2021-11-25 07:45Z",
          "terminal": "1"
         },
         "isCargo": false,
         "number": "LH 177",
         "status": "Unknown"
        },
        {
         "aircraft": {
          "model": "Bombardier Dash 8 Q400 / DHC-8-400"
         },
         "airline": {
          "name": "Luxair"
         },
         "arrival": {
          "actualTimeLocal": "2021-11-25 10:25+01:00",
          "actualTimeUtc": "2021-11-25 09:25Z",
          "airport": {
           "iata": "LUX",
           "icao": "ELLX",
           "name": "Luxembourg"
          },
          "quality": [
           "Basic",
           "Live"
          ],
          "scheduledTimeLocal": "2021-11-25 10:25+01:00",
          "scheduledTimeUtc": "2021-11-25 09:25Z"
         },
         "codeshareStatus": "Unknown",
         "departure": {
          "quality": [
           "Basic"
          ],
          "scheduledTimeLocal": "2021-11-25 08:55+01:00",
          "scheduledTimeUtc": "2021-11-25 07:55Z",
          "terminal": "1"
         },
         "isCargo": false,
         "number": "LG 9472",
         "status": "Unknown"
        },
        {
         "aircraft": {
          "model": "Airbus A320 NEO"
         },
         "airline": {
          "name": "Lufthansa"
         },
         "arrival": {
          "airport": {
           "iata": "MUC",
           "icao": "EDDM",
           "name": "Munich"
          },
          "quality": [
           "Basic"
          ],
          "scheduledTimeLocal": "2021-11-25 10:10+01:00",
          "scheduledTimeUtc": "2021-11-25 09:10Z",
          "terminal": "2"
         },
         "codeshareStatus": "IsCodeshared",
         "departure": {
          "quality": [
           "Basic"
          ],
          "scheduledTimeLocal": "2021-11-25 09:00+01:00",
          "scheduledTimeUtc": "2021-11-25 08:00Z",
          "terminal": "1"
         },
         "isCargo": false,
         "number": "LH 1929",
         "status": "Unknown"
        },
        {
         "aircraft": {
          "model": "Boeing 737-800"
         },
         "airline": {
          "name": "Ryanair"
         },
         "arrival": {
          "airport": {
           "iata": "PSA",
           "icao": "LIRP",
           "name": "Pisa"
          },
          "quality": [
           "Basic"
          ],
          "scheduledTimeLocal": "2021-11-25 11:05+01:00",
          "scheduledTimeUtc": "2021-11-25 10:05Z"
         },
         "codeshareStatus": "Unknown",
         "departure": {
          "quality": [
           "Basic"
          ],
          "scheduledTimeLocal": "2021-11-25 09:10+01:00",
          "scheduledTimeUtc": "2021-11-25 08:10Z"
         },
         "isCargo": false,
         "number": "FR 9956",
         "status": "Unknown"
        },
        {
         "aircraft": {
          "model": "Airbus A320",
          "reg": "HB-JLT"
         },
         "airline": {
          "name": "SWISS"
         },
         "arrival": {
          "actualTimeLocal": "2021-11-25 11:00+01:00",
          "actualTimeUtc": "2021-11-25 10:00Z",
          "airport": {
           "iata": "ZRH",
           "icao": "LSZH",
           "name": "Zurich"
          },
          "quality": [
           "Basic",
           "Live"
          ],
          "scheduledTimeLocal": "2021-11-25 11:00+01:00",
          "scheduledTimeUtc": "2021-11-25 10:00Z",
          "terminal": "1"
         },
         "codeshareStatus": "Unknown",
         "departure": {
          "quality": [
           "Basic"
          ],
          "scheduledTimeLocal": "2021-11-25 09:30+01:00",
          "scheduledTimeUtc": "2021-11-25 08:30Z",
          "terminal": "1"
         },
         "isCargo": false,
         "number": "LX 975",
         "status": "Unknown"
        },
        {
         "aircraft": {
          "model": "Embraer 195"
         },
         "airline": {
          "name": "Austrian"
         },
         "arrival": {
          "actualTimeLocal": "2021-11-25 10:55+01:00",
          "actualTimeUtc": "2021-11-25 09:55Z",
          "airport": {
           "iata": "VIE",
           "icao": "LOWW",
           "name": "Vienna"
          },
          "quality": [
           "Basic",
           "Live"
          ],
          "scheduledTimeLocal": "2021-11-25 10:55+01:00",
          "scheduledTimeUtc": "2021-11-25 09:55Z",
          "terminal": "3"
         },
         "codeshareStatus": "Unknown",
         "departure": {
          "quality": [
           "Basic"
          ],
          "scheduledTimeLocal": "2021-11-25 09:40+01:00",
          "scheduledTimeUtc": "2021-11-25 08:40Z",
          "terminal": "1"
         },
         "isCargo": false,
         "number": "OS 224",
         "status": "Unknown"
        },
        {
         "aircraft": {
          "model": "Airbus A320"
         },
         "airline": {
          "name": "Air France"
         },
         "arrival": {
          "airport": {
           "iata": "ORY",
           "icao": "LFPO",
           "name": "Paris"
          },
          "quality": [
           "Basic"
          ],
          "scheduledTimeLocal": "2021-11-25 11:30+01:00",
          "scheduledTimeUtc": "2021-11-25 10:30Z",
          "terminal": "2"
         },
         "codeshareStatus": "Unknown",
         "departure": {
          "quality": [
           "Basic"
          ],
          "scheduledTimeLocal": "2021-11-25 09:45+01:00",
          "scheduledTimeUtc": "2021-11-25 08:45Z",
          "terminal": "1"
         },
         "isCargo": false,
         "number": "AF 7355",
         "status": "Unknown"
        },
        {
         "aircraft": {
          "model": "Airbus A320"
         },
         "airline": {
          "name": "Air Serbia"
         },
         "arrival": {
          "airport": {
           "iata": "BEG",
           "icao": "LYBE",
           "name": "Belgrade"
          },
          "quality": [
           "Basic"
          ],
          "scheduledTimeLocal": "2021-11-25 11:30+01:00",
          "scheduledTimeUtc": "2021-11-25 10:30Z",
          "terminal": "2"
         },
         "codeshareStatus": "Unknown",
         "departure": {
          "quality": [
           "Basic"
          ],
          "scheduledTimeLocal": "2021-11-25 09:45+01:00",
          "scheduledTimeUtc": "2021-11-25 08:45Z",
          "terminal": "1"
         },
         "isCargo": false,
         "number": "JU 351",
         "status": "Unknown"
        },
        {
         "aircraft": {
          "model": "Airbus A320"
         },
         "airline": {
          "name": "Brussels"
         },
         "arrival": {
          "actualTimeLocal": "2021-11-25 08:15+01:00",
          "actualTimeUtc": "2021-11-25 07:15Z",
          "airport": {
           "iata": "BRU",
           "icao": "EBBR",
           "name": "Brussels"
          },
          "quality": [
           "Basic",
           "Live"
          ],
          "scheduledTimeLocal": "2021-11-25 08:15+01:00",
          "scheduledTimeUtc": "2021-11-25 07:15Z"
         },
         "codeshareStatus": "Unknown",
         "departure": {
          "quality": [
           "Basic"
          ],
          "scheduledTimeLocal": "2021-11-25 06:50+01:00",
          "scheduledTimeUtc": "2021-11-25 05:50Z",
          "terminal": "1"
         },
         "isCargo": false,
         "number": "SN 2592",
         "status": "Unknown"
        },
        {
         "aircraft": {
          "model": "Boeing 737-800"
         },
         "airline": {
          "name": "Ryanair"
         },
         "arrival": {
          "actualTimeLocal": "2021-11-25 10:29+00:00",
          "actualTimeUtc": "2021-11-25 10:29Z",
          "airport": {
           "iata": "TFS",
           "icao": "GCTS",
           "name": "Tenerife Island"
          },
          "quality": [
           "Basic",
           "Live"
          ],
          "scheduledTimeLocal": "2021-11-25 10:30+00:00",
          "scheduledTimeUtc": "2021-11-25 10:30Z",
          "terminal": "1"
         },
         "codeshareStatus": "Unknown",
         "departure": {
          "quality": [
           "Basic"
          ],
          "scheduledTimeLocal": "2021-11-25 06:10+01:00",
          "scheduledTimeUtc": "2021-11-25 05:10Z"
         },
         "isCargo": false,
         "number": "FR 4068",
         "status": "Unknown"
        },
        {
         "aircraft": {
          "model": "Boeing 737-800",
          "reg": "PH-BXZ"
         },
         "airline": {
          "name": "KLM"
         },
         "arrival": {
          "airport": {
           "iata": "AMS",
           "icao": "EHAM",
           "name": "Amsterdam"
          },
          "quality": [
           "Basic"
          ],
          "runwayTimeLocal": "2021-11-25 07:17+01:00",
          "runwayTimeUtc": "2021-11-25 06:17Z",
          "scheduledTimeLocal": "2021-11-25 07:25+01:00",
          "scheduledTimeUtc": "2021-11-25 06:25Z"
         },
         "codeshareStatus": "IsOperator",
         "departure": {
          "quality": [
           "Basic"
          ],
          "scheduledTimeLocal": "2021-11-25 06:00+01:00",
          "scheduledTimeUtc": "2021-11-25 05:00Z",
          "terminal": "1"
         },
         "isCargo": false,
         "number": "KL 1818",
         "status": "Unknown"
        },
        {
         "aircraft": {
          "model": "Airbus A320",
          "reg": "D-AIZZ"
         },
         "airline": {
          "name": "Lufthansa"
         },
         "arrival": {
          "actualTimeLocal": "2021-11-25 10:55+01:00",
          "actualTimeUtc": "2021-11-25 09:55Z",
          "airport": {
           "iata": "FRA",
           "icao": "EDDF",
           "name": "Frankfurt-am-Main"
          },
          "quality": [
           "Basic",
           "Live"
          ],
          "scheduledTimeLocal": "2021-11-25 10:55+01:00",
          "scheduledTimeUtc": "2021-11-25 09:55Z",
          "terminal": "1"
         },
         "codeshareStatus": "IsCodeshared",
         "departure": {
          "quality": [
           "Basic"
          ],
          "scheduledTimeLocal": "2021-11-25 09:45+01:00",
          "scheduledTimeUtc": "2021-11-25 08:45Z",
          "terminal": "1"
         },
         "isCargo": false,
         "number": "LH 181",
         "status": "Unknown"
        },
        {
         "aircraft": {
          "model": "Boeing 737-800"
         },
         "airline": {
          "name": "Norwegian Air Shuttle"
         },
         "arrival": {
          "airport": {
           "iata": "OSL",
           "icao": "ENGM",
           "name": "Oslo"
          },
          "quality": [
           "Basic"
          ],
          "scheduledTimeLocal": "2021-11-25 11:30+01:00",
          "scheduledTimeUtc": "2021-11-25 10:30Z"
         },
         "codeshareStatus": "Unknown",
         "departure": {
          "quality": [
           "Basic"
          ],
          "scheduledTimeLocal": "2021-11-25 09:50+01:00",
          "scheduledTimeUtc": "2021-11-25 08:50Z",
          "terminal": "1"
         },
         "isCargo": false,
         "number": "DY 1103",
         "status": "Unknown"
        },
        {
         "aircraft": {
          "model": "Boeing 737-800"
         },
         "airline": {
          "name": "Ryanair"
         },
         "arrival": {
          "actualTimeLocal": "2021-11-25 12:35+01:00",
          "actualTimeUtc": "2021-11-25 11:35Z",
          "airport": {
           "iata": "MAD",
           "icao": "LEMD",
           "name": "Madrid"
          },
          "quality": [
           "Basic",
           "Live"
          ],
          "scheduledTimeLocal": "2021-11-25 13:00+01:00",
          "scheduledTimeUtc": "2021-11-25 12:00Z",
          "terminal": "1"
         },
         "codeshareStatus": "Unknown",
         "departure": {
          "quality": [
           "Basic"
          ],
          "scheduledTimeLocal": "2021-11-25 09:50+01:00",
          "scheduledTimeUtc": "2021-11-25 08:50Z"
         },
         "isCargo": false,
         "number": "FR 2527",
         "status": "Unknown"
        },
        {
         "aircraft": {
          "model": "Boeing 737-800"
         },
         "airline": {
          "name": "Ryanair"
         },
         "arrival": {
          "actualTimeLocal": "2021-11-25 11:30+01:00",
          "actualTimeUtc": "2021-11-25 10:30Z",
          "airport": {
           "iata": "BUD",
           "icao": "LHBP",
           "name": "Budapest"
          },
          "quality": [
           "Basic",
           "Live"
          ],
          "scheduledTimeLocal": "2021-11-25 11:30+01:00",
          "scheduledTimeUtc": "2021-11-25 10:30Z",
          "terminal": "2A"
         },
         "codeshareStatus": "Unknown",
         "departure": {
          "quality": [
           "Basic"
          ],
          "scheduledTimeLocal": "2021-11-25 09:55+01:00",
          "scheduledTimeUtc": "2021-11-25 08:55Z"
         },
         "isCargo": false,
         "number": "FR 196",
         "status": "Unknown"
        },
        {
         "aircraft": {
          "model": "Airbus A320"
         },
         "airline": {
          "name": "Eurowings"
         },
         "arrival": {
          "actualTimeLocal": "2021-11-25 11:30+01:00",
          "actualTimeUtc": "2021-11-25 10:30Z",
          "airport": {
           "iata": "STR",
           "icao": "EDDS",
           "name": "Stuttgart"
          },
          "quality": [
           "Basic",
           "Live"
          ],
          "scheduledTimeLocal": "2021-11-25 11:30+01:00",
          "scheduledTimeUtc": "2021-11-25 10:30Z",
          "terminal": "T1"
         },
         "codeshareStatus": "Unknown",
         "departure": {
          "quality": [
           "Basic"
          ],
          "scheduledTimeLocal": "2021-11-25 10:10+01:00",
          "scheduledTimeUtc": "2021-11-25 09:10Z",
          "terminal": "1"
         },
         "isCargo": false,
         "number": "EW 8002",
         "status": "Unknown"
        },
        {
         "aircraft": {
          "model": "Boeing 737-800"
         },
         "airline": {
          "name": "Ryanair"
         },
         "arrival": {
          "airport": {
           "iata": "MXP",
           "icao": "LIMC",
           "name": "Milan"
          },
          "quality": [
           "Basic"
          ],
          "scheduledTimeLocal": "2021-11-25 11:50+01:00",
          "scheduledTimeUtc": "2021-11-25 10:50Z"
         },
         "codeshareStatus": "Unknown",
         "departure": {
          "quality": [
           "Basic"
          ],
          "scheduledTimeLocal": "2021-11-25 10:10+01:00",
          "scheduledTimeUtc": "2021-11-25 09:10Z"
         },
         "isCargo": false,
         "number": "FR 8",
         "status": "Unknown"
        },
        {
         "aircraft": {
          "model": "Boeing 737-700",
          "reg": "PH-BCL"
         },
         "airline": {
          "name": "KLM"
         },
         "arrival": {
          "airport": {
           "iata": "AMS",
           "icao": "EHAM",
           "name": "Amsterdam"
          },
          "quality": [
           "Basic"
          ],
          "runwayTimeLocal": "2021-11-25 11:27+01:00",
          "runwayTimeUtc": "2021-11-25 10:27Z",
          "scheduledTimeLocal": "2021-11-25 11:35+01:00",
          "scheduledTimeUtc": "2021-11-25 10:35Z"
         },
         "codeshareStatus": "IsOperator",
         "departure": {
          "quality": [
           "Basic"
          ],
          "scheduledTimeLocal": "2021-11-25 10:10+01:00",
          "scheduledTimeUtc": "2021-11-25 09:10Z",
          "terminal": "1"
         },
         "isCargo": false,
         "number": "KL 1822",
         "status": "Unknown"
        },
        {
         "aircraft": {
          "model": "Airbus A320"
         },
         "airline": {
          "name": "Eurowings"
         },
         "arrival": {
          "airport": {
           "iata": "CGN",
           "icao": "EDDK",
           "name": "Cologne"
          },
          "quality": [
           "Basic"
          ],
          "scheduledTimeLocal": "2021-11-25 11:25+01:00",
          "scheduledTimeUtc": "2021-11-25 10:25Z",
          "terminal": "1"
         },
         "codeshareStatus": "Unknown",
         "departure": {
          "quality": [
           "Basic"
          ],
          "scheduledTimeLocal": "2021-11-25 10:15+01:00",
          "scheduledTimeUtc": "2021-11-25 09:15Z",
          "terminal": "1"
         },
         "isCargo": false,
         "number": "EW 8050",
         "status": "Unknown"
        },
        {
         "aircraft": {
          "model": "Airbus A320"
         },
         "airline": {
          "name": "Lufthansa"
         },
         "arrival": {
          "airport": {
           "name": "Munich"
          },
          "quality": []
         },
         "codeshareStatus": "IsCodeshared",
         "departure": {
          "quality": [
           "Basic"
          ],
          "scheduledTimeLocal": "2021-11-25 10:30+01:00",
          "scheduledTimeUtc": "2021-11-25 09:30Z",
          "terminal": "1"
         },
         "isCargo": false,
         "number": "LH 1931",
         "status": "Unknown"
        },
        {
         "aircraft": {
          "model": "Airbus A320",
          "reg": "D-AIUD"
         },
         "airline": {
          "name": "Lufthansa"
         },
         "arrival": {
          "actualTimeLocal": "2021-11-25 11:55+01:00",
          "actualTimeUtc": "2021-11-25 10:55Z",
          "airport": {
           "iata": "FRA",
           "icao": "EDDF",
           "name": "Frankfurt-am-Main"
          },
          "quality": [
           "Basic",
           "Live"
          ],
          "scheduledTimeLocal": "2021-11-25 11:55+01:00",
          "scheduledTimeUtc": "2021-11-25 10:55Z",
          "terminal": "1"
         },
         "codeshareStatus": "IsCodeshared",
         "departure": {
          "quality": [
           "Basic"
          ],
          "scheduledTimeLocal": "2021-11-25 10:45+01:00",
          "scheduledTimeUtc": "2021-11-25 09:45Z",
          "terminal": "1"
         },
         "isCargo": false,
         "number": "LH 183",
         "status": "Unknown"
        },
        {
         "aircraft": {
          "model": "Airbus A330-300"
         },
         "airline": {
          "name": "Turkish"
         },
         "arrival": {
          "airport": {
           "iata": "IST",
           "icao": "LTFM",
           "name": "Istanbul"
          },
          "quality": [
           "Basic"
          ],
          "scheduledTimeLocal": "2021-11-25 15:55+03:00",
          "scheduledTimeUtc": "2021-11-25 12:55Z"
         },
         "codeshareStatus": "Unknown",
         "departure": {
          "quality": [
           "Basic"
          ],
          "scheduledTimeLocal": "2021-11-25 11:00+01:00",
          "scheduledTimeUtc": "2021-11-25 10:00Z",
          "terminal": "1"
         },
         "isCargo": false,
         "number": "TK 1722",
         "status": "Unknown"
        },
        {
         "aircraft": {
          "model": "Airbus A320"
         },
         "airline": {
          "name": "easyJet"
         },
         "arrival": {
          "airport": {
           "iata": "TFS",
           "icao": "GCTS",
           "name": "Tenerife Island"
          },
          "quality": [
           "Basic"
          ],
          "scheduledTimeLocal": "2021-11-25 15:25+00:00",
          "scheduledTimeUtc": "2021-11-25 15:25Z"
         },
         "codeshareStatus": "Unknown",
         "departure": {
          "quality": [
           "Basic"
          ],
          "scheduledTimeLocal": "2021-11-25 11:00+01:00",
          "scheduledTimeUtc": "2021-11-25 10:00Z",
          "terminal": "1"
         },
         "isCargo": false,
         "number": "U2 5915",
         "status": "Unknown"
        },
        {
         "aircraft": {
          "model": "Embraer 190"
         },
         "airline": {
          "name": "British Airways"
         },
         "arrival": {
          "airport": {
           "iata": "LCY",
           "icao": "EGLC",
           "name": "London"
          },
          "quality": [
           "Basic"
          ],
          "scheduledTimeLocal": "2021-11-25 11:45+00:00",
          "scheduledTimeUtc": "2021-11-25 11:45Z"
         },
         "codeshareStatus": "IsCodeshared",
         "departure": {
          "quality": [
           "Basic"
          ],
          "scheduledTimeLocal": "2021-11-25 11:00+01:00",
          "scheduledTimeUtc": "2021-11-25 10:00Z",
          "terminal": "1"
         },
         "isCargo": false,
         "number": "BA 8492",
         "status": "Unknown"
        }
       ]
      },
      "text/plain": [
       "<IPython.core.display.JSON object>"
      ]
     },
     "execution_count": 97,
     "metadata": {
      "application/json": {
       "expanded": false,
       "root": "root"
      }
     },
     "output_type": "execute_result"
    }
   ],
   "source": [
    "\n",
    "from IPython.display import JSON\n",
    "JSON(response.json())"
   ]
  },
  {
   "cell_type": "code",
   "execution_count": 98,
   "id": "9aa79cc0-6916-41d4-ab41-54295e9f18f5",
   "metadata": {},
   "outputs": [],
   "source": [
    "flight_arrivals = response.json()#['list']\n",
    "#flight_arrivals"
   ]
  },
  {
   "cell_type": "code",
   "execution_count": 99,
   "id": "44e16233-4c4f-416b-a642-039386d0ff5c",
   "metadata": {},
   "outputs": [],
   "source": [
    "#flight_arrivals['arrivals'][33]['arrival']['scheduledTimeLocal']#[0]#['number']#.keys()"
   ]
  },
  {
   "cell_type": "code",
   "execution_count": 100,
   "id": "28c930d2-fabc-40a7-bc8f-1a704b5e082b",
   "metadata": {},
   "outputs": [],
   "source": [
    "#flight_arrivals['arrivals'][33][ 'number']"
   ]
  },
  {
   "cell_type": "code",
   "execution_count": 101,
   "id": "e07cb385-a65a-46a6-90bf-d05e2038814d",
   "metadata": {},
   "outputs": [
    {
     "data": {
      "text/plain": [
       "'Istanbul'"
      ]
     },
     "execution_count": 101,
     "metadata": {},
     "output_type": "execute_result"
    }
   ],
   "source": [
    "flight_arrivals['arrivals'][33]['departure']['airport']['name']#.keys()#['airline']['name']"
   ]
  },
  {
   "cell_type": "code",
   "execution_count": 114,
   "id": "0d763b71-d9a4-4112-899f-95de4a0a4ece",
   "metadata": {},
   "outputs": [],
   "source": [
    "\n",
    "departure_from = []\n",
    "flight_name = []\n",
    "flight_number = []\n",
    "arrival_time = []\n",
    "\n",
    "for i in flight_arrivals['arrivals']:\n",
    "    arrival_time.append(i['arrival']['scheduledTimeLocal'])\n",
    "    flight_number.append(i[ 'number'])\n",
    "    flight_name.append(i['airline']['name'])\n",
    "    departure_from.append(i['departure']['airport']['name'])\n",
    "    \n",
    "    \n",
    "    \n",
    "df = pd.DataFrame({\n",
    "    'flight_name':flight_name,\n",
    "    'flight_number':flight_number,\n",
    "    'departure_from':departure_from,\n",
    "    'arrival_time':arrival_time   \n",
    "})\n"
   ]
  },
  {
   "cell_type": "code",
   "execution_count": 115,
   "id": "dc5797d3-cdbd-4938-b281-65ed17391bc8",
   "metadata": {},
   "outputs": [
    {
     "data": {
      "text/html": [
       "<div>\n",
       "<style scoped>\n",
       "    .dataframe tbody tr th:only-of-type {\n",
       "        vertical-align: middle;\n",
       "    }\n",
       "\n",
       "    .dataframe tbody tr th {\n",
       "        vertical-align: top;\n",
       "    }\n",
       "\n",
       "    .dataframe thead th {\n",
       "        text-align: right;\n",
       "    }\n",
       "</style>\n",
       "<table border=\"1\" class=\"dataframe\">\n",
       "  <thead>\n",
       "    <tr style=\"text-align: right;\">\n",
       "      <th></th>\n",
       "      <th>flight_name</th>\n",
       "      <th>flight_number</th>\n",
       "      <th>departure_from</th>\n",
       "      <th>arrival_time</th>\n",
       "    </tr>\n",
       "  </thead>\n",
       "  <tbody>\n",
       "    <tr>\n",
       "      <th>0</th>\n",
       "      <td>Eurowings</td>\n",
       "      <td>EW 12</td>\n",
       "      <td>Cologne</td>\n",
       "      <td>2021-11-25 07:20+01:00</td>\n",
       "    </tr>\n",
       "    <tr>\n",
       "      <th>1</th>\n",
       "      <td>Eurowings</td>\n",
       "      <td>EW 2002</td>\n",
       "      <td>Stuttgart</td>\n",
       "      <td>2021-11-25 07:30+01:00</td>\n",
       "    </tr>\n",
       "    <tr>\n",
       "      <th>2</th>\n",
       "      <td>Eurowings</td>\n",
       "      <td>EW 9048</td>\n",
       "      <td>Duesseldorf</td>\n",
       "      <td>2021-11-25 07:35+01:00</td>\n",
       "    </tr>\n",
       "    <tr>\n",
       "      <th>3</th>\n",
       "      <td>Air Baltic</td>\n",
       "      <td>BT 211</td>\n",
       "      <td>Riga</td>\n",
       "      <td>2021-11-25 07:55+01:00</td>\n",
       "    </tr>\n",
       "    <tr>\n",
       "      <th>4</th>\n",
       "      <td>easyJet</td>\n",
       "      <td>U2 5632</td>\n",
       "      <td>Bâle/Mulhouse</td>\n",
       "      <td>2021-11-25 07:55+01:00</td>\n",
       "    </tr>\n",
       "  </tbody>\n",
       "</table>\n",
       "</div>"
      ],
      "text/plain": [
       "  flight_name flight_number departure_from            arrival_time\n",
       "0   Eurowings         EW 12        Cologne  2021-11-25 07:20+01:00\n",
       "1   Eurowings       EW 2002      Stuttgart  2021-11-25 07:30+01:00\n",
       "2   Eurowings       EW 9048    Duesseldorf  2021-11-25 07:35+01:00\n",
       "3  Air Baltic        BT 211           Riga  2021-11-25 07:55+01:00\n",
       "4     easyJet       U2 5632  Bâle/Mulhouse  2021-11-25 07:55+01:00"
      ]
     },
     "execution_count": 115,
     "metadata": {},
     "output_type": "execute_result"
    }
   ],
   "source": [
    "df.head()"
   ]
  },
  {
   "cell_type": "markdown",
   "id": "d83798fa-5675-424b-b769-f48d45ee03eb",
   "metadata": {},
   "source": [
    "## code from Joan"
   ]
  },
  {
   "cell_type": "code",
   "execution_count": 123,
   "id": "228a2996-a97d-4b5d-a07f-e465ced05a6d",
   "metadata": {},
   "outputs": [
    {
     "data": {
      "text/html": [
       "<div>\n",
       "<style scoped>\n",
       "    .dataframe tbody tr th:only-of-type {\n",
       "        vertical-align: middle;\n",
       "    }\n",
       "\n",
       "    .dataframe tbody tr th {\n",
       "        vertical-align: top;\n",
       "    }\n",
       "\n",
       "    .dataframe thead th {\n",
       "        text-align: right;\n",
       "    }\n",
       "</style>\n",
       "<table border=\"1\" class=\"dataframe\">\n",
       "  <thead>\n",
       "    <tr style=\"text-align: right;\">\n",
       "      <th></th>\n",
       "      <th>dep_airport</th>\n",
       "      <th>sched_arr_loc_time</th>\n",
       "      <th>terminal</th>\n",
       "      <th>status</th>\n",
       "      <th>aircraft</th>\n",
       "      <th>airport_icoa</th>\n",
       "    </tr>\n",
       "  </thead>\n",
       "  <tbody>\n",
       "    <tr>\n",
       "      <th>0</th>\n",
       "      <td>Cologne</td>\n",
       "      <td>2021-11-25 07:20+01:00</td>\n",
       "      <td>1</td>\n",
       "      <td>Unknown</td>\n",
       "      <td>Boeing 737-800</td>\n",
       "      <td>EDDB</td>\n",
       "    </tr>\n",
       "    <tr>\n",
       "      <th>1</th>\n",
       "      <td>Stuttgart</td>\n",
       "      <td>2021-11-25 07:30+01:00</td>\n",
       "      <td>1</td>\n",
       "      <td>Unknown</td>\n",
       "      <td>Airbus A319</td>\n",
       "      <td>EDDB</td>\n",
       "    </tr>\n",
       "    <tr>\n",
       "      <th>2</th>\n",
       "      <td>Duesseldorf</td>\n",
       "      <td>2021-11-25 07:35+01:00</td>\n",
       "      <td>1</td>\n",
       "      <td>Unknown</td>\n",
       "      <td>Airbus A320</td>\n",
       "      <td>EDDB</td>\n",
       "    </tr>\n",
       "    <tr>\n",
       "      <th>3</th>\n",
       "      <td>Riga</td>\n",
       "      <td>2021-11-25 07:55+01:00</td>\n",
       "      <td>1</td>\n",
       "      <td>Unknown</td>\n",
       "      <td>Airbus A220-300</td>\n",
       "      <td>EDDB</td>\n",
       "    </tr>\n",
       "    <tr>\n",
       "      <th>4</th>\n",
       "      <td>Bâle/Mulhouse</td>\n",
       "      <td>2021-11-25 07:55+01:00</td>\n",
       "      <td>1</td>\n",
       "      <td>Unknown</td>\n",
       "      <td>Airbus A319</td>\n",
       "      <td>EDDB</td>\n",
       "    </tr>\n",
       "  </tbody>\n",
       "</table>\n",
       "</div>"
      ],
      "text/plain": [
       "     dep_airport      sched_arr_loc_time terminal   status         aircraft  \\\n",
       "0        Cologne  2021-11-25 07:20+01:00        1  Unknown   Boeing 737-800   \n",
       "1      Stuttgart  2021-11-25 07:30+01:00        1  Unknown      Airbus A319   \n",
       "2    Duesseldorf  2021-11-25 07:35+01:00        1  Unknown      Airbus A320   \n",
       "3           Riga  2021-11-25 07:55+01:00        1  Unknown  Airbus A220-300   \n",
       "4  Bâle/Mulhouse  2021-11-25 07:55+01:00        1  Unknown      Airbus A319   \n",
       "\n",
       "  airport_icoa  \n",
       "0         EDDB  \n",
       "1         EDDB  \n",
       "2         EDDB  \n",
       "3         EDDB  \n",
       "4         EDDB  "
      ]
     },
     "execution_count": 123,
     "metadata": {},
     "output_type": "execute_result"
    }
   ],
   "source": [
    "airport_icoa = \"EDDB\"\n",
    "to_local_time = \"2021-10-04T20:00\"\n",
    "from_local_time = \"2021-10-05T08:00\"\n",
    "\n",
    "url = f\"https://aerodatabox.p.rapidapi.com/flights/airports/icao/{airport_icoa}/{to_local_time}/{from_local_time}\"\n",
    "\n",
    "querystring = {\"withLeg\":\"true\",\"withCancelled\":\"true\",\"withCodeshared\":\"true\",\"withCargo\":\"true\",\"withPrivate\":\"false\",\"withLocation\":\"false\"}\n",
    "\n",
    "arrivals_berlin = response.json()['arrivals']\n",
    "\n",
    "def get_flight_info(flight_json):\n",
    "    # terminal\n",
    "    try: terminal = flight_json['arrival']['terminal']\n",
    "    except: terminal = None\n",
    "    # aircraft\n",
    "    try: aircraft = flight_json['aircraft']['model']\n",
    "    except: aircraft = None\n",
    "\n",
    "    return {\n",
    "        'dep_airport':flight_json['departure']['airport']['name'],\n",
    "        'sched_arr_loc_time':flight_json['arrival']['scheduledTimeLocal'],\n",
    "        'terminal':terminal,\n",
    "        'status':flight_json['status'],\n",
    "        'aircraft':aircraft,\n",
    "        'airport_icoa':airport_icoa\n",
    "    }\n",
    "\n",
    "\n",
    "import pandas as pd\n",
    "arrivals_berlin = pd.DataFrame([get_flight_info(flight) for flight in arrivals_berlin])\n",
    "arrivals_berlin.head()"
   ]
  },
  {
   "cell_type": "markdown",
   "id": "03d468e7-e9f3-4a84-893b-8a50156a641b",
   "metadata": {},
   "source": [
    "## inserting this value to Databases"
   ]
  },
  {
   "cell_type": "code",
   "execution_count": 117,
   "id": "55fec3c1-3002-4012-a575-4af0a25720eb",
   "metadata": {},
   "outputs": [
    {
     "name": "stdout",
     "output_type": "stream",
     "text": [
      "Values inserted!!\n"
     ]
    }
   ],
   "source": [
    "import mysql.connector as connection\n",
    "import pandas as pandas\n",
    "import numpy as np\n",
    "\n",
    "arr = np.array(df)\n",
    "\n",
    "try:\n",
    "    #Establish a new connection to the database created above\n",
    "    mydb = connection.connect(host=\"localhost\", database = 'gan',user=\"root\", passwd=\"Jaanu123\", use_pure=True)\n",
    "    cursor = mydb.cursor() #create a cursor to execute queries\n",
    "    # Inserting data\n",
    "    for val in arr:\n",
    "        data = tuple(val)\n",
    "        cursor.execute(f\"INSERT INTO flight_table values {data}\")\n",
    "    \n",
    "    print(\"Values inserted!!\")\n",
    "    mydb.commit()\n",
    "    cursor.close()\n",
    "    mydb.close()\n",
    "\n",
    "except Exception as e:\n",
    "    mydb.close()\n",
    "    print(str(e))"
   ]
  }
 ],
 "metadata": {
  "kernelspec": {
   "display_name": "Python 3 (ipykernel)",
   "language": "python",
   "name": "python3"
  },
  "language_info": {
   "codemirror_mode": {
    "name": "ipython",
    "version": 3
   },
   "file_extension": ".py",
   "mimetype": "text/x-python",
   "name": "python",
   "nbconvert_exporter": "python",
   "pygments_lexer": "ipython3",
   "version": "3.9.5"
  }
 },
 "nbformat": 4,
 "nbformat_minor": 5
}
