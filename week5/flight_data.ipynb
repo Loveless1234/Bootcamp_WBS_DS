{
 "cells": [
  {
   "cell_type": "code",
   "execution_count": 27,
   "id": "3570ac8c-213e-4299-adda-d0bc99c1945d",
   "metadata": {},
   "outputs": [],
   "source": [
    "import pandas as pd\n",
    "import requests\n",
    "\n",
    "\n",
    "url = \"https://aerodatabox.p.rapidapi.com/flights/airports/icao/EDDB/2021-11-25T00:00/2021-11-25T11:00\"\n",
    "\n",
    "querystring = {\"withLeg\":\"true\",\"withCancelled\":\"true\",\"withCodeshared\":\"true\",\"withCargo\":\"true\",\"withPrivate\":\"true\",\"withLocation\":\"false\"}\n",
    "\n",
    "headers = {\n",
    "    'x-rapidapi-host': \"aerodatabox.p.rapidapi.com\",\n",
    "    'x-rapidapi-key': \"8f9f83bab9msh9cbc143b90ebf53p169e3ejsn9597fff30d82\"\n",
    "    }\n",
    "\n",
    "response = requests.request(\"GET\", url, headers=headers, params=querystring)\n",
    "\n",
    "#print(response.text)"
   ]
  },
  {
   "cell_type": "code",
   "execution_count": 3,
   "id": "57008a9a-8279-42e9-8592-22d76c930556",
   "metadata": {},
   "outputs": [
    {
     "data": {
      "application/json": {
       "arrivals": [
        {
         "aircraft": {
          "modeS": "342545",
          "model": "ATR 72",
          "reg": "EC-KAD"
         },
         "airline": {
          "name": "Swiftair"
         },
         "arrival": {
          "actualTimeLocal": "2021-11-25 06:46+01:00",
          "actualTimeUtc": "2021-11-25 05:46Z",
          "quality": [
           "Basic",
           "Live"
          ],
          "runway": "25R",
          "runwayTimeLocal": "2021-11-25 06:46+01:00",
          "runwayTimeUtc": "2021-11-25 05:46Z",
          "scheduledTimeLocal": "2021-11-25 06:08+01:00",
          "scheduledTimeUtc": "2021-11-25 05:08Z"
         },
         "callSign": "SWT8991",
         "codeshareStatus": "IsOperator",
         "departure": {
          "airport": {
           "name": "Unknown"
          },
          "quality": []
         },
         "isCargo": false,
         "number": "WT 2156",
         "status": "Arrived"
        },
        {
         "aircraft": {
          "modeS": "452075",
          "model": "Boeing 737-400",
          "reg": "LZ-CGY"
         },
         "airline": {
          "name": "Cargo Air"
         },
         "arrival": {
          "actualTimeLocal": "2021-11-25 05:46+01:00",
          "actualTimeUtc": "2021-11-25 04:46Z",
          "quality": [
           "Basic",
           "Live"
          ],
          "runway": "25R",
          "runwayTimeLocal": "2021-11-25 05:42+01:00",
          "runwayTimeUtc": "2021-11-25 04:42Z",
          "scheduledTimeLocal": "2021-11-25 05:42+01:00",
          "scheduledTimeUtc": "2021-11-25 04:42Z"
         },
         "callSign": "CGF7828",
         "codeshareStatus": "IsOperator",
         "departure": {
          "actualTimeLocal": "2021-11-25 04:54+01:00",
          "actualTimeUtc": "2021-11-25 03:54Z",
          "airport": {
           "iata": "CGN",
           "icao": "EDDK",
           "name": "Cologne"
          },
          "quality": [
           "Basic",
           "Live"
          ],
          "runway": "06",
          "runwayTimeLocal": "2021-11-25 04:54+01:00",
          "runwayTimeUtc": "2021-11-25 03:54Z",
          "scheduledTimeLocal": "2021-11-25 04:54+01:00",
          "scheduledTimeUtc": "2021-11-25 03:54Z"
         },
         "isCargo": true,
         "number": "CGF 7828",
         "status": "Arrived"
        },
        {
         "aircraft": {
          "modeS": "3C6753",
          "model": "Airbus A320-200 (Sharklets)",
          "reg": "D-AIZS"
         },
         "airline": {
          "name": "Germanwings"
         },
         "arrival": {
          "actualTimeLocal": "2021-11-25 07:15+00:59",
          "actualTimeUtc": "2021-11-25 06:15Z",
          "quality": [
           "Basic",
           "Live"
          ],
          "runway": "25R",
          "runwayTimeLocal": "2021-11-25 07:09+01:00",
          "runwayTimeUtc": "2021-11-25 06:09Z",
          "scheduledTimeLocal": "2021-11-25 07:09+01:00",
          "scheduledTimeUtc": "2021-11-25 06:09Z"
         },
         "callSign": "GWI2002",
         "codeshareStatus": "IsOperator",
         "departure": {
          "actualTimeLocal": "2021-11-25 06:18+01:00",
          "actualTimeUtc": "2021-11-25 05:18Z",
          "airport": {
           "iata": "STR",
           "icao": "EDDS",
           "name": "Stuttgart"
          },
          "quality": [
           "Basic",
           "Live"
          ],
          "runwayTimeLocal": "2021-11-25 06:19+01:00",
          "runwayTimeUtc": "2021-11-25 05:19Z",
          "scheduledTimeLocal": "2021-11-25 06:18+01:00",
          "scheduledTimeUtc": "2021-11-25 05:18Z"
         },
         "isCargo": false,
         "number": "4U 2002",
         "status": "Arrived"
        },
        {
         "aircraft": {
          "modeS": "451C0D",
          "model": "60",
          "reg": "LZ-TRH"
         },
         "airline": {
          "name": "VLB"
         },
         "arrival": {
          "actualTimeLocal": "2021-11-25 07:16+01:00",
          "actualTimeUtc": "2021-11-25 06:16Z",
          "quality": [
           "Basic",
           "Live"
          ],
          "runway": "25R",
          "runwayTimeLocal": "2021-11-25 07:16+01:00",
          "runwayTimeUtc": "2021-11-25 06:16Z",
          "scheduledTimeLocal": "2021-11-25 07:16+01:00",
          "scheduledTimeUtc": "2021-11-25 06:16Z"
         },
         "callSign": "VLB311",
         "codeshareStatus": "IsOperator",
         "departure": {
          "actualTimeLocal": "2021-11-25 06:32+02:00",
          "actualTimeUtc": "2021-11-25 04:32Z",
          "airport": {
           "iata": "SOF",
           "icao": "LBSF",
           "name": "Sofia"
          },
          "quality": [
           "Basic",
           "Live"
          ],
          "runway": "09",
          "runwayTimeLocal": "2021-11-25 06:34+02:00",
          "runwayTimeUtc": "2021-11-25 04:34Z",
          "scheduledTimeLocal": "2021-11-25 06:32+02:00",
          "scheduledTimeUtc": "2021-11-25 04:32Z"
         },
         "isCargo": false,
         "number": "VLB 311",
         "status": "Arrived"
        },
        {
         "aircraft": {
          "modeS": "44D1D0",
          "model": "Boeing 737-400 Freighter",
          "reg": "OO-TNP"
         },
         "airline": {
          "name": "ASL  Belgium"
         },
         "arrival": {
          "actualTimeLocal": "2021-11-25 05:32+01:00",
          "actualTimeUtc": "2021-11-25 04:32Z",
          "quality": [
           "Basic",
           "Live"
          ],
          "runway": "25R",
          "runwayTimeLocal": "2021-11-25 05:29+01:00",
          "runwayTimeUtc": "2021-11-25 04:29Z",
          "scheduledTimeLocal": "2021-11-25 05:32+01:00",
          "scheduledTimeUtc": "2021-11-25 04:32Z"
         },
         "callSign": "TAY4138",
         "codeshareStatus": "IsOperator",
         "departure": {
          "actualTimeLocal": "2021-11-25 04:29+01:00",
          "actualTimeUtc": "2021-11-25 03:29Z",
          "airport": {
           "iata": "LGG",
           "icao": "EBLG",
           "name": "Liège"
          },
          "quality": [
           "Basic",
           "Live"
          ],
          "runway": "04R",
          "runwayTimeLocal": "2021-11-25 04:29+01:00",
          "runwayTimeUtc": "2021-11-25 03:29Z",
          "scheduledTimeLocal": "2021-11-25 04:29+01:00",
          "scheduledTimeUtc": "2021-11-25 03:29Z"
         },
         "isCargo": true,
         "number": "3V 4138",
         "status": "Arrived"
        },
        {
         "aircraft": {
          "model": "Airbus A319"
         },
         "airline": {
          "name": "Eurowings"
         },
         "arrival": {
          "quality": [
           "Basic"
          ],
          "scheduledTimeLocal": "2021-11-25 07:30+01:00",
          "scheduledTimeUtc": "2021-11-25 06:30Z",
          "terminal": "1"
         },
         "codeshareStatus": "Unknown",
         "departure": {
          "actualTimeLocal": "2021-11-25 06:10+01:00",
          "actualTimeUtc": "2021-11-25 05:10Z",
          "airport": {
           "iata": "STR",
           "icao": "EDDS",
           "name": "Stuttgart"
          },
          "gate": "322",
          "quality": [
           "Basic",
           "Live"
          ],
          "scheduledTimeLocal": "2021-11-25 06:10+01:00",
          "scheduledTimeUtc": "2021-11-25 05:10Z",
          "terminal": "T1"
         },
         "isCargo": false,
         "number": "EW 2002",
         "status": "Unknown"
        },
        {
         "aircraft": {
          "modeS": "3C56F7",
          "model": "Airbus A320-100/200",
          "reg": "D-AEWW"
         },
         "airline": {
          "name": "Eurowings"
         },
         "arrival": {
          "actualTimeLocal": "2021-11-25 01:18+01:00",
          "actualTimeUtc": "2021-11-25 00:18Z",
          "quality": [
           "Basic",
           "Live"
          ],
          "runway": "07L",
          "runwayTimeLocal": "2021-11-25 01:11+01:00",
          "runwayTimeUtc": "2021-11-25 00:11Z",
          "scheduledTimeLocal": "2021-11-25 01:11+01:00",
          "scheduledTimeUtc": "2021-11-25 00:11Z"
         },
         "callSign": "EWG3002",
         "codeshareStatus": "IsOperator",
         "departure": {
          "actualTimeLocal": "2021-11-25 00:25+01:00",
          "actualTimeUtc": "2021-11-24 23:25Z",
          "airport": {
           "iata": "STR",
           "icao": "EDDS",
           "name": "Stuttgart"
          },
          "quality": [
           "Basic",
           "Live"
          ],
          "runwayTimeLocal": "2021-11-25 00:26+01:00",
          "runwayTimeUtc": "2021-11-24 23:26Z",
          "scheduledTimeLocal": "2021-11-25 00:25+01:00",
          "scheduledTimeUtc": "2021-11-24 23:25Z"
         },
         "isCargo": false,
         "number": "EW 3002",
         "status": "Arrived"
        },
        {
         "aircraft": {
          "modeS": "3C4903",
          "model": "Airbus A320-100/200",
          "reg": "D-ABHC"
         },
         "airline": {
          "name": "Germanwings"
         },
         "arrival": {
          "actualTimeLocal": "2021-11-25 07:26+00:59",
          "actualTimeUtc": "2021-11-25 06:27Z",
          "quality": [
           "Basic",
           "Live"
          ],
          "runway": "25R",
          "runwayTimeLocal": "2021-11-25 07:19+01:00",
          "runwayTimeUtc": "2021-11-25 06:19Z",
          "scheduledTimeLocal": "2021-11-25 07:19+01:00",
          "scheduledTimeUtc": "2021-11-25 06:19Z"
         },
         "callSign": "GWI9048",
         "codeshareStatus": "IsOperator",
         "departure": {
          "actualTimeLocal": "2021-11-25 06:28+01:00",
          "actualTimeUtc": "2021-11-25 05:28Z",
          "airport": {
           "iata": "DUS",
           "icao": "EDDL",
           "name": "Duesseldorf"
          },
          "quality": [
           "Basic",
           "Live"
          ],
          "runway": "23L",
          "runwayTimeLocal": "2021-11-25 06:28+01:00",
          "runwayTimeUtc": "2021-11-25 05:28Z",
          "scheduledTimeLocal": "2021-11-25 06:28+01:00",
          "scheduledTimeUtc": "2021-11-25 05:28Z"
         },
         "isCargo": false,
         "number": "4U 9048",
         "status": "Arrived"
        },
        {
         "aircraft": {
          "modeS": "485122",
          "model": "Boeing 737-800",
          "reg": "PH-HSK"
         },
         "airline": {
          "name": "Transavia"
         },
         "arrival": {
          "actualTimeLocal": "2021-11-25 05:44+00:59",
          "actualTimeUtc": "2021-11-25 04:44Z",
          "quality": [
           "Basic",
           "Live"
          ],
          "runway": "25R",
          "runwayTimeLocal": "2021-11-25 05:32+01:00",
          "runwayTimeUtc": "2021-11-25 04:32Z",
          "scheduledTimeLocal": "2021-11-25 05:32+01:00",
          "scheduledTimeUtc": "2021-11-25 04:32Z"
         },
         "callSign": "TRA093",
         "codeshareStatus": "IsOperator",
         "departure": {
          "actualTimeLocal": "2021-11-25 04:27+01:00",
          "actualTimeUtc": "2021-11-25 03:27Z",
          "airport": {
           "iata": "AMS",
           "icao": "EHAM",
           "name": "Amsterdam"
          },
          "quality": [
           "Basic",
           "Live"
          ],
          "runway": "24",
          "runwayTimeLocal": "2021-11-25 04:35+01:00",
          "runwayTimeUtc": "2021-11-25 03:35Z",
          "scheduledTimeLocal": "2021-11-25 04:20+01:00",
          "scheduledTimeUtc": "2021-11-25 03:20Z"
         },
         "isCargo": false,
         "number": "HV 93",
         "status": "Arrived"
        },
        {
         "aircraft": {
          "model": "Airbus A320",
          "reg": "D-ABHC"
         },
         "airline": {
          "name": "Eurowings"
         },
         "arrival": {
          "quality": [
           "Basic"
          ],
          "scheduledTimeLocal": "2021-11-25 07:35+01:00",
          "scheduledTimeUtc": "2021-11-25 06:35Z",
          "terminal": "1"
         },
         "codeshareStatus": "Unknown",
         "departure": {
          "airport": {
           "iata": "DUS",
           "icao": "EDDL",
           "name": "Duesseldorf"
          },
          "checkInDesk": "153,170",
          "gate": "A46",
          "quality": [
           "Basic"
          ],
          "runwayTimeLocal": "2021-11-25 06:27+01:00",
          "runwayTimeUtc": "2021-11-25 05:27Z",
          "scheduledTimeLocal": "2021-11-25 06:20+01:00",
          "scheduledTimeUtc": "2021-11-25 05:20Z",
          "terminal": "B"
         },
         "isCargo": false,
         "number": "EW 9048",
         "status": "Unknown"
        },
        {
         "aircraft": {
          "modeS": "502D27",
          "model": "Airbus",
          "reg": "YL-AAW"
         },
         "airline": {
          "name": "Air Baltic"
         },
         "arrival": {
          "actualTimeLocal": "2021-11-25 07:51+01:00",
          "actualTimeUtc": "2021-11-25 06:51Z",
          "quality": [
           "Basic",
           "Live"
          ],
          "runway": "25R",
          "runwayTimeLocal": "2021-11-25 07:46+01:00",
          "runwayTimeUtc": "2021-11-25 06:46Z",
          "scheduledTimeLocal": "2021-11-25 07:55+01:00",
          "scheduledTimeUtc": "2021-11-25 06:55Z",
          "terminal": "1"
         },
         "callSign": "BTI74A",
         "codeshareStatus": "IsOperator",
         "departure": {
          "actualTimeLocal": "2021-11-25 07:15+02:00",
          "actualTimeUtc": "2021-11-25 05:15Z",
          "airport": {
           "iata": "RIX",
           "icao": "EVRA",
           "name": "Riga"
          },
          "quality": [
           "Basic",
           "Live"
          ],
          "runwayTimeLocal": "2021-11-25 07:23+02:00",
          "runwayTimeUtc": "2021-11-25 05:23Z",
          "scheduledTimeLocal": "2021-11-25 07:15+02:00",
          "scheduledTimeUtc": "2021-11-25 05:15Z",
          "terminal": "B1"
         },
         "isCargo": false,
         "number": "BT 211",
         "status": "Arrived"
        },
        {
         "aircraft": {
          "modeS": "4B1A39",
          "model": "Airbus A319",
          "reg": "HB-JYF"
         },
         "airline": {
          "name": "Easyjet Switzerland"
         },
         "arrival": {
          "actualTimeLocal": "2021-11-25 07:33+01:00",
          "actualTimeUtc": "2021-11-25 06:33Z",
          "quality": [
           "Basic",
           "Live"
          ],
          "runwayTimeLocal": "2021-11-25 07:27+01:00",
          "runwayTimeUtc": "2021-11-25 06:27Z",
          "scheduledTimeLocal": "2021-11-25 07:28+01:00",
          "scheduledTimeUtc": "2021-11-25 06:28Z"
         },
         "callSign": "EZS5632",
         "codeshareStatus": "IsOperator",
         "departure": {
          "actualTimeLocal": "2021-11-25 06:24+01:00",
          "actualTimeUtc": "2021-11-25 05:24Z",
          "airport": {
           "iata": "BSL",
           "icao": "LFSB",
           "name": "Bâle/Mulhouse"
          },
          "checkInDesk": "42-50",
          "gate": "44",
          "quality": [
           "Basic",
           "Live"
          ],
          "runwayTimeLocal": "2021-11-25 06:26+01:00",
          "runwayTimeUtc": "2021-11-25 05:26Z",
          "scheduledTimeLocal": "2021-11-25 06:20+01:00",
          "scheduledTimeUtc": "2021-11-25 05:20Z"
         },
         "isCargo": false,
         "number": "DS 5632",
         "status": "Arrived"
        },
        {
         "aircraft": {
          "modeS": "3C6581",
          "model": "Airbus A319",
          "reg": "D-AILA"
         },
         "airline": {
          "name": "Lufthansa"
         },
         "arrival": {
          "actualTimeLocal": "2021-11-25 08:00+00:59",
          "actualTimeUtc": "2021-11-25 07:00Z",
          "quality": [
           "Basic",
           "Live"
          ],
          "runwayTimeLocal": "2021-11-25 07:55+01:00",
          "runwayTimeUtc": "2021-11-25 06:55Z",
          "scheduledTimeLocal": "2021-11-25 08:10+01:00",
          "scheduledTimeUtc": "2021-11-25 07:10Z",
          "terminal": "1"
         },
         "callSign": "DLH3UJ",
         "codeshareStatus": "IsOperator",
         "departure": {
          "airport": {
           "iata": "MUC",
           "icao": "EDDM",
           "name": "Munich"
          },
          "quality": [
           "Basic"
          ],
          "runwayTimeLocal": "2021-11-25 07:07+01:00",
          "runwayTimeUtc": "2021-11-25 06:07Z",
          "scheduledTimeLocal": "2021-11-25 07:00+01:00",
          "scheduledTimeUtc": "2021-11-25 06:00Z",
          "terminal": "2"
         },
         "isCargo": false,
         "number": "LH 1928",
         "status": "Arrived"
        },
        {
         "aircraft": {
          "modeS": "3C49B1",
          "model": "Boeing 737-800 (winglets)",
          "reg": "D-ABMQ"
         },
         "airline": {
          "name": "Eurowings"
         },
         "arrival": {
          "actualTimeLocal": "2021-11-25 08:10+01:00",
          "actualTimeUtc": "2021-11-25 07:10Z",
          "quality": [
           "Basic",
           "Live"
          ],
          "runway": "25R",
          "runwayTimeLocal": "2021-11-25 08:10+01:00",
          "runwayTimeUtc": "2021-11-25 07:10Z",
          "scheduledTimeLocal": "2021-11-25 07:20+01:00",
          "scheduledTimeUtc": "2021-11-25 06:20Z",
          "terminal": "1"
         },
         "callSign": "EWG013",
         "codeshareStatus": "IsOperator",
         "departure": {
          "airport": {
           "iata": "CGN",
           "icao": "EDDK",
           "name": "Cologne"
          },
          "quality": [
           "Basic"
          ],
          "runway": "14L",
          "runwayTimeLocal": "2021-11-25 06:17+01:00",
          "runwayTimeUtc": "2021-11-25 05:17Z",
          "scheduledTimeLocal": "2021-11-25 06:10+01:00",
          "scheduledTimeUtc": "2021-11-25 05:10Z",
          "terminal": "1"
         },
         "isCargo": false,
         "number": "EW 12",
         "status": "Arrived"
        },
        {
         "aircraft": {
          "model": "Airbus A319"
         },
         "airline": {
          "name": "easyJet"
         },
         "arrival": {
          "quality": [
           "Basic"
          ],
          "scheduledTimeLocal": "2021-11-25 07:55+01:00",
          "scheduledTimeUtc": "2021-11-25 06:55Z",
          "terminal": "1"
         },
         "codeshareStatus": "Unknown",
         "departure": {
          "airport": {
           "iata": "BSL",
           "icao": "LFSB",
           "name": "Bâle/Mulhouse"
          },
          "quality": [
           "Basic"
          ],
          "scheduledTimeLocal": "2021-11-25 06:20+01:00",
          "scheduledTimeUtc": "2021-11-25 05:20Z"
         },
         "isCargo": false,
         "number": "U2 5632",
         "status": "CanceledUncertain"
        },
        {
         "aircraft": {
          "modeS": "4AB483",
          "model": "ATR 72-500",
          "reg": "SE-MDC"
         },
         "airline": {
          "name": "Danish Air"
         },
         "arrival": {
          "actualTimeLocal": "2021-11-25 07:59+01:00",
          "actualTimeUtc": "2021-11-25 06:59Z",
          "quality": [
           "Basic",
           "Live"
          ],
          "runway": "25R",
          "runwayTimeLocal": "2021-11-25 07:58+01:00",
          "runwayTimeUtc": "2021-11-25 06:58Z",
          "scheduledTimeLocal": "2021-11-25 08:10+01:00",
          "scheduledTimeUtc": "2021-11-25 07:10Z",
          "terminal": "0"
         },
         "callSign": "DTR2PV",
         "codeshareStatus": "IsOperator",
         "departure": {
          "airport": {
           "iata": "SCN",
           "icao": "EDDR",
           "name": "Saarbrücken"
          },
          "quality": [
           "Basic"
          ],
          "scheduledTimeLocal": "2021-11-25 06:40+01:00",
          "scheduledTimeUtc": "2021-11-25 05:40Z"
         },
         "isCargo": false,
         "number": "DX 121",
         "status": "Arrived"
        },
        {
         "aircraft": {
          "modeS": "3C6488",
          "model": "Airbus A321-100/200",
          "reg": "D-AIDH"
         },
         "airline": {
          "name": "Lufthansa"
         },
         "arrival": {
          "actualTimeLocal": "2021-11-25 07:52+01:00",
          "actualTimeUtc": "2021-11-25 06:52Z",
          "quality": [
           "Basic",
           "Live"
          ],
          "runway": "25R",
          "runwayTimeLocal": "2021-11-25 07:52+01:00",
          "runwayTimeUtc": "2021-11-25 06:52Z",
          "scheduledTimeLocal": "2021-11-25 07:55+01:00",
          "scheduledTimeUtc": "2021-11-25 06:55Z",
          "terminal": "1"
         },
         "callSign": "DLH9YA",
         "codeshareStatus": "IsOperator",
         "departure": {
          "actualTimeLocal": "2021-11-25 06:45+01:00",
          "actualTimeUtc": "2021-11-25 05:45Z",
          "airport": {
           "iata": "FRA",
           "icao": "EDDF",
           "name": "Frankfurt-am-Main"
          },
          "checkInDesk": "263-453",
          "gate": "A21",
          "quality": [
           "Basic",
           "Live"
          ],
          "runway": "25C",
          "runwayTimeLocal": "2021-11-25 07:04+01:00",
          "runwayTimeUtc": "2021-11-25 06:04Z",
          "scheduledTimeLocal": "2021-11-25 06:45+01:00",
          "scheduledTimeUtc": "2021-11-25 05:45Z",
          "terminal": "1"
         },
         "isCargo": false,
         "number": "LH 170",
         "status": "Arrived"
        },
        {
         "aircraft": {
          "modeS": "4D00D8",
          "model": "De Havilland Canada DHC-8-400 Dash 8Q",
          "reg": "LX-LQD"
         },
         "airline": {
          "name": "Luxair"
         },
         "arrival": {
          "actualTimeLocal": "2021-11-25 08:15+00:59",
          "actualTimeUtc": "2021-11-25 07:15Z",
          "quality": [
           "Basic",
           "Live"
          ],
          "runway": "25R",
          "runwayTimeLocal": "2021-11-25 08:10+01:00",
          "runwayTimeUtc": "2021-11-25 07:10Z",
          "scheduledTimeLocal": "2021-11-25 08:15+01:00",
          "scheduledTimeUtc": "2021-11-25 07:15Z",
          "terminal": "1"
         },
         "callSign": "LGL9471",
         "codeshareStatus": "IsOperator",
         "departure": {
          "actualTimeLocal": "2021-11-25 06:45+01:00",
          "actualTimeUtc": "2021-11-25 05:45Z",
          "airport": {
           "iata": "LUX",
           "icao": "ELLX",
           "name": "Luxembourg"
          },
          "quality": [
           "Basic",
           "Live"
          ],
          "runwayTimeLocal": "2021-11-25 06:57+01:00",
          "runwayTimeUtc": "2021-11-25 05:57Z",
          "scheduledTimeLocal": "2021-11-25 06:45+01:00",
          "scheduledTimeUtc": "2021-11-25 05:45Z"
         },
         "isCargo": false,
         "number": "LG 9471",
         "status": "Arrived"
        },
        {
         "aircraft": {
          "modeS": "4D2264",
          "model": "Boeing 737-800",
          "reg": "9H-QDJ"
         },
         "airline": {
          "name": "Ryanair"
         },
         "arrival": {
          "actualTimeLocal": "2021-11-25 08:31+01:00",
          "actualTimeUtc": "2021-11-25 07:31Z",
          "quality": [
           "Basic",
           "Live"
          ],
          "runway": "25R",
          "runwayTimeLocal": "2021-11-25 08:25+01:00",
          "runwayTimeUtc": "2021-11-25 07:25Z",
          "scheduledTimeLocal": "2021-11-25 08:45+01:00",
          "scheduledTimeUtc": "2021-11-25 07:45Z"
         },
         "callSign": "RYR66WW",
         "codeshareStatus": "IsOperator",
         "departure": {
          "actualTimeLocal": "2021-11-25 06:58+01:00",
          "actualTimeUtc": "2021-11-25 05:58Z",
          "airport": {
           "iata": "PSA",
           "icao": "LIRP",
           "name": "Pisa"
          },
          "quality": [
           "Basic",
           "Live"
          ],
          "runwayTimeLocal": "2021-11-25 06:58+01:00",
          "runwayTimeUtc": "2021-11-25 05:58Z",
          "scheduledTimeLocal": "2021-11-25 06:50+01:00",
          "scheduledTimeUtc": "2021-11-25 05:50Z"
         },
         "isCargo": false,
         "number": "FR 9955",
         "status": "Arrived"
        },
        {
         "aircraft": {
          "modeS": "4B18F5",
          "model": "Airbus A320-200 (Sharklets)",
          "reg": "HB-JLT"
         },
         "airline": {
          "name": "SWISS"
         },
         "arrival": {
          "actualTimeLocal": "2021-11-25 08:32+01:00",
          "actualTimeUtc": "2021-11-25 07:32Z",
          "quality": [
           "Basic",
           "Live"
          ],
          "runway": "25R",
          "runwayTimeLocal": "2021-11-25 08:32+01:00",
          "runwayTimeUtc": "2021-11-25 07:32Z",
          "scheduledTimeLocal": "2021-11-25 08:45+01:00",
          "scheduledTimeUtc": "2021-11-25 07:45Z",
          "terminal": "1"
         },
         "callSign": "SWR97Y",
         "codeshareStatus": "IsOperator",
         "departure": {
          "actualTimeLocal": "2021-11-25 07:15+01:00",
          "actualTimeUtc": "2021-11-25 06:15Z",
          "airport": {
           "iata": "ZRH",
           "icao": "LSZH",
           "name": "Zurich"
          },
          "checkInDesk": "1",
          "gate": "A75",
          "quality": [
           "Basic",
           "Live"
          ],
          "runwayTimeLocal": "2021-11-25 07:23+01:00",
          "runwayTimeUtc": "2021-11-25 06:23Z",
          "scheduledTimeLocal": "2021-11-25 07:15+01:00",
          "scheduledTimeUtc": "2021-11-25 06:15Z"
         },
         "isCargo": false,
         "number": "LX 974",
         "status": "Arrived"
        },
        {
         "aircraft": {
          "modeS": "3C675A",
          "model": "Airbus A320-200 (Sharklets)",
          "reg": "D-AIZZ"
         },
         "airline": {
          "name": "Lufthansa"
         },
         "arrival": {
          "actualTimeLocal": "2021-11-25 08:49+01:00",
          "actualTimeUtc": "2021-11-25 07:49Z",
          "quality": [
           "Basic",
           "Live"
          ],
          "runway": "25R",
          "runwayTimeLocal": "2021-11-25 08:47+01:00",
          "runwayTimeUtc": "2021-11-25 07:47Z",
          "scheduledTimeLocal": "2021-11-25 08:55+01:00",
          "scheduledTimeUtc": "2021-11-25 07:55Z",
          "terminal": "1"
         },
         "callSign": "DLH5YC",
         "codeshareStatus": "IsOperator",
         "departure": {
          "actualTimeLocal": "2021-11-25 07:45+01:00",
          "actualTimeUtc": "2021-11-25 06:45Z",
          "airport": {
           "iata": "FRA",
           "icao": "EDDF",
           "name": "Frankfurt-am-Main"
          },
          "checkInDesk": "263-453",
          "gate": "A16",
          "quality": [
           "Basic",
           "Live"
          ],
          "runway": "25C",
          "runwayTimeLocal": "2021-11-25 07:52+01:00",
          "runwayTimeUtc": "2021-11-25 06:52Z",
          "scheduledTimeLocal": "2021-11-25 07:45+01:00",
          "scheduledTimeUtc": "2021-11-25 06:45Z",
          "terminal": "1"
         },
         "isCargo": false,
         "number": "LH 174",
         "status": "Arrived"
        },
        {
         "aircraft": {
          "modeS": "44082C",
          "model": "Embraer EMB 195",
          "reg": "OE-LWP"
         },
         "airline": {
          "name": "Austrian"
         },
         "arrival": {
          "actualTimeLocal": "2021-11-25 08:47+01:00",
          "actualTimeUtc": "2021-11-25 07:47Z",
          "quality": [
           "Basic",
           "Live"
          ],
          "runway": "25R",
          "runwayTimeLocal": "2021-11-25 08:47+01:00",
          "runwayTimeUtc": "2021-11-25 07:47Z",
          "scheduledTimeLocal": "2021-11-25 08:55+01:00",
          "scheduledTimeUtc": "2021-11-25 07:55Z",
          "terminal": "1"
         },
         "callSign": "AUA223",
         "codeshareStatus": "IsOperator",
         "departure": {
          "actualTimeLocal": "2021-11-25 07:46+01:00",
          "actualTimeUtc": "2021-11-25 06:46Z",
          "airport": {
           "iata": "VIE",
           "icao": "LOWW",
           "name": "Vienna"
          },
          "checkInDesk": "351-378",
          "gate": "F23",
          "quality": [
           "Basic",
           "Live"
          ],
          "runway": "16",
          "runwayTimeLocal": "2021-11-25 07:48+01:00",
          "runwayTimeUtc": "2021-11-25 06:48Z",
          "scheduledTimeLocal": "2021-11-25 07:40+01:00",
          "scheduledTimeUtc": "2021-11-25 06:40Z",
          "terminal": "T3"
         },
         "isCargo": false,
         "number": "OS 223",
         "status": "Arrived"
        },
        {
         "aircraft": {
          "modeS": "3985A5",
          "model": "Airbus A320-100/200",
          "reg": "F-HBNF"
         },
         "airline": {
          "name": "Air France"
         },
         "arrival": {
          "actualTimeLocal": "2021-11-25 08:32+01:00",
          "actualTimeUtc": "2021-11-25 07:32Z",
          "quality": [
           "Basic",
           "Live"
          ],
          "runway": "25R",
          "runwayTimeLocal": "2021-11-25 08:29+01:00",
          "runwayTimeUtc": "2021-11-25 07:29Z",
          "scheduledTimeLocal": "2021-11-25 08:55+01:00",
          "scheduledTimeUtc": "2021-11-25 07:55Z",
          "terminal": "1"
         },
         "callSign": "AFR67SD",
         "codeshareStatus": "IsOperator",
         "departure": {
          "airport": {
           "iata": "ORY",
           "icao": "LFPO",
           "name": "Paris"
          },
          "quality": [
           "Basic"
          ],
          "runway": "08",
          "runwayTimeLocal": "2021-11-25 07:04+01:00",
          "runwayTimeUtc": "2021-11-25 06:04Z",
          "scheduledTimeLocal": "2021-11-25 07:00+01:00",
          "scheduledTimeUtc": "2021-11-25 06:00Z",
          "terminal": "3"
         },
         "isCargo": false,
         "number": "AF 7354",
         "status": "Arrived"
        },
        {
         "aircraft": {
          "modeS": "4C01E4",
          "model": "Airbus A319",
          "reg": "YU-APE"
         },
         "airline": {
          "name": "Air Serbia"
         },
         "arrival": {
          "actualTimeLocal": "2021-11-25 08:43+01:00",
          "actualTimeUtc": "2021-11-25 07:43Z",
          "quality": [
           "Basic",
           "Live"
          ],
          "runway": "25R",
          "runwayTimeLocal": "2021-11-25 08:42+01:00",
          "runwayTimeUtc": "2021-11-25 07:42Z",
          "scheduledTimeLocal": "2021-11-25 09:00+01:00",
          "scheduledTimeUtc": "2021-11-25 08:00Z",
          "terminal": "1"
         },
         "callSign": "ASL48J",
         "codeshareStatus": "IsOperator",
         "departure": {
          "airport": {
           "iata": "BEG",
           "icao": "LYBE",
           "name": "Belgrade"
          },
          "quality": [
           "Basic"
          ],
          "scheduledTimeLocal": "2021-11-25 07:10+01:00",
          "scheduledTimeUtc": "2021-11-25 06:10Z",
          "terminal": "2"
         },
         "isCargo": false,
         "number": "JU 350",
         "status": "Arrived"
        },
        {
         "aircraft": {
          "modeS": "4CA4F8",
          "model": "Boeing 737-800 (winglets)",
          "reg": "EI-DPV"
         },
         "airline": {
          "name": "Ryanair"
         },
         "arrival": {
          "actualTimeLocal": "2021-11-25 09:02+01:00",
          "actualTimeUtc": "2021-11-25 08:02Z",
          "quality": [
           "Basic",
           "Live"
          ],
          "scheduledTimeLocal": "2021-11-25 09:25+01:00",
          "scheduledTimeUtc": "2021-11-25 08:25Z"
         },
         "callSign": "RYR7MR",
         "codeshareStatus": "IsOperator",
         "departure": {
          "airport": {
           "iata": "MAD",
           "icao": "LEMD",
           "name": "Madrid"
          },
          "checkInDesk": "355-359",
          "gate": "C47",
          "quality": [
           "Basic"
          ],
          "runwayTimeLocal": "2021-11-25 06:32+01:00",
          "runwayTimeUtc": "2021-11-25 05:32Z",
          "scheduledTimeLocal": "2021-11-25 06:20+01:00",
          "scheduledTimeUtc": "2021-11-25 05:20Z",
          "terminal": "1"
         },
         "isCargo": false,
         "number": "FR 2526",
         "status": "Approaching"
        },
        {
         "aircraft": {
          "modeS": "485A35",
          "model": "Boeing 737-800",
          "reg": "PH-BCL"
         },
         "airline": {
          "name": "KLM"
         },
         "arrival": {
          "actualTimeLocal": "2021-11-25 09:04+01:00",
          "actualTimeUtc": "2021-11-25 08:04Z",
          "quality": [
           "Basic",
           "Live"
          ],
          "scheduledTimeLocal": "2021-11-25 09:25+01:00",
          "scheduledTimeUtc": "2021-11-25 08:25Z",
          "terminal": "1"
         },
         "callSign": "KLM69H",
         "codeshareStatus": "IsOperator",
         "departure": {
          "actualTimeLocal": "2021-11-25 08:00+01:00",
          "actualTimeUtc": "2021-11-25 07:00Z",
          "airport": {
           "iata": "AMS",
           "icao": "EHAM",
           "name": "Amsterdam"
          },
          "checkInDesk": "5-8",
          "gate": "C16",
          "quality": [
           "Basic",
           "Live"
          ],
          "runway": "18L",
          "runwayTimeLocal": "2021-11-25 08:10+01:00",
          "runwayTimeUtc": "2021-11-25 07:10Z",
          "scheduledTimeLocal": "2021-11-25 08:05+01:00",
          "scheduledTimeUtc": "2021-11-25 07:05Z",
          "terminal": "1"
         },
         "isCargo": false,
         "number": "KL 1821",
         "status": "Approaching"
        },
        {
         "aircraft": {
          "model": "Airbus A320"
         },
         "airline": {
          "name": "Eurowings"
         },
         "arrival": {
          "quality": [
           "Basic"
          ],
          "scheduledTimeLocal": "2021-11-25 09:40+01:00",
          "scheduledTimeUtc": "2021-11-25 08:40Z",
          "terminal": "1"
         },
         "codeshareStatus": "Unknown",
         "departure": {
          "airport": {
           "iata": "CGN",
           "icao": "EDDK",
           "name": "Cologne"
          },
          "quality": [
           "Basic"
          ],
          "scheduledTimeLocal": "2021-11-25 08:30+01:00",
          "scheduledTimeUtc": "2021-11-25 07:30Z",
          "terminal": "1"
         },
         "isCargo": false,
         "number": "EW 8059",
         "status": "Unknown"
        },
        {
         "aircraft": {
          "model": "Boeing 737-800",
          "reg": "LN-NGS"
         },
         "airline": {
          "name": "Norwegian Air Shuttle"
         },
         "arrival": {
          "quality": [
           "Basic"
          ],
          "scheduledTimeLocal": "2021-11-25 09:10+01:00",
          "scheduledTimeUtc": "2021-11-25 08:10Z",
          "terminal": "1"
         },
         "codeshareStatus": "Unknown",
         "departure": {
          "actualTimeLocal": "2021-11-25 07:23+01:00",
          "actualTimeUtc": "2021-11-25 06:23Z",
          "airport": {
           "iata": "OSL",
           "icao": "ENGM",
           "name": "Oslo"
          },
          "checkInDesk": "23",
          "gate": "D5",
          "quality": [
           "Basic",
           "Live"
          ],
          "scheduledTimeLocal": "2021-11-25 07:35+01:00",
          "scheduledTimeUtc": "2021-11-25 06:35Z"
         },
         "isCargo": false,
         "number": "DY 1102",
         "status": "Unknown"
        },
        {
         "aircraft": {
          "model": "Boeing 737-800"
         },
         "airline": {
          "name": "Ryanair"
         },
         "arrival": {
          "quality": [
           "Basic"
          ],
          "scheduledTimeLocal": "2021-11-25 09:45+01:00",
          "scheduledTimeUtc": "2021-11-25 08:45Z"
         },
         "codeshareStatus": "Unknown",
         "departure": {
          "actualTimeLocal": "2021-11-25 09:05+02:00",
          "actualTimeUtc": "2021-11-25 07:05Z",
          "airport": {
           "iata": "RIX",
           "icao": "EVRA",
           "name": "Riga"
          },
          "quality": [
           "Basic",
           "Live"
          ],
          "scheduledTimeLocal": "2021-11-25 09:05+02:00",
          "scheduledTimeUtc": "2021-11-25 07:05Z",
          "terminal": "B1"
         },
         "isCargo": false,
         "number": "FR 2600",
         "status": "Unknown"
        },
        {
         "aircraft": {
          "model": "Airbus A319"
         },
         "airline": {
          "name": "easyJet"
         },
         "arrival": {
          "quality": [
           "Basic"
          ],
          "scheduledTimeLocal": "2021-11-25 09:45+01:00",
          "scheduledTimeUtc": "2021-11-25 08:45Z",
          "terminal": "1"
         },
         "codeshareStatus": "Unknown",
         "departure": {
          "airport": {
           "iata": "AAR",
           "icao": "EKAH",
           "name": "Aarhus"
          },
          "quality": [
           "Basic"
          ],
          "scheduledTimeLocal": "2021-11-25 08:40+01:00",
          "scheduledTimeUtc": "2021-11-25 07:40Z"
         },
         "isCargo": false,
         "number": "U2 5698",
         "status": "Unknown"
        },
        {
         "aircraft": {
          "model": "Airbus A320"
         },
         "airline": {
          "name": "easyJet"
         },
         "arrival": {
          "quality": [
           "Basic"
          ],
          "scheduledTimeLocal": "2021-11-25 09:55+01:00",
          "scheduledTimeUtc": "2021-11-25 08:55Z",
          "terminal": "1"
         },
         "codeshareStatus": "Unknown",
         "departure": {
          "airport": {
           "iata": "CPH",
           "icao": "EKCH",
           "name": "Copenhagen"
          },
          "quality": [
           "Basic"
          ],
          "scheduledTimeLocal": "2021-11-25 08:50+01:00",
          "scheduledTimeUtc": "2021-11-25 07:50Z",
          "terminal": "2"
         },
         "isCargo": false,
         "number": "U2 5684",
         "status": "CanceledUncertain"
        },
        {
         "aircraft": {
          "model": "Airbus A320",
          "reg": "D-AIUD"
         },
         "airline": {
          "name": "Lufthansa"
         },
         "arrival": {
          "quality": [
           "Basic"
          ],
          "scheduledTimeLocal": "2021-11-25 09:55+01:00",
          "scheduledTimeUtc": "2021-11-25 08:55Z",
          "terminal": "1"
         },
         "codeshareStatus": "IsCodeshared",
         "departure": {
          "actualTimeLocal": "2021-11-25 08:45+01:00",
          "actualTimeUtc": "2021-11-25 07:45Z",
          "airport": {
           "iata": "FRA",
           "icao": "EDDF",
           "name": "Frankfurt-am-Main"
          },
          "checkInDesk": "263-453",
          "gate": "A13",
          "quality": [
           "Basic",
           "Live"
          ],
          "scheduledTimeLocal": "2021-11-25 08:45+01:00",
          "scheduledTimeUtc": "2021-11-25 07:45Z",
          "terminal": "1"
         },
         "isCargo": false,
         "number": "LH 176",
         "status": "Unknown"
        },
        {
         "aircraft": {
          "model": "Boeing 737-800",
          "reg": "SP-RKI"
         },
         "airline": {
          "name": "Ryanair"
         },
         "arrival": {
          "quality": [
           "Basic"
          ],
          "scheduledTimeLocal": "2021-11-25 09:30+01:00",
          "scheduledTimeUtc": "2021-11-25 08:30Z"
         },
         "codeshareStatus": "Unknown",
         "departure": {
          "airport": {
           "iata": "BUD",
           "icao": "LHBP",
           "name": "Budapest"
          },
          "quality": [
           "Basic"
          ],
          "runwayTimeLocal": "2021-11-25 08:13+01:00",
          "runwayTimeUtc": "2021-11-25 07:13Z",
          "scheduledTimeLocal": "2021-11-25 08:00+01:00",
          "scheduledTimeUtc": "2021-11-25 07:00Z",
          "terminal": "2B"
         },
         "isCargo": false,
         "number": "FR 197",
         "status": "Unknown"
        },
        {
         "aircraft": {
          "model": "Airbus A320",
          "reg": "D-AIUV"
         },
         "airline": {
          "name": "Lufthansa"
         },
         "arrival": {
          "quality": [
           "Basic"
          ],
          "scheduledTimeLocal": "2021-11-25 09:40+01:00",
          "scheduledTimeUtc": "2021-11-25 08:40Z",
          "terminal": "1"
         },
         "codeshareStatus": "IsCodeshared",
         "departure": {
          "actualTimeLocal": "2021-11-25 08:40+01:00",
          "actualTimeUtc": "2021-11-25 07:40Z",
          "airport": {
           "iata": "MUC",
           "icao": "EDDM",
           "name": "Munich"
          },
          "quality": [
           "Basic",
           "Live"
          ],
          "runwayTimeLocal": "2021-11-25 08:41+01:00",
          "runwayTimeUtc": "2021-11-25 07:41Z",
          "scheduledTimeLocal": "2021-11-25 08:30+01:00",
          "scheduledTimeUtc": "2021-11-25 07:30Z",
          "terminal": "2"
         },
         "isCargo": false,
         "number": "LH 1930",
         "status": "Unknown"
        },
        {
         "aircraft": {
          "model": "Airbus A330-300",
          "reg": "TC-JOF"
         },
         "airline": {
          "name": "Turkish"
         },
         "arrival": {
          "quality": [
           "Basic"
          ],
          "scheduledTimeLocal": "2021-11-25 09:35+01:00",
          "scheduledTimeUtc": "2021-11-25 08:35Z",
          "terminal": "1"
         },
         "codeshareStatus": "Unknown",
         "departure": {
          "airport": {
           "iata": "IST",
           "icao": "LTFM",
           "name": "Istanbul"
          },
          "quality": [
           "Basic"
          ],
          "runwayTimeLocal": "2021-11-25 09:17+03:00",
          "runwayTimeUtc": "2021-11-25 06:17Z",
          "scheduledTimeLocal": "2021-11-25 08:55+03:00",
          "scheduledTimeUtc": "2021-11-25 05:55Z"
         },
         "isCargo": false,
         "number": "TK 1721",
         "status": "Unknown"
        },
        {
         "aircraft": {
          "model": "Boeing 787-8",
          "reg": "9V-OFJ"
         },
         "airline": {
          "name": "Scoot"
         },
         "arrival": {
          "quality": [
           "Basic"
          ],
          "scheduledTimeLocal": "2021-11-25 10:20+01:00",
          "scheduledTimeUtc": "2021-11-25 09:20Z",
          "terminal": "1"
         },
         "codeshareStatus": "Unknown",
         "departure": {
          "airport": {
           "iata": "ATH",
           "icao": "LGAV",
           "name": "Athens"
          },
          "checkInDesk": "7----9",
          "gate": "A03",
          "quality": [
           "Basic"
          ],
          "runwayTimeLocal": "2021-11-25 08:21+02:00",
          "runwayTimeUtc": "2021-11-25 06:21Z",
          "scheduledTimeLocal": "2021-11-25 08:20+02:00",
          "scheduledTimeUtc": "2021-11-25 06:20Z",
          "terminal": "I"
         },
         "isCargo": false,
         "number": "TR 722",
         "status": "Unknown"
        },
        {
         "aircraft": {
          "model": "Boeing 737-800"
         },
         "airline": {
          "name": "Ryanair"
         },
         "arrival": {
          "quality": [
           "Basic"
          ],
          "scheduledTimeLocal": "2021-11-25 10:40+01:00",
          "scheduledTimeUtc": "2021-11-25 09:40Z"
         },
         "codeshareStatus": "Unknown",
         "departure": {
          "airport": {
           "iata": "STN",
           "icao": "EGSS",
           "name": "London"
          },
          "quality": [
           "Basic"
          ],
          "scheduledTimeLocal": "2021-11-25 07:50+00:00",
          "scheduledTimeUtc": "2021-11-25 07:50Z",
          "terminal": "T1"
         },
         "isCargo": false,
         "number": "FR 145",
         "status": "CanceledUncertain"
        },
        {
         "aircraft": {
          "model": "Boeing 737-800"
         },
         "airline": {
          "name": "Ryanair"
         },
         "arrival": {
          "quality": [
           "Basic"
          ],
          "scheduledTimeLocal": "2021-11-25 10:40+01:00",
          "scheduledTimeUtc": "2021-11-25 09:40Z"
         },
         "codeshareStatus": "Unknown",
         "departure": {
          "airport": {
           "iata": "BGY",
           "icao": "LIME",
           "name": "Bergamo"
          },
          "quality": [
           "Basic"
          ],
          "scheduledTimeLocal": "2021-11-25 08:55+01:00",
          "scheduledTimeUtc": "2021-11-25 07:55Z"
         },
         "isCargo": false,
         "number": "FR 4731",
         "status": "Unknown"
        },
        {
         "aircraft": {
          "model": "Airbus A320"
         },
         "airline": {
          "name": "Austrian"
         },
         "arrival": {
          "quality": [
           "Basic"
          ],
          "scheduledTimeLocal": "2021-11-25 10:25+01:00",
          "scheduledTimeUtc": "2021-11-25 09:25Z",
          "terminal": "1"
         },
         "codeshareStatus": "Unknown",
         "departure": {
          "airport": {
           "iata": "VIE",
           "icao": "LOWW",
           "name": "Vienna"
          },
          "quality": [
           "Basic"
          ],
          "scheduledTimeLocal": "2021-11-25 09:10+01:00",
          "scheduledTimeUtc": "2021-11-25 08:10Z",
          "terminal": "3"
         },
         "isCargo": false,
         "number": "OS 225",
         "status": "CanceledUncertain"
        },
        {
         "aircraft": {
          "model": "Embraer 190"
         },
         "airline": {
          "name": "British Airways"
         },
         "arrival": {
          "quality": [
           "Basic"
          ],
          "scheduledTimeLocal": "2021-11-25 10:25+01:00",
          "scheduledTimeUtc": "2021-11-25 09:25Z",
          "terminal": "1"
         },
         "codeshareStatus": "IsCodeshared",
         "departure": {
          "airport": {
           "iata": "LCY",
           "icao": "EGLC",
           "name": "London"
          },
          "gate": "7",
          "quality": [
           "Basic"
          ],
          "scheduledTimeLocal": "2021-11-25 07:45+00:00",
          "scheduledTimeUtc": "2021-11-25 07:45Z"
         },
         "isCargo": false,
         "number": "BA 8491",
         "status": "Unknown"
        },
        {
         "aircraft": {
          "modeS": "4D2213",
          "model": "Boeing 737-800 (winglets)",
          "reg": "9H-QCY"
         },
         "airline": {
          "name": "Ryanair"
         },
         "arrival": {
          "actualTimeLocal": "2021-11-25 10:57+01:00",
          "actualTimeUtc": "2021-11-25 09:57Z",
          "quality": [
           "Basic",
           "Live"
          ],
          "runwayTimeLocal": "2021-11-25 10:57+01:00",
          "runwayTimeUtc": "2021-11-25 09:57Z",
          "scheduledTimeLocal": "2021-11-25 11:05+01:00",
          "scheduledTimeUtc": "2021-11-25 10:05Z"
         },
         "callSign": "RYR920G",
         "codeshareStatus": "IsOperator",
         "departure": {
          "airport": {
           "iata": "CIA",
           "icao": "LIRA",
           "name": "Roma"
          },
          "quality": [
           "Basic"
          ],
          "scheduledTimeLocal": "2021-11-25 08:55+01:00",
          "scheduledTimeUtc": "2021-11-25 07:55Z"
         },
         "isCargo": false,
         "number": "FR 135",
         "status": "Arrived"
        },
        {
         "aircraft": {
          "model": "Airbus A320",
          "reg": "OY-KAS"
         },
         "airline": {
          "name": "SAS"
         },
         "arrival": {
          "quality": [
           "Basic"
          ],
          "scheduledTimeLocal": "2021-11-25 10:30+01:00",
          "scheduledTimeUtc": "2021-11-25 09:30Z",
          "terminal": "1"
         },
         "codeshareStatus": "Unknown",
         "departure": {
          "actualTimeLocal": "2021-11-25 08:56+01:00",
          "actualTimeUtc": "2021-11-25 07:56Z",
          "airport": {
           "iata": "ARN",
           "icao": "ESSA",
           "name": "Stockholm"
          },
          "checkInDesk": "71-74",
          "gate": "F31",
          "quality": [
           "Basic",
           "Live"
          ],
          "scheduledTimeLocal": "2021-11-25 08:55+01:00",
          "scheduledTimeUtc": "2021-11-25 07:55Z",
          "terminal": "T5"
         },
         "isCargo": false,
         "number": "SK 2677",
         "status": "Unknown"
        },
        {
         "aircraft": {
          "model": "Airbus A320",
          "reg": "SX-DGJ"
         },
         "airline": {
          "name": "Aegean"
         },
         "arrival": {
          "quality": [
           "Basic"
          ],
          "scheduledTimeLocal": "2021-11-25 10:50+01:00",
          "scheduledTimeUtc": "2021-11-25 09:50Z",
          "terminal": "1"
         },
         "codeshareStatus": "Unknown",
         "departure": {
          "airport": {
           "iata": "ATH",
           "icao": "LGAV",
           "name": "Athens"
          },
          "checkInDesk": "70---91",
          "gate": "B19",
          "quality": [
           "Basic"
          ],
          "runwayTimeLocal": "2021-11-25 09:14+02:00",
          "runwayTimeUtc": "2021-11-25 07:14Z",
          "scheduledTimeLocal": "2021-11-25 08:55+02:00",
          "scheduledTimeUtc": "2021-11-25 06:55Z",
          "terminal": "D"
         },
         "isCargo": false,
         "number": "A3 820",
         "status": "Unknown"
        },
        {
         "aircraft": {
          "modeS": "485A33",
          "model": "Boeing 737-800",
          "reg": "PH-BCH"
         },
         "airline": {
          "name": "KLM"
         },
         "arrival": {
          "actualTimeLocal": "2021-11-25 10:54+01:00",
          "actualTimeUtc": "2021-11-25 09:54Z",
          "quality": [
           "Basic",
           "Live"
          ],
          "runway": "25R",
          "runwayTimeLocal": "2021-11-25 10:54+01:00",
          "runwayTimeUtc": "2021-11-25 09:54Z",
          "scheduledTimeLocal": "2021-11-25 11:05+01:00",
          "scheduledTimeUtc": "2021-11-25 10:05Z",
          "terminal": "1"
         },
         "callSign": "KLM95E",
         "codeshareStatus": "IsOperator",
         "departure": {
          "actualTimeLocal": "2021-11-25 09:45+01:00",
          "actualTimeUtc": "2021-11-25 08:45Z",
          "airport": {
           "iata": "AMS",
           "icao": "EHAM",
           "name": "Amsterdam"
          },
          "checkInDesk": "5-8",
          "gate": "D79",
          "quality": [
           "Basic",
           "Live"
          ],
          "scheduledTimeLocal": "2021-11-25 09:45+01:00",
          "scheduledTimeUtc": "2021-11-25 08:45Z",
          "terminal": "1"
         },
         "isCargo": false,
         "number": "KL 1823",
         "status": "Arrived"
        },
        {
         "aircraft": {
          "model": "Airbus A320"
         },
         "airline": {
          "name": "Pegasus"
         },
         "arrival": {
          "quality": [
           "Basic"
          ],
          "scheduledTimeLocal": "2021-11-25 11:00+01:00",
          "scheduledTimeUtc": "2021-11-25 10:00Z",
          "terminal": "0"
         },
         "codeshareStatus": "Unknown",
         "departure": {
          "airport": {
           "iata": "SAW",
           "icao": "LTFJ",
           "name": "Istanbul"
          },
          "quality": [
           "Basic"
          ],
          "scheduledTimeLocal": "2021-11-25 09:55+03:00",
          "scheduledTimeUtc": "2021-11-25 06:55Z"
         },
         "isCargo": false,
         "number": "PC 977",
         "status": "Unknown"
        }
       ],
       "departures": [
        {
         "aircraft": {
          "modeS": "4D2275",
          "model": "Boeing 737-800 (winglets)",
          "reg": "9H-QBF"
         },
         "airline": {
          "name": "Ryanair"
         },
         "arrival": {
          "actualTimeLocal": "2021-11-25 10:45+00:00",
          "actualTimeUtc": "2021-11-25 10:45Z",
          "airport": {
           "iata": "TFS",
           "icao": "GCTS",
           "name": "Tenerife Island"
          },
          "quality": [
           "Basic",
           "Live"
          ],
          "scheduledTimeLocal": "2021-11-25 10:30+00:00",
          "scheduledTimeUtc": "2021-11-25 10:30Z",
          "terminal": "1"
         },
         "callSign": "RYR8QF",
         "codeshareStatus": "IsOperator",
         "departure": {
          "actualTimeLocal": "2021-11-25 06:19+01:00",
          "actualTimeUtc": "2021-11-25 05:19Z",
          "quality": [
           "Basic",
           "Live"
          ],
          "runway": "25R",
          "runwayTimeLocal": "2021-11-25 06:21+01:00",
          "runwayTimeUtc": "2021-11-25 05:21Z",
          "scheduledTimeLocal": "2021-11-25 06:10+01:00",
          "scheduledTimeUtc": "2021-11-25 05:10Z"
         },
         "isCargo": false,
         "number": "FR 4068",
         "status": "Departed"
        },
        {
         "aircraft": {
          "modeS": "3991E0",
          "model": "Airbus A320-100/200",
          "reg": "F-HEPA"
         },
         "airline": {
          "name": "Air France"
         },
         "arrival": {
          "airport": {
           "iata": "CDG",
           "icao": "LFPG",
           "name": "Paris"
          },
          "quality": [
           "Basic"
          ],
          "runway": "08L",
          "runwayTimeLocal": "2021-11-25 08:01+01:00",
          "runwayTimeUtc": "2021-11-25 07:01Z",
          "scheduledTimeLocal": "2021-11-25 08:15+01:00",
          "scheduledTimeUtc": "2021-11-25 07:15Z",
          "terminal": "2F"
         },
         "callSign": "AFR57TV",
         "codeshareStatus": "IsOperator",
         "departure": {
          "actualTimeLocal": "2021-11-25 06:20+01:00",
          "actualTimeUtc": "2021-11-25 05:20Z",
          "quality": [
           "Basic",
           "Live"
          ],
          "runway": "25R",
          "runwayTimeLocal": "2021-11-25 06:31+01:00",
          "runwayTimeUtc": "2021-11-25 05:31Z",
          "scheduledTimeLocal": "2021-11-25 06:25+01:00",
          "scheduledTimeUtc": "2021-11-25 05:25Z",
          "terminal": "1"
         },
         "isCargo": false,
         "number": "AF 1135",
         "status": "Departed"
        },
        {
         "aircraft": {
          "model": "Boeing 737-800"
         },
         "airline": {
          "name": "Ryanair"
         },
         "arrival": {
          "airport": {
           "iata": "ATH",
           "icao": "LGAV",
           "name": "Athens"
          },
          "quality": [
           "Basic"
          ],
          "scheduledTimeLocal": "2021-11-25 10:20+02:00",
          "scheduledTimeUtc": "2021-11-25 08:20Z"
         },
         "codeshareStatus": "Unknown",
         "departure": {
          "quality": [
           "Basic"
          ],
          "scheduledTimeLocal": "2021-11-25 06:20+01:00",
          "scheduledTimeUtc": "2021-11-25 05:20Z"
         },
         "isCargo": false,
         "number": "FR 170",
         "status": "CanceledUncertain"
        },
        {
         "aircraft": {
          "modeS": "485122",
          "model": "Boeing 737-800",
          "reg": "PH-HSK"
         },
         "airline": {
          "name": "Transavia"
         },
         "arrival": {
          "airport": {
           "name": "Unknown"
          },
          "quality": []
         },
         "callSign": "TRA7189",
         "codeshareStatus": "IsOperator",
         "departure": {
          "actualTimeLocal": "2021-11-25 06:32+01:00",
          "actualTimeUtc": "2021-11-25 05:32Z",
          "quality": [
           "Basic",
           "Live"
          ],
          "runway": "25R",
          "runwayTimeLocal": "2021-11-25 06:45+01:00",
          "runwayTimeUtc": "2021-11-25 05:45Z",
          "scheduledTimeLocal": "2021-11-25 06:32+01:00",
          "scheduledTimeUtc": "2021-11-25 05:32Z"
         },
         "isCargo": false,
         "number": "HV 7189",
         "status": "Departed"
        },
        {
         "aircraft": {
          "modeS": "40087C",
          "model": "Airbus A319",
          "reg": "G-EUPM"
         },
         "airline": {
          "name": "British Airways"
         },
         "arrival": {
          "actualTimeLocal": "2021-11-25 07:03+00:00",
          "actualTimeUtc": "2021-11-25 07:03Z",
          "airport": {
           "iata": "LHR",
           "icao": "EGLL",
           "name": "London"
          },
          "baggageBelt": "11",
          "quality": [
           "Basic",
           "Live"
          ],
          "runway": "27R",
          "runwayTimeLocal": "2021-11-25 07:03+00:00",
          "runwayTimeUtc": "2021-11-25 07:03Z",
          "scheduledTimeLocal": "2021-11-25 07:30+00:00",
          "scheduledTimeUtc": "2021-11-25 07:30Z",
          "terminal": "5"
         },
         "callSign": "BAW4AB",
         "codeshareStatus": "IsOperator",
         "departure": {
          "actualTimeLocal": "2021-11-25 06:21+01:00",
          "actualTimeUtc": "2021-11-25 05:21Z",
          "quality": [
           "Basic",
           "Live"
          ],
          "runway": "25R",
          "runwayTimeLocal": "2021-11-25 06:34+01:00",
          "runwayTimeUtc": "2021-11-25 05:34Z",
          "scheduledTimeLocal": "2021-11-25 06:25+01:00",
          "scheduledTimeUtc": "2021-11-25 05:25Z",
          "terminal": "1"
         },
         "isCargo": false,
         "number": "BA 981",
         "status": "Departed"
        },
        {
         "aircraft": {
          "modeS": "4D2279",
          "model": "Boeing 737-800",
          "reg": "9H-QBH"
         },
         "airline": {
          "name": "Ryanair"
         },
         "arrival": {
          "actualTimeLocal": "2021-11-25 10:27+00:00",
          "actualTimeUtc": "2021-11-25 10:27Z",
          "airport": {
           "iata": "FUE",
           "icao": "GCFV",
           "name": "Fuerteventura Island"
          },
          "quality": [
           "Basic",
           "Live"
          ],
          "scheduledTimeLocal": "2021-11-25 10:20+00:00",
          "scheduledTimeUtc": "2021-11-25 10:20Z",
          "terminal": "1"
         },
         "callSign": "RYR1101",
         "codeshareStatus": "IsOperator",
         "departure": {
          "actualTimeLocal": "2021-11-25 06:30+01:00",
          "actualTimeUtc": "2021-11-25 05:30Z",
          "quality": [
           "Basic",
           "Live"
          ],
          "runway": "25R",
          "runwayTimeLocal": "2021-11-25 06:33+01:00",
          "runwayTimeUtc": "2021-11-25 05:33Z",
          "scheduledTimeLocal": "2021-11-25 06:20+01:00",
          "scheduledTimeUtc": "2021-11-25 05:20Z"
         },
         "isCargo": false,
         "number": "FR 1101",
         "status": "Departed"
        },
        {
         "aircraft": {
          "modeS": "4D2213",
          "model": "Boeing 737-800 (winglets)",
          "reg": "9H-QCY"
         },
         "airline": {
          "name": "Ryanair"
         },
         "arrival": {
          "actualTimeLocal": "2021-11-25 08:25+01:00",
          "actualTimeUtc": "2021-11-25 07:25Z",
          "airport": {
           "iata": "CIA",
           "icao": "LIRA",
           "name": "Roma"
          },
          "quality": [
           "Basic",
           "Live"
          ],
          "runway": "15",
          "runwayTimeLocal": "2021-11-25 08:25+01:00",
          "runwayTimeUtc": "2021-11-25 07:25Z",
          "scheduledTimeLocal": "2021-11-25 08:30+01:00",
          "scheduledTimeUtc": "2021-11-25 07:30Z"
         },
         "callSign": "RYR2W",
         "codeshareStatus": "IsOperator",
         "departure": {
          "actualTimeLocal": "2021-11-25 06:28+01:00",
          "actualTimeUtc": "2021-11-25 05:28Z",
          "quality": [
           "Basic",
           "Live"
          ],
          "runway": "25R",
          "runwayTimeLocal": "2021-11-25 06:37+01:00",
          "runwayTimeUtc": "2021-11-25 05:37Z",
          "scheduledTimeLocal": "2021-11-25 06:25+01:00",
          "scheduledTimeUtc": "2021-11-25 05:25Z"
         },
         "isCargo": false,
         "number": "FR 134",
         "status": "Departed"
        },
        {
         "aircraft": {
          "modeS": "4D2262",
          "model": "Boeing 737-800",
          "reg": "9H-QAY"
         },
         "airline": {
          "name": "Ryanair"
         },
         "arrival": {
          "airport": {
           "iata": "TLV",
           "icao": "LLBG",
           "name": "Tel Aviv Yafo"
          },
          "quality": [
           "Basic"
          ],
          "scheduledTimeLocal": "2021-11-25 11:20+02:00",
          "scheduledTimeUtc": "2021-11-25 09:20Z"
         },
         "callSign": "RYR6472",
         "codeshareStatus": "IsOperator",
         "departure": {
          "actualTimeLocal": "2021-11-25 06:36+01:00",
          "actualTimeUtc": "2021-11-25 05:36Z",
          "quality": [
           "Basic",
           "Live"
          ],
          "runway": "25R",
          "runwayTimeLocal": "2021-11-25 06:36+01:00",
          "runwayTimeUtc": "2021-11-25 05:36Z",
          "scheduledTimeLocal": "2021-11-25 06:15+01:00",
          "scheduledTimeUtc": "2021-11-25 05:15Z"
         },
         "isCargo": false,
         "number": "FR 6472",
         "status": "Departed"
        },
        {
         "aircraft": {
          "modeS": "44D1D0",
          "model": "Boeing 737-400 Freighter",
          "reg": "OO-TNP"
         },
         "airline": {
          "name": "ASL  Belgium"
         },
         "arrival": {
          "airport": {
           "name": "Unknown"
          },
          "quality": []
         },
         "callSign": "TAY4138",
         "codeshareStatus": "IsOperator",
         "departure": {
          "actualTimeLocal": "2021-11-25 06:40+01:00",
          "actualTimeUtc": "2021-11-25 05:40Z",
          "quality": [
           "Basic",
           "Live"
          ],
          "runway": "25R",
          "runwayTimeLocal": "2021-11-25 06:43+01:00",
          "runwayTimeUtc": "2021-11-25 05:43Z",
          "scheduledTimeLocal": "2021-11-25 06:40+01:00",
          "scheduledTimeUtc": "2021-11-25 05:40Z"
         },
         "isCargo": true,
         "number": "3V 4138",
         "status": "Departed"
        },
        {
         "aircraft": {
          "modeS": "440486",
          "model": "Airbus A320-100/200",
          "reg": "OE-IZV"
         },
         "airline": {
          "name": "EasyJet Europe"
         },
         "arrival": {
          "airport": {
           "iata": "CTA",
           "icao": "LICC",
           "name": "Catania"
          },
          "quality": []
         },
         "callSign": "EJU79SY",
         "codeshareStatus": "IsOperator",
         "departure": {
          "actualTimeLocal": "2021-11-25 06:43+01:00",
          "actualTimeUtc": "2021-11-25 05:43Z",
          "quality": [
           "Basic",
           "Live"
          ],
          "runway": "25R",
          "runwayTimeLocal": "2021-11-25 06:50+01:00",
          "runwayTimeUtc": "2021-11-25 05:50Z",
          "scheduledTimeLocal": "2021-11-25 06:43+01:00",
          "scheduledTimeUtc": "2021-11-25 05:43Z"
         },
         "isCargo": false,
         "number": "EC 79SY",
         "status": "Departed"
        },
        {
         "aircraft": {
          "modeS": "4D2216",
          "model": "Boeing 737-800",
          "reg": "9H-QEH"
         },
         "airline": {
          "name": "Ryanair"
         },
         "arrival": {
          "airport": {
           "iata": "STN",
           "icao": "EGSS",
           "name": "London"
          },
          "quality": [
           "Basic"
          ],
          "runway": "04",
          "runwayTimeLocal": "2021-11-25 07:09+00:00",
          "runwayTimeUtc": "2021-11-25 07:09Z",
          "scheduledTimeLocal": "2021-11-25 07:25+00:00",
          "scheduledTimeUtc": "2021-11-25 07:25Z",
          "terminal": "T1"
         },
         "callSign": "RYR43ZR",
         "codeshareStatus": "IsOperator",
         "departure": {
          "actualTimeLocal": "2021-11-25 06:39+01:00",
          "actualTimeUtc": "2021-11-25 05:39Z",
          "quality": [
           "Basic",
           "Live"
          ],
          "runway": "25R",
          "runwayTimeLocal": "2021-11-25 06:41+01:00",
          "runwayTimeUtc": "2021-11-25 05:41Z",
          "scheduledTimeLocal": "2021-11-25 06:30+01:00",
          "scheduledTimeUtc": "2021-11-25 05:30Z"
         },
         "isCargo": false,
         "number": "FR 144",
         "status": "Departed"
        },
        {
         "aircraft": {
          "modeS": "3C6489",
          "model": "Airbus A321-100/200",
          "reg": "D-AIDI"
         },
         "airline": {
          "name": "Lufthansa"
         },
         "arrival": {
          "actualTimeLocal": "2021-11-25 07:28+01:00",
          "actualTimeUtc": "2021-11-25 06:28Z",
          "airport": {
           "iata": "FRA",
           "icao": "EDDF",
           "name": "Frankfurt-am-Main"
          },
          "gate": "A2",
          "quality": [
           "Basic",
           "Live"
          ],
          "runway": "25C",
          "runwayTimeLocal": "2021-11-25 07:20+01:00",
          "runwayTimeUtc": "2021-11-25 06:20Z",
          "scheduledTimeLocal": "2021-11-25 07:40+01:00",
          "scheduledTimeUtc": "2021-11-25 06:40Z",
          "terminal": "1"
         },
         "callSign": "DLH4YY",
         "codeshareStatus": "IsOperator",
         "departure": {
          "actualTimeLocal": "2021-11-25 06:33+01:00",
          "actualTimeUtc": "2021-11-25 05:33Z",
          "quality": [
           "Basic",
           "Live"
          ],
          "runway": "25R",
          "runwayTimeLocal": "2021-11-25 06:39+01:00",
          "runwayTimeUtc": "2021-11-25 05:39Z",
          "scheduledTimeLocal": "2021-11-25 06:30+01:00",
          "scheduledTimeUtc": "2021-11-25 05:30Z",
          "terminal": "1"
         },
         "isCargo": false,
         "number": "LH 173",
         "status": "Departed"
        },
        {
         "aircraft": {
          "model": "Airbus A320"
         },
         "airline": {
          "name": "Eurowings"
         },
         "arrival": {
          "airport": {
           "iata": "CGN",
           "icao": "EDDK",
           "name": "Cologne"
          },
          "quality": [
           "Basic"
          ],
          "scheduledTimeLocal": "2021-11-25 07:50+01:00",
          "scheduledTimeUtc": "2021-11-25 06:50Z",
          "terminal": "1"
         },
         "codeshareStatus": "Unknown",
         "departure": {
          "quality": [
           "Basic"
          ],
          "scheduledTimeLocal": "2021-11-25 06:40+01:00",
          "scheduledTimeUtc": "2021-11-25 05:40Z",
          "terminal": "1"
         },
         "isCargo": false,
         "number": "EW 8058",
         "status": "Unknown"
        },
        {
         "aircraft": {
          "modeS": "440735",
          "model": "Airbus A319",
          "reg": "OE-LQS"
         },
         "airline": {
          "name": "EasyJet Europe"
         },
         "arrival": {
          "airport": {
           "name": "Unknown"
          },
          "quality": []
         },
         "callSign": "EJU54DR",
         "codeshareStatus": "IsOperator",
         "departure": {
          "actualTimeLocal": "2021-11-25 06:53+01:00",
          "actualTimeUtc": "2021-11-25 05:53Z",
          "quality": [
           "Basic",
           "Live"
          ],
          "runway": "25R",
          "runwayTimeLocal": "2021-11-25 06:59+01:00",
          "runwayTimeUtc": "2021-11-25 05:59Z",
          "scheduledTimeLocal": "2021-11-25 06:53+01:00",
          "scheduledTimeUtc": "2021-11-25 05:53Z"
         },
         "isCargo": false,
         "number": "EC 54DR",
         "status": "Departed"
        },
        {
         "aircraft": {
          "model": "Boeing 737-800"
         },
         "airline": {
          "name": "Ryanair"
         },
         "arrival": {
          "airport": {
           "iata": "SOF",
           "icao": "LBSF",
           "name": "Sofia"
          },
          "quality": [
           "Basic"
          ],
          "scheduledTimeLocal": "2021-11-25 10:00+02:00",
          "scheduledTimeUtc": "2021-11-25 08:00Z"
         },
         "codeshareStatus": "Unknown",
         "departure": {
          "quality": [
           "Basic"
          ],
          "scheduledTimeLocal": "2021-11-25 06:45+01:00",
          "scheduledTimeUtc": "2021-11-25 05:45Z"
         },
         "isCargo": false,
         "number": "FR 1594",
         "status": "Unknown"
        },
        {
         "aircraft": {
          "model": "Airbus A320"
         },
         "airline": {
          "name": "easyJet"
         },
         "arrival": {
          "airport": {
           "iata": "CTA",
           "icao": "LICC",
           "name": "Catania"
          },
          "quality": [
           "Basic"
          ],
          "scheduledTimeLocal": "2021-11-25 09:35+01:00",
          "scheduledTimeUtc": "2021-11-25 08:35Z"
         },
         "codeshareStatus": "Unknown",
         "departure": {
          "quality": [
           "Basic"
          ],
          "scheduledTimeLocal": "2021-11-25 06:45+01:00",
          "scheduledTimeUtc": "2021-11-25 05:45Z",
          "terminal": "1"
         },
         "isCargo": false,
         "number": "U2 5693",
         "status": "Unknown"
        },
        {
         "aircraft": {
          "modeS": "3C56F7",
          "model": "Airbus A320-100/200",
          "reg": "D-AEWW"
         },
         "airline": {
          "name": "Germanwings"
         },
         "arrival": {
          "actualTimeLocal": "2021-11-25 07:44+01:00",
          "actualTimeUtc": "2021-11-25 06:44Z",
          "airport": {
           "iata": "CGN",
           "icao": "EDDK",
           "name": "Cologne"
          },
          "quality": [
           "Basic",
           "Live"
          ],
          "runway": "14L",
          "scheduledTimeLocal": "2021-11-25 07:44+01:00",
          "scheduledTimeUtc": "2021-11-25 06:44Z"
         },
         "callSign": "GWI8058",
         "codeshareStatus": "IsOperator",
         "departure": {
          "actualTimeLocal": "2021-11-25 06:47+01:00",
          "actualTimeUtc": "2021-11-25 05:47Z",
          "quality": [
           "Basic",
           "Live"
          ],
          "runway": "25R",
          "runwayTimeLocal": "2021-11-25 06:56+01:00",
          "runwayTimeUtc": "2021-11-25 05:56Z",
          "scheduledTimeLocal": "2021-11-25 06:47+01:00",
          "scheduledTimeUtc": "2021-11-25 05:47Z"
         },
         "isCargo": false,
         "number": "4U 8058",
         "status": "Departed"
        },
        {
         "aircraft": {
          "model": "Airbus A319"
         },
         "airline": {
          "name": "easyJet"
         },
         "arrival": {
          "airport": {
           "iata": "AAR",
           "icao": "EKAH",
           "name": "Aarhus"
          },
          "quality": [
           "Basic"
          ],
          "scheduledTimeLocal": "2021-11-25 08:10+01:00",
          "scheduledTimeUtc": "2021-11-25 07:10Z"
         },
         "codeshareStatus": "Unknown",
         "departure": {
          "quality": [
           "Basic"
          ],
          "scheduledTimeLocal": "2021-11-25 06:55+01:00",
          "scheduledTimeUtc": "2021-11-25 05:55Z",
          "terminal": "1"
         },
         "isCargo": false,
         "number": "U2 5697",
         "status": "Unknown"
        },
        {
         "aircraft": {
          "modeS": "44022B",
          "model": "Airbus A320-100/200",
          "reg": "OE-LXB"
         },
         "airline": {
          "name": "Austrian"
         },
         "arrival": {
          "actualTimeLocal": "2021-11-25 08:03+01:00",
          "actualTimeUtc": "2021-11-25 07:03Z",
          "airport": {
           "iata": "VIE",
           "icao": "LOWW",
           "name": "Vienna"
          },
          "baggageBelt": "01",
          "quality": [
           "Basic",
           "Live"
          ],
          "runway": "11",
          "runwayTimeLocal": "2021-11-25 07:55+01:00",
          "runwayTimeUtc": "2021-11-25 06:55Z",
          "scheduledTimeLocal": "2021-11-25 08:15+01:00",
          "scheduledTimeUtc": "2021-11-25 07:15Z",
          "terminal": "3"
         },
         "callSign": "AUA2TU",
         "codeshareStatus": "IsOperator",
         "departure": {
          "actualTimeLocal": "2021-11-25 06:55+01:00",
          "actualTimeUtc": "2021-11-25 05:55Z",
          "quality": [
           "Basic",
           "Live"
          ],
          "runway": "25R",
          "runwayTimeLocal": "2021-11-25 07:03+01:00",
          "runwayTimeUtc": "2021-11-25 06:03Z",
          "scheduledTimeLocal": "2021-11-25 07:00+01:00",
          "scheduledTimeUtc": "2021-11-25 06:00Z",
          "terminal": "1"
         },
         "isCargo": false,
         "number": "OS 240",
         "status": "Departed"
        },
        {
         "aircraft": {
          "modeS": "4D21EA",
          "model": "Boeing 737-800",
          "reg": "9H-QAB"
         },
         "airline": {
          "name": "Ryanair"
         },
         "arrival": {
          "actualTimeLocal": "2021-11-25 08:23+01:00",
          "actualTimeUtc": "2021-11-25 07:23Z",
          "airport": {
           "iata": "BGY",
           "icao": "LIME",
           "name": "Bergamo"
          },
          "quality": [
           "Basic",
           "Live"
          ],
          "scheduledTimeLocal": "2021-11-25 08:30+01:00",
          "scheduledTimeUtc": "2021-11-25 07:30Z"
         },
         "callSign": "RYR5HZ",
         "codeshareStatus": "IsOperator",
         "departure": {
          "actualTimeLocal": "2021-11-25 06:57+01:00",
          "actualTimeUtc": "2021-11-25 05:57Z",
          "quality": [
           "Basic",
           "Live"
          ],
          "runway": "25R",
          "runwayTimeLocal": "2021-11-25 06:57+01:00",
          "runwayTimeUtc": "2021-11-25 05:57Z",
          "scheduledTimeLocal": "2021-11-25 06:45+01:00",
          "scheduledTimeUtc": "2021-11-25 05:45Z"
         },
         "isCargo": false,
         "number": "FR 4732",
         "status": "Departed"
        },
        {
         "aircraft": {
          "model": "Airbus A320"
         },
         "airline": {
          "name": "easyJet"
         },
         "arrival": {
          "airport": {
           "iata": "TLV",
           "icao": "LLBG",
           "name": "Tel Aviv Yafo"
          },
          "quality": [
           "Basic"
          ],
          "scheduledTimeLocal": "2021-11-25 12:15+02:00",
          "scheduledTimeUtc": "2021-11-25 10:15Z",
          "terminal": "3"
         },
         "codeshareStatus": "Unknown",
         "departure": {
          "quality": [
           "Basic"
          ],
          "scheduledTimeLocal": "2021-11-25 07:00+01:00",
          "scheduledTimeUtc": "2021-11-25 06:00Z",
          "terminal": "1"
         },
         "isCargo": false,
         "number": "U2 5201",
         "status": "Unknown"
        },
        {
         "aircraft": {
          "model": "Airbus A320"
         },
         "airline": {
          "name": "easyJet"
         },
         "arrival": {
          "airport": {
           "iata": "LGW",
           "icao": "EGKK",
           "name": "London"
          },
          "quality": [
           "Basic"
          ],
          "scheduledTimeLocal": "2021-11-25 08:10+00:00",
          "scheduledTimeUtc": "2021-11-25 08:10Z",
          "terminal": "N"
         },
         "codeshareStatus": "Unknown",
         "departure": {
          "quality": [
           "Basic"
          ],
          "scheduledTimeLocal": "2021-11-25 07:05+01:00",
          "scheduledTimeUtc": "2021-11-25 06:05Z",
          "terminal": "1"
         },
         "isCargo": false,
         "number": "U2 8210",
         "status": "CanceledUncertain"
        },
        {
         "aircraft": {
          "model": "Airbus A320"
         },
         "airline": {
          "name": "easyJet"
         },
         "arrival": {
          "airport": {
           "iata": "CPH",
           "icao": "EKCH",
           "name": "Copenhagen"
          },
          "quality": [
           "Basic"
          ],
          "scheduledTimeLocal": "2021-11-25 08:20+01:00",
          "scheduledTimeUtc": "2021-11-25 07:20Z",
          "terminal": "2"
         },
         "codeshareStatus": "Unknown",
         "departure": {
          "quality": [
           "Basic"
          ],
          "scheduledTimeLocal": "2021-11-25 07:10+01:00",
          "scheduledTimeUtc": "2021-11-25 06:10Z",
          "terminal": "1"
         },
         "isCargo": false,
         "number": "U2 5683",
         "status": "CanceledUncertain"
        },
        {
         "aircraft": {
          "modeS": "3C1459",
          "model": "Embraer EMB 190",
          "reg": "D-AWSI"
         },
         "airline": {
          "name": "GER"
         },
         "arrival": {
          "airport": {
           "name": "Unknown"
          },
          "quality": []
         },
         "callSign": "GER943",
         "codeshareStatus": "IsOperator",
         "departure": {
          "actualTimeLocal": "2021-11-25 05:03+01:00",
          "actualTimeUtc": "2021-11-25 04:03Z",
          "quality": [
           "Basic",
           "Live"
          ],
          "runway": "25R",
          "runwayTimeLocal": "2021-11-25 05:06+01:00",
          "runwayTimeUtc": "2021-11-25 04:06Z",
          "scheduledTimeLocal": "2021-11-25 05:03+01:00",
          "scheduledTimeUtc": "2021-11-25 04:03Z"
         },
         "isCargo": false,
         "number": "GER 943",
         "status": "Departed"
        },
        {
         "aircraft": {
          "modeS": "3C56EE",
          "model": "Airbus A320-100/200",
          "reg": "D-AEWN"
         },
         "airline": {
          "name": "Eurowings"
         },
         "arrival": {
          "actualTimeLocal": "2021-11-25 01:17+01:00",
          "actualTimeUtc": "2021-11-25 00:17Z",
          "airport": {
           "iata": "STR",
           "icao": "EDDS",
           "name": "Stuttgart"
          },
          "quality": [
           "Basic",
           "Live"
          ],
          "runwayTimeLocal": "2021-11-25 01:17+01:00",
          "runwayTimeUtc": "2021-11-25 00:17Z",
          "scheduledTimeLocal": "2021-11-25 01:15+01:00",
          "scheduledTimeUtc": "2021-11-25 00:15Z"
         },
         "callSign": "EWG3001",
         "codeshareStatus": "IsOperator",
         "departure": {
          "actualTimeLocal": "2021-11-25 00:23+01:00",
          "actualTimeUtc": "2021-11-24 23:23Z",
          "quality": [
           "Basic",
           "Live"
          ],
          "runway": "25R",
          "runwayTimeLocal": "2021-11-25 00:27+01:00",
          "runwayTimeUtc": "2021-11-24 23:27Z",
          "scheduledTimeLocal": "2021-11-25 00:23+01:00",
          "scheduledTimeUtc": "2021-11-24 23:23Z"
         },
         "isCargo": false,
         "number": "EW 3001",
         "status": "Departed"
        },
        {
         "aircraft": {
          "modeS": "4401E8",
          "model": "Airbus A319",
          "reg": "OE-LQC"
         },
         "airline": {
          "name": "EasyJet Europe"
         },
         "arrival": {
          "actualTimeLocal": "2021-11-25 08:10+00:00",
          "actualTimeUtc": "2021-11-25 08:10Z",
          "airport": {
           "iata": "LGW",
           "icao": "EGKK",
           "name": "London"
          },
          "quality": [
           "Basic",
           "Live"
          ],
          "runway": "26L",
          "scheduledTimeLocal": "2021-11-25 08:10+00:00",
          "scheduledTimeUtc": "2021-11-25 08:10Z",
          "terminal": "N"
         },
         "callSign": "EJU8210",
         "codeshareStatus": "IsOperator",
         "departure": {
          "actualTimeLocal": "2021-11-25 06:59+01:00",
          "actualTimeUtc": "2021-11-25 05:59Z",
          "quality": [
           "Basic",
           "Live"
          ],
          "runway": "25R",
          "runwayTimeLocal": "2021-11-25 07:12+01:00",
          "runwayTimeUtc": "2021-11-25 06:12Z",
          "scheduledTimeLocal": "2021-11-25 06:59+01:00",
          "scheduledTimeUtc": "2021-11-25 05:59Z"
         },
         "isCargo": false,
         "number": "EC 8210",
         "status": "Departed"
        },
        {
         "aircraft": {
          "modeS": "440395",
          "model": "Airbus A320-100/200",
          "reg": "OE-IZO"
         },
         "airline": {
          "name": "EasyJet Europe"
         },
         "arrival": {
          "actualTimeLocal": "2021-11-25 08:03+01:00",
          "actualTimeUtc": "2021-11-25 07:03Z",
          "airport": {
           "iata": "CPH",
           "icao": "EKCH",
           "name": "Copenhagen"
          },
          "quality": [
           "Basic",
           "Live"
          ],
          "runway": "22L",
          "runwayTimeLocal": "2021-11-25 08:03+01:00",
          "runwayTimeUtc": "2021-11-25 07:03Z",
          "scheduledTimeLocal": "2021-11-25 08:02+01:00",
          "scheduledTimeUtc": "2021-11-25 07:02Z"
         },
         "callSign": "EJU58NU",
         "codeshareStatus": "IsOperator",
         "departure": {
          "actualTimeLocal": "2021-11-25 07:11+01:00",
          "actualTimeUtc": "2021-11-25 06:11Z",
          "quality": [
           "Basic",
           "Live"
          ],
          "runway": "25R",
          "runwayTimeLocal": "2021-11-25 07:21+01:00",
          "runwayTimeUtc": "2021-11-25 06:21Z",
          "scheduledTimeLocal": "2021-11-25 07:11+01:00",
          "scheduledTimeUtc": "2021-11-25 06:11Z"
         },
         "isCargo": false,
         "number": "EC 58NU",
         "status": "Departed"
        },
        {
         "aircraft": {
          "modeS": "44017B",
          "model": "Airbus A320-100/200",
          "reg": "OE-IJG"
         },
         "airline": {
          "name": "EasyJet Europe"
         },
         "arrival": {
          "actualTimeLocal": "2021-11-25 08:49+01:00",
          "actualTimeUtc": "2021-11-25 07:49Z",
          "airport": {
           "iata": "MXP",
           "icao": "LIMC",
           "name": "Milan"
          },
          "quality": [
           "Basic",
           "Live"
          ],
          "runwayTimeLocal": "2021-11-25 08:48+01:00",
          "runwayTimeUtc": "2021-11-25 07:48Z",
          "scheduledTimeLocal": "2021-11-25 08:47+01:00",
          "scheduledTimeUtc": "2021-11-25 07:47Z"
         },
         "callSign": "EJU36AC",
         "codeshareStatus": "IsOperator",
         "departure": {
          "actualTimeLocal": "2021-11-25 07:14+01:00",
          "actualTimeUtc": "2021-11-25 06:14Z",
          "quality": [
           "Basic",
           "Live"
          ],
          "runway": "25R",
          "runwayTimeLocal": "2021-11-25 07:25+01:00",
          "runwayTimeUtc": "2021-11-25 06:25Z",
          "scheduledTimeLocal": "2021-11-25 07:14+01:00",
          "scheduledTimeUtc": "2021-11-25 06:14Z"
         },
         "isCargo": false,
         "number": "EC 36AC",
         "status": "Departed"
        },
        {
         "aircraft": {
          "model": "Airbus A320"
         },
         "airline": {
          "name": "easyJet"
         },
         "arrival": {
          "airport": {
           "iata": "MXP",
           "icao": "LIMC",
           "name": "Milan"
          },
          "quality": [
           "Basic"
          ],
          "scheduledTimeLocal": "2021-11-25 09:05+01:00",
          "scheduledTimeUtc": "2021-11-25 08:05Z",
          "terminal": "1"
         },
         "codeshareStatus": "Unknown",
         "departure": {
          "quality": [
           "Basic"
          ],
          "scheduledTimeLocal": "2021-11-25 07:15+01:00",
          "scheduledTimeUtc": "2021-11-25 06:15Z",
          "terminal": "1"
         },
         "isCargo": false,
         "number": "U2 4673",
         "status": "Unknown"
        },
        {
         "aircraft": {
          "modeS": "44CDCD",
          "model": "Airbus A320-100/200",
          "reg": "OO-SNM"
         },
         "airline": {
          "name": "Brussels"
         },
         "arrival": {
          "actualTimeLocal": "2021-11-25 08:21+01:00",
          "actualTimeUtc": "2021-11-25 07:21Z",
          "airport": {
           "iata": "BRU",
           "icao": "EBBR",
           "name": "Brussels"
          },
          "quality": [
           "Basic",
           "Live"
          ],
          "runway": "25R",
          "runwayTimeLocal": "2021-11-25 08:18+01:00",
          "runwayTimeUtc": "2021-11-25 07:18Z",
          "scheduledTimeLocal": "2021-11-25 08:15+01:00",
          "scheduledTimeUtc": "2021-11-25 07:15Z"
         },
         "callSign": "BEL2592",
         "codeshareStatus": "IsOperator",
         "departure": {
          "actualTimeLocal": "2021-11-25 07:10+01:00",
          "actualTimeUtc": "2021-11-25 06:10Z",
          "quality": [
           "Basic",
           "Live"
          ],
          "runway": "25R",
          "runwayTimeLocal": "2021-11-25 07:16+01:00",
          "runwayTimeUtc": "2021-11-25 06:16Z",
          "scheduledTimeLocal": "2021-11-25 06:50+01:00",
          "scheduledTimeUtc": "2021-11-25 05:50Z",
          "terminal": "1"
         },
         "isCargo": false,
         "number": "SN 2592",
         "status": "Departed"
        },
        {
         "aircraft": {
          "modeS": "484CB7",
          "model": "Boeing 737-700 (winglets)",
          "reg": "PH-BGQ"
         },
         "airline": {
          "name": "KLM"
         },
         "arrival": {
          "actualTimeLocal": "2021-11-25 07:06+01:00",
          "actualTimeUtc": "2021-11-25 06:06Z",
          "airport": {
           "iata": "AMS",
           "icao": "EHAM",
           "name": "Amsterdam"
          },
          "baggageBelt": "9",
          "gate": "D74",
          "quality": [
           "Basic",
           "Live"
          ],
          "runway": "18R",
          "runwayTimeLocal": "2021-11-25 07:06+01:00",
          "runwayTimeUtc": "2021-11-25 06:06Z",
          "scheduledTimeLocal": "2021-11-25 07:25+01:00",
          "scheduledTimeUtc": "2021-11-25 06:25Z",
          "terminal": "2"
         },
         "callSign": "KLM44R",
         "codeshareStatus": "IsOperator",
         "departure": {
          "actualTimeLocal": "2021-11-25 05:58+01:00",
          "actualTimeUtc": "2021-11-25 04:58Z",
          "quality": [
           "Basic",
           "Live"
          ],
          "runway": "25R",
          "runwayTimeLocal": "2021-11-25 06:11+01:00",
          "runwayTimeUtc": "2021-11-25 05:11Z",
          "scheduledTimeLocal": "2021-11-25 06:00+01:00",
          "scheduledTimeUtc": "2021-11-25 05:00Z",
          "terminal": "1"
         },
         "isCargo": false,
         "number": "KL 1818",
         "status": "Departed"
        },
        {
         "aircraft": {
          "modeS": "440380",
          "model": "Airbus A320-100/200",
          "reg": "OE-IZP"
         },
         "airline": {
          "name": "EasyJet Europe"
         },
         "arrival": {
          "actualTimeLocal": "2021-11-25 12:13+02:00",
          "actualTimeUtc": "2021-11-25 10:13Z",
          "airport": {
           "iata": "TLV",
           "icao": "LLBG",
           "name": "Tel Aviv Yafo"
          },
          "quality": [
           "Basic",
           "Live"
          ],
          "runway": "21",
          "runwayTimeLocal": "2021-11-25 12:13+02:00",
          "runwayTimeUtc": "2021-11-25 10:13Z",
          "scheduledTimeLocal": "2021-11-25 12:13+02:00",
          "scheduledTimeUtc": "2021-11-25 10:13Z"
         },
         "callSign": "EJU5201",
         "codeshareStatus": "IsOperator",
         "departure": {
          "actualTimeLocal": "2021-11-25 07:17+01:00",
          "actualTimeUtc": "2021-11-25 06:17Z",
          "quality": [
           "Basic",
           "Live"
          ],
          "runway": "25R",
          "runwayTimeLocal": "2021-11-25 07:24+01:00",
          "runwayTimeUtc": "2021-11-25 06:24Z",
          "scheduledTimeLocal": "2021-11-25 07:17+01:00",
          "scheduledTimeUtc": "2021-11-25 06:17Z"
         },
         "isCargo": false,
         "number": "EC 5201",
         "status": "Departed"
        },
        {
         "aircraft": {
          "modeS": "3C66B6",
          "model": "Airbus A320-100/200",
          "reg": "D-AIUV"
         },
         "airline": {
          "name": "Lufthansa"
         },
         "arrival": {
          "actualTimeLocal": "2021-11-25 07:13+01:00",
          "actualTimeUtc": "2021-11-25 06:13Z",
          "airport": {
           "iata": "MUC",
           "icao": "EDDM",
           "name": "Munich"
          },
          "quality": [
           "Basic",
           "Live"
          ],
          "runwayTimeLocal": "2021-11-25 07:11+01:00",
          "runwayTimeUtc": "2021-11-25 06:11Z",
          "scheduledTimeLocal": "2021-11-25 07:25+01:00",
          "scheduledTimeUtc": "2021-11-25 06:25Z",
          "terminal": "2"
         },
         "callSign": "DLH7KY",
         "codeshareStatus": "IsOperator",
         "departure": {
          "actualTimeLocal": "2021-11-25 06:10+01:00",
          "actualTimeUtc": "2021-11-25 05:10Z",
          "quality": [
           "Basic",
           "Live"
          ],
          "runway": "25R",
          "runwayTimeLocal": "2021-11-25 06:20+01:00",
          "runwayTimeUtc": "2021-11-25 05:20Z",
          "scheduledTimeLocal": "2021-11-25 06:15+01:00",
          "scheduledTimeUtc": "2021-11-25 05:15Z",
          "terminal": "1"
         },
         "isCargo": false,
         "number": "LH 1959",
         "status": "Departed"
        },
        {
         "aircraft": {
          "modeS": "4D222E",
          "model": "Boeing 737-800 (winglets)",
          "reg": "9H-QAO"
         },
         "airline": {
          "name": "Ryanair"
         },
         "arrival": {
          "actualTimeLocal": "2021-11-25 08:40+02:00",
          "actualTimeUtc": "2021-11-25 06:40Z",
          "airport": {
           "iata": "RIX",
           "icao": "EVRA",
           "name": "Riga"
          },
          "quality": [
           "Basic",
           "Live"
          ],
          "scheduledTimeLocal": "2021-11-25 08:40+02:00",
          "scheduledTimeUtc": "2021-11-25 06:40Z",
          "terminal": "E"
         },
         "callSign": "RYR2599",
         "codeshareStatus": "IsOperator",
         "departure": {
          "actualTimeLocal": "2021-11-25 06:10+01:00",
          "actualTimeUtc": "2021-11-25 05:10Z",
          "quality": [
           "Basic",
           "Live"
          ],
          "runway": "25R",
          "runwayTimeLocal": "2021-11-25 06:18+01:00",
          "runwayTimeUtc": "2021-11-25 05:18Z",
          "scheduledTimeLocal": "2021-11-25 06:00+01:00",
          "scheduledTimeUtc": "2021-11-25 05:00Z"
         },
         "isCargo": false,
         "number": "FR 2599",
         "status": "Departed"
        },
        {
         "aircraft": {
          "modeS": "3C56EB",
          "model": "Airbus A320-100/200",
          "reg": "D-AEWK"
         },
         "airline": {
          "name": "Eurowings"
         },
         "arrival": {
          "actualTimeLocal": "2021-11-25 11:24+00:00",
          "actualTimeUtc": "2021-11-25 11:24Z",
          "airport": {
           "iata": "FUE",
           "icao": "GCFV",
           "name": "Fuerteventura Island"
          },
          "quality": [
           "Basic",
           "Live"
          ],
          "scheduledTimeLocal": "2021-11-25 11:30+00:00",
          "scheduledTimeUtc": "2021-11-25 11:30Z",
          "terminal": "1"
         },
         "callSign": "EWG8180",
         "codeshareStatus": "IsOperator",
         "departure": {
          "actualTimeLocal": "2021-11-25 07:20+01:00",
          "actualTimeUtc": "2021-11-25 06:20Z",
          "quality": [
           "Basic",
           "Live"
          ],
          "runway": "25R",
          "runwayTimeLocal": "2021-11-25 07:34+01:00",
          "runwayTimeUtc": "2021-11-25 06:34Z",
          "scheduledTimeLocal": "2021-11-25 07:20+01:00",
          "scheduledTimeUtc": "2021-11-25 06:20Z",
          "terminal": "1"
         },
         "isCargo": false,
         "number": "EW 8180",
         "status": "Departed"
        },
        {
         "aircraft": {
          "model": "Airbus A320"
         },
         "airline": {
          "name": "Iberia"
         },
         "arrival": {
          "actualTimeLocal": "2021-11-25 10:25+01:00",
          "actualTimeUtc": "2021-11-25 09:25Z",
          "airport": {
           "iata": "MAD",
           "icao": "LEMD",
           "name": "Madrid"
          },
          "quality": [
           "Basic",
           "Live"
          ],
          "scheduledTimeLocal": "2021-11-25 10:30+01:00",
          "scheduledTimeUtc": "2021-11-25 09:30Z",
          "terminal": "4"
         },
         "codeshareStatus": "Unknown",
         "departure": {
          "quality": [
           "Basic"
          ],
          "scheduledTimeLocal": "2021-11-25 07:20+01:00",
          "scheduledTimeUtc": "2021-11-25 06:20Z",
          "terminal": "1"
         },
         "isCargo": false,
         "number": "IB 3673",
         "status": "Departed"
        },
        {
         "aircraft": {
          "model": "Airbus A320"
         },
         "airline": {
          "name": "easyJet"
         },
         "arrival": {
          "airport": {
           "iata": "CDG",
           "icao": "LFPG",
           "name": "Paris"
          },
          "quality": [
           "Basic"
          ],
          "scheduledTimeLocal": "2021-11-25 09:15+01:00",
          "scheduledTimeUtc": "2021-11-25 08:15Z",
          "terminal": "2D"
         },
         "codeshareStatus": "Unknown",
         "departure": {
          "quality": [
           "Basic"
          ],
          "scheduledTimeLocal": "2021-11-25 07:20+01:00",
          "scheduledTimeUtc": "2021-11-25 06:20Z",
          "terminal": "1"
         },
         "isCargo": false,
         "number": "U2 5651",
         "status": "Unknown"
        },
        {
         "aircraft": {
          "modeS": "489321",
          "model": "De Havilland Canada DHC-8-400 Dash 8Q",
          "reg": "SP-EQB"
         },
         "airline": {
          "name": "LOT - Polish"
         },
         "arrival": {
          "airport": {
           "iata": "WAW",
           "icao": "EPWA",
           "name": "Warsaw"
          },
          "baggageBelt": "3",
          "quality": [
           "Basic"
          ],
          "scheduledTimeLocal": "2021-11-25 09:05+01:00",
          "scheduledTimeUtc": "2021-11-25 08:05Z"
         },
         "callSign": "LOT3MC",
         "codeshareStatus": "IsOperator",
         "departure": {
          "actualTimeLocal": "2021-11-25 07:37+01:00",
          "actualTimeUtc": "2021-11-25 06:37Z",
          "quality": [
           "Basic",
           "Live"
          ],
          "runway": "25R",
          "runwayTimeLocal": "2021-11-25 07:48+01:00",
          "runwayTimeUtc": "2021-11-25 06:48Z",
          "scheduledTimeLocal": "2021-11-25 07:40+01:00",
          "scheduledTimeUtc": "2021-11-25 06:40Z",
          "terminal": "1"
         },
         "isCargo": false,
         "number": "LO 392",
         "status": "Departed"
        },
        {
         "aircraft": {
          "modeS": "440148",
          "model": "Airbus A320-100/200",
          "reg": "OE-ICZ"
         },
         "airline": {
          "name": "EasyJet Europe"
         },
         "arrival": {
          "airport": {
           "iata": "NAP",
           "icao": "LIRN",
           "name": "Nápoli"
          },
          "quality": []
         },
         "callSign": "EJU78TU",
         "codeshareStatus": "IsOperator",
         "departure": {
          "actualTimeLocal": "2021-11-25 07:52+01:00",
          "actualTimeUtc": "2021-11-25 06:52Z",
          "quality": [
           "Basic",
           "Live"
          ],
          "runway": "25R",
          "runwayTimeLocal": "2021-11-25 08:06+01:00",
          "runwayTimeUtc": "2021-11-25 07:06Z",
          "scheduledTimeLocal": "2021-11-25 07:52+01:00",
          "scheduledTimeUtc": "2021-11-25 06:52Z"
         },
         "isCargo": false,
         "number": "EC 78TU",
         "status": "Departed"
        },
        {
         "aircraft": {
          "modeS": "440309",
          "model": "Airbus A320-100/200",
          "reg": "OE-IZD"
         },
         "airline": {
          "name": "EasyJet Europe"
         },
         "arrival": {
          "airport": {
           "iata": "AGP",
           "icao": "LEMG",
           "name": "Málaga"
          },
          "quality": []
         },
         "callSign": "EJU14XQ",
         "codeshareStatus": "IsOperator",
         "departure": {
          "actualTimeLocal": "2021-11-25 07:54+01:00",
          "actualTimeUtc": "2021-11-25 06:54Z",
          "quality": [
           "Basic",
           "Live"
          ],
          "runway": "25R",
          "runwayTimeLocal": "2021-11-25 08:04+01:00",
          "runwayTimeUtc": "2021-11-25 07:04Z",
          "scheduledTimeLocal": "2021-11-25 07:54+01:00",
          "scheduledTimeUtc": "2021-11-25 06:54Z"
         },
         "isCargo": false,
         "number": "EC 14XQ",
         "status": "Departed"
        },
        {
         "aircraft": {
          "modeS": "3C0AC7",
          "model": "Airbus A321-100/200",
          "reg": "D-ATCC"
         },
         "airline": {
          "name": "Condor"
         },
         "arrival": {
          "airport": {
           "iata": "HRG",
           "icao": "HEGN",
           "name": "Hurghada"
          },
          "quality": [
           "Basic"
          ],
          "scheduledTimeLocal": "2021-11-25 13:00+02:00",
          "scheduledTimeUtc": "2021-11-25 11:00Z",
          "terminal": "1"
         },
         "callSign": "CFG432",
         "codeshareStatus": "IsOperator",
         "departure": {
          "actualTimeLocal": "2021-11-25 07:34+01:00",
          "actualTimeUtc": "2021-11-25 06:34Z",
          "quality": [
           "Basic",
           "Live"
          ],
          "runway": "25R",
          "runwayTimeLocal": "2021-11-25 07:46+01:00",
          "runwayTimeUtc": "2021-11-25 06:46Z",
          "scheduledTimeLocal": "2021-11-25 07:20+01:00",
          "scheduledTimeUtc": "2021-11-25 06:20Z",
          "terminal": "1"
         },
         "isCargo": false,
         "number": "DE 432",
         "status": "Departed"
        },
        {
         "aircraft": {
          "model": "Boeing 737-800"
         },
         "airline": {
          "name": "Ryanair"
         },
         "arrival": {
          "airport": {
           "iata": "TGD",
           "icao": "LYPG",
           "name": "Podgorica"
          },
          "quality": [
           "Basic"
          ],
          "scheduledTimeLocal": "2021-11-25 09:50+01:00",
          "scheduledTimeUtc": "2021-11-25 08:50Z"
         },
         "codeshareStatus": "Unknown",
         "departure": {
          "quality": [
           "Basic"
          ],
          "scheduledTimeLocal": "2021-11-25 07:40+01:00",
          "scheduledTimeUtc": "2021-11-25 06:40Z"
         },
         "isCargo": false,
         "number": "FR 1578",
         "status": "CanceledUncertain"
        },
        {
         "aircraft": {
          "model": "Airbus A320"
         },
         "airline": {
          "name": "easyJet"
         },
         "arrival": {
          "airport": {
           "iata": "AGP",
           "icao": "LEMG",
           "name": "Málaga"
          },
          "quality": [
           "Basic"
          ],
          "scheduledTimeLocal": "2021-11-25 11:15+01:00",
          "scheduledTimeUtc": "2021-11-25 10:15Z"
         },
         "codeshareStatus": "Unknown",
         "departure": {
          "quality": [
           "Basic"
          ],
          "scheduledTimeLocal": "2021-11-25 07:40+01:00",
          "scheduledTimeUtc": "2021-11-25 06:40Z",
          "terminal": "1"
         },
         "isCargo": false,
         "number": "U2 5913",
         "status": "CanceledUncertain"
        },
        {
         "aircraft": {
          "model": "Boeing 737-800"
         },
         "airline": {
          "name": "Ryanair"
         },
         "arrival": {
          "airport": {
           "iata": "DUB",
           "icao": "EIDW",
           "name": "Dublin"
          },
          "quality": [
           "Basic"
          ],
          "scheduledTimeLocal": "2021-11-25 09:25+00:00",
          "scheduledTimeUtc": "2021-11-25 09:25Z"
         },
         "codeshareStatus": "Unknown",
         "departure": {
          "quality": [
           "Basic"
          ],
          "scheduledTimeLocal": "2021-11-25 07:55+01:00",
          "scheduledTimeUtc": "2021-11-25 06:55Z"
         },
         "isCargo": false,
         "number": "FR 8557",
         "status": "CanceledUncertain"
        },
        {
         "aircraft": {
          "model": "Airbus A320"
         },
         "airline": {
          "name": "easyJet"
         },
         "arrival": {
          "airport": {
           "iata": "BCN",
           "icao": "LEBL",
           "name": "Barcelona"
          },
          "quality": [
           "Basic"
          ],
          "scheduledTimeLocal": "2021-11-25 10:30+01:00",
          "scheduledTimeUtc": "2021-11-25 09:30Z",
          "terminal": "2"
         },
         "codeshareStatus": "Unknown",
         "departure": {
          "quality": [
           "Basic"
          ],
          "scheduledTimeLocal": "2021-11-25 07:55+01:00",
          "scheduledTimeUtc": "2021-11-25 06:55Z",
          "terminal": "1"
         },
         "isCargo": false,
         "number": "U2 5121",
         "status": "CanceledUncertain"
        },
        {
         "aircraft": {
          "model": "Airbus A320"
         },
         "airline": {
          "name": "easyJet"
         },
         "arrival": {
          "airport": {
           "iata": "NAP",
           "icao": "LIRN",
           "name": "Nápoli"
          },
          "quality": [
           "Basic"
          ],
          "scheduledTimeLocal": "2021-11-25 10:15+01:00",
          "scheduledTimeUtc": "2021-11-25 09:15Z"
         },
         "codeshareStatus": "Unknown",
         "departure": {
          "quality": [
           "Basic"
          ],
          "scheduledTimeLocal": "2021-11-25 07:55+01:00",
          "scheduledTimeUtc": "2021-11-25 06:55Z",
          "terminal": "1"
         },
         "isCargo": false,
         "number": "U2 5141",
         "status": "Unknown"
        },
        {
         "aircraft": {
          "modeS": "3E23C7",
          "model": "Raytheon 390",
          "reg": "D-IETB"
         },
         "airline": {
          "name": "Unknown/Private owner"
         },
         "arrival": {
          "airport": {
           "name": "Unknown"
          },
          "quality": []
         },
         "callSign": "DIETB",
         "codeshareStatus": "IsOperator",
         "departure": {
          "actualTimeLocal": "2021-11-25 08:03+01:00",
          "actualTimeUtc": "2021-11-25 07:03Z",
          "quality": [
           "Basic",
           "Live"
          ],
          "runway": "25R",
          "runwayTimeLocal": "2021-11-25 08:03+01:00",
          "runwayTimeUtc": "2021-11-25 07:03Z",
          "scheduledTimeLocal": "2021-11-25 08:03+01:00",
          "scheduledTimeUtc": "2021-11-25 07:03Z"
         },
         "isCargo": false,
         "number": "DIETB",
         "status": "Departed"
        },
        {
         "aircraft": {
          "modeS": "342545",
          "model": "ATR 72",
          "reg": "EC-KAD"
         },
         "airline": {
          "name": "Swiftair"
         },
         "arrival": {
          "airport": {
           "name": "Unknown"
          },
          "quality": []
         },
         "callSign": "SWT7991",
         "codeshareStatus": "IsOperator",
         "departure": {
          "actualTimeLocal": "2021-11-25 08:05+01:00",
          "actualTimeUtc": "2021-11-25 07:05Z",
          "quality": [
           "Basic",
           "Live"
          ],
          "runway": "25R",
          "runwayTimeLocal": "2021-11-25 08:12+01:00",
          "runwayTimeUtc": "2021-11-25 07:12Z",
          "scheduledTimeLocal": "2021-11-25 08:05+01:00",
          "scheduledTimeUtc": "2021-11-25 07:05Z"
         },
         "isCargo": false,
         "number": "WT 7991",
         "status": "Departed"
        },
        {
         "aircraft": {
          "modeS": "440198",
          "model": "Airbus A320-100/200",
          "reg": "OE-IZW"
         },
         "airline": {
          "name": "EasyJet Europe"
         },
         "arrival": {
          "airport": {
           "iata": "BCN",
           "icao": "LEBL",
           "name": "Barcelona"
          },
          "quality": []
         },
         "callSign": "EJU52YH",
         "codeshareStatus": "IsOperator",
         "departure": {
          "actualTimeLocal": "2021-11-25 08:05+01:00",
          "actualTimeUtc": "2021-11-25 07:05Z",
          "quality": [
           "Basic",
           "Live"
          ],
          "runway": "25R",
          "runwayTimeLocal": "2021-11-25 08:16+01:00",
          "runwayTimeUtc": "2021-11-25 07:16Z",
          "scheduledTimeLocal": "2021-11-25 08:05+01:00",
          "scheduledTimeUtc": "2021-11-25 07:05Z"
         },
         "isCargo": false,
         "number": "EC 52YH",
         "status": "Departed"
        },
        {
         "aircraft": {
          "modeS": "3C6753",
          "model": "Airbus A320-200 (Sharklets)",
          "reg": "D-AIZS"
         },
         "airline": {
          "name": "Germanwings"
         },
         "arrival": {
          "airport": {
           "iata": "STR",
           "icao": "EDDS",
           "name": "Stuttgart"
          },
          "quality": []
         },
         "callSign": "GWI2003",
         "codeshareStatus": "IsOperator",
         "departure": {
          "actualTimeLocal": "2021-11-25 08:05+01:00",
          "actualTimeUtc": "2021-11-25 07:05Z",
          "quality": [
           "Basic",
           "Live"
          ],
          "runway": "25R",
          "runwayTimeLocal": "2021-11-25 08:17+01:00",
          "runwayTimeUtc": "2021-11-25 07:17Z",
          "scheduledTimeLocal": "2021-11-25 08:05+01:00",
          "scheduledTimeUtc": "2021-11-25 07:05Z"
         },
         "isCargo": false,
         "number": "4U 2003",
         "status": "Departed"
        },
        {
         "aircraft": {
          "modeS": "3C0893",
          "model": "Airbus A320-100/200",
          "reg": "D-ASGK"
         },
         "airline": {
          "name": "SundAir"
         },
         "arrival": {
          "airport": {
           "name": "Unknown"
          },
          "quality": []
         },
         "callSign": "SDR34SY",
         "codeshareStatus": "IsOperator",
         "departure": {
          "actualTimeLocal": "2021-11-25 08:07+01:00",
          "actualTimeUtc": "2021-11-25 07:07Z",
          "quality": [
           "Basic",
           "Live"
          ],
          "runway": "25R",
          "runwayTimeLocal": "2021-11-25 08:21+01:00",
          "runwayTimeUtc": "2021-11-25 07:21Z",
          "scheduledTimeLocal": "2021-11-25 08:07+01:00",
          "scheduledTimeUtc": "2021-11-25 07:07Z"
         },
         "isCargo": false,
         "number": "SR 34SY",
         "status": "Departed"
        },
        {
         "aircraft": {
          "modeS": "4408C9",
          "model": "Airbus A320-100/200",
          "reg": "OE-IJU"
         },
         "airline": {
          "name": "EasyJet Europe"
         },
         "arrival": {
          "airport": {
           "iata": "FUE",
           "icao": "GCFV",
           "name": "Fuerteventura Island"
          },
          "quality": []
         },
         "callSign": "EJU47QF",
         "codeshareStatus": "IsOperator",
         "departure": {
          "actualTimeLocal": "2021-11-25 08:09+01:00",
          "actualTimeUtc": "2021-11-25 07:09Z",
          "quality": [
           "Basic",
           "Live"
          ],
          "runway": "25R",
          "runwayTimeLocal": "2021-11-25 08:19+01:00",
          "runwayTimeUtc": "2021-11-25 07:19Z",
          "scheduledTimeLocal": "2021-11-25 08:09+01:00",
          "scheduledTimeUtc": "2021-11-25 07:09Z"
         },
         "isCargo": false,
         "number": "EC 47QF",
         "status": "Departed"
        },
        {
         "aircraft": {
          "modeS": "3C66E1",
          "model": "Airbus A320-100/200",
          "reg": "D-AIWA"
         },
         "airline": {
          "name": "Lufthansa"
         },
         "arrival": {
          "actualTimeLocal": "2021-11-25 09:07+01:00",
          "actualTimeUtc": "2021-11-25 08:07Z",
          "airport": {
           "iata": "FRA",
           "icao": "EDDF",
           "name": "Frankfurt-am-Main"
          },
          "gate": "A1",
          "quality": [
           "Basic",
           "Live"
          ],
          "runway": "25R",
          "scheduledTimeLocal": "2021-11-25 08:55+01:00",
          "scheduledTimeUtc": "2021-11-25 07:55Z",
          "terminal": "1"
         },
         "callSign": "DLH5KV",
         "codeshareStatus": "IsOperator",
         "departure": {
          "actualTimeLocal": "2021-11-25 07:56+01:00",
          "actualTimeUtc": "2021-11-25 06:56Z",
          "quality": [
           "Basic",
           "Live"
          ],
          "runway": "25R",
          "runwayTimeLocal": "2021-11-25 08:10+01:00",
          "runwayTimeUtc": "2021-11-25 07:10Z",
          "scheduledTimeLocal": "2021-11-25 07:45+01:00",
          "scheduledTimeUtc": "2021-11-25 06:45Z",
          "terminal": "1"
         },
         "isCargo": false,
         "number": "LH 175",
         "status": "Departed"
        },
        {
         "aircraft": {
          "model": "Boeing 737-800"
         },
         "airline": {
          "name": "Ryanair"
         },
         "arrival": {
          "airport": {
           "iata": "KIR",
           "icao": "EIKY",
           "name": "Killarney"
          },
          "quality": [
           "Basic"
          ],
          "scheduledTimeLocal": "2021-11-25 09:45+00:00",
          "scheduledTimeUtc": "2021-11-25 09:45Z"
         },
         "codeshareStatus": "Unknown",
         "departure": {
          "quality": [
           "Basic"
          ],
          "scheduledTimeLocal": "2021-11-25 08:00+01:00",
          "scheduledTimeUtc": "2021-11-25 07:00Z"
         },
         "isCargo": false,
         "number": "FR 1709",
         "status": "Unknown"
        },
        {
         "aircraft": {
          "model": "Airbus A320"
         },
         "airline": {
          "name": "easyJet"
         },
         "arrival": {
          "airport": {
           "iata": "FUE",
           "icao": "GCFV",
           "name": "Fuerteventura Island"
          },
          "quality": [
           "Basic"
          ],
          "scheduledTimeLocal": "2021-11-25 12:10+00:00",
          "scheduledTimeUtc": "2021-11-25 12:10Z"
         },
         "codeshareStatus": "Unknown",
         "departure": {
          "quality": [
           "Basic"
          ],
          "scheduledTimeLocal": "2021-11-25 08:00+01:00",
          "scheduledTimeUtc": "2021-11-25 07:00Z",
          "terminal": "1"
         },
         "isCargo": false,
         "number": "U2 5923",
         "status": "CanceledUncertain"
        },
        {
         "aircraft": {
          "modeS": "3C4903",
          "model": "Airbus A320-100/200",
          "reg": "D-ABHC"
         },
         "airline": {
          "name": "Germanwings"
         },
         "arrival": {
          "airport": {
           "iata": "DUS",
           "icao": "EDDL",
           "name": "Duesseldorf"
          },
          "quality": []
         },
         "callSign": "GWI8KA",
         "codeshareStatus": "IsOperator",
         "departure": {
          "actualTimeLocal": "2021-11-25 08:15+01:00",
          "actualTimeUtc": "2021-11-25 07:15Z",
          "quality": [
           "Basic",
           "Live"
          ],
          "runway": "25R",
          "runwayTimeLocal": "2021-11-25 08:22+01:00",
          "runwayTimeUtc": "2021-11-25 07:22Z",
          "scheduledTimeLocal": "2021-11-25 08:15+01:00",
          "scheduledTimeUtc": "2021-11-25 07:15Z"
         },
         "isCargo": false,
         "number": "4U 8KA",
         "status": "Departed"
        },
        {
         "aircraft": {
          "modeS": "4B1A39",
          "model": "Airbus A319",
          "reg": "HB-JYF"
         },
         "airline": {
          "name": "Easyjet Switzerland"
         },
         "arrival": {
          "airport": {
           "iata": "BSL",
           "icao": "LFSB",
           "name": "Bâle/Mulhouse"
          },
          "quality": []
         },
         "callSign": "EZS96HM",
         "codeshareStatus": "IsOperator",
         "departure": {
          "actualTimeLocal": "2021-11-25 08:22+01:00",
          "actualTimeUtc": "2021-11-25 07:22Z",
          "quality": [
           "Basic",
           "Live"
          ],
          "runway": "25R",
          "runwayTimeLocal": "2021-11-25 08:34+01:00",
          "runwayTimeUtc": "2021-11-25 07:34Z",
          "scheduledTimeLocal": "2021-11-25 08:22+01:00",
          "scheduledTimeUtc": "2021-11-25 07:22Z"
         },
         "isCargo": false,
         "number": "DS 96HM",
         "status": "Departed"
        },
        {
         "aircraft": {
          "modeS": "49410A",
          "model": "Embraer Pheom 300",
          "reg": "CS-PHJ"
         },
         "airline": {
          "name": "NetJets Europe"
         },
         "arrival": {
          "airport": {
           "name": "Unknown"
          },
          "quality": []
         },
         "callSign": "NJE364B",
         "codeshareStatus": "IsOperator",
         "departure": {
          "actualTimeLocal": "2021-11-25 08:25+01:00",
          "actualTimeUtc": "2021-11-25 07:25Z",
          "quality": [
           "Basic",
           "Live"
          ],
          "runway": "25R",
          "runwayTimeLocal": "2021-11-25 08:25+01:00",
          "runwayTimeUtc": "2021-11-25 07:25Z",
          "scheduledTimeLocal": "2021-11-25 08:25+01:00",
          "scheduledTimeUtc": "2021-11-25 07:25Z"
         },
         "isCargo": false,
         "number": "NJE 364B",
         "status": "Departed"
        },
        {
         "aircraft": {
          "modeS": "4AB483",
          "model": "ATR 72-500",
          "reg": "SE-MDC"
         },
         "airline": {
          "name": "Danish Air"
         },
         "arrival": {
          "airport": {
           "iata": "SCN",
           "icao": "EDDR",
           "name": "Saarbrücken"
          },
          "quality": [
           "Basic"
          ],
          "scheduledTimeLocal": "2021-11-25 10:10+01:00",
          "scheduledTimeUtc": "2021-11-25 09:10Z"
         },
         "callSign": "DTR2HR",
         "codeshareStatus": "IsOperator",
         "departure": {
          "actualTimeLocal": "2021-11-25 08:29+01:00",
          "actualTimeUtc": "2021-11-25 07:29Z",
          "quality": [
           "Basic",
           "Live"
          ],
          "runway": "25R",
          "runwayTimeLocal": "2021-11-25 08:35+01:00",
          "runwayTimeUtc": "2021-11-25 07:35Z",
          "scheduledTimeLocal": "2021-11-25 08:40+01:00",
          "scheduledTimeUtc": "2021-11-25 07:40Z",
          "terminal": "0"
         },
         "isCargo": false,
         "number": "DX 122",
         "status": "Departed"
        },
        {
         "aircraft": {
          "modeS": "3C49B1",
          "model": "Boeing 737-800 (winglets)",
          "reg": "D-ABMQ"
         },
         "airline": {
          "name": "Eurowings"
         },
         "arrival": {
          "actualTimeLocal": "2021-11-25 08:59+01:00",
          "actualTimeUtc": "2021-11-25 07:59Z",
          "airport": {
           "iata": "CGN",
           "icao": "EDDK",
           "name": "Cologne"
          },
          "quality": [
           "Basic",
           "Live"
          ],
          "scheduledTimeLocal": "2021-11-25 09:05+01:00",
          "scheduledTimeUtc": "2021-11-25 08:05Z",
          "terminal": "1"
         },
         "callSign": "EWG013",
         "codeshareStatus": "IsOperator",
         "departure": {
          "actualTimeLocal": "2021-11-25 08:09+01:00",
          "actualTimeUtc": "2021-11-25 07:09Z",
          "quality": [
           "Basic",
           "Live"
          ],
          "runway": "25R",
          "runwayTimeLocal": "2021-11-25 08:14+01:00",
          "runwayTimeUtc": "2021-11-25 07:14Z",
          "scheduledTimeLocal": "2021-11-25 07:55+01:00",
          "scheduledTimeUtc": "2021-11-25 06:55Z",
          "terminal": "1"
         },
         "isCargo": false,
         "number": "EW 13",
         "status": "Departed"
        },
        {
         "aircraft": {
          "model": "Airbus A320",
          "reg": "D-ABHC"
         },
         "airline": {
          "name": "Eurowings"
         },
         "arrival": {
          "actualTimeLocal": "2021-11-25 09:14+01:00",
          "actualTimeUtc": "2021-11-25 08:14Z",
          "airport": {
           "iata": "DUS",
           "icao": "EDDL",
           "name": "Duesseldorf"
          },
          "baggageBelt": "04",
          "gate": "B27",
          "quality": [
           "Basic",
           "Live"
          ],
          "runwayTimeLocal": "2021-11-25 09:10+01:00",
          "runwayTimeUtc": "2021-11-25 08:10Z",
          "scheduledTimeLocal": "2021-11-25 09:25+01:00",
          "scheduledTimeUtc": "2021-11-25 08:25Z",
          "terminal": "A(1)"
         },
         "codeshareStatus": "Unknown",
         "departure": {
          "quality": [
           "Basic"
          ],
          "scheduledTimeLocal": "2021-11-25 08:10+01:00",
          "scheduledTimeUtc": "2021-11-25 07:10Z",
          "terminal": "1"
         },
         "isCargo": false,
         "number": "EW 9049",
         "status": "Departed"
        },
        {
         "aircraft": {
          "model": "Airbus A319"
         },
         "airline": {
          "name": "easyJet"
         },
         "arrival": {
          "airport": {
           "iata": "BSL",
           "icao": "LFSB",
           "name": "Bâle/Mulhouse"
          },
          "quality": [
           "Basic"
          ],
          "scheduledTimeLocal": "2021-11-25 10:00+01:00",
          "scheduledTimeUtc": "2021-11-25 09:00Z"
         },
         "codeshareStatus": "Unknown",
         "departure": {
          "quality": [
           "Basic"
          ],
          "scheduledTimeLocal": "2021-11-25 08:30+01:00",
          "scheduledTimeUtc": "2021-11-25 07:30Z",
          "terminal": "1"
         },
         "isCargo": false,
         "number": "U2 5631",
         "status": "CanceledUncertain"
        },
        {
         "aircraft": {
          "model": "Airbus A319"
         },
         "airline": {
          "name": "Eurowings"
         },
         "arrival": {
          "actualTimeLocal": "2021-11-25 09:16+01:00",
          "actualTimeUtc": "2021-11-25 08:16Z",
          "airport": {
           "iata": "STR",
           "icao": "EDDS",
           "name": "Stuttgart"
          },
          "quality": [
           "Basic",
           "Live"
          ],
          "scheduledTimeLocal": "2021-11-25 09:30+01:00",
          "scheduledTimeUtc": "2021-11-25 08:30Z",
          "terminal": "T1"
         },
         "codeshareStatus": "Unknown",
         "departure": {
          "quality": [
           "Basic"
          ],
          "scheduledTimeLocal": "2021-11-25 08:10+01:00",
          "scheduledTimeUtc": "2021-11-25 07:10Z",
          "terminal": "1"
         },
         "isCargo": false,
         "number": "EW 2003",
         "status": "Departed"
        },
        {
         "aircraft": {
          "modeS": "3C6488",
          "model": "Airbus A321-100/200",
          "reg": "D-AIDH"
         },
         "airline": {
          "name": "Lufthansa"
         },
         "arrival": {
          "actualTimeLocal": "2021-11-25 09:39+01:00",
          "actualTimeUtc": "2021-11-25 08:39Z",
          "airport": {
           "iata": "FRA",
           "icao": "EDDF",
           "name": "Frankfurt-am-Main"
          },
          "gate": "A2",
          "quality": [
           "Basic",
           "Live"
          ],
          "scheduledTimeLocal": "2021-11-25 09:55+01:00",
          "scheduledTimeUtc": "2021-11-25 08:55Z",
          "terminal": "1"
         },
         "callSign": "DLH5AW",
         "codeshareStatus": "IsOperator",
         "departure": {
          "actualTimeLocal": "2021-11-25 08:52+01:00",
          "actualTimeUtc": "2021-11-25 07:52Z",
          "quality": [
           "Basic",
           "Live"
          ],
          "runwayTimeLocal": "2021-11-25 08:52+01:00",
          "runwayTimeUtc": "2021-11-25 07:52Z",
          "scheduledTimeLocal": "2021-11-25 08:45+01:00",
          "scheduledTimeUtc": "2021-11-25 07:45Z",
          "terminal": "1"
         },
         "isCargo": false,
         "number": "LH 177",
         "status": "Departed"
        },
        {
         "aircraft": {
          "modeS": "502D27",
          "model": "Airbus",
          "reg": "YL-AAW"
         },
         "airline": {
          "name": "Air Baltic"
         },
         "arrival": {
          "actualTimeLocal": "2021-11-25 11:10+02:00",
          "actualTimeUtc": "2021-11-25 09:10Z",
          "airport": {
           "iata": "RIX",
           "icao": "EVRA",
           "name": "Riga"
          },
          "quality": [
           "Basic",
           "Live"
          ],
          "scheduledTimeLocal": "2021-11-25 11:10+02:00",
          "scheduledTimeUtc": "2021-11-25 09:10Z",
          "terminal": "E"
         },
         "callSign": "BTI97T",
         "codeshareStatus": "IsOperator",
         "departure": {
          "actualTimeLocal": "2021-11-25 08:32+01:00",
          "actualTimeUtc": "2021-11-25 07:32Z",
          "quality": [
           "Basic",
           "Live"
          ],
          "runway": "25R",
          "runwayTimeLocal": "2021-11-25 08:38+01:00",
          "runwayTimeUtc": "2021-11-25 07:38Z",
          "scheduledTimeLocal": "2021-11-25 08:35+01:00",
          "scheduledTimeUtc": "2021-11-25 07:35Z",
          "terminal": "1"
         },
         "isCargo": false,
         "number": "BT 212",
         "status": "Departed"
        },
        {
         "aircraft": {
          "model": "Boeing 737-800"
         },
         "airline": {
          "name": "Ryanair"
         },
         "arrival": {
          "airport": {
           "iata": "PSA",
           "icao": "LIRP",
           "name": "Pisa"
          },
          "quality": [
           "Basic"
          ],
          "scheduledTimeLocal": "2021-11-25 11:05+01:00",
          "scheduledTimeUtc": "2021-11-25 10:05Z"
         },
         "codeshareStatus": "Unknown",
         "departure": {
          "quality": [
           "Basic"
          ],
          "scheduledTimeLocal": "2021-11-25 09:10+01:00",
          "scheduledTimeUtc": "2021-11-25 08:10Z"
         },
         "isCargo": false,
         "number": "FR 9956",
         "status": "Unknown"
        },
        {
         "aircraft": {
          "model": "Bombardier Dash 8 Q400 / DHC-8-400",
          "reg": "LX-LQD"
         },
         "airline": {
          "name": "Luxair"
         },
         "arrival": {
          "actualTimeLocal": "2021-11-25 10:25+01:00",
          "actualTimeUtc": "2021-11-25 09:25Z",
          "airport": {
           "iata": "LUX",
           "icao": "ELLX",
           "name": "Luxembourg"
          },
          "quality": [
           "Basic",
           "Live"
          ],
          "scheduledTimeLocal": "2021-11-25 10:25+01:00",
          "scheduledTimeUtc": "2021-11-25 09:25Z"
         },
         "codeshareStatus": "Unknown",
         "departure": {
          "quality": [
           "Basic"
          ],
          "scheduledTimeLocal": "2021-11-25 08:55+01:00",
          "scheduledTimeUtc": "2021-11-25 07:55Z",
          "terminal": "1"
         },
         "isCargo": false,
         "number": "LG 9472",
         "status": "Departed"
        },
        {
         "aircraft": {
          "model": "Airbus A320 NEO",
          "reg": "D-AIUV"
         },
         "airline": {
          "name": "Lufthansa"
         },
         "arrival": {
          "actualTimeLocal": "2021-11-25 11:19+01:00",
          "actualTimeUtc": "2021-11-25 10:19Z",
          "airport": {
           "iata": "MUC",
           "icao": "EDDM",
           "name": "Munich"
          },
          "quality": [
           "Basic",
           "Live"
          ],
          "runwayTimeLocal": "2021-11-25 11:14+01:00",
          "runwayTimeUtc": "2021-11-25 10:14Z",
          "scheduledTimeLocal": "2021-11-25 10:10+01:00",
          "scheduledTimeUtc": "2021-11-25 09:10Z",
          "terminal": "2"
         },
         "codeshareStatus": "IsCodeshared",
         "departure": {
          "quality": [
           "Basic"
          ],
          "scheduledTimeLocal": "2021-11-25 09:00+01:00",
          "scheduledTimeUtc": "2021-11-25 08:00Z",
          "terminal": "1"
         },
         "isCargo": false,
         "number": "LH 1929",
         "status": "Departed"
        },
        {
         "aircraft": {
          "model": "Airbus A320",
          "reg": "HB-JLT"
         },
         "airline": {
          "name": "SWISS"
         },
         "arrival": {
          "actualTimeLocal": "2021-11-25 10:50+01:00",
          "actualTimeUtc": "2021-11-25 09:50Z",
          "airport": {
           "iata": "ZRH",
           "icao": "LSZH",
           "name": "Zurich"
          },
          "baggageBelt": "11",
          "quality": [
           "Basic",
           "Live"
          ],
          "scheduledTimeLocal": "2021-11-25 11:00+01:00",
          "scheduledTimeUtc": "2021-11-25 10:00Z",
          "terminal": "1"
         },
         "codeshareStatus": "Unknown",
         "departure": {
          "quality": [
           "Basic"
          ],
          "scheduledTimeLocal": "2021-11-25 09:30+01:00",
          "scheduledTimeUtc": "2021-11-25 08:30Z",
          "terminal": "1"
         },
         "isCargo": false,
         "number": "LX 975",
         "status": "Departed"
        },
        {
         "aircraft": {
          "model": "Embraer 195"
         },
         "airline": {
          "name": "Austrian"
         },
         "arrival": {
          "actualTimeLocal": "2021-11-25 10:49+01:00",
          "actualTimeUtc": "2021-11-25 09:49Z",
          "airport": {
           "iata": "VIE",
           "icao": "LOWW",
           "name": "Vienna"
          },
          "baggageBelt": "06",
          "quality": [
           "Basic",
           "Live"
          ],
          "scheduledTimeLocal": "2021-11-25 10:55+01:00",
          "scheduledTimeUtc": "2021-11-25 09:55Z",
          "terminal": "3"
         },
         "codeshareStatus": "Unknown",
         "departure": {
          "quality": [
           "Basic"
          ],
          "scheduledTimeLocal": "2021-11-25 09:40+01:00",
          "scheduledTimeUtc": "2021-11-25 08:40Z",
          "terminal": "1"
         },
         "isCargo": false,
         "number": "OS 224",
         "status": "Departed"
        },
        {
         "aircraft": {
          "model": "Airbus A320"
         },
         "airline": {
          "name": "Air Serbia"
         },
         "arrival": {
          "airport": {
           "iata": "BEG",
           "icao": "LYBE",
           "name": "Belgrade"
          },
          "quality": [
           "Basic"
          ],
          "scheduledTimeLocal": "2021-11-25 11:30+01:00",
          "scheduledTimeUtc": "2021-11-25 10:30Z",
          "terminal": "2"
         },
         "codeshareStatus": "Unknown",
         "departure": {
          "quality": [
           "Basic"
          ],
          "scheduledTimeLocal": "2021-11-25 09:45+01:00",
          "scheduledTimeUtc": "2021-11-25 08:45Z",
          "terminal": "1"
         },
         "isCargo": false,
         "number": "JU 351",
         "status": "Unknown"
        },
        {
         "aircraft": {
          "model": "Airbus A320",
          "reg": "D-AIZZ"
         },
         "airline": {
          "name": "Lufthansa"
         },
         "arrival": {
          "actualTimeLocal": "2021-11-25 10:56+01:00",
          "actualTimeUtc": "2021-11-25 09:56Z",
          "airport": {
           "iata": "FRA",
           "icao": "EDDF",
           "name": "Frankfurt-am-Main"
          },
          "gate": "A2",
          "quality": [
           "Basic",
           "Live"
          ],
          "scheduledTimeLocal": "2021-11-25 10:55+01:00",
          "scheduledTimeUtc": "2021-11-25 09:55Z",
          "terminal": "1"
         },
         "codeshareStatus": "IsCodeshared",
         "departure": {
          "quality": [
           "Basic"
          ],
          "scheduledTimeLocal": "2021-11-25 09:45+01:00",
          "scheduledTimeUtc": "2021-11-25 08:45Z",
          "terminal": "1"
         },
         "isCargo": false,
         "number": "LH 181",
         "status": "Departed"
        },
        {
         "aircraft": {
          "model": "Boeing 737-800",
          "reg": "EI-DPV"
         },
         "airline": {
          "name": "Ryanair"
         },
         "arrival": {
          "actualTimeLocal": "2021-11-25 12:45+01:00",
          "actualTimeUtc": "2021-11-25 11:45Z",
          "airport": {
           "iata": "MAD",
           "icao": "LEMD",
           "name": "Madrid"
          },
          "quality": [
           "Basic",
           "Live"
          ],
          "runwayTimeLocal": "2021-11-25 12:36+01:00",
          "runwayTimeUtc": "2021-11-25 11:36Z",
          "scheduledTimeLocal": "2021-11-25 13:00+01:00",
          "scheduledTimeUtc": "2021-11-25 12:00Z",
          "terminal": "1"
         },
         "codeshareStatus": "Unknown",
         "departure": {
          "quality": [
           "Basic"
          ],
          "scheduledTimeLocal": "2021-11-25 09:50+01:00",
          "scheduledTimeUtc": "2021-11-25 08:50Z"
         },
         "isCargo": false,
         "number": "FR 2527",
         "status": "Departed"
        },
        {
         "aircraft": {
          "model": "Boeing 737-800",
          "reg": "LN-NGS"
         },
         "airline": {
          "name": "Norwegian Air Shuttle"
         },
         "arrival": {
          "actualTimeLocal": "2021-11-25 11:20+01:00",
          "actualTimeUtc": "2021-11-25 10:20Z",
          "airport": {
           "iata": "OSL",
           "icao": "ENGM",
           "name": "Oslo"
          },
          "baggageBelt": "2",
          "quality": [
           "Basic",
           "Live"
          ],
          "scheduledTimeLocal": "2021-11-25 11:30+01:00",
          "scheduledTimeUtc": "2021-11-25 10:30Z"
         },
         "codeshareStatus": "Unknown",
         "departure": {
          "quality": [
           "Basic"
          ],
          "scheduledTimeLocal": "2021-11-25 09:50+01:00",
          "scheduledTimeUtc": "2021-11-25 08:50Z",
          "terminal": "1"
         },
         "isCargo": false,
         "number": "DY 1103",
         "status": "Departed"
        },
        {
         "aircraft": {
          "model": "Boeing 737-800",
          "reg": "9H-QAO"
         },
         "airline": {
          "name": "Ryanair"
         },
         "arrival": {
          "actualTimeLocal": "2021-11-25 11:50+01:00",
          "actualTimeUtc": "2021-11-25 10:50Z",
          "airport": {
           "iata": "MXP",
           "icao": "LIMC",
           "name": "Milan"
          },
          "quality": [
           "Basic",
           "Live"
          ],
          "scheduledTimeLocal": "2021-11-25 11:50+01:00",
          "scheduledTimeUtc": "2021-11-25 10:50Z"
         },
         "codeshareStatus": "Unknown",
         "departure": {
          "quality": [
           "Basic"
          ],
          "scheduledTimeLocal": "2021-11-25 10:10+01:00",
          "scheduledTimeUtc": "2021-11-25 09:10Z"
         },
         "isCargo": false,
         "number": "FR 8",
         "status": "Departed"
        },
        {
         "aircraft": {
          "model": "Boeing 737-800",
          "reg": "SP-RKI"
         },
         "airline": {
          "name": "Ryanair"
         },
         "arrival": {
          "airport": {
           "iata": "BUD",
           "icao": "LHBP",
           "name": "Budapest"
          },
          "quality": [
           "Basic"
          ],
          "scheduledTimeLocal": "2021-11-25 11:30+01:00",
          "scheduledTimeUtc": "2021-11-25 10:30Z",
          "terminal": "2A"
         },
         "codeshareStatus": "Unknown",
         "departure": {
          "quality": [
           "Basic"
          ],
          "scheduledTimeLocal": "2021-11-25 09:55+01:00",
          "scheduledTimeUtc": "2021-11-25 08:55Z"
         },
         "isCargo": false,
         "number": "FR 196",
         "status": "Unknown"
        },
        {
         "aircraft": {
          "model": "Airbus A320"
         },
         "airline": {
          "name": "Lufthansa"
         },
         "arrival": {
          "airport": {
           "name": "Munich"
          },
          "quality": []
         },
         "codeshareStatus": "IsCodeshared",
         "departure": {
          "quality": [
           "Basic"
          ],
          "scheduledTimeLocal": "2021-11-25 10:30+01:00",
          "scheduledTimeUtc": "2021-11-25 09:30Z",
          "terminal": "1"
         },
         "isCargo": false,
         "number": "LH 1931",
         "status": "Unknown"
        },
        {
         "aircraft": {
          "model": "Airbus A320"
         },
         "airline": {
          "name": "Eurowings"
         },
         "arrival": {
          "actualTimeLocal": "2021-11-25 11:14+01:00",
          "actualTimeUtc": "2021-11-25 10:14Z",
          "airport": {
           "iata": "STR",
           "icao": "EDDS",
           "name": "Stuttgart"
          },
          "quality": [
           "Basic",
           "Live"
          ],
          "scheduledTimeLocal": "2021-11-25 11:30+01:00",
          "scheduledTimeUtc": "2021-11-25 10:30Z",
          "terminal": "T1"
         },
         "codeshareStatus": "Unknown",
         "departure": {
          "quality": [
           "Basic"
          ],
          "scheduledTimeLocal": "2021-11-25 10:10+01:00",
          "scheduledTimeUtc": "2021-11-25 09:10Z",
          "terminal": "1"
         },
         "isCargo": false,
         "number": "EW 8002",
         "status": "Departed"
        },
        {
         "aircraft": {
          "model": "Airbus A320"
         },
         "airline": {
          "name": "Eurowings"
         },
         "arrival": {
          "airport": {
           "iata": "CGN",
           "icao": "EDDK",
           "name": "Cologne"
          },
          "quality": [
           "Basic"
          ],
          "scheduledTimeLocal": "2021-11-25 11:25+01:00",
          "scheduledTimeUtc": "2021-11-25 10:25Z",
          "terminal": "1"
         },
         "codeshareStatus": "Unknown",
         "departure": {
          "quality": [
           "Basic"
          ],
          "scheduledTimeLocal": "2021-11-25 10:15+01:00",
          "scheduledTimeUtc": "2021-11-25 09:15Z",
          "terminal": "1"
         },
         "isCargo": false,
         "number": "EW 8050",
         "status": "Unknown"
        },
        {
         "aircraft": {
          "modeS": "3C66A4",
          "model": "Airbus A320-200 (Sharklets)",
          "reg": "D-AIUD"
         },
         "airline": {
          "name": "Lufthansa"
         },
         "arrival": {
          "actualTimeLocal": "2021-11-25 11:58+01:00",
          "actualTimeUtc": "2021-11-25 10:58Z",
          "airport": {
           "iata": "FRA",
           "icao": "EDDF",
           "name": "Frankfurt-am-Main"
          },
          "gate": "A2",
          "quality": [
           "Basic",
           "Live"
          ],
          "runway": "25R",
          "runwayTimeLocal": "2021-11-25 11:52+01:00",
          "runwayTimeUtc": "2021-11-25 10:52Z",
          "scheduledTimeLocal": "2021-11-25 11:55+01:00",
          "scheduledTimeUtc": "2021-11-25 10:55Z",
          "terminal": "1"
         },
         "callSign": "DLH6EC",
         "codeshareStatus": "IsOperator",
         "departure": {
          "actualTimeLocal": "2021-11-25 10:55+01:00",
          "actualTimeUtc": "2021-11-25 09:55Z",
          "quality": [
           "Basic",
           "Live"
          ],
          "runway": "25R",
          "runwayTimeLocal": "2021-11-25 11:03+01:00",
          "runwayTimeUtc": "2021-11-25 10:03Z",
          "scheduledTimeLocal": "2021-11-25 10:45+01:00",
          "scheduledTimeUtc": "2021-11-25 09:45Z",
          "terminal": "1"
         },
         "isCargo": false,
         "number": "LH 183",
         "status": "Departed"
        },
        {
         "aircraft": {
          "model": "Boeing 737-700",
          "reg": "PH-BCL"
         },
         "airline": {
          "name": "KLM"
         },
         "arrival": {
          "actualTimeLocal": "2021-11-25 11:10+01:00",
          "actualTimeUtc": "2021-11-25 10:10Z",
          "airport": {
           "iata": "AMS",
           "icao": "EHAM",
           "name": "Amsterdam"
          },
          "baggageBelt": "11",
          "gate": "D79",
          "quality": [
           "Basic",
           "Live"
          ],
          "runway": "36R",
          "runwayTimeLocal": "2021-11-25 11:10+01:00",
          "runwayTimeUtc": "2021-11-25 10:10Z",
          "scheduledTimeLocal": "2021-11-25 11:35+01:00",
          "scheduledTimeUtc": "2021-11-25 10:35Z",
          "terminal": "2"
         },
         "codeshareStatus": "IsOperator",
         "departure": {
          "quality": [
           "Basic"
          ],
          "scheduledTimeLocal": "2021-11-25 10:10+01:00",
          "scheduledTimeUtc": "2021-11-25 09:10Z",
          "terminal": "1"
         },
         "isCargo": false,
         "number": "KL 1822",
         "status": "Departed"
        },
        {
         "aircraft": {
          "model": "Airbus A320"
         },
         "airline": {
          "name": "easyJet"
         },
         "arrival": {
          "airport": {
           "iata": "TFS",
           "icao": "GCTS",
           "name": "Tenerife Island"
          },
          "quality": [
           "Basic"
          ],
          "scheduledTimeLocal": "2021-11-25 15:25+00:00",
          "scheduledTimeUtc": "2021-11-25 15:25Z"
         },
         "codeshareStatus": "Unknown",
         "departure": {
          "quality": [
           "Basic"
          ],
          "scheduledTimeLocal": "2021-11-25 11:00+01:00",
          "scheduledTimeUtc": "2021-11-25 10:00Z",
          "terminal": "1"
         },
         "isCargo": false,
         "number": "U2 5915",
         "status": "CanceledUncertain"
        }
       ]
      },
      "text/plain": [
       "<IPython.core.display.JSON object>"
      ]
     },
     "execution_count": 3,
     "metadata": {
      "application/json": {
       "expanded": false,
       "root": "root"
      }
     },
     "output_type": "execute_result"
    }
   ],
   "source": [
    "\n",
    "from IPython.display import JSON\n",
    "JSON(response.json())"
   ]
  },
  {
   "cell_type": "code",
   "execution_count": 4,
   "id": "9aa79cc0-6916-41d4-ab41-54295e9f18f5",
   "metadata": {},
   "outputs": [],
   "source": [
    "flight_arrivals = response.json()#['list']\n",
    "#flight_arrivals"
   ]
  },
  {
   "cell_type": "code",
   "execution_count": 5,
   "id": "44e16233-4c4f-416b-a642-039386d0ff5c",
   "metadata": {},
   "outputs": [],
   "source": [
    "#flight_arrivals['arrivals'][33]['arrival']['scheduledTimeLocal']#[0]#['number']#.keys()"
   ]
  },
  {
   "cell_type": "code",
   "execution_count": 6,
   "id": "28c930d2-fabc-40a7-bc8f-1a704b5e082b",
   "metadata": {},
   "outputs": [],
   "source": [
    "#flight_arrivals['arrivals'][33][ 'number']"
   ]
  },
  {
   "cell_type": "code",
   "execution_count": 7,
   "id": "e07cb385-a65a-46a6-90bf-d05e2038814d",
   "metadata": {},
   "outputs": [
    {
     "data": {
      "text/plain": [
       "'Munich'"
      ]
     },
     "execution_count": 7,
     "metadata": {},
     "output_type": "execute_result"
    }
   ],
   "source": [
    "flight_arrivals['arrivals'][33]['departure']['airport']['name']#.keys()#['airline']['name']"
   ]
  },
  {
   "cell_type": "code",
   "execution_count": 8,
   "id": "0d763b71-d9a4-4112-899f-95de4a0a4ece",
   "metadata": {},
   "outputs": [],
   "source": [
    "\n",
    "departure_from = []\n",
    "flight_name = []\n",
    "flight_number = []\n",
    "arrival_time = []\n",
    "\n",
    "for i in flight_arrivals['arrivals']:\n",
    "    arrival_time.append(i['arrival']['scheduledTimeLocal'])\n",
    "    flight_number.append(i[ 'number'])\n",
    "    flight_name.append(i['airline']['name'])\n",
    "    departure_from.append(i['departure']['airport']['name'])\n",
    "    \n",
    "    \n",
    "    \n",
    "df = pd.DataFrame({\n",
    "    'flight_name':flight_name,\n",
    "    'flight_number':flight_number,\n",
    "    'departure_from':departure_from,\n",
    "    'arrival_time':arrival_time   \n",
    "})\n"
   ]
  },
  {
   "cell_type": "code",
   "execution_count": 9,
   "id": "dc5797d3-cdbd-4938-b281-65ed17391bc8",
   "metadata": {},
   "outputs": [
    {
     "data": {
      "text/html": [
       "<div>\n",
       "<style scoped>\n",
       "    .dataframe tbody tr th:only-of-type {\n",
       "        vertical-align: middle;\n",
       "    }\n",
       "\n",
       "    .dataframe tbody tr th {\n",
       "        vertical-align: top;\n",
       "    }\n",
       "\n",
       "    .dataframe thead th {\n",
       "        text-align: right;\n",
       "    }\n",
       "</style>\n",
       "<table border=\"1\" class=\"dataframe\">\n",
       "  <thead>\n",
       "    <tr style=\"text-align: right;\">\n",
       "      <th></th>\n",
       "      <th>flight_name</th>\n",
       "      <th>flight_number</th>\n",
       "      <th>departure_from</th>\n",
       "      <th>arrival_time</th>\n",
       "    </tr>\n",
       "  </thead>\n",
       "  <tbody>\n",
       "    <tr>\n",
       "      <th>0</th>\n",
       "      <td>Swiftair</td>\n",
       "      <td>WT 2156</td>\n",
       "      <td>Unknown</td>\n",
       "      <td>2021-11-25 06:08+01:00</td>\n",
       "    </tr>\n",
       "    <tr>\n",
       "      <th>1</th>\n",
       "      <td>Cargo Air</td>\n",
       "      <td>CGF 7828</td>\n",
       "      <td>Cologne</td>\n",
       "      <td>2021-11-25 05:42+01:00</td>\n",
       "    </tr>\n",
       "    <tr>\n",
       "      <th>2</th>\n",
       "      <td>Germanwings</td>\n",
       "      <td>4U 2002</td>\n",
       "      <td>Stuttgart</td>\n",
       "      <td>2021-11-25 07:09+01:00</td>\n",
       "    </tr>\n",
       "    <tr>\n",
       "      <th>3</th>\n",
       "      <td>VLB</td>\n",
       "      <td>VLB 311</td>\n",
       "      <td>Sofia</td>\n",
       "      <td>2021-11-25 07:16+01:00</td>\n",
       "    </tr>\n",
       "    <tr>\n",
       "      <th>4</th>\n",
       "      <td>ASL  Belgium</td>\n",
       "      <td>3V 4138</td>\n",
       "      <td>Liège</td>\n",
       "      <td>2021-11-25 05:32+01:00</td>\n",
       "    </tr>\n",
       "  </tbody>\n",
       "</table>\n",
       "</div>"
      ],
      "text/plain": [
       "    flight_name flight_number departure_from            arrival_time\n",
       "0      Swiftair       WT 2156        Unknown  2021-11-25 06:08+01:00\n",
       "1     Cargo Air      CGF 7828        Cologne  2021-11-25 05:42+01:00\n",
       "2   Germanwings       4U 2002      Stuttgart  2021-11-25 07:09+01:00\n",
       "3           VLB       VLB 311          Sofia  2021-11-25 07:16+01:00\n",
       "4  ASL  Belgium       3V 4138          Liège  2021-11-25 05:32+01:00"
      ]
     },
     "execution_count": 9,
     "metadata": {},
     "output_type": "execute_result"
    }
   ],
   "source": [
    "df.head()"
   ]
  },
  {
   "cell_type": "markdown",
   "id": "d83798fa-5675-424b-b769-f48d45ee03eb",
   "metadata": {},
   "source": [
    "## code from Joan"
   ]
  },
  {
   "cell_type": "code",
   "execution_count": 10,
   "id": "228a2996-a97d-4b5d-a07f-e465ced05a6d",
   "metadata": {},
   "outputs": [
    {
     "data": {
      "text/html": [
       "<div>\n",
       "<style scoped>\n",
       "    .dataframe tbody tr th:only-of-type {\n",
       "        vertical-align: middle;\n",
       "    }\n",
       "\n",
       "    .dataframe tbody tr th {\n",
       "        vertical-align: top;\n",
       "    }\n",
       "\n",
       "    .dataframe thead th {\n",
       "        text-align: right;\n",
       "    }\n",
       "</style>\n",
       "<table border=\"1\" class=\"dataframe\">\n",
       "  <thead>\n",
       "    <tr style=\"text-align: right;\">\n",
       "      <th></th>\n",
       "      <th>dep_airport</th>\n",
       "      <th>sched_arr_loc_time</th>\n",
       "      <th>terminal</th>\n",
       "      <th>status</th>\n",
       "      <th>aircraft</th>\n",
       "      <th>airport_icoa</th>\n",
       "    </tr>\n",
       "  </thead>\n",
       "  <tbody>\n",
       "    <tr>\n",
       "      <th>0</th>\n",
       "      <td>Unknown</td>\n",
       "      <td>2021-11-25 06:08+01:00</td>\n",
       "      <td>None</td>\n",
       "      <td>Arrived</td>\n",
       "      <td>ATR 72</td>\n",
       "      <td>EDDB</td>\n",
       "    </tr>\n",
       "    <tr>\n",
       "      <th>1</th>\n",
       "      <td>Cologne</td>\n",
       "      <td>2021-11-25 05:42+01:00</td>\n",
       "      <td>None</td>\n",
       "      <td>Arrived</td>\n",
       "      <td>Boeing 737-400</td>\n",
       "      <td>EDDB</td>\n",
       "    </tr>\n",
       "    <tr>\n",
       "      <th>2</th>\n",
       "      <td>Stuttgart</td>\n",
       "      <td>2021-11-25 07:09+01:00</td>\n",
       "      <td>None</td>\n",
       "      <td>Arrived</td>\n",
       "      <td>Airbus A320-200 (Sharklets)</td>\n",
       "      <td>EDDB</td>\n",
       "    </tr>\n",
       "    <tr>\n",
       "      <th>3</th>\n",
       "      <td>Sofia</td>\n",
       "      <td>2021-11-25 07:16+01:00</td>\n",
       "      <td>None</td>\n",
       "      <td>Arrived</td>\n",
       "      <td>60</td>\n",
       "      <td>EDDB</td>\n",
       "    </tr>\n",
       "    <tr>\n",
       "      <th>4</th>\n",
       "      <td>Liège</td>\n",
       "      <td>2021-11-25 05:32+01:00</td>\n",
       "      <td>None</td>\n",
       "      <td>Arrived</td>\n",
       "      <td>Boeing 737-400 Freighter</td>\n",
       "      <td>EDDB</td>\n",
       "    </tr>\n",
       "  </tbody>\n",
       "</table>\n",
       "</div>"
      ],
      "text/plain": [
       "  dep_airport      sched_arr_loc_time terminal   status  \\\n",
       "0     Unknown  2021-11-25 06:08+01:00     None  Arrived   \n",
       "1     Cologne  2021-11-25 05:42+01:00     None  Arrived   \n",
       "2   Stuttgart  2021-11-25 07:09+01:00     None  Arrived   \n",
       "3       Sofia  2021-11-25 07:16+01:00     None  Arrived   \n",
       "4       Liège  2021-11-25 05:32+01:00     None  Arrived   \n",
       "\n",
       "                      aircraft airport_icoa  \n",
       "0                       ATR 72         EDDB  \n",
       "1               Boeing 737-400         EDDB  \n",
       "2  Airbus A320-200 (Sharklets)         EDDB  \n",
       "3                           60         EDDB  \n",
       "4     Boeing 737-400 Freighter         EDDB  "
      ]
     },
     "execution_count": 10,
     "metadata": {},
     "output_type": "execute_result"
    }
   ],
   "source": [
    "airport_icoa = \"EDDB\"\n",
    "to_local_time = \"2021-10-04T20:00\"\n",
    "from_local_time = \"2021-10-05T08:00\"\n",
    "\n",
    "url = f\"https://aerodatabox.p.rapidapi.com/flights/airports/icao/{airport_icoa}/{to_local_time}/{from_local_time}\"\n",
    "\n",
    "querystring = {\"withLeg\":\"true\",\"withCancelled\":\"true\",\"withCodeshared\":\"true\",\"withCargo\":\"true\",\"withPrivate\":\"false\",\"withLocation\":\"false\"}\n",
    "\n",
    "arrivals_berlin = response.json()['arrivals']\n",
    "\n",
    "def get_flight_info(flight_json):\n",
    "    # terminal\n",
    "    try: terminal = flight_json['arrival']['terminal']\n",
    "    except: terminal = None\n",
    "    # aircraft\n",
    "    try: aircraft = flight_json['aircraft']['model']\n",
    "    except: aircraft = None\n",
    "\n",
    "    return {\n",
    "        'dep_airport':flight_json['departure']['airport']['name'],\n",
    "        'sched_arr_loc_time':flight_json['arrival']['scheduledTimeLocal'],\n",
    "        'terminal':terminal,\n",
    "        'status':flight_json['status'],\n",
    "        'aircraft':aircraft,\n",
    "        'airport_icoa':airport_icoa\n",
    "    }\n",
    "\n",
    "\n",
    "import pandas as pd\n",
    "arrivals_berlin = pd.DataFrame([get_flight_info(flight) for flight in arrivals_berlin])\n",
    "arrivals_berlin.head()"
   ]
  },
  {
   "cell_type": "markdown",
   "id": "03d468e7-e9f3-4a84-893b-8a50156a641b",
   "metadata": {},
   "source": [
    "## inserting this value to Databases"
   ]
  },
  {
   "cell_type": "code",
   "execution_count": 12,
   "id": "55fec3c1-3002-4012-a575-4af0a25720eb",
   "metadata": {},
   "outputs": [
    {
     "name": "stdout",
     "output_type": "stream",
     "text": [
      "Values inserted!!\n"
     ]
    }
   ],
   "source": [
    "import mysql.connector as connection\n",
    "import pandas as pandas\n",
    "import numpy as np\n",
    "\n",
    "arr = np.array(df)\n",
    "\n",
    "try:\n",
    "    #Establish a new connection to the database created above\n",
    "    mydb = connection.connect(host=\"localhost\", database = 'gan',user=\"root\", passwd=\"Jaanu123\", use_pure=True)\n",
    "    cursor = mydb.cursor() #create a cursor to execute queries\n",
    "    # Inserting data\n",
    "    for val in arr:\n",
    "        data = tuple(val)\n",
    "        cursor.execute(f\"INSERT INTO flight_table values {data}\")\n",
    "    \n",
    "    print(\"Values inserted!!\")\n",
    "    mydb.commit()\n",
    "    cursor.close()\n",
    "    mydb.close()\n",
    "\n",
    "except Exception as e:\n",
    "    mydb.close()\n",
    "    print(str(e))"
   ]
  },
  {
   "cell_type": "code",
   "execution_count": 24,
   "id": "f9ec555e-6fd5-40c1-a938-0050e53d7d69",
   "metadata": {},
   "outputs": [],
   "source": [
    " cnx = connection.connect(\n",
    "        user='admin',\n",
    "        password='Jaanu123',\n",
    "        host='wbs-project3-db.cvojr846itjc.us-east-2.rds.amazonaws.com',\n",
    "        database='test_1')\n",
    "cursor = cnx.cursor()\n",
    "         \n"
   ]
  },
  {
   "cell_type": "code",
   "execution_count": 26,
   "id": "1053e315-5e9b-4c92-a45e-9617b491b48c",
   "metadata": {},
   "outputs": [
    {
     "name": "stdout",
     "output_type": "stream",
     "text": [
      "None\n"
     ]
    }
   ],
   "source": [
    "print(cursor.execute(\"INSERT INTO test_table \"\n",
    "        \"(FirstName, City) \"\n",
    "        \"VALUES ('Ranjit', 'Berlin')\"))"
   ]
  },
  {
   "cell_type": "code",
   "execution_count": null,
   "id": "fc1a61db-dd88-41ee-94bd-d29a6cdb65b4",
   "metadata": {},
   "outputs": [],
   "source": []
  }
 ],
 "metadata": {
  "kernelspec": {
   "display_name": "Python 3 (ipykernel)",
   "language": "python",
   "name": "python3"
  },
  "language_info": {
   "codemirror_mode": {
    "name": "ipython",
    "version": 3
   },
   "file_extension": ".py",
   "mimetype": "text/x-python",
   "name": "python",
   "nbconvert_exporter": "python",
   "pygments_lexer": "ipython3",
   "version": "3.9.5"
  }
 },
 "nbformat": 4,
 "nbformat_minor": 5
}
