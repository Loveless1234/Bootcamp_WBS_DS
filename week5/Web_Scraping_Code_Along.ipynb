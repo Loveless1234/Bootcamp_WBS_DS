{
 "cells": [
  {
   "cell_type": "markdown",
   "metadata": {},
   "source": [
    "# Intro to web scraping"
   ]
  },
  {
   "cell_type": "markdown",
   "metadata": {},
   "source": [
    "Documentation for this workshop: \n",
    "* https://www.w3schools.com/cssref/css_selectors.asp\n",
    "* https://www.crummy.com/software/BeautifulSoup/bs4/doc/#\n",
    "* https://flukeout.github.io/"
   ]
  },
  {
   "cell_type": "markdown",
   "metadata": {},
   "source": [
    "The first step of web scraping is to identify a website and download the html code from it. \n",
    "\n",
    "Real html from websites tends to be long and a bit too chaotic for a total beginner. Here we will start with a dummy html document and learn the basics of extracting info with beautifulsoup."
   ]
  },
  {
   "cell_type": "code",
   "execution_count": 1,
   "metadata": {},
   "outputs": [],
   "source": [
    "html_doc = \"\"\"\n",
    "<!DOCTYPE html>\n",
    "<html><head><title>The Dormouse's story</title></head>\n",
    "<body>\n",
    "<p class=\"title\"><b>The Dormouse's story</b></p>\n",
    "\n",
    "<p class=\"story\">Once upon a time there were three little sisters; and their names were\n",
    "<a href=\"http://example.com/elsie\" class=\"sister\" id=\"link1\">Elsie</a>,\n",
    "<a href=\"http://example.com/lacie\" class=\"sister\" id=\"link2\">Lacie</a> and\n",
    "<a href=\"http://example.com/tillie\" class=\"sister\" id=\"link3\">Tillie</a>;\n",
    "and they lived at the bottom of a well.</p>\n",
    "\n",
    "<p class=\"story\">...</p>\n",
    "</html>\n",
    "\"\"\""
   ]
  },
  {
   "cell_type": "code",
   "execution_count": 2,
   "metadata": {},
   "outputs": [
    {
     "data": {
      "text/plain": [
       "'\\n<!DOCTYPE html>\\n<html><head><title>The Dormouse\\'s story</title></head>\\n<body>\\n<p class=\"title\"><b>The Dormouse\\'s story</b></p>\\n\\n<p class=\"story\">Once upon a time there were three little sisters; and their names were\\n<a href=\"http://example.com/elsie\" class=\"sister\" id=\"link1\">Elsie</a>,\\n<a href=\"http://example.com/lacie\" class=\"sister\" id=\"link2\">Lacie</a> and\\n<a href=\"http://example.com/tillie\" class=\"sister\" id=\"link3\">Tillie</a>;\\nand they lived at the bottom of a well.</p>\\n\\n<p class=\"story\">...</p>\\n</html>\\n'"
      ]
     },
     "execution_count": 2,
     "metadata": {},
     "output_type": "execute_result"
    }
   ],
   "source": [
    "html_doc"
   ]
  },
  {
   "cell_type": "code",
   "execution_count": 3,
   "metadata": {},
   "outputs": [],
   "source": [
    "from bs4 import BeautifulSoup"
   ]
  },
  {
   "cell_type": "markdown",
   "metadata": {},
   "source": [
    "#### \"creating the soup\""
   ]
  },
  {
   "cell_type": "code",
   "execution_count": 4,
   "metadata": {},
   "outputs": [],
   "source": [
    "# parse the element\n",
    "soup = BeautifulSoup(html_doc, 'html.parser')"
   ]
  },
  {
   "cell_type": "code",
   "execution_count": 5,
   "metadata": {},
   "outputs": [
    {
     "data": {
      "text/plain": [
       "<bound method Tag.prettify of \n",
       "<!DOCTYPE html>\n",
       "\n",
       "<html><head><title>The Dormouse's story</title></head>\n",
       "<body>\n",
       "<p class=\"title\"><b>The Dormouse's story</b></p>\n",
       "<p class=\"story\">Once upon a time there were three little sisters; and their names were\n",
       "<a class=\"sister\" href=\"http://example.com/elsie\" id=\"link1\">Elsie</a>,\n",
       "<a class=\"sister\" href=\"http://example.com/lacie\" id=\"link2\">Lacie</a> and\n",
       "<a class=\"sister\" href=\"http://example.com/tillie\" id=\"link3\">Tillie</a>;\n",
       "and they lived at the bottom of a well.</p>\n",
       "<p class=\"story\">...</p>\n",
       "</body></html>\n",
       ">"
      ]
     },
     "execution_count": 5,
     "metadata": {},
     "output_type": "execute_result"
    }
   ],
   "source": [
    "soup.prettify"
   ]
  },
  {
   "cell_type": "markdown",
   "metadata": {},
   "source": [
    "#### accessing single elements"
   ]
  },
  {
   "cell_type": "code",
   "execution_count": 17,
   "metadata": {},
   "outputs": [
    {
     "data": {
      "text/plain": [
       "<title>The Dormouse's story</title>"
      ]
     },
     "execution_count": 17,
     "metadata": {},
     "output_type": "execute_result"
    }
   ],
   "source": [
    "soup.title"
   ]
  },
  {
   "cell_type": "code",
   "execution_count": 15,
   "metadata": {},
   "outputs": [
    {
     "data": {
      "text/plain": [
       "\"The Dormouse's story\""
      ]
     },
     "execution_count": 15,
     "metadata": {},
     "output_type": "execute_result"
    }
   ],
   "source": [
    "soup.title.string"
   ]
  },
  {
   "cell_type": "code",
   "execution_count": 18,
   "metadata": {},
   "outputs": [
    {
     "data": {
      "text/plain": [
       "'head'"
      ]
     },
     "execution_count": 18,
     "metadata": {},
     "output_type": "execute_result"
    }
   ],
   "source": [
    "soup.title.parent.name"
   ]
  },
  {
   "cell_type": "code",
   "execution_count": 25,
   "metadata": {},
   "outputs": [
    {
     "data": {
      "text/plain": [
       "<body>\n",
       "<p class=\"title\"><b>The Dormouse's story</b></p>\n",
       "<p class=\"story\">Once upon a time there were three little sisters; and their names were\n",
       "<a class=\"sister\" href=\"http://example.com/elsie\" id=\"link1\">Elsie</a>,\n",
       "<a class=\"sister\" href=\"http://example.com/lacie\" id=\"link2\">Lacie</a> and\n",
       "<a class=\"sister\" href=\"http://example.com/tillie\" id=\"link3\">Tillie</a>;\n",
       "and they lived at the bottom of a well.</p>\n",
       "<p class=\"story\">...</p>\n",
       "</body>"
      ]
     },
     "execution_count": 25,
     "metadata": {},
     "output_type": "execute_result"
    }
   ],
   "source": [
    "soup.body"
   ]
  },
  {
   "cell_type": "code",
   "execution_count": 29,
   "metadata": {},
   "outputs": [
    {
     "data": {
      "text/plain": [
       "<p class=\"title\"><b>The Dormouse's story</b></p>"
      ]
     },
     "execution_count": 29,
     "metadata": {},
     "output_type": "execute_result"
    }
   ],
   "source": [
    "# this method only retrieves the first element of the specified tag\n",
    "soup.p"
   ]
  },
  {
   "cell_type": "markdown",
   "metadata": {},
   "source": [
    "#### finding all elements of a tag with find_all()"
   ]
  },
  {
   "cell_type": "code",
   "execution_count": 37,
   "metadata": {},
   "outputs": [],
   "source": [
    "p_tags = soup.find_all(\"p\")\n"
   ]
  },
  {
   "cell_type": "code",
   "execution_count": 38,
   "metadata": {},
   "outputs": [
    {
     "name": "stdout",
     "output_type": "stream",
     "text": [
      "The Dormouse's story\n",
      "Once upon a time there were three little sisters; and their names were\n",
      "Elsie,\n",
      "Lacie and\n",
      "Tillie;\n",
      "and they lived at the bottom of a well.\n",
      "...\n"
     ]
    }
   ],
   "source": [
    "for p in p_tags:\n",
    "    print(p.get_text())"
   ]
  },
  {
   "cell_type": "markdown",
   "metadata": {},
   "source": [
    "#### Using css selectors\n",
    "\n",
    "Let's learn first the syntax of css selectors playing this game: https://flukeout.github.io/\n",
    "\n",
    "Everyone should reach level 12!"
   ]
  },
  {
   "cell_type": "code",
   "execution_count": 44,
   "metadata": {},
   "outputs": [
    {
     "data": {
      "text/plain": [
       "'Lacie'"
      ]
     },
     "execution_count": 44,
     "metadata": {},
     "output_type": "execute_result"
    }
   ],
   "source": [
    "soup.select('a')[1].get_text()"
   ]
  },
  {
   "cell_type": "code",
   "execution_count": 41,
   "metadata": {},
   "outputs": [
    {
     "data": {
      "text/plain": [
       "\n",
       "<!DOCTYPE html>\n",
       "\n",
       "<html><head><title>The Dormouse's story</title></head>\n",
       "<body>\n",
       "<p class=\"title\"><b>The Dormouse's story</b></p>\n",
       "<p class=\"story\">Once upon a time there were three little sisters; and their names were\n",
       "<a class=\"sister\" href=\"http://example.com/elsie\" id=\"link1\">Elsie</a>,\n",
       "<a class=\"sister\" href=\"http://example.com/lacie\" id=\"link2\">Lacie</a> and\n",
       "<a class=\"sister\" href=\"http://example.com/tillie\" id=\"link3\">Tillie</a>;\n",
       "and they lived at the bottom of a well.</p>\n",
       "<p class=\"story\">...</p>\n",
       "</body></html>"
      ]
     },
     "execution_count": 41,
     "metadata": {},
     "output_type": "execute_result"
    }
   ],
   "source": [
    "soup"
   ]
  },
  {
   "cell_type": "code",
   "execution_count": 45,
   "metadata": {},
   "outputs": [
    {
     "name": "stdout",
     "output_type": "stream",
     "text": [
      "Elsie\n",
      "Lacie\n",
      "Tillie\n"
     ]
    }
   ],
   "source": [
    "soup.select(\"a\")\n",
    "\n",
    "for a in soup.select('a'):\n",
    "    print(a.get_text())"
   ]
  },
  {
   "cell_type": "code",
   "execution_count": 46,
   "metadata": {},
   "outputs": [
    {
     "data": {
      "text/plain": [
       "[<p class=\"title\"><b>The Dormouse's story</b></p>]"
      ]
     },
     "execution_count": 46,
     "metadata": {},
     "output_type": "execute_result"
    }
   ],
   "source": [
    "soup.select(\".title\")"
   ]
  },
  {
   "cell_type": "code",
   "execution_count": 47,
   "metadata": {},
   "outputs": [
    {
     "data": {
      "text/plain": [
       "[<a class=\"sister\" href=\"http://example.com/lacie\" id=\"link2\">Lacie</a>]"
      ]
     },
     "execution_count": 47,
     "metadata": {},
     "output_type": "execute_result"
    }
   ],
   "source": [
    "soup.select(\"#link2\")"
   ]
  },
  {
   "cell_type": "code",
   "execution_count": 48,
   "metadata": {},
   "outputs": [
    {
     "data": {
      "text/plain": [
       "[<a class=\"sister\" href=\"http://example.com/lacie\" id=\"link2\">Lacie</a>]"
      ]
     },
     "execution_count": 48,
     "metadata": {},
     "output_type": "execute_result"
    }
   ],
   "source": [
    "soup.select('#link2')"
   ]
  },
  {
   "cell_type": "code",
   "execution_count": 49,
   "metadata": {
    "scrolled": true
   },
   "outputs": [
    {
     "data": {
      "text/plain": [
       "[<a class=\"sister\" href=\"http://example.com/elsie\" id=\"link1\">Elsie</a>,\n",
       " <a class=\"sister\" href=\"http://example.com/lacie\" id=\"link2\">Lacie</a>,\n",
       " <a class=\"sister\" href=\"http://example.com/tillie\" id=\"link3\">Tillie</a>]"
      ]
     },
     "execution_count": 49,
     "metadata": {},
     "output_type": "execute_result"
    }
   ],
   "source": [
    "soup.select(\".sister\")"
   ]
  },
  {
   "cell_type": "markdown",
   "metadata": {},
   "source": [
    "We can combine the `select()` method with other bs4 methods, such as `get_text()`.\n",
    "\n",
    "`get_text()`, however, can only be applied to single elements, while `select()` might return multiple elements. It's common to iterate through the output of `select()`"
   ]
  },
  {
   "cell_type": "code",
   "execution_count": 52,
   "metadata": {},
   "outputs": [
    {
     "name": "stdout",
     "output_type": "stream",
     "text": [
      "Once upon a time there were three little sisters; and their names were\n",
      "Elsie,\n",
      "Lacie and\n",
      "Tillie;\n",
      "and they lived at the bottom of a well.\n"
     ]
    }
   ],
   "source": [
    "print(soup.select(\"p.story\")[0].get_text())"
   ]
  },
  {
   "cell_type": "code",
   "execution_count": 53,
   "metadata": {},
   "outputs": [
    {
     "name": "stdout",
     "output_type": "stream",
     "text": [
      "Once upon a time there were three little sisters; and their names were\n",
      "Elsie,\n",
      "Lacie and\n",
      "Tillie;\n",
      "and they lived at the bottom of a well.\n",
      "...\n"
     ]
    }
   ],
   "source": [
    "for p in soup.select(\"p.story\"):\n",
    "    print(p.get_text())"
   ]
  },
  {
   "cell_type": "markdown",
   "metadata": {},
   "source": [
    "### Your turn:\n",
    "\n",
    "Write code to print the following contents (not including the html tags, only human-readable text): \n",
    "\n",
    "1. All the \"fun facts\". \n",
    "\n",
    "2. The names of all the places. \n",
    "\n",
    "3. The content (name and fact) of all the cities (only cities, not countries!) \n",
    "\n",
    "4. The names (not facts!) of all the cities (not countries!)"
   ]
  },
  {
   "cell_type": "code",
   "execution_count": 54,
   "metadata": {},
   "outputs": [],
   "source": [
    "geography = \"\"\"\n",
    "<!DOCTYPE html>\n",
    "<html>\n",
    "<head> Geography</head>\n",
    "<body>\n",
    "\n",
    "<div class=\"city\">\n",
    "  <h2>London</h2>\n",
    "  <p>London is the most popular tourist destination in the world.</p>\n",
    "</div>\n",
    "\n",
    "<div class=\"city\">\n",
    "  <h2>Paris</h2>\n",
    "  <p>Paris was originally a Roman City called Lutetia.</p>\n",
    "</div>\n",
    "\n",
    "<div class=\"country\">\n",
    "  <h2>Spain</h2>\n",
    "  <p>Spain produces 43,8% of all the world's Olive Oil.</p>\n",
    "</div>\n",
    "\n",
    "</body>\n",
    "</html>\n",
    "\"\"\""
   ]
  },
  {
   "cell_type": "code",
   "execution_count": 55,
   "metadata": {},
   "outputs": [
    {
     "name": "stdout",
     "output_type": "stream",
     "text": [
      "<!DOCTYPE html>\n",
      "<html>\n",
      " <head>\n",
      "  Geography\n",
      " </head>\n",
      " <body>\n",
      "  <div class=\"city\">\n",
      "   <h2>\n",
      "    London\n",
      "   </h2>\n",
      "   <p>\n",
      "    London is the most popular tourist destination in the world.\n",
      "   </p>\n",
      "  </div>\n",
      "  <div class=\"city\">\n",
      "   <h2>\n",
      "    Paris\n",
      "   </h2>\n",
      "   <p>\n",
      "    Paris was originally a Roman City called Lutetia.\n",
      "   </p>\n",
      "  </div>\n",
      "  <div class=\"country\">\n",
      "   <h2>\n",
      "    Spain\n",
      "   </h2>\n",
      "   <p>\n",
      "    Spain produces 43,8% of all the world's Olive Oil.\n",
      "   </p>\n",
      "  </div>\n",
      " </body>\n",
      "</html>\n",
      "\n"
     ]
    }
   ],
   "source": [
    "soup = BeautifulSoup(geography, 'html.parser')\n",
    "\n",
    "print(soup.prettify())"
   ]
  },
  {
   "cell_type": "code",
   "execution_count": 56,
   "metadata": {},
   "outputs": [
    {
     "name": "stdout",
     "output_type": "stream",
     "text": [
      "London is the most popular tourist destination in the world.\n",
      "Paris was originally a Roman City called Lutetia.\n",
      "Spain produces 43,8% of all the world's Olive Oil.\n"
     ]
    }
   ],
   "source": [
    "# 1. All the \"fun facts\"\n",
    "for i in soup.find_all(\"p\"):\n",
    "    print(i.get_text())"
   ]
  },
  {
   "cell_type": "code",
   "execution_count": 57,
   "metadata": {},
   "outputs": [
    {
     "name": "stdout",
     "output_type": "stream",
     "text": [
      "London\n",
      "Paris\n",
      "Spain\n"
     ]
    }
   ],
   "source": [
    "# 2. The names of all the places.\n",
    "for i in soup.find_all(\"h2\"):\n",
    "    print(i.get_text())"
   ]
  },
  {
   "cell_type": "code",
   "execution_count": 58,
   "metadata": {},
   "outputs": [
    {
     "name": "stdout",
     "output_type": "stream",
     "text": [
      "\n",
      "London\n",
      "London is the most popular tourist destination in the world.\n",
      "\n",
      "\n",
      "Paris\n",
      "Paris was originally a Roman City called Lutetia.\n",
      "\n"
     ]
    }
   ],
   "source": [
    "# 3. All the content (name and fact) of all the cities (only cities, not countries!)\n",
    "for i in soup.find_all(\"div\", {\"class\":\"city\"}):\n",
    "    print(i.get_text())"
   ]
  },
  {
   "cell_type": "code",
   "execution_count": 59,
   "metadata": {},
   "outputs": [
    {
     "name": "stdout",
     "output_type": "stream",
     "text": [
      "London\n",
      "Paris\n"
     ]
    }
   ],
   "source": [
    "# 4. The names (not facts!) of all the cities (not countries!)\n",
    "for i in soup.find_all(\"div\", {\"class\":\"city\"}):\n",
    "    print(i.h2.get_text())"
   ]
  },
  {
   "cell_type": "markdown",
   "metadata": {},
   "source": [
    "## Use case: imdb top charts\n",
    "\n",
    "Let's go to https://www.imdb.com/chart/top, where we'll see the top 250 movies according to IMDb ratings.\n",
    "\n",
    "Notice how each movie has the following elements:\n",
    "\n",
    "- Title\n",
    "\n",
    "- Release Year\n",
    "\n",
    "- IMDb rating\n",
    "\n",
    "- Director & main stars (they appear when you hover over the title)\n",
    "\n",
    "Our objective is going to be to scrape this information and store it in a pandas dataframe.\n",
    "\n"
   ]
  },
  {
   "cell_type": "code",
   "execution_count": 60,
   "metadata": {},
   "outputs": [],
   "source": [
    "# 1. import libraries\n",
    "from bs4 import BeautifulSoup\n",
    "import requests\n",
    "import pandas as pd"
   ]
  },
  {
   "cell_type": "code",
   "execution_count": 61,
   "metadata": {},
   "outputs": [],
   "source": [
    "# 2. find url and store it in a variable\n",
    "url = \"https://www.imdb.com/chart/top\""
   ]
  },
  {
   "cell_type": "code",
   "execution_count": 62,
   "metadata": {},
   "outputs": [
    {
     "data": {
      "text/plain": [
       "200"
      ]
     },
     "execution_count": 62,
     "metadata": {},
     "output_type": "execute_result"
    }
   ],
   "source": [
    "# 3. download html with a get request\n",
    "response = requests.get(url)\n",
    "response.status_code # 200 status code means OK!"
   ]
  },
  {
   "cell_type": "code",
   "execution_count": 63,
   "metadata": {
    "tags": []
   },
   "outputs": [],
   "source": [
    "# 4.1. parse html (create the 'soup')\n",
    "soup = BeautifulSoup(response.content, \"html.parser\")\n",
    "# 4.2. check that the html code looks like it should\n",
    "# soup"
   ]
  },
  {
   "cell_type": "code",
   "execution_count": 64,
   "metadata": {},
   "outputs": [
    {
     "data": {
      "text/plain": [
       "'Die Verurteilten'"
      ]
     },
     "execution_count": 64,
     "metadata": {},
     "output_type": "execute_result"
    }
   ],
   "source": [
    "# 5. retrieve/extract the desired info (here, you'll paste the \"Selector\" you copied before to get the element that belongs to the top movie)\n",
    "\n",
    "soup.select(\"#main > div > span > div > div > div.lister > table > tbody > tr:nth-child(1) > td.titleColumn > a\")[0].get_text()"
   ]
  },
  {
   "cell_type": "markdown",
   "metadata": {},
   "source": [
    "This long selector we copied is kind of long and ugly, isn't it? And it only selects one single movie, while we will want to collect data from all of them. Going from that particular selector to one that's more \"general\" and \"elegant\" is the actual work the web scraper needs to do.\n",
    "\n",
    "In this case, we can play around a bit with different tags and classes, until we notice that all the information about the movies is under the tag <td class=\"titleColumn\">. We're lucky that under this tag there's not much \"trash\", just the info we need."
   ]
  },
  {
   "cell_type": "code",
   "execution_count": 66,
   "metadata": {
    "tags": []
   },
   "outputs": [],
   "source": [
    "#soup.select(\"td.titleColumn\") # all the info about all the movies"
   ]
  },
  {
   "cell_type": "code",
   "execution_count": 67,
   "metadata": {
    "tags": []
   },
   "outputs": [],
   "source": [
    "#soup.select(\"td.titleColumn a\") # all elements containing movie titles"
   ]
  },
  {
   "cell_type": "code",
   "execution_count": 68,
   "metadata": {},
   "outputs": [
    {
     "data": {
      "text/plain": [
       "'Die Verurteilten'"
      ]
     },
     "execution_count": 68,
     "metadata": {},
     "output_type": "execute_result"
    }
   ],
   "source": [
    "# we can use .get_text() to extract the content of the tags we selected\n",
    "# we'll need to do it to each tag with a for loop: here we do it to the first one\n",
    "soup.select(\"td.titleColumn a\")[0]\n",
    "soup.select(\"td.titleColumn a\")[0].get_text()"
   ]
  },
  {
   "cell_type": "code",
   "execution_count": 69,
   "metadata": {},
   "outputs": [
    {
     "data": {
      "text/plain": [
       "'Frank Darabont (dir.), Tim Robbins, Morgan Freeman'"
      ]
     },
     "execution_count": 69,
     "metadata": {},
     "output_type": "execute_result"
    }
   ],
   "source": [
    "# the director and main stars are in the same tag, but as a value of the attribute \"title\"\n",
    "# we can access attributes as key-value pairs of dictionaries: using [\"key\"] to get the value:\n",
    "soup.select(\"td.titleColumn a\")[0][\"title\"] \n",
    "\n",
    "# instead of [\"title\"] we could use .get(\"title\"): choose whatever you prefer"
   ]
  },
  {
   "cell_type": "code",
   "execution_count": 70,
   "metadata": {},
   "outputs": [
    {
     "data": {
      "text/plain": [
       "'(1994)'"
      ]
     },
     "execution_count": 70,
     "metadata": {},
     "output_type": "execute_result"
    }
   ],
   "source": [
    "# the years are inside a 'span' tag with the 'secondaryInfo' class\n",
    "# we also specify the parent tag and its class, which is the same we used before\n",
    "# the years are inside parentheses, but we'll take care of that later\n",
    "soup.select(\"td.titleColumn span.secondaryInfo\")[0].get_text()"
   ]
  },
  {
   "cell_type": "markdown",
   "metadata": {},
   "source": [
    "#### Building the dataframe"
   ]
  },
  {
   "cell_type": "code",
   "execution_count": 71,
   "metadata": {},
   "outputs": [],
   "source": [
    "#initialize empty lists\n",
    "title = []\n",
    "dir_stars = []\n",
    "year = []"
   ]
  },
  {
   "cell_type": "code",
   "execution_count": 73,
   "metadata": {},
   "outputs": [],
   "source": [
    "# define the number of iterations of our for loop \n",
    "# by checking how many elements are in the retrieved result set\n",
    "# (this is equivalent but more robust than just explicitly defining 250 iterations)\n",
    "num_iter = len(soup.select(\"td.titleColumn a\"))"
   ]
  },
  {
   "cell_type": "code",
   "execution_count": 74,
   "metadata": {},
   "outputs": [],
   "source": [
    "# iterate through the result set and retrive all the data\n",
    "for i in range(num_iter):\n",
    "    title.append(soup.select(\"td.titleColumn a\")[i].get_text())\n",
    "    dir_stars.append(soup.select(\"td.titleColumn a\")[i][\"title\"])\n",
    "    year.append(soup.select(\"td.titleColumn span.secondaryInfo\")[i].get_text())"
   ]
  },
  {
   "cell_type": "code",
   "execution_count": 75,
   "metadata": {},
   "outputs": [],
   "source": [
    "#print(title)"
   ]
  },
  {
   "cell_type": "code",
   "execution_count": 76,
   "metadata": {},
   "outputs": [],
   "source": [
    "#print(dir_stars)"
   ]
  },
  {
   "cell_type": "code",
   "execution_count": 77,
   "metadata": {},
   "outputs": [],
   "source": [
    "#print(year)"
   ]
  },
  {
   "cell_type": "code",
   "execution_count": 78,
   "metadata": {},
   "outputs": [
    {
     "data": {
      "text/html": [
       "<div>\n",
       "<style scoped>\n",
       "    .dataframe tbody tr th:only-of-type {\n",
       "        vertical-align: middle;\n",
       "    }\n",
       "\n",
       "    .dataframe tbody tr th {\n",
       "        vertical-align: top;\n",
       "    }\n",
       "\n",
       "    .dataframe thead th {\n",
       "        text-align: right;\n",
       "    }\n",
       "</style>\n",
       "<table border=\"1\" class=\"dataframe\">\n",
       "  <thead>\n",
       "    <tr style=\"text-align: right;\">\n",
       "      <th></th>\n",
       "      <th>title</th>\n",
       "      <th>dir_stars</th>\n",
       "      <th>year</th>\n",
       "    </tr>\n",
       "  </thead>\n",
       "  <tbody>\n",
       "    <tr>\n",
       "      <th>0</th>\n",
       "      <td>Die Verurteilten</td>\n",
       "      <td>Frank Darabont (dir.), Tim Robbins, Morgan Fre...</td>\n",
       "      <td>(1994)</td>\n",
       "    </tr>\n",
       "    <tr>\n",
       "      <th>1</th>\n",
       "      <td>Der Pate</td>\n",
       "      <td>Francis Ford Coppola (dir.), Marlon Brando, Al...</td>\n",
       "      <td>(1972)</td>\n",
       "    </tr>\n",
       "    <tr>\n",
       "      <th>2</th>\n",
       "      <td>Der Pate 2</td>\n",
       "      <td>Francis Ford Coppola (dir.), Al Pacino, Robert...</td>\n",
       "      <td>(1974)</td>\n",
       "    </tr>\n",
       "    <tr>\n",
       "      <th>3</th>\n",
       "      <td>The Dark Knight</td>\n",
       "      <td>Christopher Nolan (dir.), Christian Bale, Heat...</td>\n",
       "      <td>(2008)</td>\n",
       "    </tr>\n",
       "    <tr>\n",
       "      <th>4</th>\n",
       "      <td>Die zwölf Geschworenen</td>\n",
       "      <td>Sidney Lumet (dir.), Henry Fonda, Lee J. Cobb</td>\n",
       "      <td>(1957)</td>\n",
       "    </tr>\n",
       "  </tbody>\n",
       "</table>\n",
       "</div>"
      ],
      "text/plain": [
       "                    title                                          dir_stars  \\\n",
       "0        Die Verurteilten  Frank Darabont (dir.), Tim Robbins, Morgan Fre...   \n",
       "1                Der Pate  Francis Ford Coppola (dir.), Marlon Brando, Al...   \n",
       "2              Der Pate 2  Francis Ford Coppola (dir.), Al Pacino, Robert...   \n",
       "3         The Dark Knight  Christopher Nolan (dir.), Christian Bale, Heat...   \n",
       "4  Die zwölf Geschworenen      Sidney Lumet (dir.), Henry Fonda, Lee J. Cobb   \n",
       "\n",
       "     year  \n",
       "0  (1994)  \n",
       "1  (1972)  \n",
       "2  (1974)  \n",
       "3  (2008)  \n",
       "4  (1957)  "
      ]
     },
     "execution_count": 78,
     "metadata": {},
     "output_type": "execute_result"
    }
   ],
   "source": [
    "# each list becomes a column\n",
    "movies = pd.DataFrame({\"title\":title,\n",
    "                       \"dir_stars\":dir_stars,\n",
    "                       \"year\":year\n",
    "                      })\n",
    "\n",
    "movies.head()"
   ]
  },
  {
   "cell_type": "markdown",
   "metadata": {},
   "source": [
    "#### Cleaning the data\n",
    "\n",
    "An inherent part of web scraping is data cleaning. We managed to get the information we needed, but for it to be useful, we still need some extra steps:\n",
    "\n",
    "- Take the year out of the parentheses: we know we can totally do that with regex, but string methods such as str.replace() might be simpler to use.\n",
    "\n",
    "- Change the data type of the year column to integer.\n",
    "\n",
    "- Split dir_stars into 3 columns, one for each person: \"director\", \"star_1\", \"star_2\". This could have been done by filtering when extracting the data from the html document, but it looks easier afterwards:\n",
    "\n",
    "    - The \"(dir.)\" pattern can be totally removed\n",
    "    - We can split the string at each comma"
   ]
  },
  {
   "cell_type": "code",
   "execution_count": 80,
   "metadata": {},
   "outputs": [
    {
     "data": {
      "text/html": [
       "<div>\n",
       "<style scoped>\n",
       "    .dataframe tbody tr th:only-of-type {\n",
       "        vertical-align: middle;\n",
       "    }\n",
       "\n",
       "    .dataframe tbody tr th {\n",
       "        vertical-align: top;\n",
       "    }\n",
       "\n",
       "    .dataframe thead th {\n",
       "        text-align: right;\n",
       "    }\n",
       "</style>\n",
       "<table border=\"1\" class=\"dataframe\">\n",
       "  <thead>\n",
       "    <tr style=\"text-align: right;\">\n",
       "      <th></th>\n",
       "      <th>title</th>\n",
       "      <th>director</th>\n",
       "      <th>star_1</th>\n",
       "      <th>star_2</th>\n",
       "    </tr>\n",
       "  </thead>\n",
       "  <tbody>\n",
       "    <tr>\n",
       "      <th>0</th>\n",
       "      <td>Die Verurteilten</td>\n",
       "      <td>Frank Darabont</td>\n",
       "      <td>Tim Robbins</td>\n",
       "      <td>Morgan Freeman</td>\n",
       "    </tr>\n",
       "    <tr>\n",
       "      <th>1</th>\n",
       "      <td>Der Pate</td>\n",
       "      <td>Francis Ford Coppola</td>\n",
       "      <td>Marlon Brando</td>\n",
       "      <td>Al Pacino</td>\n",
       "    </tr>\n",
       "    <tr>\n",
       "      <th>2</th>\n",
       "      <td>Der Pate 2</td>\n",
       "      <td>Francis Ford Coppola</td>\n",
       "      <td>Al Pacino</td>\n",
       "      <td>Robert De Niro</td>\n",
       "    </tr>\n",
       "    <tr>\n",
       "      <th>3</th>\n",
       "      <td>The Dark Knight</td>\n",
       "      <td>Christopher Nolan</td>\n",
       "      <td>Christian Bale</td>\n",
       "      <td>Heath Ledger</td>\n",
       "    </tr>\n",
       "    <tr>\n",
       "      <th>4</th>\n",
       "      <td>Die zwölf Geschworenen</td>\n",
       "      <td>Sidney Lumet</td>\n",
       "      <td>Henry Fonda</td>\n",
       "      <td>Lee J. Cobb</td>\n",
       "    </tr>\n",
       "    <tr>\n",
       "      <th>...</th>\n",
       "      <td>...</td>\n",
       "      <td>...</td>\n",
       "      <td>...</td>\n",
       "      <td>...</td>\n",
       "    </tr>\n",
       "    <tr>\n",
       "      <th>245</th>\n",
       "      <td>Neon Genesis Evangelion - The End of Evangelion</td>\n",
       "      <td>Hideaki Anno</td>\n",
       "      <td>Megumi Ogata</td>\n",
       "      <td>Megumi Hayashibara</td>\n",
       "    </tr>\n",
       "    <tr>\n",
       "      <th>246</th>\n",
       "      <td>Die Nächte der Cabiria</td>\n",
       "      <td>Federico Fellini</td>\n",
       "      <td>Giulietta Masina</td>\n",
       "      <td>François Périer</td>\n",
       "    </tr>\n",
       "    <tr>\n",
       "      <th>247</th>\n",
       "      <td>Die Braut des Prinzen</td>\n",
       "      <td>Rob Reiner</td>\n",
       "      <td>Cary Elwes</td>\n",
       "      <td>Mandy Patinkin</td>\n",
       "    </tr>\n",
       "    <tr>\n",
       "      <th>248</th>\n",
       "      <td>Paris, Texas</td>\n",
       "      <td>Wim Wenders</td>\n",
       "      <td>Harry Dean Stanton</td>\n",
       "      <td>Nastassja Kinski</td>\n",
       "    </tr>\n",
       "    <tr>\n",
       "      <th>249</th>\n",
       "      <td>Sardar Udham</td>\n",
       "      <td>Shoojit Sircar</td>\n",
       "      <td>Vicky Kaushal</td>\n",
       "      <td>Banita Sandhu</td>\n",
       "    </tr>\n",
       "  </tbody>\n",
       "</table>\n",
       "<p>250 rows × 4 columns</p>\n",
       "</div>"
      ],
      "text/plain": [
       "                                               title              director  \\\n",
       "0                                   Die Verurteilten        Frank Darabont   \n",
       "1                                           Der Pate  Francis Ford Coppola   \n",
       "2                                         Der Pate 2  Francis Ford Coppola   \n",
       "3                                    The Dark Knight     Christopher Nolan   \n",
       "4                             Die zwölf Geschworenen          Sidney Lumet   \n",
       "..                                               ...                   ...   \n",
       "245  Neon Genesis Evangelion - The End of Evangelion          Hideaki Anno   \n",
       "246                           Die Nächte der Cabiria      Federico Fellini   \n",
       "247                            Die Braut des Prinzen            Rob Reiner   \n",
       "248                                     Paris, Texas           Wim Wenders   \n",
       "249                                     Sardar Udham        Shoojit Sircar   \n",
       "\n",
       "                  star_1               star_2  \n",
       "0            Tim Robbins       Morgan Freeman  \n",
       "1          Marlon Brando            Al Pacino  \n",
       "2              Al Pacino       Robert De Niro  \n",
       "3         Christian Bale         Heath Ledger  \n",
       "4            Henry Fonda          Lee J. Cobb  \n",
       "..                   ...                  ...  \n",
       "245         Megumi Ogata   Megumi Hayashibara  \n",
       "246     Giulietta Masina      François Périer  \n",
       "247           Cary Elwes       Mandy Patinkin  \n",
       "248   Harry Dean Stanton     Nastassja Kinski  \n",
       "249        Vicky Kaushal        Banita Sandhu  \n",
       "\n",
       "[250 rows x 4 columns]"
      ]
     },
     "execution_count": 80,
     "metadata": {},
     "output_type": "execute_result"
    }
   ],
   "source": [
    "director = []\n",
    "star_1 = []\n",
    "star_2 = []\n",
    "\n",
    "for movie in dir_stars:\n",
    "    crew = movie.split(\",\")\n",
    "    director.append(crew[0].replace(\" (dir.)\", \"\"))\n",
    "    star_1.append(crew[1])\n",
    "    star_2.append(crew[2])\n",
    "\n",
    "# each list becomes a column\n",
    "movies = pd.DataFrame({\"title\":title,\n",
    "                       \"director\":director,\n",
    "                       \"star_1\":star_1,\n",
    "                       \"star_2\":star_2\n",
    "                      })\n",
    "\n",
    "movies"
   ]
  },
  {
   "cell_type": "code",
   "execution_count": null,
   "metadata": {},
   "outputs": [],
   "source": []
  }
 ],
 "metadata": {
  "kernelspec": {
   "display_name": "Python 3 (ipykernel)",
   "language": "python",
   "name": "python3"
  },
  "language_info": {
   "codemirror_mode": {
    "name": "ipython",
    "version": 3
   },
   "file_extension": ".py",
   "mimetype": "text/x-python",
   "name": "python",
   "nbconvert_exporter": "python",
   "pygments_lexer": "ipython3",
   "version": "3.9.5"
  },
  "toc": {
   "base_numbering": 1,
   "nav_menu": {},
   "number_sections": true,
   "sideBar": true,
   "skip_h1_title": false,
   "title_cell": "Table of Contents",
   "title_sidebar": "Contents",
   "toc_cell": false,
   "toc_position": {},
   "toc_section_display": true,
   "toc_window_display": false
  },
  "varInspector": {
   "cols": {
    "lenName": 16,
    "lenType": 16,
    "lenVar": 40
   },
   "kernels_config": {
    "python": {
     "delete_cmd_postfix": "",
     "delete_cmd_prefix": "del ",
     "library": "var_list.py",
     "varRefreshCmd": "print(var_dic_list())"
    },
    "r": {
     "delete_cmd_postfix": ") ",
     "delete_cmd_prefix": "rm(",
     "library": "var_list.r",
     "varRefreshCmd": "cat(var_dic_list()) "
    }
   },
   "types_to_exclude": [
    "module",
    "function",
    "builtin_function_or_method",
    "instance",
    "_Feature"
   ],
   "window_display": false
  }
 },
 "nbformat": 4,
 "nbformat_minor": 4
}
