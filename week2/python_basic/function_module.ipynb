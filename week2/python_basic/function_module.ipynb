{
 "cells": [
  {
   "cell_type": "code",
   "execution_count": 34,
   "id": "459f2509-ed57-4c43-b8c1-e03b9ec7fb57",
   "metadata": {},
   "outputs": [
    {
     "name": "stdout",
     "output_type": "stream",
     "text": [
      "16\n",
      "Are you out of your mind? Only integers allowed!\n",
      "9\n",
      "2020\n",
      "99\n"
     ]
    }
   ],
   "source": [
    "from ipynb.fs.full.Functions import intersect"
   ]
  },
  {
   "cell_type": "code",
   "execution_count": 36,
   "id": "594f3138-8868-4f2f-8f4c-52b41e33b75f",
   "metadata": {},
   "outputs": [
    {
     "data": {
      "text/plain": [
       "{3}"
      ]
     },
     "execution_count": 36,
     "metadata": {},
     "output_type": "execute_result"
    }
   ],
   "source": [
    "\n",
    "intersect((1,2,3),[4,6,3])"
   ]
  }
 ],
 "metadata": {
  "kernelspec": {
   "display_name": "Python 3 (ipykernel)",
   "language": "python",
   "name": "python3"
  },
  "language_info": {
   "codemirror_mode": {
    "name": "ipython",
    "version": 3
   },
   "file_extension": ".py",
   "mimetype": "text/x-python",
   "name": "python",
   "nbconvert_exporter": "python",
   "pygments_lexer": "ipython3",
   "version": "3.9.5"
  }
 },
 "nbformat": 4,
 "nbformat_minor": 5
}
