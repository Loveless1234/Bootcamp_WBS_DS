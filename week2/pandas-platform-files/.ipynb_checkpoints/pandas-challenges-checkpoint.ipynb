{
 "cells": [
  {
   "cell_type": "markdown",
   "metadata": {},
   "source": [
    "# Pandas challenges"
   ]
  },
  {
   "cell_type": "markdown",
   "metadata": {},
   "source": [
    "Read the `veahicles.csv` dataframe and store it in a variable called `cars`:"
   ]
  },
  {
   "cell_type": "code",
   "execution_count": 1,
   "metadata": {},
   "outputs": [],
   "source": [
    "# code here\n",
    "import pandas as pd\n",
    "\n",
    "#columns_name = ['make','model','year','engine_displacement','cylinders','transmisson','drivetrain','vechile_Class','fuel_type','fuel_Year','city_mpg','highway_mpg','co2','fuel_cost']\n",
    "\n",
    "cars = pd.read_csv('data/vehicles.csv')"
   ]
  },
  {
   "cell_type": "code",
   "execution_count": 2,
   "metadata": {},
   "outputs": [
    {
     "name": "stdout",
     "output_type": "stream",
     "text": [
      "number of rows is 35952\n",
      "number of column is 15\n"
     ]
    }
   ],
   "source": [
    " #How many rows and columns are there?\n",
    "print(f\"number of rows is {cars.shape[0]}\\nnumber of column is {cars.shape[1]}\")"
   ]
  },
  {
   "cell_type": "code",
   "execution_count": 3,
   "metadata": {},
   "outputs": [
    {
     "name": "stdout",
     "output_type": "stream",
     "text": [
      "Make                        object\n",
      "Model                       object\n",
      "Year                         int64\n",
      "Engine Displacement        float64\n",
      "Cylinders                  float64\n",
      "Transmission                object\n",
      "Drivetrain                  object\n",
      "Vehicle Class               object\n",
      "Fuel Type                   object\n",
      "Fuel Barrels/Year          float64\n",
      "City MPG                     int64\n",
      "Highway MPG                  int64\n",
      "Combined MPG                 int64\n",
      "CO2 Emission Grams/Mile    float64\n",
      "Fuel Cost/Year               int64\n",
      "dtype: object\n"
     ]
    }
   ],
   "source": [
    "#What are the data types of the columns?\n",
    "print(cars.dtypes)\n"
   ]
  },
  {
   "cell_type": "code",
   "execution_count": 4,
   "metadata": {},
   "outputs": [
    {
     "data": {
      "text/plain": [
       "Make                       0\n",
       "Model                      0\n",
       "Year                       0\n",
       "Engine Displacement        0\n",
       "Cylinders                  0\n",
       "Transmission               0\n",
       "Drivetrain                 0\n",
       "Vehicle Class              0\n",
       "Fuel Type                  0\n",
       "Fuel Barrels/Year          0\n",
       "City MPG                   0\n",
       "Highway MPG                0\n",
       "Combined MPG               0\n",
       "CO2 Emission Grams/Mile    0\n",
       "Fuel Cost/Year             0\n",
       "dtype: int64"
      ]
     },
     "execution_count": 4,
     "metadata": {},
     "output_type": "execute_result"
    }
   ],
   "source": [
    "#- Are there missing values?\n",
    "cars.isna().sum()"
   ]
  },
  {
   "cell_type": "code",
   "execution_count": 5,
   "metadata": {},
   "outputs": [
    {
     "data": {
      "text/html": [
       "<div>\n",
       "<style scoped>\n",
       "    .dataframe tbody tr th:only-of-type {\n",
       "        vertical-align: middle;\n",
       "    }\n",
       "\n",
       "    .dataframe tbody tr th {\n",
       "        vertical-align: top;\n",
       "    }\n",
       "\n",
       "    .dataframe thead th {\n",
       "        text-align: right;\n",
       "    }\n",
       "</style>\n",
       "<table border=\"1\" class=\"dataframe\">\n",
       "  <thead>\n",
       "    <tr style=\"text-align: right;\">\n",
       "      <th></th>\n",
       "      <th>Year</th>\n",
       "      <th>Engine Displacement</th>\n",
       "      <th>Cylinders</th>\n",
       "      <th>Fuel Barrels/Year</th>\n",
       "      <th>City MPG</th>\n",
       "      <th>Highway MPG</th>\n",
       "      <th>Combined MPG</th>\n",
       "      <th>CO2 Emission Grams/Mile</th>\n",
       "      <th>Fuel Cost/Year</th>\n",
       "    </tr>\n",
       "  </thead>\n",
       "  <tbody>\n",
       "    <tr>\n",
       "      <th>count</th>\n",
       "      <td>35952.00000</td>\n",
       "      <td>35952.000000</td>\n",
       "      <td>35952.000000</td>\n",
       "      <td>35952.000000</td>\n",
       "      <td>35952.000000</td>\n",
       "      <td>35952.000000</td>\n",
       "      <td>35952.000000</td>\n",
       "      <td>35952.000000</td>\n",
       "      <td>35952.000000</td>\n",
       "    </tr>\n",
       "    <tr>\n",
       "      <th>mean</th>\n",
       "      <td>2000.71640</td>\n",
       "      <td>3.338493</td>\n",
       "      <td>5.765076</td>\n",
       "      <td>17.609056</td>\n",
       "      <td>17.646139</td>\n",
       "      <td>23.880646</td>\n",
       "      <td>19.929322</td>\n",
       "      <td>475.316339</td>\n",
       "      <td>1892.598465</td>\n",
       "    </tr>\n",
       "    <tr>\n",
       "      <th>std</th>\n",
       "      <td>10.08529</td>\n",
       "      <td>1.359395</td>\n",
       "      <td>1.755268</td>\n",
       "      <td>4.467283</td>\n",
       "      <td>4.769349</td>\n",
       "      <td>5.890876</td>\n",
       "      <td>5.112409</td>\n",
       "      <td>119.060773</td>\n",
       "      <td>506.958627</td>\n",
       "    </tr>\n",
       "    <tr>\n",
       "      <th>min</th>\n",
       "      <td>1984.00000</td>\n",
       "      <td>0.600000</td>\n",
       "      <td>2.000000</td>\n",
       "      <td>0.060000</td>\n",
       "      <td>6.000000</td>\n",
       "      <td>9.000000</td>\n",
       "      <td>7.000000</td>\n",
       "      <td>37.000000</td>\n",
       "      <td>600.000000</td>\n",
       "    </tr>\n",
       "    <tr>\n",
       "      <th>25%</th>\n",
       "      <td>1991.00000</td>\n",
       "      <td>2.200000</td>\n",
       "      <td>4.000000</td>\n",
       "      <td>14.699423</td>\n",
       "      <td>15.000000</td>\n",
       "      <td>20.000000</td>\n",
       "      <td>16.000000</td>\n",
       "      <td>395.000000</td>\n",
       "      <td>1500.000000</td>\n",
       "    </tr>\n",
       "    <tr>\n",
       "      <th>50%</th>\n",
       "      <td>2001.00000</td>\n",
       "      <td>3.000000</td>\n",
       "      <td>6.000000</td>\n",
       "      <td>17.347895</td>\n",
       "      <td>17.000000</td>\n",
       "      <td>24.000000</td>\n",
       "      <td>19.000000</td>\n",
       "      <td>467.736842</td>\n",
       "      <td>1850.000000</td>\n",
       "    </tr>\n",
       "    <tr>\n",
       "      <th>75%</th>\n",
       "      <td>2010.00000</td>\n",
       "      <td>4.300000</td>\n",
       "      <td>6.000000</td>\n",
       "      <td>20.600625</td>\n",
       "      <td>20.000000</td>\n",
       "      <td>27.000000</td>\n",
       "      <td>23.000000</td>\n",
       "      <td>555.437500</td>\n",
       "      <td>2200.000000</td>\n",
       "    </tr>\n",
       "    <tr>\n",
       "      <th>max</th>\n",
       "      <td>2017.00000</td>\n",
       "      <td>8.400000</td>\n",
       "      <td>16.000000</td>\n",
       "      <td>47.087143</td>\n",
       "      <td>58.000000</td>\n",
       "      <td>61.000000</td>\n",
       "      <td>56.000000</td>\n",
       "      <td>1269.571429</td>\n",
       "      <td>5800.000000</td>\n",
       "    </tr>\n",
       "  </tbody>\n",
       "</table>\n",
       "</div>"
      ],
      "text/plain": [
       "              Year  Engine Displacement     Cylinders  Fuel Barrels/Year  \\\n",
       "count  35952.00000         35952.000000  35952.000000       35952.000000   \n",
       "mean    2000.71640             3.338493      5.765076          17.609056   \n",
       "std       10.08529             1.359395      1.755268           4.467283   \n",
       "min     1984.00000             0.600000      2.000000           0.060000   \n",
       "25%     1991.00000             2.200000      4.000000          14.699423   \n",
       "50%     2001.00000             3.000000      6.000000          17.347895   \n",
       "75%     2010.00000             4.300000      6.000000          20.600625   \n",
       "max     2017.00000             8.400000     16.000000          47.087143   \n",
       "\n",
       "           City MPG   Highway MPG  Combined MPG  CO2 Emission Grams/Mile  \\\n",
       "count  35952.000000  35952.000000  35952.000000             35952.000000   \n",
       "mean      17.646139     23.880646     19.929322               475.316339   \n",
       "std        4.769349      5.890876      5.112409               119.060773   \n",
       "min        6.000000      9.000000      7.000000                37.000000   \n",
       "25%       15.000000     20.000000     16.000000               395.000000   \n",
       "50%       17.000000     24.000000     19.000000               467.736842   \n",
       "75%       20.000000     27.000000     23.000000               555.437500   \n",
       "max       58.000000     61.000000     56.000000              1269.571429   \n",
       "\n",
       "       Fuel Cost/Year  \n",
       "count    35952.000000  \n",
       "mean      1892.598465  \n",
       "std        506.958627  \n",
       "min        600.000000  \n",
       "25%       1500.000000  \n",
       "50%       1850.000000  \n",
       "75%       2200.000000  \n",
       "max       5800.000000  "
      ]
     },
     "execution_count": 5,
     "metadata": {},
     "output_type": "execute_result"
    }
   ],
   "source": [
    "#What are the ranges / distributions of the numerical columns?\n",
    "cars.describe()"
   ]
  },
  {
   "cell_type": "code",
   "execution_count": 6,
   "metadata": {},
   "outputs": [
    {
     "data": {
      "text/plain": [
       "dtype('O')"
      ]
     },
     "execution_count": 6,
     "metadata": {},
     "output_type": "execute_result"
    }
   ],
   "source": [
    "#What are the value counts for the categorical columns?\n",
    "cars['Make'].dtypes"
   ]
  },
  {
   "cell_type": "code",
   "execution_count": 7,
   "metadata": {},
   "outputs": [
    {
     "data": {
      "text/plain": [
       "Make                        object\n",
       "Model                       object\n",
       "Year                         int64\n",
       "Engine Displacement        float64\n",
       "Cylinders                  float64\n",
       "Transmission                object\n",
       "Drivetrain                  object\n",
       "Vehicle Class               object\n",
       "Fuel Type                   object\n",
       "Fuel Barrels/Year          float64\n",
       "City MPG                     int64\n",
       "Highway MPG                  int64\n",
       "Combined MPG                 int64\n",
       "CO2 Emission Grams/Mile    float64\n",
       "Fuel Cost/Year               int64\n",
       "dtype: object"
      ]
     },
     "execution_count": 7,
     "metadata": {},
     "output_type": "execute_result"
    }
   ],
   "source": [
    "cars.dtypes"
   ]
  },
  {
   "cell_type": "code",
   "execution_count": 8,
   "metadata": {},
   "outputs": [
    {
     "data": {
      "text/plain": [
       "{}"
      ]
     },
     "execution_count": 8,
     "metadata": {},
     "output_type": "execute_result"
    }
   ],
   "source": [
    "\n",
    "cont_column = {\n",
    "    col: cars[col].value_counts()\n",
    "    for col in cars.columns[cars.dtypes.isin({'object'})]\n",
    "}\n",
    "cont_column"
   ]
  },
  {
   "cell_type": "code",
   "execution_count": 9,
   "metadata": {},
   "outputs": [],
   "source": [
    "cat_columns = []"
   ]
  },
  {
   "cell_type": "code",
   "execution_count": 10,
   "metadata": {},
   "outputs": [
    {
     "name": "stdout",
     "output_type": "stream",
     "text": [
      "Chevrolet                             3643\n",
      "Ford                                  2946\n",
      "Dodge                                 2360\n",
      "GMC                                   2347\n",
      "Toyota                                1836\n",
      "                                      ... \n",
      "Excalibur Autos                          1\n",
      "S and S Coach Company  E.p. Dutton       1\n",
      "Environmental Rsch and Devp Corp         1\n",
      "E. P. Dutton, Inc.                       1\n",
      "Lambda Control Systems                   1\n",
      "Name: Make, Length: 127, dtype: int64\n",
      "F150 Pickup 2WD      197\n",
      "F150 Pickup 4WD      179\n",
      "Truck 2WD            173\n",
      "Mustang              170\n",
      "Jetta                169\n",
      "                    ... \n",
      "C300 Convertible       1\n",
      "C300 Coupe             1\n",
      "C300 FFV               1\n",
      "C320 4matic Sedan      1\n",
      "DJ Po Vehicle 2WD      1\n",
      "Name: Model, Length: 3608, dtype: int64\n",
      "Front-Wheel Drive             13044\n",
      "Rear-Wheel Drive              12726\n",
      "4-Wheel or All-Wheel Drive     6503\n",
      "All-Wheel Drive                2039\n",
      "4-Wheel Drive                  1058\n",
      "2-Wheel Drive                   423\n",
      "Part-time 4-Wheel Drive         158\n",
      "2-Wheel Drive, Front              1\n",
      "Name: Drivetrain, dtype: int64\n",
      "Compact Cars                          5185\n",
      "Subcompact Cars                       4374\n",
      "Midsize Cars                          4063\n",
      "Standard Pickup Trucks                2311\n",
      "Sport Utility Vehicle - 4WD           2081\n",
      "Two Seaters                           1784\n",
      "Large Cars                            1742\n",
      "Sport Utility Vehicle - 2WD           1615\n",
      "Special Purpose Vehicles              1404\n",
      "Small Station Wagons                  1371\n",
      "Minicompact Cars                      1212\n",
      "Standard Pickup Trucks 2WD            1141\n",
      "Vans                                  1121\n",
      "Standard Pickup Trucks 4WD             959\n",
      "Midsize-Large Station Wagons           633\n",
      "Special Purpose Vehicle 2WD            581\n",
      "Small Pickup Trucks                    524\n",
      "Small Sport Utility Vehicle 4WD        494\n",
      "Vans, Cargo Type                       432\n",
      "Midsize Station Wagons                 416\n",
      "Standard Sport Utility Vehicle 4WD     409\n",
      "Small Pickup Trucks 2WD                401\n",
      "Small Sport Utility Vehicle 2WD        374\n",
      "Minivan - 2WD                          331\n",
      "Vans, Passenger Type                   301\n",
      "Special Purpose Vehicle 4WD            256\n",
      "Small Pickup Trucks 4WD                200\n",
      "Standard Sport Utility Vehicle 2WD     179\n",
      "Minivan - 4WD                           47\n",
      "Standard Pickup Trucks/2wd               4\n",
      "Vans Passenger                           2\n",
      "Special Purpose Vehicles/2wd             2\n",
      "Special Purpose Vehicles/4wd             2\n",
      "Special Purpose Vehicle                  1\n",
      "Name: Vehicle Class, dtype: int64\n",
      "Regular                        23587\n",
      "Premium                         9921\n",
      "Gasoline or E85                 1195\n",
      "Diesel                           911\n",
      "Premium or E85                   121\n",
      "Midgrade                          74\n",
      "CNG                               60\n",
      "Premium and Electricity           20\n",
      "Gasoline or natural gas           20\n",
      "Premium Gas or Electricity        17\n",
      "Regular Gas and Electricity       16\n",
      "Gasoline or propane                8\n",
      "Regular Gas or Electricity         2\n",
      "Name: Fuel Type, dtype: int64\n"
     ]
    }
   ],
   "source": [
    "cat_colums = cars[['Make','Model','Drivetrain','Vehicle Class','Fuel Type']]\n",
    "\n",
    "for i in cat_colums.columns:\n",
    "    print(cat_colums[i].value_counts())\n",
    "    \n",
    "    \n",
    "    "
   ]
  },
  {
   "cell_type": "markdown",
   "metadata": {},
   "source": [
    "Explore the dataset:\n",
    "\n",
    "- How many rows and columns are there?\n",
    "\n",
    "- What are the data types of the columns?\n",
    "\n",
    "- Are there missing values?\n",
    "\n",
    "- What are the ranges / distributions of the numerical columns?\n",
    "\n",
    "- What are the value counts for the categorical columns?"
   ]
  },
  {
   "cell_type": "code",
   "execution_count": 11,
   "metadata": {},
   "outputs": [],
   "source": [
    "\n",
    "# code here\n",
    "cars = cars.copy()\n",
    "cars = cars.drop('Combined MPG', axis=1)"
   ]
  },
  {
   "cell_type": "markdown",
   "metadata": {},
   "source": [
    "Drop the column \"Combined MPG\""
   ]
  },
  {
   "cell_type": "code",
   "execution_count": 12,
   "metadata": {},
   "outputs": [],
   "source": [
    "# code here\n",
    "cars = cars.rename({'Make':'make','Model':'model','Year':'year','Engine Displacement':'eng_dis','Cylinders':'cylinders','Transmission':'transmission','Drivetrain':'drivetrain','Vehicle Class':'vehicle_Class','Fuel Type':'fuel_type','Fuel Barrels/Year':'fuel_year','City MPG':'city_mpg','Highway MPG':'highway_mpg','CO2 Emission Grams/Mile':'co2','Fuel Cost/Year':'fuel_cost'},axis=1)"
   ]
  },
  {
   "cell_type": "markdown",
   "metadata": {},
   "source": [
    "Change column names so that there are no names with spaces or weird special characters:"
   ]
  },
  {
   "cell_type": "code",
   "execution_count": 13,
   "metadata": {},
   "outputs": [
    {
     "data": {
      "text/plain": [
       "Chevrolet    3643\n",
       "Name: make, dtype: int64"
      ]
     },
     "execution_count": 13,
     "metadata": {},
     "output_type": "execute_result"
    }
   ],
   "source": [
    "# code here\n",
    "#What brand has the most cars?\n",
    "cars['make'].value_counts().sort_values(ascending=False)[0:1]\n",
    "\n"
   ]
  },
  {
   "cell_type": "markdown",
   "metadata": {},
   "source": [
    "What brand has the most cars?"
   ]
  },
  {
   "cell_type": "code",
   "execution_count": 14,
   "metadata": {},
   "outputs": [
    {
     "data": {
      "text/plain": [
       "512.6793004419665"
      ]
     },
     "execution_count": 14,
     "metadata": {},
     "output_type": "execute_result"
    }
   ],
   "source": [
    "# code here\n",
    "#What brand has the worse CO2 Emissions on average?\n",
    "car_brand = cars.groupby(['make']).mean()\n",
    "car_brand['co2'].sort_values(ascending=False)['Chevrolet']"
   ]
  },
  {
   "cell_type": "code",
   "execution_count": 15,
   "metadata": {},
   "outputs": [
    {
     "data": {
      "text/plain": [
       "make\n",
       "Fisker    169.0\n",
       "Name: co2, dtype: float64"
      ]
     },
     "execution_count": 15,
     "metadata": {},
     "output_type": "execute_result"
    }
   ],
   "source": [
    "# code here\n",
    "car_brand['co2'].sort_values(ascending=True)[0:1]"
   ]
  },
  {
   "cell_type": "markdown",
   "metadata": {},
   "source": [
    "Which brands are more environment friendly?"
   ]
  },
  {
   "cell_type": "code",
   "execution_count": 16,
   "metadata": {},
   "outputs": [],
   "source": [
    "\n",
    "# code here\n",
    "#cars['decades'] = pd.qcut(cars['year'], [1980,1990,2000,2010,2015], labels=['first','second','third','four'])\n"
   ]
  },
  {
   "cell_type": "code",
   "execution_count": 17,
   "metadata": {},
   "outputs": [
    {
     "data": {
      "text/plain": [
       "count    35952.00000\n",
       "mean      2000.71640\n",
       "std         10.08529\n",
       "min       1984.00000\n",
       "25%       1991.00000\n",
       "50%       2001.00000\n",
       "75%       2010.00000\n",
       "max       2017.00000\n",
       "Name: year, dtype: float64"
      ]
     },
     "execution_count": 17,
     "metadata": {},
     "output_type": "execute_result"
    }
   ],
   "source": [
    "cars['year'].describe()"
   ]
  },
  {
   "cell_type": "code",
   "execution_count": 18,
   "metadata": {},
   "outputs": [],
   "source": [
    "def cat_decade(year):\n",
    "    if year < 1990:return 'first'\n",
    "    elif 1990 < year <= 2000: return 'second'\n",
    "    elif 2000 < year <=2010: return 'third'\n",
    "    elif 2010 < year <=2017: return 'four'\n",
    "    else: return None"
   ]
  },
  {
   "cell_type": "code",
   "execution_count": 19,
   "metadata": {},
   "outputs": [],
   "source": [
    "cars['decade'] = cars['year'].map(cat_decade)"
   ]
  },
  {
   "cell_type": "markdown",
   "metadata": {},
   "source": [
    "Create 4 groups (bins) of cars, by Year. We want to explore how cars have evolved decade by decade."
   ]
  },
  {
   "cell_type": "code",
   "execution_count": 20,
   "metadata": {},
   "outputs": [
    {
     "data": {
      "text/plain": [
       "<AxesSubplot:xlabel='decade'>"
      ]
     },
     "execution_count": 20,
     "metadata": {},
     "output_type": "execute_result"
    },
    {
     "data": {
      "image/png": "[encoded data removed]",
      "text/plain": [
       "<Figure size 432x288 with 1 Axes>"
      ]
     },
     "metadata": {
      "needs_background": "light"
     },
     "output_type": "display_data"
    }
   ],
   "source": [
    "decade_cat = cars.groupby('decade')\n",
    "decade_cat.describe()\n",
    "decade_cat.describe()['co2'].loc[['first','second','third','four'],['min','max']].plot(kind='bar')"
   ]
  },
  {
   "cell_type": "markdown",
   "metadata": {},
   "source": [
    "Did cars consume more gas in the eighties?"
   ]
  },
  {
   "cell_type": "code",
   "execution_count": 21,
   "metadata": {},
   "outputs": [
    {
     "data": {
      "text/plain": [
       "1950.0384483937116"
      ]
     },
     "execution_count": 21,
     "metadata": {},
     "output_type": "execute_result"
    }
   ],
   "source": [
    "automic_df = cars[cars['transmission'].str.match('Automatic.*')]['fuel_cost']\n",
    "automic_df.mean()"
   ]
  },
  {
   "cell_type": "code",
   "execution_count": 22,
   "metadata": {},
   "outputs": [
    {
     "data": {
      "text/plain": [
       "1785.7657348653747"
      ]
     },
     "execution_count": 22,
     "metadata": {},
     "output_type": "execute_result"
    }
   ],
   "source": [
    "manual_df = cars[cars['transmission'].str.match('Manual.*')]['fuel_cost']\n",
    "manual_df.mean()"
   ]
  },
  {
   "cell_type": "markdown",
   "metadata": {},
   "source": [
    "Do cars with automatic transmission consume more fuel than cars with manual transmission?"
   ]
  },
  {
   "cell_type": "code",
   "execution_count": 23,
   "metadata": {},
   "outputs": [
    {
     "data": {
      "text/html": [
       "<div>\n",
       "<style scoped>\n",
       "    .dataframe tbody tr th:only-of-type {\n",
       "        vertical-align: middle;\n",
       "    }\n",
       "\n",
       "    .dataframe tbody tr th {\n",
       "        vertical-align: top;\n",
       "    }\n",
       "\n",
       "    .dataframe thead th {\n",
       "        text-align: right;\n",
       "    }\n",
       "</style>\n",
       "<table border=\"1\" class=\"dataframe\">\n",
       "  <thead>\n",
       "    <tr style=\"text-align: right;\">\n",
       "      <th></th>\n",
       "      <th>count</th>\n",
       "      <th>mean</th>\n",
       "      <th>std</th>\n",
       "      <th>min</th>\n",
       "      <th>25%</th>\n",
       "      <th>50%</th>\n",
       "      <th>75%</th>\n",
       "      <th>max</th>\n",
       "    </tr>\n",
       "    <tr>\n",
       "      <th>fuel_type</th>\n",
       "      <th></th>\n",
       "      <th></th>\n",
       "      <th></th>\n",
       "      <th></th>\n",
       "      <th></th>\n",
       "      <th></th>\n",
       "      <th></th>\n",
       "      <th></th>\n",
       "    </tr>\n",
       "  </thead>\n",
       "  <tbody>\n",
       "    <tr>\n",
       "      <th>CNG</th>\n",
       "      <td>60.0</td>\n",
       "      <td>6.500000</td>\n",
       "      <td>1.900045</td>\n",
       "      <td>4.0</td>\n",
       "      <td>4.0</td>\n",
       "      <td>8.0</td>\n",
       "      <td>8.0</td>\n",
       "      <td>8.0</td>\n",
       "    </tr>\n",
       "    <tr>\n",
       "      <th>Diesel</th>\n",
       "      <td>911.0</td>\n",
       "      <td>6.225027</td>\n",
       "      <td>1.812917</td>\n",
       "      <td>4.0</td>\n",
       "      <td>4.0</td>\n",
       "      <td>6.0</td>\n",
       "      <td>8.0</td>\n",
       "      <td>10.0</td>\n",
       "    </tr>\n",
       "    <tr>\n",
       "      <th>Gasoline or E85</th>\n",
       "      <td>1195.0</td>\n",
       "      <td>6.974059</td>\n",
       "      <td>1.360546</td>\n",
       "      <td>4.0</td>\n",
       "      <td>6.0</td>\n",
       "      <td>8.0</td>\n",
       "      <td>8.0</td>\n",
       "      <td>8.0</td>\n",
       "    </tr>\n",
       "    <tr>\n",
       "      <th>Gasoline or natural gas</th>\n",
       "      <td>20.0</td>\n",
       "      <td>6.800000</td>\n",
       "      <td>1.765160</td>\n",
       "      <td>4.0</td>\n",
       "      <td>5.5</td>\n",
       "      <td>8.0</td>\n",
       "      <td>8.0</td>\n",
       "      <td>8.0</td>\n",
       "    </tr>\n",
       "    <tr>\n",
       "      <th>Gasoline or propane</th>\n",
       "      <td>8.0</td>\n",
       "      <td>8.000000</td>\n",
       "      <td>0.000000</td>\n",
       "      <td>8.0</td>\n",
       "      <td>8.0</td>\n",
       "      <td>8.0</td>\n",
       "      <td>8.0</td>\n",
       "      <td>8.0</td>\n",
       "    </tr>\n",
       "    <tr>\n",
       "      <th>Midgrade</th>\n",
       "      <td>74.0</td>\n",
       "      <td>7.864865</td>\n",
       "      <td>0.505431</td>\n",
       "      <td>6.0</td>\n",
       "      <td>8.0</td>\n",
       "      <td>8.0</td>\n",
       "      <td>8.0</td>\n",
       "      <td>8.0</td>\n",
       "    </tr>\n",
       "    <tr>\n",
       "      <th>Premium</th>\n",
       "      <td>9921.0</td>\n",
       "      <td>6.365286</td>\n",
       "      <td>2.025050</td>\n",
       "      <td>2.0</td>\n",
       "      <td>5.0</td>\n",
       "      <td>6.0</td>\n",
       "      <td>8.0</td>\n",
       "      <td>16.0</td>\n",
       "    </tr>\n",
       "    <tr>\n",
       "      <th>Premium Gas or Electricity</th>\n",
       "      <td>17.0</td>\n",
       "      <td>4.235294</td>\n",
       "      <td>1.562426</td>\n",
       "      <td>2.0</td>\n",
       "      <td>4.0</td>\n",
       "      <td>4.0</td>\n",
       "      <td>4.0</td>\n",
       "      <td>8.0</td>\n",
       "    </tr>\n",
       "    <tr>\n",
       "      <th>Premium and Electricity</th>\n",
       "      <td>20.0</td>\n",
       "      <td>4.850000</td>\n",
       "      <td>1.531253</td>\n",
       "      <td>3.0</td>\n",
       "      <td>4.0</td>\n",
       "      <td>4.0</td>\n",
       "      <td>6.0</td>\n",
       "      <td>8.0</td>\n",
       "    </tr>\n",
       "    <tr>\n",
       "      <th>Premium or E85</th>\n",
       "      <td>121.0</td>\n",
       "      <td>6.892562</td>\n",
       "      <td>2.695062</td>\n",
       "      <td>4.0</td>\n",
       "      <td>6.0</td>\n",
       "      <td>6.0</td>\n",
       "      <td>8.0</td>\n",
       "      <td>12.0</td>\n",
       "    </tr>\n",
       "    <tr>\n",
       "      <th>Regular</th>\n",
       "      <td>23587.0</td>\n",
       "      <td>5.420952</td>\n",
       "      <td>1.522094</td>\n",
       "      <td>2.0</td>\n",
       "      <td>4.0</td>\n",
       "      <td>6.0</td>\n",
       "      <td>6.0</td>\n",
       "      <td>12.0</td>\n",
       "    </tr>\n",
       "    <tr>\n",
       "      <th>Regular Gas and Electricity</th>\n",
       "      <td>16.0</td>\n",
       "      <td>4.000000</td>\n",
       "      <td>0.000000</td>\n",
       "      <td>4.0</td>\n",
       "      <td>4.0</td>\n",
       "      <td>4.0</td>\n",
       "      <td>4.0</td>\n",
       "      <td>4.0</td>\n",
       "    </tr>\n",
       "    <tr>\n",
       "      <th>Regular Gas or Electricity</th>\n",
       "      <td>2.0</td>\n",
       "      <td>4.000000</td>\n",
       "      <td>0.000000</td>\n",
       "      <td>4.0</td>\n",
       "      <td>4.0</td>\n",
       "      <td>4.0</td>\n",
       "      <td>4.0</td>\n",
       "      <td>4.0</td>\n",
       "    </tr>\n",
       "  </tbody>\n",
       "</table>\n",
       "</div>"
      ],
      "text/plain": [
       "                               count      mean       std  min  25%  50%  75%  \\\n",
       "fuel_type                                                                      \n",
       "CNG                             60.0  6.500000  1.900045  4.0  4.0  8.0  8.0   \n",
       "Diesel                         911.0  6.225027  1.812917  4.0  4.0  6.0  8.0   \n",
       "Gasoline or E85               1195.0  6.974059  1.360546  4.0  6.0  8.0  8.0   \n",
       "Gasoline or natural gas         20.0  6.800000  1.765160  4.0  5.5  8.0  8.0   \n",
       "Gasoline or propane              8.0  8.000000  0.000000  8.0  8.0  8.0  8.0   \n",
       "Midgrade                        74.0  7.864865  0.505431  6.0  8.0  8.0  8.0   \n",
       "Premium                       9921.0  6.365286  2.025050  2.0  5.0  6.0  8.0   \n",
       "Premium Gas or Electricity      17.0  4.235294  1.562426  2.0  4.0  4.0  4.0   \n",
       "Premium and Electricity         20.0  4.850000  1.531253  3.0  4.0  4.0  6.0   \n",
       "Premium or E85                 121.0  6.892562  2.695062  4.0  6.0  6.0  8.0   \n",
       "Regular                      23587.0  5.420952  1.522094  2.0  4.0  6.0  6.0   \n",
       "Regular Gas and Electricity     16.0  4.000000  0.000000  4.0  4.0  4.0  4.0   \n",
       "Regular Gas or Electricity       2.0  4.000000  0.000000  4.0  4.0  4.0  4.0   \n",
       "\n",
       "                              max  \n",
       "fuel_type                          \n",
       "CNG                           8.0  \n",
       "Diesel                       10.0  \n",
       "Gasoline or E85               8.0  \n",
       "Gasoline or natural gas       8.0  \n",
       "Gasoline or propane           8.0  \n",
       "Midgrade                      8.0  \n",
       "Premium                      16.0  \n",
       "Premium Gas or Electricity    8.0  \n",
       "Premium and Electricity       8.0  \n",
       "Premium or E85               12.0  \n",
       "Regular                      12.0  \n",
       "Regular Gas and Electricity   4.0  \n",
       "Regular Gas or Electricity    4.0  "
      ]
     },
     "execution_count": 23,
     "metadata": {},
     "output_type": "execute_result"
    }
   ],
   "source": [
    "# code here\n",
    "# in the next notebook, we will learn how we can clean the \"Trans\" column\n",
    "\n",
    "car_group = cars.groupby('fuel_type')\n",
    "pd.DataFrame(car_group.describe()['cylinders'])\n"
   ]
  },
  {
   "cell_type": "code",
   "execution_count": 45,
   "metadata": {},
   "outputs": [
    {
     "data": {
      "text/plain": [
       "fuel_type\n",
       "Diesel                         1984.0\n",
       "Regular                        1984.0\n",
       "Premium                        1985.0\n",
       "CNG                            1993.0\n",
       "Gasoline or E85                2000.0\n",
       "Gasoline or natural gas        2000.0\n",
       "Gasoline or propane            2001.0\n",
       "Premium or E85                 2004.0\n",
       "Midgrade                       2011.0\n",
       "Premium Gas or Electricity     2011.0\n",
       "Regular Gas and Electricity    2012.0\n",
       "Premium and Electricity        2014.0\n",
       "Regular Gas or Electricity     2016.0\n",
       "Name: min, dtype: float64"
      ]
     },
     "execution_count": 45,
     "metadata": {},
     "output_type": "execute_result"
    }
   ],
   "source": [
    "pd.DataFrame(car_group.describe()).year.loc[:,'min'].sort_values(ascending=True)"
   ]
  },
  {
   "cell_type": "code",
   "execution_count": 48,
   "metadata": {},
   "outputs": [
    {
     "data": {
      "text/plain": [
       "fuel_type\n",
       "Gasoline or propane            12.000000\n",
       "Gasoline or natural gas        13.700000\n",
       "Midgrade                       14.851351\n",
       "Gasoline or E85                15.347280\n",
       "CNG                            15.966667\n",
       "Premium                        16.793166\n",
       "Premium or E85                 17.305785\n",
       "Regular                        17.970195\n",
       "Diesel                         21.173436\n",
       "Premium and Electricity        24.900000\n",
       "Premium Gas or Electricity     30.705882\n",
       "Regular Gas or Electricity     43.000000\n",
       "Regular Gas and Electricity    43.125000\n",
       "Name: mean, dtype: float64"
      ]
     },
     "execution_count": 48,
     "metadata": {},
     "output_type": "execute_result"
    }
   ],
   "source": [
    "pd.DataFrame(car_group.describe()).city_mpg.loc[:,'mean'].sort_values(ascending=True)"
   ]
  },
  {
   "cell_type": "markdown",
   "metadata": {},
   "source": [
    "Group cars by fuel type and aggregate them by the following criteria: \n",
    "\n",
    "- The maximum number cylinders\n",
    "- The oldest year\n",
    "- The average Miles Per Gallon in the city"
   ]
  },
  {
   "cell_type": "code",
   "execution_count": 220,
   "metadata": {},
   "outputs": [
    {
     "data": {
      "text/html": [
       "<div>\n",
       "<style scoped>\n",
       "    .dataframe tbody tr th:only-of-type {\n",
       "        vertical-align: middle;\n",
       "    }\n",
       "\n",
       "    .dataframe tbody tr th {\n",
       "        vertical-align: top;\n",
       "    }\n",
       "\n",
       "    .dataframe thead th {\n",
       "        text-align: right;\n",
       "    }\n",
       "</style>\n",
       "<table border=\"1\" class=\"dataframe\">\n",
       "  <thead>\n",
       "    <tr style=\"text-align: right;\">\n",
       "      <th></th>\n",
       "      <th>make</th>\n",
       "      <th>model</th>\n",
       "      <th>year</th>\n",
       "      <th>eng_dis</th>\n",
       "      <th>cylinders</th>\n",
       "      <th>transmission</th>\n",
       "      <th>drivetrain</th>\n",
       "      <th>vehicle_Class</th>\n",
       "      <th>fuel_type</th>\n",
       "      <th>fuel_year</th>\n",
       "      <th>city_mpg</th>\n",
       "      <th>highway_mpg</th>\n",
       "      <th>co2</th>\n",
       "      <th>fuel_cost</th>\n",
       "      <th>decade</th>\n",
       "    </tr>\n",
       "  </thead>\n",
       "  <tbody>\n",
       "    <tr>\n",
       "      <th>0</th>\n",
       "      <td>AM General</td>\n",
       "      <td>DJ Po Vehicle 2WD</td>\n",
       "      <td>1984</td>\n",
       "      <td>2.5</td>\n",
       "      <td>4.0</td>\n",
       "      <td>Automatic 3-spd</td>\n",
       "      <td>NaN</td>\n",
       "      <td>Special Purpose Vehicle 2WD</td>\n",
       "      <td>Regular</td>\n",
       "      <td>19.388824</td>\n",
       "      <td>18</td>\n",
       "      <td>17</td>\n",
       "      <td>522.764706</td>\n",
       "      <td>1950</td>\n",
       "      <td>first</td>\n",
       "    </tr>\n",
       "    <tr>\n",
       "      <th>1</th>\n",
       "      <td>AM General</td>\n",
       "      <td>FJ8c Post Office</td>\n",
       "      <td>1984</td>\n",
       "      <td>4.2</td>\n",
       "      <td>6.0</td>\n",
       "      <td>Automatic 3-spd</td>\n",
       "      <td>NaN</td>\n",
       "      <td>Special Purpose Vehicle 2WD</td>\n",
       "      <td>Regular</td>\n",
       "      <td>25.354615</td>\n",
       "      <td>13</td>\n",
       "      <td>13</td>\n",
       "      <td>683.615385</td>\n",
       "      <td>2550</td>\n",
       "      <td>first</td>\n",
       "    </tr>\n",
       "    <tr>\n",
       "      <th>2</th>\n",
       "      <td>AM General</td>\n",
       "      <td>Post Office DJ5 2WD</td>\n",
       "      <td>1985</td>\n",
       "      <td>2.5</td>\n",
       "      <td>4.0</td>\n",
       "      <td>Automatic 3-spd</td>\n",
       "      <td>NaN</td>\n",
       "      <td>Special Purpose Vehicle 2WD</td>\n",
       "      <td>Regular</td>\n",
       "      <td>20.600625</td>\n",
       "      <td>16</td>\n",
       "      <td>17</td>\n",
       "      <td>555.437500</td>\n",
       "      <td>2100</td>\n",
       "      <td>first</td>\n",
       "    </tr>\n",
       "    <tr>\n",
       "      <th>3</th>\n",
       "      <td>AM General</td>\n",
       "      <td>Post Office DJ8 2WD</td>\n",
       "      <td>1985</td>\n",
       "      <td>4.2</td>\n",
       "      <td>6.0</td>\n",
       "      <td>Automatic 3-spd</td>\n",
       "      <td>NaN</td>\n",
       "      <td>Special Purpose Vehicle 2WD</td>\n",
       "      <td>Regular</td>\n",
       "      <td>25.354615</td>\n",
       "      <td>13</td>\n",
       "      <td>13</td>\n",
       "      <td>683.615385</td>\n",
       "      <td>2550</td>\n",
       "      <td>first</td>\n",
       "    </tr>\n",
       "    <tr>\n",
       "      <th>4</th>\n",
       "      <td>ASC Incorporated</td>\n",
       "      <td>GNX</td>\n",
       "      <td>1987</td>\n",
       "      <td>3.8</td>\n",
       "      <td>6.0</td>\n",
       "      <td>Automatic 4-spd</td>\n",
       "      <td>NaN</td>\n",
       "      <td>Midsize Cars</td>\n",
       "      <td>Premium</td>\n",
       "      <td>20.600625</td>\n",
       "      <td>14</td>\n",
       "      <td>21</td>\n",
       "      <td>555.437500</td>\n",
       "      <td>2550</td>\n",
       "      <td>first</td>\n",
       "    </tr>\n",
       "    <tr>\n",
       "      <th>...</th>\n",
       "      <td>...</td>\n",
       "      <td>...</td>\n",
       "      <td>...</td>\n",
       "      <td>...</td>\n",
       "      <td>...</td>\n",
       "      <td>...</td>\n",
       "      <td>...</td>\n",
       "      <td>...</td>\n",
       "      <td>...</td>\n",
       "      <td>...</td>\n",
       "      <td>...</td>\n",
       "      <td>...</td>\n",
       "      <td>...</td>\n",
       "      <td>...</td>\n",
       "      <td>...</td>\n",
       "    </tr>\n",
       "    <tr>\n",
       "      <th>35947</th>\n",
       "      <td>smart</td>\n",
       "      <td>fortwo coupe</td>\n",
       "      <td>2013</td>\n",
       "      <td>1.0</td>\n",
       "      <td>3.0</td>\n",
       "      <td>Auto(AM5)</td>\n",
       "      <td>NaN</td>\n",
       "      <td>Two Seaters</td>\n",
       "      <td>Premium</td>\n",
       "      <td>9.155833</td>\n",
       "      <td>34</td>\n",
       "      <td>38</td>\n",
       "      <td>244.000000</td>\n",
       "      <td>1100</td>\n",
       "      <td>four</td>\n",
       "    </tr>\n",
       "    <tr>\n",
       "      <th>35948</th>\n",
       "      <td>smart</td>\n",
       "      <td>fortwo coupe</td>\n",
       "      <td>2014</td>\n",
       "      <td>1.0</td>\n",
       "      <td>3.0</td>\n",
       "      <td>Auto(AM5)</td>\n",
       "      <td>NaN</td>\n",
       "      <td>Two Seaters</td>\n",
       "      <td>Premium</td>\n",
       "      <td>9.155833</td>\n",
       "      <td>34</td>\n",
       "      <td>38</td>\n",
       "      <td>243.000000</td>\n",
       "      <td>1100</td>\n",
       "      <td>four</td>\n",
       "    </tr>\n",
       "    <tr>\n",
       "      <th>35949</th>\n",
       "      <td>smart</td>\n",
       "      <td>fortwo coupe</td>\n",
       "      <td>2015</td>\n",
       "      <td>1.0</td>\n",
       "      <td>3.0</td>\n",
       "      <td>Auto(AM5)</td>\n",
       "      <td>NaN</td>\n",
       "      <td>Two Seaters</td>\n",
       "      <td>Premium</td>\n",
       "      <td>9.155833</td>\n",
       "      <td>34</td>\n",
       "      <td>38</td>\n",
       "      <td>244.000000</td>\n",
       "      <td>1100</td>\n",
       "      <td>four</td>\n",
       "    </tr>\n",
       "    <tr>\n",
       "      <th>35950</th>\n",
       "      <td>smart</td>\n",
       "      <td>fortwo coupe</td>\n",
       "      <td>2016</td>\n",
       "      <td>0.9</td>\n",
       "      <td>3.0</td>\n",
       "      <td>Auto(AM6)</td>\n",
       "      <td>NaN</td>\n",
       "      <td>Two Seaters</td>\n",
       "      <td>Premium</td>\n",
       "      <td>9.155833</td>\n",
       "      <td>34</td>\n",
       "      <td>39</td>\n",
       "      <td>246.000000</td>\n",
       "      <td>1100</td>\n",
       "      <td>four</td>\n",
       "    </tr>\n",
       "    <tr>\n",
       "      <th>35951</th>\n",
       "      <td>smart</td>\n",
       "      <td>fortwo coupe</td>\n",
       "      <td>2016</td>\n",
       "      <td>0.9</td>\n",
       "      <td>3.0</td>\n",
       "      <td>Manual 5-spd</td>\n",
       "      <td>NaN</td>\n",
       "      <td>Two Seaters</td>\n",
       "      <td>Premium</td>\n",
       "      <td>9.417429</td>\n",
       "      <td>32</td>\n",
       "      <td>39</td>\n",
       "      <td>255.000000</td>\n",
       "      <td>1150</td>\n",
       "      <td>four</td>\n",
       "    </tr>\n",
       "  </tbody>\n",
       "</table>\n",
       "<p>35952 rows × 15 columns</p>\n",
       "</div>"
      ],
      "text/plain": [
       "                   make                model  year  eng_dis  cylinders  \\\n",
       "0            AM General    DJ Po Vehicle 2WD  1984      2.5        4.0   \n",
       "1            AM General     FJ8c Post Office  1984      4.2        6.0   \n",
       "2            AM General  Post Office DJ5 2WD  1985      2.5        4.0   \n",
       "3            AM General  Post Office DJ8 2WD  1985      4.2        6.0   \n",
       "4      ASC Incorporated                  GNX  1987      3.8        6.0   \n",
       "...                 ...                  ...   ...      ...        ...   \n",
       "35947             smart         fortwo coupe  2013      1.0        3.0   \n",
       "35948             smart         fortwo coupe  2014      1.0        3.0   \n",
       "35949             smart         fortwo coupe  2015      1.0        3.0   \n",
       "35950             smart         fortwo coupe  2016      0.9        3.0   \n",
       "35951             smart         fortwo coupe  2016      0.9        3.0   \n",
       "\n",
       "          transmission  drivetrain                vehicle_Class fuel_type  \\\n",
       "0      Automatic 3-spd         NaN  Special Purpose Vehicle 2WD   Regular   \n",
       "1      Automatic 3-spd         NaN  Special Purpose Vehicle 2WD   Regular   \n",
       "2      Automatic 3-spd         NaN  Special Purpose Vehicle 2WD   Regular   \n",
       "3      Automatic 3-spd         NaN  Special Purpose Vehicle 2WD   Regular   \n",
       "4      Automatic 4-spd         NaN                 Midsize Cars   Premium   \n",
       "...                ...         ...                          ...       ...   \n",
       "35947        Auto(AM5)         NaN                  Two Seaters   Premium   \n",
       "35948        Auto(AM5)         NaN                  Two Seaters   Premium   \n",
       "35949        Auto(AM5)         NaN                  Two Seaters   Premium   \n",
       "35950        Auto(AM6)         NaN                  Two Seaters   Premium   \n",
       "35951     Manual 5-spd         NaN                  Two Seaters   Premium   \n",
       "\n",
       "       fuel_year  city_mpg  highway_mpg         co2  fuel_cost decade  \n",
       "0      19.388824        18           17  522.764706       1950  first  \n",
       "1      25.354615        13           13  683.615385       2550  first  \n",
       "2      20.600625        16           17  555.437500       2100  first  \n",
       "3      25.354615        13           13  683.615385       2550  first  \n",
       "4      20.600625        14           21  555.437500       2550  first  \n",
       "...          ...       ...          ...         ...        ...    ...  \n",
       "35947   9.155833        34           38  244.000000       1100   four  \n",
       "35948   9.155833        34           38  243.000000       1100   four  \n",
       "35949   9.155833        34           38  244.000000       1100   four  \n",
       "35950   9.155833        34           39  246.000000       1100   four  \n",
       "35951   9.417429        32           39  255.000000       1150   four  \n",
       "\n",
       "[35952 rows x 15 columns]"
      ]
     },
     "execution_count": 220,
     "metadata": {},
     "output_type": "execute_result"
    }
   ],
   "source": [
    "# code here\n",
    "cars.drivetrain.unique()\n",
    "\n",
    "\n",
    "numeric_drivetrain= {'2-Wheel Drive': 0, 'Rear-Wheel Drive': 1, 'Front-Wheel Drive': 2,\n",
    "       '4-Wheel or All-Wheel Drive': 3, 'All-Wheel Drive': 4, '4-Wheel Drive': 5,\n",
    "       'Part-time 4-Wheel Drive': 6, '2-Wheel Drive, Front': 6}\n",
    "\n",
    "#cars['drivetrain'] = cars['drivetrain'].astype(int)\n",
    "cars"
   ]
  },
  {
   "cell_type": "code",
   "execution_count": 213,
   "metadata": {},
   "outputs": [
    {
     "ename": "NameError",
     "evalue": "name 'car' is not defined",
     "output_type": "error",
     "traceback": [
      "\u001b[0;31m---------------------------------------------------------------------------\u001b[0m",
      "\u001b[0;31mNameError\u001b[0m                                 Traceback (most recent call last)",
      "\u001b[0;32m/var/folders/rp/xssfwpy15svdxmd2v7wkf9p80000gn/T/ipykernel_41260/382534719.py\u001b[0m in \u001b[0;36m<module>\u001b[0;34m\u001b[0m\n\u001b[0;32m----> 1\u001b[0;31m \u001b[0mcar\u001b[0m\u001b[0;34m.\u001b[0m\u001b[0mDrivetrain\u001b[0m\u001b[0;34m\u001b[0m\u001b[0;34m\u001b[0m\u001b[0m\n\u001b[0m",
      "\u001b[0;31mNameError\u001b[0m: name 'car' is not defined"
     ]
    }
   ],
   "source": [
    "cars.Drivetrain"
   ]
  },
  {
   "cell_type": "markdown",
   "metadata": {},
   "source": [
    "We want to use \"Drivetrain\" in a statistical model. Convert the column to numeric."
   ]
  },
  {
   "cell_type": "code",
   "execution_count": 58,
   "metadata": {},
   "outputs": [],
   "source": [
    "# code here\n",
    "car_brands = pd.read_csv('data/car_brands.csv')\n"
   ]
  },
  {
   "cell_type": "markdown",
   "metadata": {},
   "source": [
    "Read the `car_brands.csv` data:"
   ]
  },
  {
   "cell_type": "code",
   "execution_count": 53,
   "metadata": {},
   "outputs": [],
   "source": [
    "# code here\n",
    "all_df = pd.concat([car_brand,cars])"
   ]
  },
  {
   "cell_type": "markdown",
   "metadata": {},
   "source": [
    "Join the cars dataframe with the car brands dataframe."
   ]
  },
  {
   "cell_type": "code",
   "execution_count": 81,
   "metadata": {},
   "outputs": [
    {
     "data": {
      "text/plain": [
       "brand\n",
       "Geo                            1988.0\n",
       "Volga Associated Automobile    1965.0\n",
       "Goldacre                       1958.0\n",
       "Ferrari                        1946.0\n",
       "CX Automotive                  1935.0\n",
       "                                ...  \n",
       "Lotus                            45.0\n",
       "Cadillac                         42.0\n",
       "Pontiac                          31.0\n",
       "PAS Inc - GMC                    22.0\n",
       "Audi                             18.0\n",
       "Name: max, Length: 127, dtype: float64"
      ]
     },
     "execution_count": 81,
     "metadata": {},
     "output_type": "execute_result"
    }
   ],
   "source": [
    "\n",
    "pd.DataFrame(car_brands.groupby('brand').describe().revenue)['max'].sort_values(ascending=False)"
   ]
  },
  {
   "cell_type": "markdown",
   "metadata": {},
   "source": [
    "Which brands have the most revenue?"
   ]
  },
  {
   "cell_type": "code",
   "execution_count": null,
   "metadata": {},
   "outputs": [],
   "source": [
    "# code here"
   ]
  }
 ],
 "metadata": {
  "kernelspec": {
   "display_name": "Python 3 (ipykernel)",
   "language": "python",
   "name": "python3"
  },
  "language_info": {
   "codemirror_mode": {
    "name": "ipython",
    "version": 3
   },
   "file_extension": ".py",
   "mimetype": "text/x-python",
   "name": "python",
   "nbconvert_exporter": "python",
   "pygments_lexer": "ipython3",
   "version": "3.9.5"
  },
  "toc": {
   "base_numbering": 1,
   "nav_menu": {},
   "number_sections": true,
   "sideBar": true,
   "skip_h1_title": false,
   "title_cell": "Table of Contents",
   "title_sidebar": "Contents",
   "toc_cell": false,
   "toc_position": {},
   "toc_section_display": true,
   "toc_window_display": false
  },
  "varInspector": {
   "cols": {
    "lenName": 16,
    "lenType": 16,
    "lenVar": 40
   },
   "kernels_config": {
    "python": {
     "delete_cmd_postfix": "",
     "delete_cmd_prefix": "del ",
     "library": "var_list.py",
     "varRefreshCmd": "print(var_dic_list())"
    },
    "r": {
     "delete_cmd_postfix": ") ",
     "delete_cmd_prefix": "rm(",
     "library": "var_list.r",
     "varRefreshCmd": "cat(var_dic_list()) "
    }
   },
   "types_to_exclude": [
    "module",
    "function",
    "builtin_function_or_method",
    "instance",
    "_Feature"
   ],
   "window_display": false
  }
 },
 "nbformat": 4,
 "nbformat_minor": 4
}
